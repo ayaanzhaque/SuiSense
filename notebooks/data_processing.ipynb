{
 "cells": [
  {
   "cell_type": "markdown",
   "metadata": {
    "colab_type": "text",
    "id": "view-in-github"
   },
   "source": [
    "<a href=\"https://colab.research.google.com/github/ayaanzhaque/SuiSense/blob/master/notebooks/data_processing.ipynb\" target=\"_parent\"><img src=\"https://colab.research.google.com/assets/colab-badge.svg\" alt=\"Open In Colab\"/></a>"
   ]
  },
  {
   "cell_type": "markdown",
   "metadata": {
    "colab_type": "text",
    "id": "apHoaiXZyvyO"
   },
   "source": [
    "## Data Cleaning, Pre-Processing, and Analysis"
   ]
  },
  {
   "cell_type": "markdown",
   "metadata": {
    "colab_type": "text",
    "id": "u7lOIyQWyvyQ"
   },
   "source": [
    "# Data Cleaning\n",
    "This is the code for data cleaning, which means finding missing values and using the meaningful data for the classifier. There aren't that many, but dealing with them is still important"
   ]
  },
  {
   "cell_type": "code",
   "execution_count": 40,
   "metadata": {
    "colab": {},
    "colab_type": "code",
    "id": "RPEvSN9oyvyS",
    "outputId": "129d36ff-6ab3-45c3-9666-b0dc98316c7e"
   },
   "outputs": [
    {
     "name": "stderr",
     "output_type": "stream",
     "text": [
      "[nltk_data] Downloading package wordnet to\n",
      "[nltk_data]     /Users/ayaanhaque/nltk_data...\n",
      "[nltk_data]   Package wordnet is already up-to-date!\n",
      "[nltk_data] Downloading package stopwords to\n",
      "[nltk_data]     /Users/ayaanhaque/nltk_data...\n",
      "[nltk_data]   Package stopwords is already up-to-date!\n"
     ]
    }
   ],
   "source": [
    "# data analysis imports\n",
    "import numpy as np\n",
    "import pandas as pd\n",
    "import seaborn as sns\n",
    "import matplotlib.pyplot as plt\n",
    "\n",
    "# NLP Imports\n",
    "import nltk\n",
    "nltk.download('wordnet')\n",
    "nltk.download('stopwords')\n",
    "from nltk.tokenize import RegexpTokenizer\n",
    "from nltk.stem import WordNetLemmatizer\n",
    "from nltk.corpus import stopwords\n",
    "import re\n",
    "\n",
    "from sklearn.feature_extraction.text import CountVectorizer\n",
    "\n",
    "from wordcloud import WordCloud, STOPWORDS, ImageColorGenerator\n",
    "from PIL import Image\n",
    "import wordninja"
   ]
  },
  {
   "cell_type": "code",
   "execution_count": 41,
   "metadata": {
    "colab": {},
    "colab_type": "code",
    "id": "Xr3mNIBtyvyX"
   },
   "outputs": [],
   "source": [
    "# data configurations\n",
    "pd.set_option('display.max_columns', 100)\n",
    "sns.set_style(\"darkgrid\")"
   ]
  },
  {
   "cell_type": "code",
   "execution_count": 42,
   "metadata": {
    "colab": {},
    "colab_type": "code",
    "id": "Wf4dTS8nyvyb"
   },
   "outputs": [],
   "source": [
    "# initializing cvs files\n",
    "depression = pd.read_csv('../data/depression.csv')\n",
    "suicide_watch = pd.read_csv('../data/suicide_watch.csv')\n",
    "casual_convo = pd.read_csv('../data/casual_conversation_vs_depression.csv')"
   ]
  },
  {
   "cell_type": "code",
   "execution_count": 43,
   "metadata": {
    "colab": {},
    "colab_type": "code",
    "id": "k5QPm4TJyvyg",
    "outputId": "b3a5d8db-1e94-4437-9e3c-c34f44615fa2"
   },
   "outputs": [
    {
     "data": {
      "text/plain": [
       "Index(['approved_at_utc', 'subreddit', 'selftext', 'author_fullname', 'saved',\n",
       "       'mod_reason_title', 'gilded', 'clicked', 'title', 'link_flair_richtext',\n",
       "       ...\n",
       "       'stickied', 'url', 'subreddit_subscribers', 'created_utc',\n",
       "       'num_crossposts', 'media', 'is_video', 'poll_data', 'author_cakeday',\n",
       "       'is_suicide'],\n",
       "      dtype='object', length=107)"
      ]
     },
     "execution_count": 43,
     "metadata": {},
     "output_type": "execute_result"
    }
   ],
   "source": [
    "#visualizing depression dataset\n",
    "pd.set_option('display.max_columns', 500)\n",
    "casual_convo.head()\n",
    "casual_convo.columns"
   ]
  },
  {
   "cell_type": "markdown",
   "metadata": {
    "colab_type": "text",
    "id": "pvwTJW4Nyvyj"
   },
   "source": [
    "### Relevant Data\n",
    "\n",
    "After viewing the data, there are 100 columns, but barely any of them are really needed for our classifier. We will choose the proper columns and go from there. \n",
    "\n",
    "To start, we will look at the title, text body, author username, number of comments, and lastly the URL of the post. "
   ]
  },
  {
   "cell_type": "code",
   "execution_count": 44,
   "metadata": {
    "colab": {},
    "colab_type": "code",
    "id": "PpQPO-8Zyvyj",
    "outputId": "8d17d030-525f-4255-a762-c8db4b27d76f"
   },
   "outputs": [
    {
     "data": {
      "text/html": [
       "<div>\n",
       "<style scoped>\n",
       "    .dataframe tbody tr th:only-of-type {\n",
       "        vertical-align: middle;\n",
       "    }\n",
       "\n",
       "    .dataframe tbody tr th {\n",
       "        vertical-align: top;\n",
       "    }\n",
       "\n",
       "    .dataframe thead th {\n",
       "        text-align: right;\n",
       "    }\n",
       "</style>\n",
       "<table border=\"1\" class=\"dataframe\">\n",
       "  <thead>\n",
       "    <tr style=\"text-align: right;\">\n",
       "      <th></th>\n",
       "      <th>title</th>\n",
       "      <th>selftext</th>\n",
       "      <th>author</th>\n",
       "      <th>num_comments</th>\n",
       "      <th>is_suicide</th>\n",
       "      <th>url</th>\n",
       "    </tr>\n",
       "  </thead>\n",
       "  <tbody>\n",
       "    <tr>\n",
       "      <th>0</th>\n",
       "      <td>r/CasualConversation Lounge</td>\n",
       "      <td>Let's chat!</td>\n",
       "      <td>tizorres</td>\n",
       "      <td>1049</td>\n",
       "      <td>1</td>\n",
       "      <td>https://www.reddit.com/r/CasualConversation/co...</td>\n",
       "    </tr>\n",
       "    <tr>\n",
       "      <th>1</th>\n",
       "      <td>September Monthly Meta - r/CasualConversation ...</td>\n",
       "      <td>Monthly Meta is back - [follow the collection]...</td>\n",
       "      <td>tizorres</td>\n",
       "      <td>6</td>\n",
       "      <td>1</td>\n",
       "      <td>https://www.reddit.com/r/CasualConversation/co...</td>\n",
       "    </tr>\n",
       "    <tr>\n",
       "      <th>2</th>\n",
       "      <td>I got a hotel room here in my town because I n...</td>\n",
       "      <td>Look, I love my family and they're awesome. Bu...</td>\n",
       "      <td>nicedudefinallyhappy</td>\n",
       "      <td>156</td>\n",
       "      <td>1</td>\n",
       "      <td>https://www.reddit.com/r/CasualConversation/co...</td>\n",
       "    </tr>\n",
       "    <tr>\n",
       "      <th>3</th>\n",
       "      <td>Your height is totally fine</td>\n",
       "      <td>Lately I’ve noticed many guys around my circle...</td>\n",
       "      <td>PersianAss</td>\n",
       "      <td>1033</td>\n",
       "      <td>1</td>\n",
       "      <td>https://www.reddit.com/r/CasualConversation/co...</td>\n",
       "    </tr>\n",
       "    <tr>\n",
       "      <th>4</th>\n",
       "      <td>I remember this conversation with an old acqua...</td>\n",
       "      <td>I was at a Halloween party with my best friend...</td>\n",
       "      <td>liverloo96</td>\n",
       "      <td>68</td>\n",
       "      <td>1</td>\n",
       "      <td>https://www.reddit.com/r/CasualConversation/co...</td>\n",
       "    </tr>\n",
       "  </tbody>\n",
       "</table>\n",
       "</div>"
      ],
      "text/plain": [
       "                                               title  \\\n",
       "0                        r/CasualConversation Lounge   \n",
       "1  September Monthly Meta - r/CasualConversation ...   \n",
       "2  I got a hotel room here in my town because I n...   \n",
       "3                        Your height is totally fine   \n",
       "4  I remember this conversation with an old acqua...   \n",
       "\n",
       "                                            selftext                author  \\\n",
       "0                                        Let's chat!              tizorres   \n",
       "1  Monthly Meta is back - [follow the collection]...              tizorres   \n",
       "2  Look, I love my family and they're awesome. Bu...  nicedudefinallyhappy   \n",
       "3  Lately I’ve noticed many guys around my circle...            PersianAss   \n",
       "4  I was at a Halloween party with my best friend...            liverloo96   \n",
       "\n",
       "   num_comments  is_suicide                                                url  \n",
       "0          1049           1  https://www.reddit.com/r/CasualConversation/co...  \n",
       "1             6           1  https://www.reddit.com/r/CasualConversation/co...  \n",
       "2           156           1  https://www.reddit.com/r/CasualConversation/co...  \n",
       "3          1033           1  https://www.reddit.com/r/CasualConversation/co...  \n",
       "4            68           1  https://www.reddit.com/r/CasualConversation/co...  "
      ]
     },
     "execution_count": 44,
     "metadata": {},
     "output_type": "execute_result"
    }
   ],
   "source": [
    "casual_convo[[\"title\", \"selftext\", \"author\",  \"num_comments\", \"is_suicide\",\"url\"]].head(5)"
   ]
  },
  {
   "cell_type": "markdown",
   "metadata": {
    "colab_type": "text",
    "id": "g5zhgTrEyvyp"
   },
   "source": [
    "From these rows, we can see a few posts that people posted. The second post looks like it is from a moderator, as it is a checkin and they have lots of comments. Posts like these potentially have to be removed. "
   ]
  },
  {
   "cell_type": "code",
   "execution_count": 45,
   "metadata": {
    "colab": {},
    "colab_type": "code",
    "id": "tFLmjR4byvyr",
    "outputId": "318b18c8-6c7a-40c8-9c5a-003bb6e647fa"
   },
   "outputs": [
    {
     "data": {
      "text/html": [
       "<div>\n",
       "<style scoped>\n",
       "    .dataframe tbody tr th:only-of-type {\n",
       "        vertical-align: middle;\n",
       "    }\n",
       "\n",
       "    .dataframe tbody tr th {\n",
       "        vertical-align: top;\n",
       "    }\n",
       "\n",
       "    .dataframe thead th {\n",
       "        text-align: right;\n",
       "    }\n",
       "</style>\n",
       "<table border=\"1\" class=\"dataframe\">\n",
       "  <thead>\n",
       "    <tr style=\"text-align: right;\">\n",
       "      <th></th>\n",
       "      <th>title</th>\n",
       "      <th>selftext</th>\n",
       "      <th>author</th>\n",
       "      <th>num_comments</th>\n",
       "      <th>is_suicide</th>\n",
       "      <th>url</th>\n",
       "    </tr>\n",
       "  </thead>\n",
       "  <tbody>\n",
       "    <tr>\n",
       "      <th>0</th>\n",
       "      <td>New wiki on how to avoid accidentally encourag...</td>\n",
       "      <td>We've been seeing a worrying increase in pro-s...</td>\n",
       "      <td>SQLwitch</td>\n",
       "      <td>260</td>\n",
       "      <td>1</td>\n",
       "      <td>https://www.reddit.com/r/SuicideWatch/comments...</td>\n",
       "    </tr>\n",
       "    <tr>\n",
       "      <th>1</th>\n",
       "      <td>Reminder: Absolutely no activism of any kind i...</td>\n",
       "      <td>If you want to recognise an occasion, please d...</td>\n",
       "      <td>SQLwitch</td>\n",
       "      <td>124</td>\n",
       "      <td>1</td>\n",
       "      <td>https://www.reddit.com/r/SuicideWatch/comments...</td>\n",
       "    </tr>\n",
       "    <tr>\n",
       "      <th>2</th>\n",
       "      <td>To every single poster here i wanne say one thing</td>\n",
       "      <td>I really fucking feel you</td>\n",
       "      <td>NussNougatCroissant</td>\n",
       "      <td>46</td>\n",
       "      <td>1</td>\n",
       "      <td>https://www.reddit.com/r/SuicideWatch/comments...</td>\n",
       "    </tr>\n",
       "    <tr>\n",
       "      <th>3</th>\n",
       "      <td>I just want it all to stop</td>\n",
       "      <td>Everyone ends up hating me eventually. \\nMy ps...</td>\n",
       "      <td>hda-SVN-njhdsx</td>\n",
       "      <td>5</td>\n",
       "      <td>1</td>\n",
       "      <td>https://www.reddit.com/r/SuicideWatch/comments...</td>\n",
       "    </tr>\n",
       "    <tr>\n",
       "      <th>4</th>\n",
       "      <td>Nobody gives a fuck until you die, and even th...</td>\n",
       "      <td>NaN</td>\n",
       "      <td>lil_peemis</td>\n",
       "      <td>3</td>\n",
       "      <td>1</td>\n",
       "      <td>https://www.reddit.com/r/SuicideWatch/comments...</td>\n",
       "    </tr>\n",
       "  </tbody>\n",
       "</table>\n",
       "</div>"
      ],
      "text/plain": [
       "                                               title  \\\n",
       "0  New wiki on how to avoid accidentally encourag...   \n",
       "1  Reminder: Absolutely no activism of any kind i...   \n",
       "2  To every single poster here i wanne say one thing   \n",
       "3                         I just want it all to stop   \n",
       "4  Nobody gives a fuck until you die, and even th...   \n",
       "\n",
       "                                            selftext               author  \\\n",
       "0  We've been seeing a worrying increase in pro-s...             SQLwitch   \n",
       "1  If you want to recognise an occasion, please d...             SQLwitch   \n",
       "2                          I really fucking feel you  NussNougatCroissant   \n",
       "3  Everyone ends up hating me eventually. \\nMy ps...       hda-SVN-njhdsx   \n",
       "4                                                NaN           lil_peemis   \n",
       "\n",
       "   num_comments  is_suicide                                                url  \n",
       "0           260           1  https://www.reddit.com/r/SuicideWatch/comments...  \n",
       "1           124           1  https://www.reddit.com/r/SuicideWatch/comments...  \n",
       "2            46           1  https://www.reddit.com/r/SuicideWatch/comments...  \n",
       "3             5           1  https://www.reddit.com/r/SuicideWatch/comments...  \n",
       "4             3           1  https://www.reddit.com/r/SuicideWatch/comments...  "
      ]
     },
     "execution_count": 45,
     "metadata": {},
     "output_type": "execute_result"
    }
   ],
   "source": [
    "suicide_watch[[\"title\", \"selftext\", \"author\",  \"num_comments\", \"is_suicide\",\"url\"]].head(5)"
   ]
  },
  {
   "cell_type": "markdown",
   "metadata": {
    "colab_type": "text",
    "id": "nseLVrKryvyv"
   },
   "source": [
    "This is the suicide dataset. Just from the preview, the titles and posts are clearly different, but it is very hard to distinguish which is which and how to classify that. Post 5 has no body, which also could be problematic as it is a missing value."
   ]
  },
  {
   "cell_type": "code",
   "execution_count": 46,
   "metadata": {
    "colab": {},
    "colab_type": "code",
    "id": "0L_6A3nYyvyv",
    "outputId": "e4150555-0c44-4d92-bd23-8e64b5067976"
   },
   "outputs": [
    {
     "name": "stdout",
     "output_type": "stream",
     "text": [
      "(836, 6)\n",
      "(980, 6)\n"
     ]
    }
   ],
   "source": [
    "# viewing shapes of datasets\n",
    "print(casual_convo[[\"title\", \"selftext\", \"author\",  \"num_comments\", \"is_suicide\",\"url\"]].shape)\n",
    "print(suicide_watch[[\"title\", \"selftext\", \"author\",  \"num_comments\", \"is_suicide\",\"url\"]].shape)"
   ]
  },
  {
   "cell_type": "markdown",
   "metadata": {
    "colab_type": "text",
    "id": "BPDdet0Pyvyx"
   },
   "source": [
    "they are a bit different in size, but after cleaning and processing this shouldn't be an issue. "
   ]
  },
  {
   "cell_type": "code",
   "execution_count": 47,
   "metadata": {
    "colab": {},
    "colab_type": "code",
    "id": "iKoQeBBwyvyy",
    "scrolled": true
   },
   "outputs": [
    {
     "name": "stdout",
     "output_type": "stream",
     "text": [
      "Hi! I've been battling depression for the past two years, officially diagnosed in summer 2019, currently on medication &amp; therapy. Beating myself up every. single. day. for just being \"lazy\", and \"not being able to get it together\", as well as struggling with the thought that i somehow just tricked everybody (including the doctors) into thinking that i have depression when really i dont. 🥴  \n",
      "Anyways, after another horrifying therapy session of me complaining that i am really just a piece of shit that only wants to sleep 24/7, wasting her life away not accomplishing anything, my therapist urged me to list all the things which i do DO and sort of look at them from afar and try to practice gratitude and appreciation. Here it is:\n",
      "\n",
      "1) most days, I am able to make myself brush my teeth and on the good days even take a shower  \n",
      "2) i could have given up on all work  to kind of \"sleep through\" my depression (my partner can support me financially with no trouble) however as tempting as it is I still do the work (working remotely from home) and recently took on a big project, which I was debating declining but still didn't (no idea how and if  im going to handle it but ill update you on here)  \n",
      "3) roughly once a week I may feel like putting on makeup and doing my nails  \n",
      "4) i am able to socialize with my best friend and truly enjoy our evenings together, which is a huge one  \n",
      "5) i am now able to recognise that the meds do really help and I stopped having hysterical breakdowns and intrusive, disturbing thoughts  \n",
      "6) i have never missed a day of therapy  \n",
      "7) even though my sleep schedule is non-existence (sleeping every 4 hours during the course of a day) I still pull myself out of bed, have breakfast, maybe out on some clothes and go out to work in a cafe, even if for just an hour\n",
      "\n",
      "I think that's about it. I do feel better. Will update on my progress.\n"
     ]
    },
    {
     "data": {
      "text/plain": [
       "1874"
      ]
     },
     "execution_count": 47,
     "metadata": {},
     "output_type": "execute_result"
    }
   ],
   "source": [
    "# reading post 118 from the depression dataset\n",
    "print(depression[\"selftext\"][80])\n",
    "len(depression[\"selftext\"][80])"
   ]
  },
  {
   "cell_type": "code",
   "execution_count": 48,
   "metadata": {
    "colab": {},
    "colab_type": "code",
    "id": "WMUMLjbmyvy0",
    "outputId": "668630f8-89c3-4095-a423-fd91129e6f50",
    "scrolled": true
   },
   "outputs": [
    {
     "name": "stdout",
     "output_type": "stream",
     "text": [
      "I'm an 18 year old with severe depression, anxiety, ADHD, borderline personality disorder and DID at a point in my life. But I'm slowly recovering.\n",
      "\n",
      "I have always felt like I never belonged to this world, because I am \"too imaginative\" and \"too kind\". I behave \"not like how people should\". I'm mostly well-liked, but I know they think I'm a weirdo. Everyone does.\n",
      "\n",
      "It's final exam time for us, and I have to secure good marks, otherwise I won't be able to enter any good streams in a good college. It would be the end of my future. My family is in a financial crunch, but they give up everything for me. I am dead-set on helping my friends get through their depression and suicidal tendencies, but I'm failing at that. I have had three attempts, but I was saved by a person, who himself was alexithymic (I think) and suicidal. He still is, and he says if he doesn't do well, he will commit suicide.\n",
      "\n",
      "I don't know what I'm gonna do if I don't perform the way I should. But I certainly know that I will die if he does.\n",
      "\n",
      "In case everything goes wrong, I'll leave. There's no other way. The day of my death is nearing. It's just 3 months away.\n",
      "\n",
      "Love you all. Have a good day.\n"
     ]
    },
    {
     "data": {
      "text/plain": [
       "1172"
      ]
     },
     "execution_count": 48,
     "metadata": {},
     "output_type": "execute_result"
    }
   ],
   "source": [
    "# reading post 118 from the suicide dataset\n",
    "print(suicide_watch[\"selftext\"][118])\n",
    "len(suicide_watch[\"selftext\"][118])"
   ]
  },
  {
   "cell_type": "markdown",
   "metadata": {
    "colab_type": "text",
    "id": "AXw7a8D1yvy2"
   },
   "source": [
    "just from reading them, they look pretty similar. However, the stories of both people are completely different and one of them is suicidal. The second person explicitly says they will die in 3 months, but the first post makes no such remarks. A classifier could do a good job of distinguishing between these two. Let's read two more. "
   ]
  },
  {
   "cell_type": "code",
   "execution_count": 49,
   "metadata": {
    "colab": {},
    "colab_type": "code",
    "id": "sig0dBBxyvy3",
    "outputId": "761c2f8f-8954-4bb2-a774-59ea58bd1671"
   },
   "outputs": [
    {
     "name": "stdout",
     "output_type": "stream",
     "text": [
      "why does it hurt so much? Why can’t I be happy without it? There’s this empty void in my heart that gets bigger everyday. I’m just waiting until it eats me up, since I’ll never have 2 sided love.\n"
     ]
    }
   ],
   "source": [
    "print(depression[\"selftext\"][6])"
   ]
  },
  {
   "cell_type": "code",
   "execution_count": 50,
   "metadata": {
    "colab": {},
    "colab_type": "code",
    "id": "weBrdP65yvy7",
    "outputId": "1adfcd52-1514-4d46-91e4-7646d5a8f9b1"
   },
   "outputs": [
    {
     "name": "stdout",
     "output_type": "stream",
     "text": [
      "I wanted to die starting in Jan 2018, but things have only gotten worse.\n",
      "\n",
      "In summer 2018, those fucks on the Suicide Prevention chatroom called the police when I expressed suicidal ideations, so I was kidnapped and sent to a series of hospital-prisons with junk medical staff. I lost my job due to the hospital stay - and my apartment, car, and dog shortly followed.\n",
      "\n",
      "Can't get a decent job because my resume is now all fucked up and I have no connections, and I refuse to go back to miserable jobs that pay horribly. I'd rather die than do that for life.\n",
      "\n",
      "I am about to be sued on $4K debt, and then yesterday I was handed a $6.5K medical bill for treatment that would have been 100% unnecessary had I still had insurance and was able to go to regular check ups.\n",
      "\n",
      "You fucks on the Suicide Prevention line made my life demonstrably worse. You destroyed the mechanisms that kept me going as an independent and self-sufficient human. Now I have nothing and am in a far worse position (logistically speaking) to be dealing with any of this.\n",
      "\n",
      "Right now I'm sort of just waiting until where I'm currently staying kicks me out, which should be soon. After that, it's time to die. But I'll be sure to let the responsible parties know their part in this.\n"
     ]
    }
   ],
   "source": [
    "print(suicide_watch[\"selftext\"][100])"
   ]
  },
  {
   "cell_type": "markdown",
   "metadata": {
    "colab_type": "text",
    "id": "Q47VCSSFyvy9"
   },
   "source": [
    "between these two posts, there is a clear distinction, but it would be hard for a regular person reading it to be sure. Only a classifier generalized on thousands of peoples suffering could do this. But the first post talks about how their life is getting better, while the second explains that the person thinks that it is time to die. "
   ]
  },
  {
   "cell_type": "code",
   "execution_count": 51,
   "metadata": {},
   "outputs": [],
   "source": [
    "# casual_convo = casual_convo.rename(columns={'causal': 'is_suicide'})"
   ]
  },
  {
   "cell_type": "code",
   "execution_count": 52,
   "metadata": {
    "colab": {},
    "colab_type": "code",
    "id": "yTIpxr1Wyvy-",
    "outputId": "745cff73-ee45-4fe5-bd0f-debfdf1bebcc"
   },
   "outputs": [
    {
     "data": {
      "text/html": [
       "<div>\n",
       "<style scoped>\n",
       "    .dataframe tbody tr th:only-of-type {\n",
       "        vertical-align: middle;\n",
       "    }\n",
       "\n",
       "    .dataframe tbody tr th {\n",
       "        vertical-align: top;\n",
       "    }\n",
       "\n",
       "    .dataframe thead th {\n",
       "        text-align: right;\n",
       "    }\n",
       "</style>\n",
       "<table border=\"1\" class=\"dataframe\">\n",
       "  <thead>\n",
       "    <tr style=\"text-align: right;\">\n",
       "      <th></th>\n",
       "      <th>title</th>\n",
       "      <th>selftext</th>\n",
       "      <th>author</th>\n",
       "      <th>num_comments</th>\n",
       "      <th>is_suicide</th>\n",
       "      <th>url</th>\n",
       "    </tr>\n",
       "  </thead>\n",
       "  <tbody>\n",
       "    <tr>\n",
       "      <th>0</th>\n",
       "      <td>Our most-broken and least-understood rules is ...</td>\n",
       "      <td>We understand that most people who reply immed...</td>\n",
       "      <td>SQLwitch</td>\n",
       "      <td>133</td>\n",
       "      <td>0</td>\n",
       "      <td>https://www.reddit.com/r/depression/comments/d...</td>\n",
       "    </tr>\n",
       "    <tr>\n",
       "      <th>1</th>\n",
       "      <td>Regular Check-In Post</td>\n",
       "      <td>Welcome to /r/depression's check-in post - a p...</td>\n",
       "      <td>circinia</td>\n",
       "      <td>1644</td>\n",
       "      <td>0</td>\n",
       "      <td>https://www.reddit.com/r/depression/comments/e...</td>\n",
       "    </tr>\n",
       "    <tr>\n",
       "      <th>2</th>\n",
       "      <td>I hate it so much when you try and express you...</td>\n",
       "      <td>I've been feeling really depressed and lonely ...</td>\n",
       "      <td>TheNewKiller69</td>\n",
       "      <td>8</td>\n",
       "      <td>0</td>\n",
       "      <td>https://www.reddit.com/r/depression/comments/f...</td>\n",
       "    </tr>\n",
       "    <tr>\n",
       "      <th>3</th>\n",
       "      <td>I went to the hospital because I was having re...</td>\n",
       "      <td>I literally broke down crying and asked to go ...</td>\n",
       "      <td>Jazzlecrab</td>\n",
       "      <td>15</td>\n",
       "      <td>0</td>\n",
       "      <td>https://www.reddit.com/r/depression/comments/f...</td>\n",
       "    </tr>\n",
       "    <tr>\n",
       "      <th>4</th>\n",
       "      <td>Cake day for me</td>\n",
       "      <td>Any kind soul want to give a depressed person ...</td>\n",
       "      <td>Depressed_Kid786</td>\n",
       "      <td>37</td>\n",
       "      <td>0</td>\n",
       "      <td>https://www.reddit.com/r/depression/comments/f...</td>\n",
       "    </tr>\n",
       "    <tr>\n",
       "      <th>...</th>\n",
       "      <td>...</td>\n",
       "      <td>...</td>\n",
       "      <td>...</td>\n",
       "      <td>...</td>\n",
       "      <td>...</td>\n",
       "      <td>...</td>\n",
       "    </tr>\n",
       "    <tr>\n",
       "      <th>1748</th>\n",
       "      <td>As a male, I’m so tired of the lack of unique ...</td>\n",
       "      <td>As a male it’s insanely frustrating to browse ...</td>\n",
       "      <td>Childish_Brandino</td>\n",
       "      <td>2416</td>\n",
       "      <td>1</td>\n",
       "      <td>https://www.reddit.com/r/CasualConversation/co...</td>\n",
       "    </tr>\n",
       "    <tr>\n",
       "      <th>1749</th>\n",
       "      <td>My teenager made me so proud tonight with a si...</td>\n",
       "      <td>I have 4 boys ranging from ages 3 to 14. Tonig...</td>\n",
       "      <td>SedativeCorpse</td>\n",
       "      <td>251</td>\n",
       "      <td>1</td>\n",
       "      <td>https://www.reddit.com/r/CasualConversation/co...</td>\n",
       "    </tr>\n",
       "    <tr>\n",
       "      <th>1750</th>\n",
       "      <td>After 30 years of being open, my family’s rest...</td>\n",
       "      <td>My family has owned a fine dining italian rest...</td>\n",
       "      <td>retirereddit</td>\n",
       "      <td>769</td>\n",
       "      <td>1</td>\n",
       "      <td>https://www.reddit.com/r/CasualConversation/co...</td>\n",
       "    </tr>\n",
       "    <tr>\n",
       "      <th>1751</th>\n",
       "      <td>This coronavirus things has made me realize pe...</td>\n",
       "      <td>Just live streams of people at home getting in...</td>\n",
       "      <td>ghost_sanctum</td>\n",
       "      <td>2996</td>\n",
       "      <td>1</td>\n",
       "      <td>https://www.reddit.com/r/CasualConversation/co...</td>\n",
       "    </tr>\n",
       "    <tr>\n",
       "      <th>1752</th>\n",
       "      <td>I’m a lunch lady at an elementary school schoo...</td>\n",
       "      <td>At first I was mad that I would still have to ...</td>\n",
       "      <td>befuddledghostie</td>\n",
       "      <td>1695</td>\n",
       "      <td>1</td>\n",
       "      <td>https://www.reddit.com/r/CasualConversation/co...</td>\n",
       "    </tr>\n",
       "  </tbody>\n",
       "</table>\n",
       "<p>1753 rows × 6 columns</p>\n",
       "</div>"
      ],
      "text/plain": [
       "                                                  title  \\\n",
       "0     Our most-broken and least-understood rules is ...   \n",
       "1                                 Regular Check-In Post   \n",
       "2     I hate it so much when you try and express you...   \n",
       "3     I went to the hospital because I was having re...   \n",
       "4                                       Cake day for me   \n",
       "...                                                 ...   \n",
       "1748  As a male, I’m so tired of the lack of unique ...   \n",
       "1749  My teenager made me so proud tonight with a si...   \n",
       "1750  After 30 years of being open, my family’s rest...   \n",
       "1751  This coronavirus things has made me realize pe...   \n",
       "1752  I’m a lunch lady at an elementary school schoo...   \n",
       "\n",
       "                                               selftext             author  \\\n",
       "0     We understand that most people who reply immed...           SQLwitch   \n",
       "1     Welcome to /r/depression's check-in post - a p...           circinia   \n",
       "2     I've been feeling really depressed and lonely ...     TheNewKiller69   \n",
       "3     I literally broke down crying and asked to go ...         Jazzlecrab   \n",
       "4     Any kind soul want to give a depressed person ...   Depressed_Kid786   \n",
       "...                                                 ...                ...   \n",
       "1748  As a male it’s insanely frustrating to browse ...  Childish_Brandino   \n",
       "1749  I have 4 boys ranging from ages 3 to 14. Tonig...     SedativeCorpse   \n",
       "1750  My family has owned a fine dining italian rest...       retirereddit   \n",
       "1751  Just live streams of people at home getting in...      ghost_sanctum   \n",
       "1752  At first I was mad that I would still have to ...   befuddledghostie   \n",
       "\n",
       "      num_comments  is_suicide  \\\n",
       "0              133           0   \n",
       "1             1644           0   \n",
       "2                8           0   \n",
       "3               15           0   \n",
       "4               37           0   \n",
       "...            ...         ...   \n",
       "1748          2416           1   \n",
       "1749           251           1   \n",
       "1750           769           1   \n",
       "1751          2996           1   \n",
       "1752          1695           1   \n",
       "\n",
       "                                                    url  \n",
       "0     https://www.reddit.com/r/depression/comments/d...  \n",
       "1     https://www.reddit.com/r/depression/comments/e...  \n",
       "2     https://www.reddit.com/r/depression/comments/f...  \n",
       "3     https://www.reddit.com/r/depression/comments/f...  \n",
       "4     https://www.reddit.com/r/depression/comments/f...  \n",
       "...                                                 ...  \n",
       "1748  https://www.reddit.com/r/CasualConversation/co...  \n",
       "1749  https://www.reddit.com/r/CasualConversation/co...  \n",
       "1750  https://www.reddit.com/r/CasualConversation/co...  \n",
       "1751  https://www.reddit.com/r/CasualConversation/co...  \n",
       "1752  https://www.reddit.com/r/CasualConversation/co...  \n",
       "\n",
       "[1753 rows x 6 columns]"
      ]
     },
     "execution_count": 52,
     "metadata": {},
     "output_type": "execute_result"
    }
   ],
   "source": [
    "# the 5 columns we chose seem good so lets shorten the datasets. \n",
    "dep_columns = depression[[\"title\", \"selftext\", \"author\",  \"num_comments\", \"is_suicide\",\"url\"]]\n",
    "sui_columns = suicide_watch[[\"title\", \"selftext\", \"author\",  \"num_comments\", \"is_suicide\",\"url\"]]\n",
    "cas_columns = casual_convo[[\"title\", \"selftext\", \"author\",  \"num_comments\", \"is_suicide\",\"url\"]]\n",
    "\n",
    "# lets combine the datasets into one massive dataset. \n",
    "# combined_data = pd.concat([dep_columns,sui_columns, cas_columns],axis=0, ignore_index=True) \n",
    "combined_data = pd.concat([dep_columns, cas_columns],axis=0, ignore_index=True)    \n",
    "combined_data"
   ]
  },
  {
   "cell_type": "code",
   "execution_count": 53,
   "metadata": {
    "colab": {},
    "colab_type": "code",
    "id": "-WRL8rSGyvzA"
   },
   "outputs": [],
   "source": [
    "# saving the combined data in our datasets folder\n",
    "combined_data.to_csv('../data/depression_vs_nothing.csv', index = False)"
   ]
  },
  {
   "cell_type": "code",
   "execution_count": 54,
   "metadata": {
    "colab": {},
    "colab_type": "code",
    "id": "LCBmAGUhyvzC",
    "outputId": "7abdd2bc-0aa3-4460-c338-036ff6a16d0e"
   },
   "outputs": [
    {
     "name": "stdout",
     "output_type": "stream",
     "text": [
      "<class 'pandas.core.frame.DataFrame'>\n",
      "RangeIndex: 1753 entries, 0 to 1752\n",
      "Data columns (total 6 columns):\n",
      " #   Column        Non-Null Count  Dtype \n",
      "---  ------        --------------  ----- \n",
      " 0   title         1753 non-null   object\n",
      " 1   selftext      1752 non-null   object\n",
      " 2   author        1753 non-null   object\n",
      " 3   num_comments  1753 non-null   int64 \n",
      " 4   is_suicide    1753 non-null   int64 \n",
      " 5   url           1753 non-null   object\n",
      "dtypes: int64(2), object(4)\n",
      "memory usage: 82.3+ KB\n"
     ]
    }
   ],
   "source": [
    "# checking for missing values\n",
    "combined_data.info()"
   ]
  },
  {
   "cell_type": "markdown",
   "metadata": {
    "colab_type": "text",
    "id": "usJqoE2gyvzF"
   },
   "source": [
    "it looks like the only missing values are in the text body, which makes sense. "
   ]
  },
  {
   "cell_type": "code",
   "execution_count": 55,
   "metadata": {
    "colab": {},
    "colab_type": "code",
    "id": "F1wQYwZ6yvzF",
    "outputId": "c53c7a5c-62fb-428b-a04f-18cbac9f3719"
   },
   "outputs": [
    {
     "data": {
      "text/html": [
       "<div>\n",
       "<style scoped>\n",
       "    .dataframe tbody tr th:only-of-type {\n",
       "        vertical-align: middle;\n",
       "    }\n",
       "\n",
       "    .dataframe tbody tr th {\n",
       "        vertical-align: top;\n",
       "    }\n",
       "\n",
       "    .dataframe thead th {\n",
       "        text-align: right;\n",
       "    }\n",
       "</style>\n",
       "<table border=\"1\" class=\"dataframe\">\n",
       "  <thead>\n",
       "    <tr style=\"text-align: right;\">\n",
       "      <th></th>\n",
       "      <th>title</th>\n",
       "      <th>selftext</th>\n",
       "      <th>author</th>\n",
       "      <th>num_comments</th>\n",
       "      <th>is_suicide</th>\n",
       "      <th>url</th>\n",
       "    </tr>\n",
       "  </thead>\n",
       "  <tbody>\n",
       "    <tr>\n",
       "      <th>184</th>\n",
       "      <td>Can someone recommend good qualities in therap...</td>\n",
       "      <td>NaN</td>\n",
       "      <td>eito_8</td>\n",
       "      <td>2</td>\n",
       "      <td>0</td>\n",
       "      <td>https://www.reddit.com/r/depression/comments/f...</td>\n",
       "    </tr>\n",
       "  </tbody>\n",
       "</table>\n",
       "</div>"
      ],
      "text/plain": [
       "                                                 title selftext  author  \\\n",
       "184  Can someone recommend good qualities in therap...      NaN  eito_8   \n",
       "\n",
       "     num_comments  is_suicide  \\\n",
       "184             2           0   \n",
       "\n",
       "                                                   url  \n",
       "184  https://www.reddit.com/r/depression/comments/f...  "
      ]
     },
     "execution_count": 55,
     "metadata": {},
     "output_type": "execute_result"
    }
   ],
   "source": [
    "# looking at the posts with missing text values\n",
    "combined_data[combined_data[\"selftext\"].isnull()].head(10)"
   ]
  },
  {
   "cell_type": "markdown",
   "metadata": {
    "colab_type": "text",
    "id": "x72z_owvyvzK"
   },
   "source": [
    "The posts with missing values are either very concise in the title and to the point, or the main text is basically in the title. Luckily, there aren't that many posts with missing values. However, most of the null values are in the suicide dataset, which makes sense but also could be troublesome for our classifier. Maybe using the titles as the text would be a good approach. "
   ]
  },
  {
   "cell_type": "code",
   "execution_count": 56,
   "metadata": {
    "colab": {},
    "colab_type": "code",
    "id": "b37WNNamyvzL",
    "outputId": "b4afab7e-9050-4aec-ca1e-ff155f65077d"
   },
   "outputs": [
    {
     "data": {
      "text/plain": [
       "0    1\n",
       "Name: is_suicide, dtype: int64"
      ]
     },
     "execution_count": 56,
     "metadata": {},
     "output_type": "execute_result"
    }
   ],
   "source": [
    "combined_data[\"is_suicide\"][combined_data[\"selftext\"].isnull()].value_counts()"
   ]
  },
  {
   "cell_type": "code",
   "execution_count": 57,
   "metadata": {
    "colab": {},
    "colab_type": "code",
    "id": "OZG7ErrQyvzS"
   },
   "outputs": [],
   "source": [
    "# the best approach for the null values it to just fill them with \"emptypost\"\n",
    "combined_data[\"selftext\"].fillna(\"emptypost\",inplace=True)"
   ]
  },
  {
   "cell_type": "code",
   "execution_count": 58,
   "metadata": {
    "colab": {},
    "colab_type": "code",
    "id": "4DsxPL4qyvzU",
    "outputId": "33b39329-4056-4506-e830-049a24ab435d"
   },
   "outputs": [
    {
     "data": {
      "text/html": [
       "<div>\n",
       "<style scoped>\n",
       "    .dataframe tbody tr th:only-of-type {\n",
       "        vertical-align: middle;\n",
       "    }\n",
       "\n",
       "    .dataframe tbody tr th {\n",
       "        vertical-align: top;\n",
       "    }\n",
       "\n",
       "    .dataframe thead th {\n",
       "        text-align: right;\n",
       "    }\n",
       "</style>\n",
       "<table border=\"1\" class=\"dataframe\">\n",
       "  <thead>\n",
       "    <tr style=\"text-align: right;\">\n",
       "      <th></th>\n",
       "      <th>title</th>\n",
       "      <th>selftext</th>\n",
       "      <th>author</th>\n",
       "      <th>num_comments</th>\n",
       "      <th>is_suicide</th>\n",
       "      <th>url</th>\n",
       "    </tr>\n",
       "  </thead>\n",
       "  <tbody>\n",
       "    <tr>\n",
       "      <th>184</th>\n",
       "      <td>Can someone recommend good qualities in therap...</td>\n",
       "      <td>emptypost</td>\n",
       "      <td>eito_8</td>\n",
       "      <td>2</td>\n",
       "      <td>0</td>\n",
       "      <td>https://www.reddit.com/r/depression/comments/f...</td>\n",
       "    </tr>\n",
       "  </tbody>\n",
       "</table>\n",
       "</div>"
      ],
      "text/plain": [
       "                                                 title   selftext  author  \\\n",
       "184  Can someone recommend good qualities in therap...  emptypost  eito_8   \n",
       "\n",
       "     num_comments  is_suicide  \\\n",
       "184             2           0   \n",
       "\n",
       "                                                   url  \n",
       "184  https://www.reddit.com/r/depression/comments/f...  "
      ]
     },
     "execution_count": 58,
     "metadata": {},
     "output_type": "execute_result"
    }
   ],
   "source": [
    "# checking if filling missing values worked\n",
    "combined_data[combined_data[\"selftext\"].isin([\"emptypost\"])].head()"
   ]
  },
  {
   "cell_type": "code",
   "execution_count": 59,
   "metadata": {
    "colab": {},
    "colab_type": "code",
    "id": "dH4qHWcoyvzX",
    "outputId": "bd0912dc-36ab-46f4-e386-7ff81ffa530c"
   },
   "outputs": [
    {
     "name": "stdout",
     "output_type": "stream",
     "text": [
      "<class 'pandas.core.frame.DataFrame'>\n",
      "RangeIndex: 1753 entries, 0 to 1752\n",
      "Data columns (total 6 columns):\n",
      " #   Column        Non-Null Count  Dtype \n",
      "---  ------        --------------  ----- \n",
      " 0   title         1753 non-null   object\n",
      " 1   selftext      1753 non-null   object\n",
      " 2   author        1753 non-null   object\n",
      " 3   num_comments  1753 non-null   int64 \n",
      " 4   is_suicide    1753 non-null   int64 \n",
      " 5   url           1753 non-null   object\n",
      "dtypes: int64(2), object(4)\n",
      "memory usage: 82.3+ KB\n"
     ]
    }
   ],
   "source": [
    "# checking entire dataset for missing values\n",
    "combined_data.info()"
   ]
  },
  {
   "cell_type": "markdown",
   "metadata": {
    "colab_type": "text",
    "id": "K2OnDMpryvzZ"
   },
   "source": [
    "# Data Preprocessing\n",
    "The posts are all written in different punctuation and capitalizations, so standardizing the data is an important first step. "
   ]
  },
  {
   "cell_type": "markdown",
   "metadata": {
    "colab_type": "text",
    "id": "--WqWPW_yvzZ"
   },
   "source": [
    "### Preprocessing Functions\n",
    "Let's begin by removing capitalizations, reducing sentences to base words, and removing punctuation. We will add this as a new column to our data."
   ]
  },
  {
   "cell_type": "code",
   "execution_count": 60,
   "metadata": {
    "colab": {},
    "colab_type": "code",
    "id": "jikSNGrsyvza"
   },
   "outputs": [],
   "source": [
    "def processing_text(series_to_process):\n",
    "    new_list = []\n",
    "    tokenizer = RegexpTokenizer(r'(\\w+)')\n",
    "    lemmatizer = WordNetLemmatizer()\n",
    "    for i in range(len(series_to_process)):\n",
    "        # tokenized item in a new list\n",
    "        dirty_string = (series_to_process)[i].lower()\n",
    "        words_only = tokenizer.tokenize(dirty_string) # words_only is a list of only the words, no punctuation\n",
    "        #Lemmatize the words_only\n",
    "        words_only_lem = [lemmatizer.lemmatize(i) for i in words_only]\n",
    "        # removing stop words\n",
    "        words_without_stop = [i for i in words_only_lem if i not in stopwords.words(\"english\")]\n",
    "        # return seperated words\n",
    "        long_string_clean = \" \".join(word for word in words_without_stop)\n",
    "        new_list.append(long_string_clean)\n",
    "    return new_list"
   ]
  },
  {
   "cell_type": "code",
   "execution_count": 61,
   "metadata": {
    "colab": {},
    "colab_type": "code",
    "id": "Oukr9PXgyvzc",
    "outputId": "6afea178-1882-4fe4-fa93-a70af33a94e0"
   },
   "outputs": [
    {
     "data": {
      "text/html": [
       "<div>\n",
       "<style scoped>\n",
       "    .dataframe tbody tr th:only-of-type {\n",
       "        vertical-align: middle;\n",
       "    }\n",
       "\n",
       "    .dataframe tbody tr th {\n",
       "        vertical-align: top;\n",
       "    }\n",
       "\n",
       "    .dataframe thead th {\n",
       "        text-align: right;\n",
       "    }\n",
       "</style>\n",
       "<table border=\"1\" class=\"dataframe\">\n",
       "  <thead>\n",
       "    <tr style=\"text-align: right;\">\n",
       "      <th></th>\n",
       "      <th>title</th>\n",
       "      <th>selftext</th>\n",
       "      <th>author</th>\n",
       "      <th>num_comments</th>\n",
       "      <th>is_suicide</th>\n",
       "      <th>url</th>\n",
       "      <th>selftext_clean</th>\n",
       "      <th>title_clean</th>\n",
       "    </tr>\n",
       "  </thead>\n",
       "  <tbody>\n",
       "    <tr>\n",
       "      <th>0</th>\n",
       "      <td>Our most-broken and least-understood rules is \"helpers may not invite private contact as a first...</td>\n",
       "      <td>We understand that most people who reply immediately to an OP with an invitation to talk private...</td>\n",
       "      <td>SQLwitch</td>\n",
       "      <td>133</td>\n",
       "      <td>0</td>\n",
       "      <td>https://www.reddit.com/r/depression/comments/doqwow/our_mostbroken_and_leastunderstood_rules_is/</td>\n",
       "      <td>understand people reply immediately op invitation talk privately mean help type response usually...</td>\n",
       "      <td>broken least understood rule helper may invite private contact first resort made new wiki explain</td>\n",
       "    </tr>\n",
       "    <tr>\n",
       "      <th>1</th>\n",
       "      <td>Regular Check-In Post</td>\n",
       "      <td>Welcome to /r/depression's check-in post - a place to take a moment and share what is going on a...</td>\n",
       "      <td>circinia</td>\n",
       "      <td>1644</td>\n",
       "      <td>0</td>\n",
       "      <td>https://www.reddit.com/r/depression/comments/exo6f1/regular_checkin_post/</td>\n",
       "      <td>welcome r depression check post place take moment share going accomplishment want talk standalon...</td>\n",
       "      <td>regular check post</td>\n",
       "    </tr>\n",
       "    <tr>\n",
       "      <th>2</th>\n",
       "      <td>I hate it so much when you try and express your feelings to your parents, but they turn it aroun...</td>\n",
       "      <td>I've been feeling really depressed and lonely lately from my job, I'm a full time late night jan...</td>\n",
       "      <td>TheNewKiller69</td>\n",
       "      <td>8</td>\n",
       "      <td>0</td>\n",
       "      <td>https://www.reddit.com/r/depression/comments/fedwbi/i_hate_it_so_much_when_you_try_and_express_y...</td>\n",
       "      <td>feeling really depressed lonely lately job full time late night janitor courthouse 10 mile away ...</td>\n",
       "      <td>hate much try express feeling parent turn around compare suffering</td>\n",
       "    </tr>\n",
       "    <tr>\n",
       "      <th>3</th>\n",
       "      <td>I went to the hospital because I was having really bad panic attacks, and theycontinued in there...</td>\n",
       "      <td>I literally broke down crying and asked to go home, another nurse was watching me while I was cr...</td>\n",
       "      <td>Jazzlecrab</td>\n",
       "      <td>15</td>\n",
       "      <td>0</td>\n",
       "      <td>https://www.reddit.com/r/depression/comments/feel0k/i_went_to_the_hospital_because_i_was_having/</td>\n",
       "      <td>literally broke cry asked go home another nurse wa watching wa cry saying wanted keep longer kep...</td>\n",
       "      <td>went hospital wa really bad panic attack theycontinued ended collapsing nurse wa trying help sai...</td>\n",
       "    </tr>\n",
       "    <tr>\n",
       "      <th>4</th>\n",
       "      <td>Cake day for me</td>\n",
       "      <td>Any kind soul want to give a depressed person karma.\\n\\n\\nEdit: Thanks everyone and especially f...</td>\n",
       "      <td>Depressed_Kid786</td>\n",
       "      <td>37</td>\n",
       "      <td>0</td>\n",
       "      <td>https://www.reddit.com/r/depression/comments/fe6ua3/cake_day_for_me/</td>\n",
       "      <td>kind soul want give depressed person karma edit thanks everyone especially sub hope overcome dep...</td>\n",
       "      <td>cake day</td>\n",
       "    </tr>\n",
       "    <tr>\n",
       "      <th>5</th>\n",
       "      <td>sorry but why the fuck is life like this</td>\n",
       "      <td>literally though. have i done anything wrong</td>\n",
       "      <td>angelshum10</td>\n",
       "      <td>13</td>\n",
       "      <td>0</td>\n",
       "      <td>https://www.reddit.com/r/depression/comments/fecd9s/sorry_but_why_the_fuck_is_life_like_this/</td>\n",
       "      <td>literally though done anything wrong</td>\n",
       "      <td>sorry fuck life like</td>\n",
       "    </tr>\n",
       "    <tr>\n",
       "      <th>6</th>\n",
       "      <td>I hate love</td>\n",
       "      <td>why does it hurt so much? Why can’t I be happy without it? There’s this empty void in my heart t...</td>\n",
       "      <td>DaRkNeSSReDCrusader</td>\n",
       "      <td>29</td>\n",
       "      <td>0</td>\n",
       "      <td>https://www.reddit.com/r/depression/comments/feb4tq/i_hate_love/</td>\n",
       "      <td>doe hurt much happy without empty void heart get bigger everyday waiting eats since never 2 side...</td>\n",
       "      <td>hate love</td>\n",
       "    </tr>\n",
       "    <tr>\n",
       "      <th>7</th>\n",
       "      <td>This world has no place for people like me.</td>\n",
       "      <td>A bit of context. I'm an American. I'm black. I'm big. I'm ugly. And I'm autistic. I work as an ...</td>\n",
       "      <td>InsertANameHeree</td>\n",
       "      <td>2</td>\n",
       "      <td>0</td>\n",
       "      <td>https://www.reddit.com/r/depression/comments/fegd6t/this_world_has_no_place_for_people_like_me/</td>\n",
       "      <td>bit context american black big ugly autistic work aircraft mechanic go every day le see point co...</td>\n",
       "      <td>world ha place people like</td>\n",
       "    </tr>\n",
       "  </tbody>\n",
       "</table>\n",
       "</div>"
      ],
      "text/plain": [
       "                                                                                                 title  \\\n",
       "0  Our most-broken and least-understood rules is \"helpers may not invite private contact as a first...   \n",
       "1                                                                                Regular Check-In Post   \n",
       "2  I hate it so much when you try and express your feelings to your parents, but they turn it aroun...   \n",
       "3  I went to the hospital because I was having really bad panic attacks, and theycontinued in there...   \n",
       "4                                                                                      Cake day for me   \n",
       "5                                                             sorry but why the fuck is life like this   \n",
       "6                                                                                          I hate love   \n",
       "7                                                          This world has no place for people like me.   \n",
       "\n",
       "                                                                                              selftext  \\\n",
       "0  We understand that most people who reply immediately to an OP with an invitation to talk private...   \n",
       "1  Welcome to /r/depression's check-in post - a place to take a moment and share what is going on a...   \n",
       "2  I've been feeling really depressed and lonely lately from my job, I'm a full time late night jan...   \n",
       "3  I literally broke down crying and asked to go home, another nurse was watching me while I was cr...   \n",
       "4  Any kind soul want to give a depressed person karma.\\n\\n\\nEdit: Thanks everyone and especially f...   \n",
       "5                                                         literally though. have i done anything wrong   \n",
       "6  why does it hurt so much? Why can’t I be happy without it? There’s this empty void in my heart t...   \n",
       "7  A bit of context. I'm an American. I'm black. I'm big. I'm ugly. And I'm autistic. I work as an ...   \n",
       "\n",
       "                author  num_comments  is_suicide  \\\n",
       "0             SQLwitch           133           0   \n",
       "1             circinia          1644           0   \n",
       "2       TheNewKiller69             8           0   \n",
       "3           Jazzlecrab            15           0   \n",
       "4     Depressed_Kid786            37           0   \n",
       "5          angelshum10            13           0   \n",
       "6  DaRkNeSSReDCrusader            29           0   \n",
       "7     InsertANameHeree             2           0   \n",
       "\n",
       "                                                                                                   url  \\\n",
       "0     https://www.reddit.com/r/depression/comments/doqwow/our_mostbroken_and_leastunderstood_rules_is/   \n",
       "1                            https://www.reddit.com/r/depression/comments/exo6f1/regular_checkin_post/   \n",
       "2  https://www.reddit.com/r/depression/comments/fedwbi/i_hate_it_so_much_when_you_try_and_express_y...   \n",
       "3     https://www.reddit.com/r/depression/comments/feel0k/i_went_to_the_hospital_because_i_was_having/   \n",
       "4                                 https://www.reddit.com/r/depression/comments/fe6ua3/cake_day_for_me/   \n",
       "5        https://www.reddit.com/r/depression/comments/fecd9s/sorry_but_why_the_fuck_is_life_like_this/   \n",
       "6                                     https://www.reddit.com/r/depression/comments/feb4tq/i_hate_love/   \n",
       "7      https://www.reddit.com/r/depression/comments/fegd6t/this_world_has_no_place_for_people_like_me/   \n",
       "\n",
       "                                                                                        selftext_clean  \\\n",
       "0  understand people reply immediately op invitation talk privately mean help type response usually...   \n",
       "1  welcome r depression check post place take moment share going accomplishment want talk standalon...   \n",
       "2  feeling really depressed lonely lately job full time late night janitor courthouse 10 mile away ...   \n",
       "3  literally broke cry asked go home another nurse wa watching wa cry saying wanted keep longer kep...   \n",
       "4  kind soul want give depressed person karma edit thanks everyone especially sub hope overcome dep...   \n",
       "5                                                                 literally though done anything wrong   \n",
       "6  doe hurt much happy without empty void heart get bigger everyday waiting eats since never 2 side...   \n",
       "7  bit context american black big ugly autistic work aircraft mechanic go every day le see point co...   \n",
       "\n",
       "                                                                                           title_clean  \n",
       "0    broken least understood rule helper may invite private contact first resort made new wiki explain  \n",
       "1                                                                                   regular check post  \n",
       "2                                   hate much try express feeling parent turn around compare suffering  \n",
       "3  went hospital wa really bad panic attack theycontinued ended collapsing nurse wa trying help sai...  \n",
       "4                                                                                             cake day  \n",
       "5                                                                                 sorry fuck life like  \n",
       "6                                                                                            hate love  \n",
       "7                                                                           world ha place people like  "
      ]
     },
     "execution_count": 61,
     "metadata": {},
     "output_type": "execute_result"
    }
   ],
   "source": [
    "# checking to see if the new columns were added\n",
    "combined_data[\"selftext_clean\"] = processing_text(combined_data[\"selftext\"])\n",
    "combined_data[\"title_clean\"] = processing_text(combined_data[\"title\"])\n",
    "pd.set_option(\"display.max_colwidth\", 100)\n",
    "combined_data.head(8)"
   ]
  },
  {
   "cell_type": "markdown",
   "metadata": {
    "colab_type": "text",
    "id": "wbMXeOelyvzf"
   },
   "source": [
    "Cleaning the titles and text worked, and that is important for our classifier to simplify the process and create a clearer distinction between the two datasets. "
   ]
  },
  {
   "cell_type": "code",
   "execution_count": 62,
   "metadata": {
    "colab": {},
    "colab_type": "code",
    "id": "IQZbAEizyvzf",
    "outputId": "2a58f384-d301-410b-b78f-c0c686bb6748"
   },
   "outputs": [
    {
     "data": {
      "text/html": [
       "<div>\n",
       "<style scoped>\n",
       "    .dataframe tbody tr th:only-of-type {\n",
       "        vertical-align: middle;\n",
       "    }\n",
       "\n",
       "    .dataframe tbody tr th {\n",
       "        vertical-align: top;\n",
       "    }\n",
       "\n",
       "    .dataframe thead th {\n",
       "        text-align: right;\n",
       "    }\n",
       "</style>\n",
       "<table border=\"1\" class=\"dataframe\">\n",
       "  <thead>\n",
       "    <tr style=\"text-align: right;\">\n",
       "      <th></th>\n",
       "      <th>selftext</th>\n",
       "      <th>selftext_clean</th>\n",
       "    </tr>\n",
       "  </thead>\n",
       "  <tbody>\n",
       "    <tr>\n",
       "      <th>1751</th>\n",
       "      <td>Just live streams of people at home getting in touch with their instruments again, walking their dogs, etc.\\n\\nPeople actually seemed to be hanging out with each other, even if it’s just playing my heart will go on or blowing a spitfire ball from the balconies.\\n\\nI get some people are mad or concerned because of cut hours , or just plain laid off , but if they , and everyone , had the means to the basics of just surviving and being alive it makes me yearn for that society where everyone is happy.\\n\\nPre- coronavirus I realized a lot of us work out butts off for very little reward.\\n\\nEdit: hey thanks for all the awards guys\\n\\nEdit 2: I get that things are stressful on the other hand with it being a pandemic after all, but it’s made realize people would be a lot happier once they’ve achieved financial independence ( viruses aside)</td>\n",
       "      <td>live stream people home getting touch instrument walking dog etc people actually seemed hanging even playing heart go blowing spitfire ball balcony get people mad concerned cut hour plain laid everyone mean basic surviving alive make yearn society everyone happy pre coronavirus realized lot u work butt little reward edit hey thanks award guy edit 2 get thing stressful hand pandemic made realize people would lot happier achieved financial independence virus aside</td>\n",
       "    </tr>\n",
       "    <tr>\n",
       "      <th>1752</th>\n",
       "      <td>At first I was mad that I would still have to work when everyone else gets two paid weeks off. But then they explained that the reason food service workers will still be expected to report for work is that we have a lot of kids in our district that qualify for free school lunch. For a lot of these kids, the food they get at school may be the only meals they get during the week. We have to keep feeding these kids, not only because they deserve to eat, but also because if they aren’t eating, their immune systems will take a hit and they could be more at risk for COVID-19. \\n\\nEven though I would love two weeks off to rest, I feel proud to be a lunch lady and to be feeding these kids who need it!\\n\\n\\nEdit: Wow, wow, wow! I really didn’t expect this post to get so much attention! Thank you all so much for your kind words and encouragement! I posted this with the intent to let people know that kids from low-income families will be fed, at least in many places that are closing schools, ...</td>\n",
       "      <td>first wa mad would still work everyone else get two paid week explained reason food service worker still expected report work lot kid district qualify free school lunch lot kid food get school may meal get week keep feeding kid deserve eat also eating immune system take hit could risk covid 19 even though would love two week rest feel proud lunch lady feeding kid need edit wow wow wow really expect post get much attention thank much kind word encouragement posted intent let people know kid low income family fed least many place closing school know topic concern lot people certainly expect called hero little overwhelming sure deserve title job love student every day see kid come know name little kid hard day come tear eye light see favorite lunch served given many high five kid let know tried new food yesterday liked tied many little sneaker shoelace originally job wa stepping stone job make money fell hard time fell parent left home bad term lost previous job suddenly worst dropped...</td>\n",
       "    </tr>\n",
       "  </tbody>\n",
       "</table>\n",
       "</div>"
      ],
      "text/plain": [
       "                                                                                                                                                                                                                                                                                                                                                                                                                                                                                                                                                                                                                                                                                                                                                                                                                                                                                                                                                                                                                                     selftext  \\\n",
       "1751                                                                                                                                                              Just live streams of people at home getting in touch with their instruments again, walking their dogs, etc.\\n\\nPeople actually seemed to be hanging out with each other, even if it’s just playing my heart will go on or blowing a spitfire ball from the balconies.\\n\\nI get some people are mad or concerned because of cut hours , or just plain laid off , but if they , and everyone , had the means to the basics of just surviving and being alive it makes me yearn for that society where everyone is happy.\\n\\nPre- coronavirus I realized a lot of us work out butts off for very little reward.\\n\\nEdit: hey thanks for all the awards guys\\n\\nEdit 2: I get that things are stressful on the other hand with it being a pandemic after all, but it’s made realize people would be a lot happier once they’ve achieved financial independence ( viruses aside)   \n",
       "1752  At first I was mad that I would still have to work when everyone else gets two paid weeks off. But then they explained that the reason food service workers will still be expected to report for work is that we have a lot of kids in our district that qualify for free school lunch. For a lot of these kids, the food they get at school may be the only meals they get during the week. We have to keep feeding these kids, not only because they deserve to eat, but also because if they aren’t eating, their immune systems will take a hit and they could be more at risk for COVID-19. \\n\\nEven though I would love two weeks off to rest, I feel proud to be a lunch lady and to be feeding these kids who need it!\\n\\n\\nEdit: Wow, wow, wow! I really didn’t expect this post to get so much attention! Thank you all so much for your kind words and encouragement! I posted this with the intent to let people know that kids from low-income families will be fed, at least in many places that are closing schools, ...   \n",
       "\n",
       "                                                                                                                                                                                                                                                                                                                                                                                                                                                                                                                                                                                                                                                                                                                                                                                                                                                                                                                                                                                                                               selftext_clean  \n",
       "1751                                                                                                                                                                                                                                                                                                                                                                                                                                                                                                                                                       live stream people home getting touch instrument walking dog etc people actually seemed hanging even playing heart go blowing spitfire ball balcony get people mad concerned cut hour plain laid everyone mean basic surviving alive make yearn society everyone happy pre coronavirus realized lot u work butt little reward edit hey thanks award guy edit 2 get thing stressful hand pandemic made realize people would lot happier achieved financial independence virus aside  \n",
       "1752  first wa mad would still work everyone else get two paid week explained reason food service worker still expected report work lot kid district qualify free school lunch lot kid food get school may meal get week keep feeding kid deserve eat also eating immune system take hit could risk covid 19 even though would love two week rest feel proud lunch lady feeding kid need edit wow wow wow really expect post get much attention thank much kind word encouragement posted intent let people know kid low income family fed least many place closing school know topic concern lot people certainly expect called hero little overwhelming sure deserve title job love student every day see kid come know name little kid hard day come tear eye light see favorite lunch served given many high five kid let know tried new food yesterday liked tied many little sneaker shoelace originally job wa stepping stone job make money fell hard time fell parent left home bad term lost previous job suddenly worst dropped...  "
      ]
     },
     "execution_count": 62,
     "metadata": {},
     "output_type": "execute_result"
    }
   ],
   "source": [
    "# checking selftext_clean\n",
    "pd.set_option(\"display.max_colwidth\", 1000)\n",
    "combined_data[[\"selftext\",\"selftext_clean\"]].tail(2)"
   ]
  },
  {
   "cell_type": "code",
   "execution_count": 63,
   "metadata": {
    "colab": {},
    "colab_type": "code",
    "id": "CSfsip9ayvzj",
    "outputId": "f902ae4e-1ec7-4db3-d166-65c8ebb3c9e6"
   },
   "outputs": [
    {
     "name": "stdout",
     "output_type": "stream",
     "text": [
      "{'SQLwitch': 'SQL witch', 'circinia': 'c irc in i a', 'TheNewKiller69': 'The New Killer 69', 'Jazzlecrab': 'Jazz le crab', 'Depressed_Kid786': 'Depressed Kid 786', 'angelshum10': 'angels hum 10', 'DaRkNeSSReDCrusader': 'DaRkNeSS ReD Crusader', 'InsertANameHeree': 'Insert A Name Here e', 'chroms-leather-belt': 'ch roms leather belt', 'deppressionthrowaway': 'dep press ion throwaway'}\n"
     ]
    }
   ],
   "source": [
    "# testing wordninja\n",
    "author_test = []\n",
    "for i in range(10):\n",
    "    splits_list = wordninja.split(combined_data[\"author\"][i])\n",
    "    combined_string = \" \".join(splits_list)\n",
    "    author_test.append(combined_string)\n",
    "test_dict = {combined_data[\"author\"][i]:author_test[i] for i in range(10)}\n",
    "print(test_dict)"
   ]
  },
  {
   "cell_type": "code",
   "execution_count": 64,
   "metadata": {
    "colab": {},
    "colab_type": "code",
    "id": "zs7WtREMyvzm"
   },
   "outputs": [],
   "source": [
    "# lets also clean the author names\n",
    "def processing_author_names(series_to_process):\n",
    "    author_split = []\n",
    "    for i in range(len(series_to_process)):\n",
    "        splits_list = wordninja.split(series_to_process[i])\n",
    "        combined_string = \" \".join(splits_list)\n",
    "        author_split.append(combined_string)\n",
    "    new_list = []\n",
    "    tokenizer = RegexpTokenizer(r'(\\w+)')\n",
    "    lemmatizer = WordNetLemmatizer()\n",
    "    for i in range(len(author_split)):\n",
    "        #TOKENISED ITEM(LONG STRING) IN A LIST\n",
    "        dirty_string = (author_split)[i].lower()\n",
    "        words_only = tokenizer.tokenize(dirty_string) #WORDS_ONLY IS A LIST THAT DOESN'T HAVE PUNCTUATION\n",
    "        #LEMMATISE THE ITEMS IN WORDS_ONLY\n",
    "        words_only_lem = [lemmatizer.lemmatize(i) for i in words_only]\n",
    "        #REMOVING STOP WORDS FROM THE LEMMATIZED LIST\n",
    "        words_without_stop = [i for i in words_only_lem if i not in stopwords.words(\"english\")]\n",
    "        #RETURN SEPERATED WORDS INTO LONG STRING\n",
    "        long_string_clean = \" \".join(word for word in words_without_stop)\n",
    "        new_list.append(long_string_clean)\n",
    "    return new_list"
   ]
  },
  {
   "cell_type": "code",
   "execution_count": 65,
   "metadata": {
    "colab": {},
    "colab_type": "code",
    "id": "yb2wIb-xyvzq",
    "outputId": "0361f4d3-c6cc-4a8f-c574-27cf5b13d7ea"
   },
   "outputs": [
    {
     "data": {
      "text/html": [
       "<div>\n",
       "<style scoped>\n",
       "    .dataframe tbody tr th:only-of-type {\n",
       "        vertical-align: middle;\n",
       "    }\n",
       "\n",
       "    .dataframe tbody tr th {\n",
       "        vertical-align: top;\n",
       "    }\n",
       "\n",
       "    .dataframe thead th {\n",
       "        text-align: right;\n",
       "    }\n",
       "</style>\n",
       "<table border=\"1\" class=\"dataframe\">\n",
       "  <thead>\n",
       "    <tr style=\"text-align: right;\">\n",
       "      <th></th>\n",
       "      <th>author</th>\n",
       "      <th>author_clean</th>\n",
       "    </tr>\n",
       "  </thead>\n",
       "  <tbody>\n",
       "    <tr>\n",
       "      <th>1743</th>\n",
       "      <td>jaycub84</td>\n",
       "      <td>jay cub 84</td>\n",
       "    </tr>\n",
       "    <tr>\n",
       "      <th>1744</th>\n",
       "      <td>mirarom</td>\n",
       "      <td>mira rom</td>\n",
       "    </tr>\n",
       "    <tr>\n",
       "      <th>1745</th>\n",
       "      <td>SilyTheGoose</td>\n",
       "      <td>sil goose</td>\n",
       "    </tr>\n",
       "    <tr>\n",
       "      <th>1746</th>\n",
       "      <td>flawmyy</td>\n",
       "      <td>flaw</td>\n",
       "    </tr>\n",
       "    <tr>\n",
       "      <th>1747</th>\n",
       "      <td>mayoeater</td>\n",
       "      <td>mayo eater</td>\n",
       "    </tr>\n",
       "    <tr>\n",
       "      <th>1748</th>\n",
       "      <td>Childish_Brandino</td>\n",
       "      <td>childish brandi</td>\n",
       "    </tr>\n",
       "    <tr>\n",
       "      <th>1749</th>\n",
       "      <td>SedativeCorpse</td>\n",
       "      <td>sedative corpse</td>\n",
       "    </tr>\n",
       "    <tr>\n",
       "      <th>1750</th>\n",
       "      <td>retirereddit</td>\n",
       "      <td>retire reddit</td>\n",
       "    </tr>\n",
       "    <tr>\n",
       "      <th>1751</th>\n",
       "      <td>ghost_sanctum</td>\n",
       "      <td>ghost sanctum</td>\n",
       "    </tr>\n",
       "    <tr>\n",
       "      <th>1752</th>\n",
       "      <td>befuddledghostie</td>\n",
       "      <td>befuddled ghost ie</td>\n",
       "    </tr>\n",
       "  </tbody>\n",
       "</table>\n",
       "</div>"
      ],
      "text/plain": [
       "                 author        author_clean\n",
       "1743           jaycub84          jay cub 84\n",
       "1744            mirarom            mira rom\n",
       "1745       SilyTheGoose           sil goose\n",
       "1746            flawmyy                flaw\n",
       "1747          mayoeater          mayo eater\n",
       "1748  Childish_Brandino     childish brandi\n",
       "1749     SedativeCorpse     sedative corpse\n",
       "1750       retirereddit       retire reddit\n",
       "1751      ghost_sanctum       ghost sanctum\n",
       "1752   befuddledghostie  befuddled ghost ie"
      ]
     },
     "execution_count": 65,
     "metadata": {},
     "output_type": "execute_result"
    }
   ],
   "source": [
    "combined_data[\"author_clean\"]= processing_author_names(combined_data[\"author\"])\n",
    "\n",
    "# checking author_clean\n",
    "pd.set_option(\"display.max_colwidth\", 100)\n",
    "combined_data[[\"author\",\"author_clean\"]].tail(10)"
   ]
  },
  {
   "cell_type": "markdown",
   "metadata": {
    "colab_type": "text",
    "id": "E0t-ih_Oyvzs"
   },
   "source": [
    "so it doesn't work that well, but it isn't too big a deal because the author names don't matter as much, as long as it is simplified it is working well."
   ]
  },
  {
   "cell_type": "code",
   "execution_count": 66,
   "metadata": {
    "colab": {},
    "colab_type": "code",
    "id": "7InX6K6Xyvzs",
    "outputId": "2570c53b-9e11-4670-d493-f68de86934fd"
   },
   "outputs": [
    {
     "data": {
      "text/plain": [
       "title             0\n",
       "selftext          0\n",
       "author            0\n",
       "num_comments      0\n",
       "is_suicide        0\n",
       "url               0\n",
       "selftext_clean    0\n",
       "title_clean       0\n",
       "author_clean      0\n",
       "dtype: int64"
      ]
     },
     "execution_count": 66,
     "metadata": {},
     "output_type": "execute_result"
    }
   ],
   "source": [
    "# Making sure there is no new missing values added\n",
    "combined_data.isnull().sum()"
   ]
  },
  {
   "cell_type": "code",
   "execution_count": 67,
   "metadata": {},
   "outputs": [],
   "source": [
    "combined_data.to_csv('../data/depression_vs_nothing.csv', index = False)"
   ]
  },
  {
   "cell_type": "markdown",
   "metadata": {
    "colab_type": "text",
    "id": "27KqjCutyvzv"
   },
   "source": [
    "### Data Preprocessing Complete\n",
    "This was a relatively simple process because we only have a few attributes to adjust. We have 3 attributes to train our model on now."
   ]
  },
  {
   "cell_type": "markdown",
   "metadata": {
    "colab_type": "text",
    "id": "f-jqiPEmyvzw"
   },
   "source": [
    "# EDA\n",
    "For EDA, let's just go through a few things to better understand the dataset so we can properly build our classifier"
   ]
  },
  {
   "cell_type": "code",
   "execution_count": null,
   "metadata": {
    "colab": {},
    "colab_type": "code",
    "id": "Xs-qHH6Oyvzw"
   },
   "outputs": [],
   "source": [
    "# masking for visualization\n",
    "suicide_posts = combined_data[combined_data[\"is_suicide\"] ==1][\"selftext_clean\"]\n",
    "suicide_titles = combined_data[combined_data[\"is_suicide\"] ==1][\"title_clean\"]\n",
    "suicide_authors = combined_data[combined_data[\"is_suicide\"] ==1][\"author_clean\"]\n",
    "\n",
    "depression_posts = combined_data[combined_data[\"is_suicide\"] ==0][\"selftext_clean\"]\n",
    "depression_titles = combined_data[combined_data[\"is_suicide\"] ==0][\"title_clean\"]\n",
    "depression_authors = combined_data[combined_data[\"is_suicide\"] ==0][\"author_clean\"]"
   ]
  },
  {
   "cell_type": "markdown",
   "metadata": {
    "colab_type": "text",
    "id": "35geWpKpyvzy"
   },
   "source": [
    "Let's look at the top words used"
   ]
  },
  {
   "cell_type": "code",
   "execution_count": null,
   "metadata": {
    "colab": {},
    "colab_type": "code",
    "id": "1wqOVHr8yvzz"
   },
   "outputs": [],
   "source": [
    "# function for visualization\n",
    "def plot_most_used_words(category_string, data_series, palette, image_mask):\n",
    "    #CHECKING OUT COMMON WORDS IN r/SuicideWatch USING CVEC\n",
    "    cvec = CountVectorizer(stop_words='english')\n",
    "    cvec.fit(data_series)\n",
    "    #CREATING A DATAFRAME OF EXTRACTED WORDS\n",
    "    created_df = pd.DataFrame(cvec.transform(data_series).todense(),\n",
    "                              columns=cvec.get_feature_names())\n",
    "    total_words = created_df.sum(axis=0)\n",
    "    \n",
    "    #<<<BARPLOT>>>\n",
    "    #CREATING A FINAL DATAFRAME OF THE TOP 20 WORDS\n",
    "    top_20_words = total_words.sort_values(ascending = False).head(20)\n",
    "    top_20_words_df = pd.DataFrame(top_20_words, columns = [\"count\"])\n",
    "    #PLOTTING THE COUNT OF THE TOP 20 WORDS\n",
    "    sns.set_style(\"white\")\n",
    "    plt.figure(figsize = (15, 8), dpi=300)\n",
    "    ax = sns.barplot(y= top_20_words_df.index, x=\"count\", data=top_20_words_df, palette = palette)\n",
    "    \n",
    "    plt.xlabel(\"Count\", fontsize=9)\n",
    "    plt.ylabel('Common Words in {}'.format(category_string), fontsize=9)\n",
    "    plt.yticks(rotation=-5)"
   ]
  },
  {
   "cell_type": "code",
   "execution_count": null,
   "metadata": {
    "colab": {},
    "colab_type": "code",
    "id": "Ka3jaKiIyvz1",
    "outputId": "e20719ac-7c59-4309-8407-ef89a96b3e77"
   },
   "outputs": [],
   "source": [
    "plot_most_used_words(\"r/depression Posts\", depression_posts, palette=\"ocean_r\", image_mask=\"../assets/depression_mask.png\")"
   ]
  },
  {
   "cell_type": "code",
   "execution_count": null,
   "metadata": {
    "colab": {},
    "colab_type": "code",
    "id": "IOzmmyDEyvz3",
    "outputId": "662f08ec-4d0d-4a44-a91a-f47c562f4c39"
   },
   "outputs": [],
   "source": [
    "plot_most_used_words(\"r/SuicideWatch Posts\", suicide_posts, palette=\"magma\", image_mask=\"../assets/suicide_mask.png\")"
   ]
  },
  {
   "cell_type": "markdown",
   "metadata": {
    "colab_type": "text",
    "id": "4l-RydWJyvz5"
   },
   "source": [
    "This shows a clear problem for classification. The top words in post datasets are very similar, which could make the job of the classifier much harder, especially considering that it is not just binary classification.\n",
    "\n",
    "Maybe using titles will be a better approach."
   ]
  },
  {
   "cell_type": "markdown",
   "metadata": {
    "colab_type": "text",
    "id": "jJAMx5QLyvz6"
   },
   "source": [
    "Lets see which users post a lot and more often in both subreddits to help our classifier"
   ]
  },
  {
   "cell_type": "code",
   "execution_count": null,
   "metadata": {
    "colab": {},
    "colab_type": "code",
    "id": "uIS68b60yvz6",
    "outputId": "781ac80d-0bf2-4f87-cd61-2ebd51a23548"
   },
   "outputs": [],
   "source": [
    "# looking at top authors\n",
    "combined_data[\"author\"].value_counts().head(20)"
   ]
  },
  {
   "cell_type": "code",
   "execution_count": null,
   "metadata": {
    "colab": {},
    "colab_type": "code",
    "id": "CT7cA-cwyvz8",
    "outputId": "d988293b-0411-4378-9c04-ff79a10003a4"
   },
   "outputs": [],
   "source": [
    "#isolating authors who posted more than once\n",
    "df_author_counts=(pd.DataFrame(combined_data[\"author\"].value_counts()))\n",
    "df_author_counts.reset_index(level=0, inplace=True)\n",
    "authors_posting_more_than_once = list(df_author_counts[df_author_counts[\"author\"]>1][\"index\"])\n",
    "authors_posting_more_than_once"
   ]
  },
  {
   "cell_type": "code",
   "execution_count": null,
   "metadata": {
    "colab": {},
    "colab_type": "code",
    "id": "CNd26wzHyv0B",
    "outputId": "41e22999-0a96-4221-b856-48655d9d7641"
   },
   "outputs": [],
   "source": [
    "# fish out authors who posted in both subreddits\n",
    "pd.set_option(\"display.max_colwidth\", 100)\n",
    "#creating dataframe of mean values of is_suicide\n",
    "more_than_once_mean_df = combined_data[combined_data[\"author\"].isin(authors_posting_more_than_once)].groupby(\"author\").mean()\n",
    "more_than_once_mean_df.reset_index(level=0, inplace=True)\n",
    "# isolating authors of both reddits\n",
    "double_posters_mask_0 = ((more_than_once_mean_df[\"is_suicide\"]) !=0) \n",
    "double_posters_mask_1 = ((more_than_once_mean_df[\"is_suicide\"]) !=1.0) \n",
    "# totalling the double posters\n",
    "double_posters = more_than_once_mean_df[double_posters_mask_0][double_posters_mask_1].sort_values(\"num_comments\", ascending=False)\n",
    "print(len(double_posters))\n",
    "# creating list\n",
    "top_double_posters_list= list(double_posters[\"author\"].head(7))\n",
    "top_double_posters_list"
   ]
  },
  {
   "cell_type": "markdown",
   "metadata": {
    "colab_type": "text",
    "id": "Tjs9XiCRyv0I"
   },
   "source": [
    "Now we will plot length of posts"
   ]
  },
  {
   "cell_type": "code",
   "execution_count": null,
   "metadata": {
    "colab": {},
    "colab_type": "code",
    "id": "JdfbroIqyv0K"
   },
   "outputs": [],
   "source": [
    "combined_data[\"selftext_length\"]= [len(combined_data[\"selftext\"][i]) for i in range(len(combined_data))]"
   ]
  },
  {
   "cell_type": "code",
   "execution_count": null,
   "metadata": {
    "colab": {},
    "colab_type": "code",
    "id": "9NmJ4xGqyv0N"
   },
   "outputs": [],
   "source": [
    "combined_data[\"title_length\"]= [len(combined_data[\"title\"][i]) for i in range(len(combined_data))]"
   ]
  },
  {
   "cell_type": "code",
   "execution_count": null,
   "metadata": {
    "colab": {},
    "colab_type": "code",
    "id": "4i11nv0_yv0P",
    "outputId": "535df604-64d8-438f-fd71-0bccd2f9487d"
   },
   "outputs": [],
   "source": [
    "ave_length_dep_title = combined_data[\"title_length\"][combined_data[\"is_suicide\"] ==0].mean()\n",
    "ave_length_sui_title = combined_data[\"title_length\"][combined_data[\"is_suicide\"] ==1].mean()\n",
    "ave_length_dep_post = combined_data[\"selftext_length\"][combined_data[\"is_suicide\"] ==0].mean()\n",
    "ave_length_sui_post = combined_data[\"selftext_length\"][combined_data[\"is_suicide\"] ==1].mean()\n",
    "\n",
    "print(\"Average length of a r/depression title: {}\".format(ave_length_dep_title))\n",
    "print(\"Average length of a r/SuicideWatch title: {}\".format(ave_length_sui_title))\n",
    "print(\"Average length of a r/depression post: {}\".format(ave_length_dep_post))\n",
    "print(\"Average length of a r/SuicideWatch post: {}\".format(ave_length_sui_post))"
   ]
  },
  {
   "cell_type": "code",
   "execution_count": null,
   "metadata": {
    "colab": {},
    "colab_type": "code",
    "id": "SYEFxcrWyv0R"
   },
   "outputs": [],
   "source": [
    "# visualizing data with scatter plot\n",
    "sns.set_style(\"white\")\n",
    "plt.figure(figsize = (18, 12))\n",
    "sns.scatterplot(data =combined_data,\n",
    "               y = \"selftext_length\", \n",
    "               x = \"author\",\n",
    "               hue = 'is_suicide', \n",
    "               palette = \"magma_r\",\n",
    "               size = 'selftext_length',\n",
    "               sizes=(20, 150));\n",
    "plt.title(\"Length of Posts\");\n",
    "plt.xlabel(\"Authors\");\n",
    "plt.ylabel(\"Number of words\");\n",
    "plt.xticks(rotation=65);"
   ]
  },
  {
   "cell_type": "markdown",
   "metadata": {
    "colab_type": "text",
    "id": "uBltiMZUyv0X"
   },
   "source": [
    "We can see that the lengths of posts cluster around the bottom, which is close to 1000 words. This shows the grief of the users because most reddit posts are much shorter. Some are even 20k+, which could be good for the classifier."
   ]
  },
  {
   "cell_type": "code",
   "execution_count": null,
   "metadata": {
    "colab": {},
    "colab_type": "code",
    "id": "uOvNxELWyv0X"
   },
   "outputs": [],
   "source": [
    "SAVING combined_data\n",
    "combined_data.to_csv('../data/data_for_model.csv', index = False)"
   ]
  },
  {
   "cell_type": "code",
   "execution_count": null,
   "metadata": {},
   "outputs": [],
   "source": []
  }
 ],
 "metadata": {
  "colab": {
   "include_colab_link": true,
   "name": "data_processing.ipynb",
   "provenance": [],
   "toc_visible": true
  },
  "kernelspec": {
   "display_name": "Python 3",
   "language": "python",
   "name": "python3"
  },
  "language_info": {
   "codemirror_mode": {
    "name": "ipython",
    "version": 3
   },
   "file_extension": ".py",
   "mimetype": "text/x-python",
   "name": "python",
   "nbconvert_exporter": "python",
   "pygments_lexer": "ipython3",
   "version": "3.7.6"
  }
 },
 "nbformat": 4,
 "nbformat_minor": 1
}
