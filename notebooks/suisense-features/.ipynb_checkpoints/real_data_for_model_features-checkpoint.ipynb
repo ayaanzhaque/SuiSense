{
 "cells": [
  {
   "cell_type": "code",
   "execution_count": null,
   "metadata": {},
   "outputs": [],
   "source": [
    "import pandas as pd\n",
    "\n",
    "one = pd.read_csv('real_data_for_model_features_1.csv')\n",
    "two = pd.read_csv('real_data_for_model_features_2.csv')\n",
    "three = pd.read_csv('real_data_for_model_features_3.csv')\n",
    "four = pd.read_csv('real_data_for_model_features_4.csv')\n",
    "five = pd.read_csv('real_data_for_model_features_5.csv')\n",
    "six = pd.read_csv('real_data_for_model_features_6.csv')\n",
    "seven = pd.read_csv('real_data_for_model_features_7.csv')\n",
    "eight = pd.read_csv('real_data_for_model_features_8.csv')\n",
    "nine = pd.read_csv('real_data_for_model_features_9.csv')"
   ]
  },
  {
   "cell_type": "code",
   "execution_count": null,
   "metadata": {},
   "outputs": [],
   "source": [
    "concatenated = pandas.concat([df1, df2])"
   ]
  }
 ],
 "metadata": {
  "kernelspec": {
   "display_name": "Python 3",
   "language": "python",
   "name": "python3"
  },
  "language_info": {
   "codemirror_mode": {
    "name": "ipython",
    "version": 3
   },
   "file_extension": ".py",
   "mimetype": "text/x-python",
   "name": "python",
   "nbconvert_exporter": "python",
   "pygments_lexer": "ipython3",
   "version": "3.8.3"
  }
 },
 "nbformat": 4,
 "nbformat_minor": 4
}
