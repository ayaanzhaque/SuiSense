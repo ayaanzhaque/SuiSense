{
  "nbformat": 4,
  "nbformat_minor": 0,
  "metadata": {
    "accelerator": "TPU",
    "colab": {
      "name": "workingBertModel.ipynb",
      "provenance": [],
      "toc_visible": true,
      "include_colab_link": true
    },
    "kernelspec": {
      "display_name": "Python 3",
      "language": "python",
      "name": "python3"
    },
    "language_info": {
      "codemirror_mode": {
        "name": "ipython",
        "version": 3
      },
      "file_extension": ".py",
      "mimetype": "text/x-python",
      "name": "python",
      "nbconvert_exporter": "python",
      "pygments_lexer": "ipython3",
      "version": "3.7.6"
    },
    "widgets": {
      "application/vnd.jupyter.widget-state+json": {
        "d3421ff6980342b78fbee172dfdb08a3": {
          "model_module": "@jupyter-widgets/controls",
          "model_name": "HBoxModel",
          "state": {
            "_view_name": "HBoxView",
            "_dom_classes": [],
            "_model_name": "HBoxModel",
            "_view_module": "@jupyter-widgets/controls",
            "_model_module_version": "1.5.0",
            "_view_count": null,
            "_view_module_version": "1.5.0",
            "box_style": "",
            "layout": "IPY_MODEL_c0164ab406ba42a582430361e504602c",
            "_model_module": "@jupyter-widgets/controls",
            "children": [
              "IPY_MODEL_ff4ba3ae49a544f4bb50ddca229a500a",
              "IPY_MODEL_023bc481c1df4147a514484722dd00e0"
            ]
          }
        },
        "c0164ab406ba42a582430361e504602c": {
          "model_module": "@jupyter-widgets/base",
          "model_name": "LayoutModel",
          "state": {
            "_view_name": "LayoutView",
            "grid_template_rows": null,
            "right": null,
            "justify_content": null,
            "_view_module": "@jupyter-widgets/base",
            "overflow": null,
            "_model_module_version": "1.2.0",
            "_view_count": null,
            "flex_flow": null,
            "width": null,
            "min_width": null,
            "border": null,
            "align_items": null,
            "bottom": null,
            "_model_module": "@jupyter-widgets/base",
            "top": null,
            "grid_column": null,
            "overflow_y": null,
            "overflow_x": null,
            "grid_auto_flow": null,
            "grid_area": null,
            "grid_template_columns": null,
            "flex": null,
            "_model_name": "LayoutModel",
            "justify_items": null,
            "grid_row": null,
            "max_height": null,
            "align_content": null,
            "visibility": null,
            "align_self": null,
            "height": null,
            "min_height": null,
            "padding": null,
            "grid_auto_rows": null,
            "grid_gap": null,
            "max_width": null,
            "order": null,
            "_view_module_version": "1.2.0",
            "grid_template_areas": null,
            "object_position": null,
            "object_fit": null,
            "grid_auto_columns": null,
            "margin": null,
            "display": null,
            "left": null
          }
        },
        "ff4ba3ae49a544f4bb50ddca229a500a": {
          "model_module": "@jupyter-widgets/controls",
          "model_name": "FloatProgressModel",
          "state": {
            "_view_name": "ProgressView",
            "style": "IPY_MODEL_93a54113f9d54709951adb3ba1f576f4",
            "_dom_classes": [],
            "description": "Downloading: 100%",
            "_model_name": "FloatProgressModel",
            "bar_style": "success",
            "max": 231508,
            "_view_module": "@jupyter-widgets/controls",
            "_model_module_version": "1.5.0",
            "value": 231508,
            "_view_count": null,
            "_view_module_version": "1.5.0",
            "orientation": "horizontal",
            "min": 0,
            "description_tooltip": null,
            "_model_module": "@jupyter-widgets/controls",
            "layout": "IPY_MODEL_ea02565e67194b7da858b4851627552d"
          }
        },
        "023bc481c1df4147a514484722dd00e0": {
          "model_module": "@jupyter-widgets/controls",
          "model_name": "HTMLModel",
          "state": {
            "_view_name": "HTMLView",
            "style": "IPY_MODEL_063a46fc2a54470e97041efbae00471a",
            "_dom_classes": [],
            "description": "",
            "_model_name": "HTMLModel",
            "placeholder": "​",
            "_view_module": "@jupyter-widgets/controls",
            "_model_module_version": "1.5.0",
            "value": " 232k/232k [00:00&lt;00:00, 1.84MB/s]",
            "_view_count": null,
            "_view_module_version": "1.5.0",
            "description_tooltip": null,
            "_model_module": "@jupyter-widgets/controls",
            "layout": "IPY_MODEL_c68d858f9ebb43cc97c30cc2a33c783d"
          }
        },
        "93a54113f9d54709951adb3ba1f576f4": {
          "model_module": "@jupyter-widgets/controls",
          "model_name": "ProgressStyleModel",
          "state": {
            "_view_name": "StyleView",
            "_model_name": "ProgressStyleModel",
            "description_width": "initial",
            "_view_module": "@jupyter-widgets/base",
            "_model_module_version": "1.5.0",
            "_view_count": null,
            "_view_module_version": "1.2.0",
            "bar_color": null,
            "_model_module": "@jupyter-widgets/controls"
          }
        },
        "ea02565e67194b7da858b4851627552d": {
          "model_module": "@jupyter-widgets/base",
          "model_name": "LayoutModel",
          "state": {
            "_view_name": "LayoutView",
            "grid_template_rows": null,
            "right": null,
            "justify_content": null,
            "_view_module": "@jupyter-widgets/base",
            "overflow": null,
            "_model_module_version": "1.2.0",
            "_view_count": null,
            "flex_flow": null,
            "width": null,
            "min_width": null,
            "border": null,
            "align_items": null,
            "bottom": null,
            "_model_module": "@jupyter-widgets/base",
            "top": null,
            "grid_column": null,
            "overflow_y": null,
            "overflow_x": null,
            "grid_auto_flow": null,
            "grid_area": null,
            "grid_template_columns": null,
            "flex": null,
            "_model_name": "LayoutModel",
            "justify_items": null,
            "grid_row": null,
            "max_height": null,
            "align_content": null,
            "visibility": null,
            "align_self": null,
            "height": null,
            "min_height": null,
            "padding": null,
            "grid_auto_rows": null,
            "grid_gap": null,
            "max_width": null,
            "order": null,
            "_view_module_version": "1.2.0",
            "grid_template_areas": null,
            "object_position": null,
            "object_fit": null,
            "grid_auto_columns": null,
            "margin": null,
            "display": null,
            "left": null
          }
        },
        "063a46fc2a54470e97041efbae00471a": {
          "model_module": "@jupyter-widgets/controls",
          "model_name": "DescriptionStyleModel",
          "state": {
            "_view_name": "StyleView",
            "_model_name": "DescriptionStyleModel",
            "description_width": "",
            "_view_module": "@jupyter-widgets/base",
            "_model_module_version": "1.5.0",
            "_view_count": null,
            "_view_module_version": "1.2.0",
            "_model_module": "@jupyter-widgets/controls"
          }
        },
        "c68d858f9ebb43cc97c30cc2a33c783d": {
          "model_module": "@jupyter-widgets/base",
          "model_name": "LayoutModel",
          "state": {
            "_view_name": "LayoutView",
            "grid_template_rows": null,
            "right": null,
            "justify_content": null,
            "_view_module": "@jupyter-widgets/base",
            "overflow": null,
            "_model_module_version": "1.2.0",
            "_view_count": null,
            "flex_flow": null,
            "width": null,
            "min_width": null,
            "border": null,
            "align_items": null,
            "bottom": null,
            "_model_module": "@jupyter-widgets/base",
            "top": null,
            "grid_column": null,
            "overflow_y": null,
            "overflow_x": null,
            "grid_auto_flow": null,
            "grid_area": null,
            "grid_template_columns": null,
            "flex": null,
            "_model_name": "LayoutModel",
            "justify_items": null,
            "grid_row": null,
            "max_height": null,
            "align_content": null,
            "visibility": null,
            "align_self": null,
            "height": null,
            "min_height": null,
            "padding": null,
            "grid_auto_rows": null,
            "grid_gap": null,
            "max_width": null,
            "order": null,
            "_view_module_version": "1.2.0",
            "grid_template_areas": null,
            "object_position": null,
            "object_fit": null,
            "grid_auto_columns": null,
            "margin": null,
            "display": null,
            "left": null
          }
        },
        "477deb0eb9384ec7b162aa8772e90f13": {
          "model_module": "@jupyter-widgets/controls",
          "model_name": "HBoxModel",
          "state": {
            "_view_name": "HBoxView",
            "_dom_classes": [],
            "_model_name": "HBoxModel",
            "_view_module": "@jupyter-widgets/controls",
            "_model_module_version": "1.5.0",
            "_view_count": null,
            "_view_module_version": "1.5.0",
            "box_style": "",
            "layout": "IPY_MODEL_e475b4cec5b644cb8d1f96f85f57c526",
            "_model_module": "@jupyter-widgets/controls",
            "children": [
              "IPY_MODEL_517736e80b3b47db8081635a78a89ec8",
              "IPY_MODEL_3f56e716fab54b10bd9770aed9fac9c6"
            ]
          }
        },
        "e475b4cec5b644cb8d1f96f85f57c526": {
          "model_module": "@jupyter-widgets/base",
          "model_name": "LayoutModel",
          "state": {
            "_view_name": "LayoutView",
            "grid_template_rows": null,
            "right": null,
            "justify_content": null,
            "_view_module": "@jupyter-widgets/base",
            "overflow": null,
            "_model_module_version": "1.2.0",
            "_view_count": null,
            "flex_flow": null,
            "width": null,
            "min_width": null,
            "border": null,
            "align_items": null,
            "bottom": null,
            "_model_module": "@jupyter-widgets/base",
            "top": null,
            "grid_column": null,
            "overflow_y": null,
            "overflow_x": null,
            "grid_auto_flow": null,
            "grid_area": null,
            "grid_template_columns": null,
            "flex": null,
            "_model_name": "LayoutModel",
            "justify_items": null,
            "grid_row": null,
            "max_height": null,
            "align_content": null,
            "visibility": null,
            "align_self": null,
            "height": null,
            "min_height": null,
            "padding": null,
            "grid_auto_rows": null,
            "grid_gap": null,
            "max_width": null,
            "order": null,
            "_view_module_version": "1.2.0",
            "grid_template_areas": null,
            "object_position": null,
            "object_fit": null,
            "grid_auto_columns": null,
            "margin": null,
            "display": null,
            "left": null
          }
        },
        "517736e80b3b47db8081635a78a89ec8": {
          "model_module": "@jupyter-widgets/controls",
          "model_name": "FloatProgressModel",
          "state": {
            "_view_name": "ProgressView",
            "style": "IPY_MODEL_29918a422fa84621bcd7234dd7d9313e",
            "_dom_classes": [],
            "description": "Downloading: 100%",
            "_model_name": "FloatProgressModel",
            "bar_style": "success",
            "max": 433,
            "_view_module": "@jupyter-widgets/controls",
            "_model_module_version": "1.5.0",
            "value": 433,
            "_view_count": null,
            "_view_module_version": "1.5.0",
            "orientation": "horizontal",
            "min": 0,
            "description_tooltip": null,
            "_model_module": "@jupyter-widgets/controls",
            "layout": "IPY_MODEL_7831315977194ce19d2e2619a5dc813e"
          }
        },
        "3f56e716fab54b10bd9770aed9fac9c6": {
          "model_module": "@jupyter-widgets/controls",
          "model_name": "HTMLModel",
          "state": {
            "_view_name": "HTMLView",
            "style": "IPY_MODEL_ece0a355015c42789564fa34a2c0d4b4",
            "_dom_classes": [],
            "description": "",
            "_model_name": "HTMLModel",
            "placeholder": "​",
            "_view_module": "@jupyter-widgets/controls",
            "_model_module_version": "1.5.0",
            "value": " 433/433 [00:10&lt;00:00, 42.4B/s]",
            "_view_count": null,
            "_view_module_version": "1.5.0",
            "description_tooltip": null,
            "_model_module": "@jupyter-widgets/controls",
            "layout": "IPY_MODEL_c75b3f7c986c4d7faa967e440427d87d"
          }
        },
        "29918a422fa84621bcd7234dd7d9313e": {
          "model_module": "@jupyter-widgets/controls",
          "model_name": "ProgressStyleModel",
          "state": {
            "_view_name": "StyleView",
            "_model_name": "ProgressStyleModel",
            "description_width": "initial",
            "_view_module": "@jupyter-widgets/base",
            "_model_module_version": "1.5.0",
            "_view_count": null,
            "_view_module_version": "1.2.0",
            "bar_color": null,
            "_model_module": "@jupyter-widgets/controls"
          }
        },
        "7831315977194ce19d2e2619a5dc813e": {
          "model_module": "@jupyter-widgets/base",
          "model_name": "LayoutModel",
          "state": {
            "_view_name": "LayoutView",
            "grid_template_rows": null,
            "right": null,
            "justify_content": null,
            "_view_module": "@jupyter-widgets/base",
            "overflow": null,
            "_model_module_version": "1.2.0",
            "_view_count": null,
            "flex_flow": null,
            "width": null,
            "min_width": null,
            "border": null,
            "align_items": null,
            "bottom": null,
            "_model_module": "@jupyter-widgets/base",
            "top": null,
            "grid_column": null,
            "overflow_y": null,
            "overflow_x": null,
            "grid_auto_flow": null,
            "grid_area": null,
            "grid_template_columns": null,
            "flex": null,
            "_model_name": "LayoutModel",
            "justify_items": null,
            "grid_row": null,
            "max_height": null,
            "align_content": null,
            "visibility": null,
            "align_self": null,
            "height": null,
            "min_height": null,
            "padding": null,
            "grid_auto_rows": null,
            "grid_gap": null,
            "max_width": null,
            "order": null,
            "_view_module_version": "1.2.0",
            "grid_template_areas": null,
            "object_position": null,
            "object_fit": null,
            "grid_auto_columns": null,
            "margin": null,
            "display": null,
            "left": null
          }
        },
        "ece0a355015c42789564fa34a2c0d4b4": {
          "model_module": "@jupyter-widgets/controls",
          "model_name": "DescriptionStyleModel",
          "state": {
            "_view_name": "StyleView",
            "_model_name": "DescriptionStyleModel",
            "description_width": "",
            "_view_module": "@jupyter-widgets/base",
            "_model_module_version": "1.5.0",
            "_view_count": null,
            "_view_module_version": "1.2.0",
            "_model_module": "@jupyter-widgets/controls"
          }
        },
        "c75b3f7c986c4d7faa967e440427d87d": {
          "model_module": "@jupyter-widgets/base",
          "model_name": "LayoutModel",
          "state": {
            "_view_name": "LayoutView",
            "grid_template_rows": null,
            "right": null,
            "justify_content": null,
            "_view_module": "@jupyter-widgets/base",
            "overflow": null,
            "_model_module_version": "1.2.0",
            "_view_count": null,
            "flex_flow": null,
            "width": null,
            "min_width": null,
            "border": null,
            "align_items": null,
            "bottom": null,
            "_model_module": "@jupyter-widgets/base",
            "top": null,
            "grid_column": null,
            "overflow_y": null,
            "overflow_x": null,
            "grid_auto_flow": null,
            "grid_area": null,
            "grid_template_columns": null,
            "flex": null,
            "_model_name": "LayoutModel",
            "justify_items": null,
            "grid_row": null,
            "max_height": null,
            "align_content": null,
            "visibility": null,
            "align_self": null,
            "height": null,
            "min_height": null,
            "padding": null,
            "grid_auto_rows": null,
            "grid_gap": null,
            "max_width": null,
            "order": null,
            "_view_module_version": "1.2.0",
            "grid_template_areas": null,
            "object_position": null,
            "object_fit": null,
            "grid_auto_columns": null,
            "margin": null,
            "display": null,
            "left": null
          }
        },
        "21039bb4ba594319a4d2a4987bb91a85": {
          "model_module": "@jupyter-widgets/controls",
          "model_name": "HBoxModel",
          "state": {
            "_view_name": "HBoxView",
            "_dom_classes": [],
            "_model_name": "HBoxModel",
            "_view_module": "@jupyter-widgets/controls",
            "_model_module_version": "1.5.0",
            "_view_count": null,
            "_view_module_version": "1.5.0",
            "box_style": "",
            "layout": "IPY_MODEL_07c0e946ee7748dba39bd3326e881013",
            "_model_module": "@jupyter-widgets/controls",
            "children": [
              "IPY_MODEL_854872b3f6ba4d28af0934de83bfc309",
              "IPY_MODEL_5304aba495a7499cb6188c71b071d722"
            ]
          }
        },
        "07c0e946ee7748dba39bd3326e881013": {
          "model_module": "@jupyter-widgets/base",
          "model_name": "LayoutModel",
          "state": {
            "_view_name": "LayoutView",
            "grid_template_rows": null,
            "right": null,
            "justify_content": null,
            "_view_module": "@jupyter-widgets/base",
            "overflow": null,
            "_model_module_version": "1.2.0",
            "_view_count": null,
            "flex_flow": null,
            "width": null,
            "min_width": null,
            "border": null,
            "align_items": null,
            "bottom": null,
            "_model_module": "@jupyter-widgets/base",
            "top": null,
            "grid_column": null,
            "overflow_y": null,
            "overflow_x": null,
            "grid_auto_flow": null,
            "grid_area": null,
            "grid_template_columns": null,
            "flex": null,
            "_model_name": "LayoutModel",
            "justify_items": null,
            "grid_row": null,
            "max_height": null,
            "align_content": null,
            "visibility": null,
            "align_self": null,
            "height": null,
            "min_height": null,
            "padding": null,
            "grid_auto_rows": null,
            "grid_gap": null,
            "max_width": null,
            "order": null,
            "_view_module_version": "1.2.0",
            "grid_template_areas": null,
            "object_position": null,
            "object_fit": null,
            "grid_auto_columns": null,
            "margin": null,
            "display": null,
            "left": null
          }
        },
        "854872b3f6ba4d28af0934de83bfc309": {
          "model_module": "@jupyter-widgets/controls",
          "model_name": "FloatProgressModel",
          "state": {
            "_view_name": "ProgressView",
            "style": "IPY_MODEL_3dcdea342a9642d28e2c86990f9f67a6",
            "_dom_classes": [],
            "description": "Downloading: 100%",
            "_model_name": "FloatProgressModel",
            "bar_style": "success",
            "max": 440473133,
            "_view_module": "@jupyter-widgets/controls",
            "_model_module_version": "1.5.0",
            "value": 440473133,
            "_view_count": null,
            "_view_module_version": "1.5.0",
            "orientation": "horizontal",
            "min": 0,
            "description_tooltip": null,
            "_model_module": "@jupyter-widgets/controls",
            "layout": "IPY_MODEL_3028142b4d1d44ff8857106ff5a01a37"
          }
        },
        "5304aba495a7499cb6188c71b071d722": {
          "model_module": "@jupyter-widgets/controls",
          "model_name": "HTMLModel",
          "state": {
            "_view_name": "HTMLView",
            "style": "IPY_MODEL_65f9ff5f82ff471bae490ac10c0770e9",
            "_dom_classes": [],
            "description": "",
            "_model_name": "HTMLModel",
            "placeholder": "​",
            "_view_module": "@jupyter-widgets/controls",
            "_model_module_version": "1.5.0",
            "value": " 440M/440M [00:09&lt;00:00, 44.6MB/s]",
            "_view_count": null,
            "_view_module_version": "1.5.0",
            "description_tooltip": null,
            "_model_module": "@jupyter-widgets/controls",
            "layout": "IPY_MODEL_c28521311e784a3b9a98191e947d3893"
          }
        },
        "3dcdea342a9642d28e2c86990f9f67a6": {
          "model_module": "@jupyter-widgets/controls",
          "model_name": "ProgressStyleModel",
          "state": {
            "_view_name": "StyleView",
            "_model_name": "ProgressStyleModel",
            "description_width": "initial",
            "_view_module": "@jupyter-widgets/base",
            "_model_module_version": "1.5.0",
            "_view_count": null,
            "_view_module_version": "1.2.0",
            "bar_color": null,
            "_model_module": "@jupyter-widgets/controls"
          }
        },
        "3028142b4d1d44ff8857106ff5a01a37": {
          "model_module": "@jupyter-widgets/base",
          "model_name": "LayoutModel",
          "state": {
            "_view_name": "LayoutView",
            "grid_template_rows": null,
            "right": null,
            "justify_content": null,
            "_view_module": "@jupyter-widgets/base",
            "overflow": null,
            "_model_module_version": "1.2.0",
            "_view_count": null,
            "flex_flow": null,
            "width": null,
            "min_width": null,
            "border": null,
            "align_items": null,
            "bottom": null,
            "_model_module": "@jupyter-widgets/base",
            "top": null,
            "grid_column": null,
            "overflow_y": null,
            "overflow_x": null,
            "grid_auto_flow": null,
            "grid_area": null,
            "grid_template_columns": null,
            "flex": null,
            "_model_name": "LayoutModel",
            "justify_items": null,
            "grid_row": null,
            "max_height": null,
            "align_content": null,
            "visibility": null,
            "align_self": null,
            "height": null,
            "min_height": null,
            "padding": null,
            "grid_auto_rows": null,
            "grid_gap": null,
            "max_width": null,
            "order": null,
            "_view_module_version": "1.2.0",
            "grid_template_areas": null,
            "object_position": null,
            "object_fit": null,
            "grid_auto_columns": null,
            "margin": null,
            "display": null,
            "left": null
          }
        },
        "65f9ff5f82ff471bae490ac10c0770e9": {
          "model_module": "@jupyter-widgets/controls",
          "model_name": "DescriptionStyleModel",
          "state": {
            "_view_name": "StyleView",
            "_model_name": "DescriptionStyleModel",
            "description_width": "",
            "_view_module": "@jupyter-widgets/base",
            "_model_module_version": "1.5.0",
            "_view_count": null,
            "_view_module_version": "1.2.0",
            "_model_module": "@jupyter-widgets/controls"
          }
        },
        "c28521311e784a3b9a98191e947d3893": {
          "model_module": "@jupyter-widgets/base",
          "model_name": "LayoutModel",
          "state": {
            "_view_name": "LayoutView",
            "grid_template_rows": null,
            "right": null,
            "justify_content": null,
            "_view_module": "@jupyter-widgets/base",
            "overflow": null,
            "_model_module_version": "1.2.0",
            "_view_count": null,
            "flex_flow": null,
            "width": null,
            "min_width": null,
            "border": null,
            "align_items": null,
            "bottom": null,
            "_model_module": "@jupyter-widgets/base",
            "top": null,
            "grid_column": null,
            "overflow_y": null,
            "overflow_x": null,
            "grid_auto_flow": null,
            "grid_area": null,
            "grid_template_columns": null,
            "flex": null,
            "_model_name": "LayoutModel",
            "justify_items": null,
            "grid_row": null,
            "max_height": null,
            "align_content": null,
            "visibility": null,
            "align_self": null,
            "height": null,
            "min_height": null,
            "padding": null,
            "grid_auto_rows": null,
            "grid_gap": null,
            "max_width": null,
            "order": null,
            "_view_module_version": "1.2.0",
            "grid_template_areas": null,
            "object_position": null,
            "object_fit": null,
            "grid_auto_columns": null,
            "margin": null,
            "display": null,
            "left": null
          }
        }
      }
    }
  },
  "cells": [
    {
      "cell_type": "markdown",
      "metadata": {
        "id": "view-in-github",
        "colab_type": "text"
      },
      "source": [
        "<a href=\"https://colab.research.google.com/github/ayaanzhaque/SuiSense/blob/master/notebooks/BERT/workingBertModel.ipynb\" target=\"_parent\"><img src=\"https://colab.research.google.com/assets/colab-badge.svg\" alt=\"Open In Colab\"/></a>"
      ]
    },
    {
      "cell_type": "code",
      "metadata": {
        "id": "To9ENLU90WGl",
        "outputId": "9aeb4d55-0b16-4611-a76f-3c196a1c98c0",
        "colab": {
          "base_uri": "https://localhost:8080/",
          "height": 615
        }
      },
      "source": [
        "!pip install transformers"
      ],
      "execution_count": 1,
      "outputs": [
        {
          "output_type": "stream",
          "text": [
            "Collecting transformers\n",
            "\u001b[?25l  Downloading https://files.pythonhosted.org/packages/19/22/aff234f4a841f8999e68a7a94bdd4b60b4cebcfeca5d67d61cd08c9179de/transformers-3.3.1-py3-none-any.whl (1.1MB)\n",
            "\u001b[K     |████████████████████████████████| 1.1MB 3.5MB/s \n",
            "\u001b[?25hRequirement already satisfied: tqdm>=4.27 in /usr/local/lib/python3.6/dist-packages (from transformers) (4.41.1)\n",
            "Requirement already satisfied: numpy in /usr/local/lib/python3.6/dist-packages (from transformers) (1.18.5)\n",
            "Requirement already satisfied: dataclasses; python_version < \"3.7\" in /usr/local/lib/python3.6/dist-packages (from transformers) (0.7)\n",
            "Collecting sacremoses\n",
            "\u001b[?25l  Downloading https://files.pythonhosted.org/packages/7d/34/09d19aff26edcc8eb2a01bed8e98f13a1537005d31e95233fd48216eed10/sacremoses-0.0.43.tar.gz (883kB)\n",
            "\u001b[K     |████████████████████████████████| 890kB 16.1MB/s \n",
            "\u001b[?25hRequirement already satisfied: regex!=2019.12.17 in /usr/local/lib/python3.6/dist-packages (from transformers) (2019.12.20)\n",
            "Requirement already satisfied: requests in /usr/local/lib/python3.6/dist-packages (from transformers) (2.23.0)\n",
            "Collecting sentencepiece!=0.1.92\n",
            "\u001b[?25l  Downloading https://files.pythonhosted.org/packages/d4/a4/d0a884c4300004a78cca907a6ff9a5e9fe4f090f5d95ab341c53d28cbc58/sentencepiece-0.1.91-cp36-cp36m-manylinux1_x86_64.whl (1.1MB)\n",
            "\u001b[K     |████████████████████████████████| 1.1MB 18.2MB/s \n",
            "\u001b[?25hRequirement already satisfied: filelock in /usr/local/lib/python3.6/dist-packages (from transformers) (3.0.12)\n",
            "Requirement already satisfied: packaging in /usr/local/lib/python3.6/dist-packages (from transformers) (20.4)\n",
            "Collecting tokenizers==0.8.1.rc2\n",
            "\u001b[?25l  Downloading https://files.pythonhosted.org/packages/80/83/8b9fccb9e48eeb575ee19179e2bdde0ee9a1904f97de5f02d19016b8804f/tokenizers-0.8.1rc2-cp36-cp36m-manylinux1_x86_64.whl (3.0MB)\n",
            "\u001b[K     |████████████████████████████████| 3.0MB 27.7MB/s \n",
            "\u001b[?25hRequirement already satisfied: six in /usr/local/lib/python3.6/dist-packages (from sacremoses->transformers) (1.15.0)\n",
            "Requirement already satisfied: click in /usr/local/lib/python3.6/dist-packages (from sacremoses->transformers) (7.1.2)\n",
            "Requirement already satisfied: joblib in /usr/local/lib/python3.6/dist-packages (from sacremoses->transformers) (0.16.0)\n",
            "Requirement already satisfied: chardet<4,>=3.0.2 in /usr/local/lib/python3.6/dist-packages (from requests->transformers) (3.0.4)\n",
            "Requirement already satisfied: certifi>=2017.4.17 in /usr/local/lib/python3.6/dist-packages (from requests->transformers) (2020.6.20)\n",
            "Requirement already satisfied: idna<3,>=2.5 in /usr/local/lib/python3.6/dist-packages (from requests->transformers) (2.10)\n",
            "Requirement already satisfied: urllib3!=1.25.0,!=1.25.1,<1.26,>=1.21.1 in /usr/local/lib/python3.6/dist-packages (from requests->transformers) (1.24.3)\n",
            "Requirement already satisfied: pyparsing>=2.0.2 in /usr/local/lib/python3.6/dist-packages (from packaging->transformers) (2.4.7)\n",
            "Building wheels for collected packages: sacremoses\n",
            "  Building wheel for sacremoses (setup.py) ... \u001b[?25l\u001b[?25hdone\n",
            "  Created wheel for sacremoses: filename=sacremoses-0.0.43-cp36-none-any.whl size=893257 sha256=2dc71c6b8c5ae2b4ae436ccf4795dde730e8d02a2fd32dc442f5eecd4e0c0c36\n",
            "  Stored in directory: /root/.cache/pip/wheels/29/3c/fd/7ce5c3f0666dab31a50123635e6fb5e19ceb42ce38d4e58f45\n",
            "Successfully built sacremoses\n",
            "Installing collected packages: sacremoses, sentencepiece, tokenizers, transformers\n",
            "Successfully installed sacremoses-0.0.43 sentencepiece-0.1.91 tokenizers-0.8.1rc2 transformers-3.3.1\n"
          ],
          "name": "stdout"
        }
      ]
    },
    {
      "cell_type": "code",
      "metadata": {
        "id": "fvFvBLJV0Dkv"
      },
      "source": [
        "#importing relevant libraries\n",
        "import numpy as np\n",
        "import pandas as pd\n",
        "from sklearn.model_selection import train_test_split\n",
        "from sklearn.linear_model import LogisticRegression\n",
        "from sklearn.model_selection import GridSearchCV\n",
        "from sklearn.model_selection import cross_val_score\n",
        "from sklearn.naive_bayes import MultinomialNB\n",
        "\n",
        "import torch\n",
        "\n",
        "import nltk\n",
        "from nltk.tokenize import RegexpTokenizer\n",
        "from nltk.stem import WordNetLemmatizer\n",
        "\n",
        "import transformers as ppb\n",
        "import warnings\n",
        "warnings.filterwarnings('ignore')"
      ],
      "execution_count": 2,
      "outputs": []
    },
    {
      "cell_type": "markdown",
      "metadata": {
        "id": "zQ-42fh0hjsF"
      },
      "source": [
        "## Importing the dataset\n",
        "We'll use pandas to read the dataset and load it into a dataframe."
      ]
    },
    {
      "cell_type": "code",
      "metadata": {
        "id": "cyoj29J24hPX"
      },
      "source": [
        "df = pd.read_csv('/content/real_data_for_model.csv')\n",
        "og_batch_1 = df[['selftext', 'is_suicide']]"
      ],
      "execution_count": 3,
      "outputs": []
    },
    {
      "cell_type": "markdown",
      "metadata": {
        "id": "dMVE3waNhuNj"
      },
      "source": [
        "For performance reasons, we'll only use 2,000 sentences from the dataset"
      ]
    },
    {
      "cell_type": "code",
      "metadata": {
        "id": "gTM3hOHW4hUY",
        "outputId": "1ebfbc30-8c83-469d-8f8b-8eb26d0c98cc",
        "colab": {
          "base_uri": "https://localhost:8080/",
          "height": 204
        }
      },
      "source": [
        "#batch_1_start = og_batch_1.head(60)\n",
        "#batch_1_end = og_batch_1.tail(60)\n",
        "#test_batch_1 = pd.concat([batch_1_start, batch_1_end], ignore_index=True)\n",
        "batch_1 = og_batch_1.rename(columns={'selftext': 0, 'is_suicide': 1})\n",
        "batch_1.head()"
      ],
      "execution_count": 4,
      "outputs": [
        {
          "output_type": "execute_result",
          "data": {
            "text/html": [
              "<div>\n",
              "<style scoped>\n",
              "    .dataframe tbody tr th:only-of-type {\n",
              "        vertical-align: middle;\n",
              "    }\n",
              "\n",
              "    .dataframe tbody tr th {\n",
              "        vertical-align: top;\n",
              "    }\n",
              "\n",
              "    .dataframe thead th {\n",
              "        text-align: right;\n",
              "    }\n",
              "</style>\n",
              "<table border=\"1\" class=\"dataframe\">\n",
              "  <thead>\n",
              "    <tr style=\"text-align: right;\">\n",
              "      <th></th>\n",
              "      <th>0</th>\n",
              "      <th>1</th>\n",
              "    </tr>\n",
              "  </thead>\n",
              "  <tbody>\n",
              "    <tr>\n",
              "      <th>0</th>\n",
              "      <td>I've been feeling really depressed and lonely ...</td>\n",
              "      <td>0</td>\n",
              "    </tr>\n",
              "    <tr>\n",
              "      <th>1</th>\n",
              "      <td>I literally broke down crying and asked to go ...</td>\n",
              "      <td>0</td>\n",
              "    </tr>\n",
              "    <tr>\n",
              "      <th>2</th>\n",
              "      <td>Any kind soul want to give a depressed person ...</td>\n",
              "      <td>0</td>\n",
              "    </tr>\n",
              "    <tr>\n",
              "      <th>3</th>\n",
              "      <td>literally though. have i done anything wrong</td>\n",
              "      <td>0</td>\n",
              "    </tr>\n",
              "    <tr>\n",
              "      <th>4</th>\n",
              "      <td>why does it hurt so much? Why can’t I be happy...</td>\n",
              "      <td>0</td>\n",
              "    </tr>\n",
              "  </tbody>\n",
              "</table>\n",
              "</div>"
            ],
            "text/plain": [
              "                                                   0  1\n",
              "0  I've been feeling really depressed and lonely ...  0\n",
              "1  I literally broke down crying and asked to go ...  0\n",
              "2  Any kind soul want to give a depressed person ...  0\n",
              "3       literally though. have i done anything wrong  0\n",
              "4  why does it hurt so much? Why can’t I be happy...  0"
            ]
          },
          "metadata": {
            "tags": []
          },
          "execution_count": 4
        }
      ]
    },
    {
      "cell_type": "markdown",
      "metadata": {
        "id": "PRc2L89hh1Tf"
      },
      "source": [
        "We can ask pandas how many sentences are labeled as \"positive\" (value 1) and how many are labeled \"negative\" (having the value 0)"
      ]
    },
    {
      "cell_type": "code",
      "metadata": {
        "id": "jGvcfcCP5xpZ",
        "outputId": "36d4813d-ced6-41b1-ee66-eb89a231b59d",
        "colab": {
          "base_uri": "https://localhost:8080/",
          "height": 68
        }
      },
      "source": [
        "batch_1[1].value_counts()"
      ],
      "execution_count": 5,
      "outputs": [
        {
          "output_type": "execute_result",
          "data": {
            "text/plain": [
              "1    980\n",
              "0    915\n",
              "Name: 1, dtype: int64"
            ]
          },
          "metadata": {
            "tags": []
          },
          "execution_count": 5
        }
      ]
    },
    {
      "cell_type": "markdown",
      "metadata": {
        "id": "7_MO08_KiAOb"
      },
      "source": [
        "## Loading the Pre-trained BERT model\n",
        "Let's now load a pre-trained BERT model. "
      ]
    },
    {
      "cell_type": "code",
      "metadata": {
        "id": "q1InADgf5xm2",
        "outputId": "c37cd7e1-3213-4908-b8e8-6da581c5e70f",
        "colab": {
          "base_uri": "https://localhost:8080/",
          "height": 164,
          "referenced_widgets": [
            "d3421ff6980342b78fbee172dfdb08a3",
            "c0164ab406ba42a582430361e504602c",
            "ff4ba3ae49a544f4bb50ddca229a500a",
            "023bc481c1df4147a514484722dd00e0",
            "93a54113f9d54709951adb3ba1f576f4",
            "ea02565e67194b7da858b4851627552d",
            "063a46fc2a54470e97041efbae00471a",
            "c68d858f9ebb43cc97c30cc2a33c783d",
            "477deb0eb9384ec7b162aa8772e90f13",
            "e475b4cec5b644cb8d1f96f85f57c526",
            "517736e80b3b47db8081635a78a89ec8",
            "3f56e716fab54b10bd9770aed9fac9c6",
            "29918a422fa84621bcd7234dd7d9313e",
            "7831315977194ce19d2e2619a5dc813e",
            "ece0a355015c42789564fa34a2c0d4b4",
            "c75b3f7c986c4d7faa967e440427d87d",
            "21039bb4ba594319a4d2a4987bb91a85",
            "07c0e946ee7748dba39bd3326e881013",
            "854872b3f6ba4d28af0934de83bfc309",
            "5304aba495a7499cb6188c71b071d722",
            "3dcdea342a9642d28e2c86990f9f67a6",
            "3028142b4d1d44ff8857106ff5a01a37",
            "65f9ff5f82ff471bae490ac10c0770e9",
            "c28521311e784a3b9a98191e947d3893"
          ]
        }
      },
      "source": [
        "# For DistilBERT:\n",
        "#model_class, tokenizer_class, pretrained_weights = (ppb.DistilBertModel, ppb.DistilBertTokenizer, 'distilbert-base-uncased')\n",
        "\n",
        "## Want BERT instead of distilBERT? Uncomment the following line:\n",
        "model_class, tokenizer_class, pretrained_weights = (ppb.BertModel, ppb.BertTokenizer, 'bert-base-uncased')\n",
        "\n",
        "# Load pretrained model/tokenizer\n",
        "tokenizer = tokenizer_class.from_pretrained(pretrained_weights)\n",
        "model = model_class.from_pretrained(pretrained_weights)"
      ],
      "execution_count": 6,
      "outputs": [
        {
          "output_type": "display_data",
          "data": {
            "application/vnd.jupyter.widget-view+json": {
              "model_id": "d3421ff6980342b78fbee172dfdb08a3",
              "version_minor": 0,
              "version_major": 2
            },
            "text/plain": [
              "HBox(children=(FloatProgress(value=0.0, description='Downloading', max=231508.0, style=ProgressStyle(descripti…"
            ]
          },
          "metadata": {
            "tags": []
          }
        },
        {
          "output_type": "stream",
          "text": [
            "\n"
          ],
          "name": "stdout"
        },
        {
          "output_type": "display_data",
          "data": {
            "application/vnd.jupyter.widget-view+json": {
              "model_id": "477deb0eb9384ec7b162aa8772e90f13",
              "version_minor": 0,
              "version_major": 2
            },
            "text/plain": [
              "HBox(children=(FloatProgress(value=0.0, description='Downloading', max=433.0, style=ProgressStyle(description_…"
            ]
          },
          "metadata": {
            "tags": []
          }
        },
        {
          "output_type": "stream",
          "text": [
            "\n"
          ],
          "name": "stdout"
        },
        {
          "output_type": "display_data",
          "data": {
            "application/vnd.jupyter.widget-view+json": {
              "model_id": "21039bb4ba594319a4d2a4987bb91a85",
              "version_minor": 0,
              "version_major": 2
            },
            "text/plain": [
              "HBox(children=(FloatProgress(value=0.0, description='Downloading', max=440473133.0, style=ProgressStyle(descri…"
            ]
          },
          "metadata": {
            "tags": []
          }
        },
        {
          "output_type": "stream",
          "text": [
            "\n"
          ],
          "name": "stdout"
        }
      ]
    },
    {
      "cell_type": "markdown",
      "metadata": {
        "id": "lZDBMn3wiSX6"
      },
      "source": [
        "Right now, the variable `model` holds a pretrained distilBERT model -- a version of BERT that is smaller, but much faster and requiring a lot less memory.\n",
        "\n",
        "## Model #1: Preparing the Dataset\n",
        "Before we can hand our sentences to BERT, we need to so some minimal processing to put them in the format it requires.\n",
        "\n",
        "### Tokenization\n",
        "Our first step is to tokenize the sentences -- break them up into word and subwords in the format BERT is comfortable with."
      ]
    },
    {
      "cell_type": "code",
      "metadata": {
        "id": "Dg82ndBA5xlN"
      },
      "source": [
        "tokenized = batch_1[0].apply((lambda x: tokenizer.encode(x, add_special_tokens=True, truncation=True, max_length=128)))"
      ],
      "execution_count": 7,
      "outputs": []
    },
    {
      "cell_type": "code",
      "metadata": {
        "id": "URn-DWJt5xhP"
      },
      "source": [
        "max_len = 0\n",
        "for i in tokenized.values:\n",
        "    if len(i) > max_len:\n",
        "        max_len = len(i)\n",
        "\n",
        "padded = np.array([i + [0]*(max_len-len(i)) for i in tokenized.values])"
      ],
      "execution_count": 8,
      "outputs": []
    },
    {
      "cell_type": "markdown",
      "metadata": {
        "id": "Mdjg306wjjmL"
      },
      "source": [
        "Our dataset is now in the `padded` variable, we can view its dimensions below:"
      ]
    },
    {
      "cell_type": "code",
      "metadata": {
        "id": "jdi7uXo95xeq",
        "outputId": "6cd85047-92e6-4f5f-a81f-e00143418ca1",
        "colab": {
          "base_uri": "https://localhost:8080/",
          "height": 34
        }
      },
      "source": [
        "np.array(padded).shape"
      ],
      "execution_count": 9,
      "outputs": [
        {
          "output_type": "execute_result",
          "data": {
            "text/plain": [
              "(1895, 128)"
            ]
          },
          "metadata": {
            "tags": []
          },
          "execution_count": 9
        }
      ]
    },
    {
      "cell_type": "markdown",
      "metadata": {
        "id": "sDZBsYSDjzDV"
      },
      "source": [
        "### Masking\n",
        "If we directly send `padded` to BERT, that would slightly confuse it. We need to create another variable to tell it to ignore (mask) the padding we've added when it's processing its input. That's what attention_mask is:"
      ]
    },
    {
      "cell_type": "code",
      "metadata": {
        "id": "4K_iGRNa_Ozc",
        "outputId": "f0cb45da-8376-4d4c-bebc-cdc019aa8476",
        "colab": {
          "base_uri": "https://localhost:8080/",
          "height": 34
        }
      },
      "source": [
        "attention_mask = np.where(padded != 0, 1, 0)\n",
        "attention_mask.shape"
      ],
      "execution_count": 10,
      "outputs": [
        {
          "output_type": "execute_result",
          "data": {
            "text/plain": [
              "(1895, 128)"
            ]
          },
          "metadata": {
            "tags": []
          },
          "execution_count": 10
        }
      ]
    },
    {
      "cell_type": "code",
      "metadata": {
        "id": "39UVjAV56PJz"
      },
      "source": [
        "input_ids = torch.tensor(padded)  \n",
        "attention_mask = torch.tensor(attention_mask)\n",
        "\n",
        "with torch.no_grad():\n",
        "    last_hidden_states = model(input_ids, attention_mask=attention_mask)"
      ],
      "execution_count": 11,
      "outputs": []
    },
    {
      "cell_type": "code",
      "metadata": {
        "id": "C9t60At16PVs",
        "outputId": "baef8ac6-051b-49fc-b567-4d02d8ede7b7",
        "colab": {
          "base_uri": "https://localhost:8080/",
          "height": 238
        }
      },
      "source": [
        "features = last_hidden_states[0][:,0,:].numpy()\n",
        "print(features)"
      ],
      "execution_count": 12,
      "outputs": [
        {
          "output_type": "stream",
          "text": [
            "[[ 0.19605026  0.20534156  0.24803329 ...  0.15781963  0.45455933\n",
            "  -0.41783777]\n",
            " [-0.11692914 -0.39638266  0.09059574 ... -0.02261155  0.26243898\n",
            "   0.33010307]\n",
            " [ 0.11361607 -0.04054473  0.23259798 ... -0.1438802   0.45649728\n",
            "   0.47679883]\n",
            " ...\n",
            " [ 0.04628711  0.53464365 -0.19218408 ... -0.34011787  0.7708874\n",
            "   0.6021303 ]\n",
            " [ 0.24700873  0.2810834   0.21017519 ... -0.1912898   0.2667738\n",
            "  -0.13201511]\n",
            " [ 0.16641247  0.16862674  0.03572434 ... -0.15101409  0.5139446\n",
            "   0.24030764]]\n"
          ],
          "name": "stdout"
        }
      ]
    },
    {
      "cell_type": "markdown",
      "metadata": {
        "id": "_VZVU66Gurr-"
      },
      "source": [
        "The labels indicating which sentence is positive and negative now go into the `labels` variable"
      ]
    },
    {
      "cell_type": "code",
      "metadata": {
        "id": "JD3fX2yh6PTx",
        "outputId": "3e6710ba-30c5-44cf-ae09-1b670ce5f0c9",
        "colab": {
          "base_uri": "https://localhost:8080/",
          "height": 119
        }
      },
      "source": [
        "labels = batch_1[1]\n",
        "labels.head()"
      ],
      "execution_count": 13,
      "outputs": [
        {
          "output_type": "execute_result",
          "data": {
            "text/plain": [
              "0    0\n",
              "1    0\n",
              "2    0\n",
              "3    0\n",
              "4    0\n",
              "Name: 1, dtype: int64"
            ]
          },
          "metadata": {
            "tags": []
          },
          "execution_count": 13
        }
      ]
    },
    {
      "cell_type": "code",
      "metadata": {
        "id": "tpqwBeJkxLpH"
      },
      "source": [
        "np.savetxt(\"real_data_for_model_features.csv\", features, delimiter=',')\n"
      ],
      "execution_count": 19,
      "outputs": []
    },
    {
      "cell_type": "code",
      "metadata": {
        "id": "9cvBfXnQzcbb",
        "outputId": "91380f31-ba65-4ab3-e7cf-a5c512a82f44",
        "colab": {
          "base_uri": "https://localhost:8080/",
          "height": 34
        }
      },
      "source": [
        "features.shape"
      ],
      "execution_count": 20,
      "outputs": [
        {
          "output_type": "execute_result",
          "data": {
            "text/plain": [
              "(1895, 768)"
            ]
          },
          "metadata": {
            "tags": []
          },
          "execution_count": 20
        }
      ]
    },
    {
      "cell_type": "markdown",
      "metadata": {
        "id": "iaoEvM2evRx1"
      },
      "source": [
        "## Model #2: Train/Test Split\n",
        "Let's now split our datset into a training set and testing set (even though we're using 2,000 sentences from the SST2 training set)."
      ]
    },
    {
      "cell_type": "code",
      "metadata": {
        "id": "ddAqbkoU6PP9"
      },
      "source": [
        "train_features, test_features, train_labels, test_labels = train_test_split(features, labels, test_size=0.25, random_state=42, stratify=labels)"
      ],
      "execution_count": 14,
      "outputs": []
    },
    {
      "cell_type": "code",
      "metadata": {
        "id": "cyEwr7yYD3Ci"
      },
      "source": [
        "# parameters = {'C': np.linspace(0.0001, 100, 20)}\n",
        "# grid_search = GridSearchCV(LogisticRegression(), parameters)\n",
        "# grid_search.fit(train_features, train_labels)\n",
        "\n",
        "# print('best parameters: ', grid_search.best_params_)\n",
        "# print('best scrores: ', grid_search.best_score_)"
      ],
      "execution_count": 15,
      "outputs": []
    },
    {
      "cell_type": "code",
      "metadata": {
        "id": "gG-EVWx4CzBc",
        "outputId": "36506cbe-ab7b-4323-e1ab-309f7749f266",
        "colab": {
          "base_uri": "https://localhost:8080/",
          "height": 1000
        }
      },
      "source": [
        "from keras.models import Sequential\n",
        "from keras import layers\n",
        "from keras.layers import Dense, Activation, Embedding, Flatten, GlobalMaxPool1D, Dropout, Conv1D\n",
        "from keras.callbacks import ModelCheckpoint\n",
        "\n",
        "model3 = Sequential()\n",
        "model3.add(Dense(1, activation='sigmoid'))\n",
        "\n",
        "model3.add(Dense(10, activation='relu'))\n",
        "# model3.add(Dense(1, activation='sigmoid'))\n",
        "model3.add(Dense(3, activation = 'softmax')) # this gives the probability distribution for each class, should be 1 hot encoded, maybe we take this out of the model and only use it when predicting\n",
        "\n",
        "model3.compile(optimizer='adam',\n",
        "              loss='binary_crossentropy',\n",
        "              metrics=['accuracy'])\n",
        "\n",
        "\n",
        "checkpoint = ModelCheckpoint('/content/depression_suicide_neither_nn.h5', verbose=1, monitor='val_loss',save_best_only=True, mode='auto')  \n",
        "\n",
        "\n",
        "history = model3.fit(train_features, train_labels, batch_size=32, epochs=100, verbose=1, callbacks=[checkpoint], validation_data=(test_features, test_labels))"
      ],
      "execution_count": 16,
      "outputs": [
        {
          "output_type": "stream",
          "text": [
            "Epoch 1/100\n",
            "44/45 [============================>.] - ETA: 0s - loss: 0.7642 - accuracy: 0.1882\n",
            "Epoch 00001: val_loss improved from inf to 0.76376, saving model to /content/depression_suicide_neither_nn.h5\n",
            "45/45 [==============================] - 0s 6ms/step - loss: 0.7643 - accuracy: 0.1879 - val_loss: 0.7638 - val_accuracy: 0.0570\n",
            "Epoch 2/100\n",
            " 1/45 [..............................] - ETA: 0s - loss: 0.7737 - accuracy: 0.0312\n",
            "Epoch 00002: val_loss improved from 0.76376 to 0.76374, saving model to /content/depression_suicide_neither_nn.h5\n",
            "45/45 [==============================] - 0s 2ms/step - loss: 0.7640 - accuracy: 0.1485 - val_loss: 0.7637 - val_accuracy: 0.1857\n",
            "Epoch 3/100\n",
            "42/45 [===========================>..] - ETA: 0s - loss: 0.7660 - accuracy: 0.1637\n",
            "Epoch 00003: val_loss improved from 0.76374 to 0.76374, saving model to /content/depression_suicide_neither_nn.h5\n",
            "45/45 [==============================] - 0s 2ms/step - loss: 0.7640 - accuracy: 0.1640 - val_loss: 0.7637 - val_accuracy: 0.1793\n",
            "Epoch 4/100\n",
            "40/45 [=========================>....] - ETA: 0s - loss: 0.7683 - accuracy: 0.1805\n",
            "Epoch 00004: val_loss improved from 0.76374 to 0.76374, saving model to /content/depression_suicide_neither_nn.h5\n",
            "45/45 [==============================] - 0s 2ms/step - loss: 0.7640 - accuracy: 0.1780 - val_loss: 0.7637 - val_accuracy: 0.1646\n",
            "Epoch 5/100\n",
            "38/45 [========================>.....] - ETA: 0s - loss: 0.7629 - accuracy: 0.1595\n",
            "Epoch 00005: val_loss improved from 0.76374 to 0.76374, saving model to /content/depression_suicide_neither_nn.h5\n",
            "45/45 [==============================] - 0s 2ms/step - loss: 0.7640 - accuracy: 0.1626 - val_loss: 0.7637 - val_accuracy: 0.1603\n",
            "Epoch 6/100\n",
            " 1/45 [..............................] - ETA: 0s - loss: 0.7954 - accuracy: 0.1562\n",
            "Epoch 00006: val_loss improved from 0.76374 to 0.76374, saving model to /content/depression_suicide_neither_nn.h5\n",
            "45/45 [==============================] - 0s 2ms/step - loss: 0.7640 - accuracy: 0.1816 - val_loss: 0.7637 - val_accuracy: 0.1709\n",
            "Epoch 7/100\n",
            "40/45 [=========================>....] - ETA: 0s - loss: 0.7634 - accuracy: 0.2078\n",
            "Epoch 00007: val_loss improved from 0.76374 to 0.76374, saving model to /content/depression_suicide_neither_nn.h5\n",
            "45/45 [==============================] - 0s 2ms/step - loss: 0.7640 - accuracy: 0.2069 - val_loss: 0.7637 - val_accuracy: 0.1835\n",
            "Epoch 8/100\n",
            "44/45 [============================>.] - ETA: 0s - loss: 0.7639 - accuracy: 0.1960\n",
            "Epoch 00008: val_loss improved from 0.76374 to 0.76374, saving model to /content/depression_suicide_neither_nn.h5\n",
            "45/45 [==============================] - 0s 2ms/step - loss: 0.7640 - accuracy: 0.1956 - val_loss: 0.7637 - val_accuracy: 0.1983\n",
            "Epoch 9/100\n",
            "37/45 [=======================>......] - ETA: 0s - loss: 0.7661 - accuracy: 0.2078\n",
            "Epoch 00009: val_loss improved from 0.76374 to 0.76374, saving model to /content/depression_suicide_neither_nn.h5\n",
            "45/45 [==============================] - 0s 2ms/step - loss: 0.7640 - accuracy: 0.2069 - val_loss: 0.7637 - val_accuracy: 0.1772\n",
            "Epoch 10/100\n",
            " 1/45 [..............................] - ETA: 0s - loss: 0.7304 - accuracy: 0.2188\n",
            "Epoch 00010: val_loss improved from 0.76374 to 0.76374, saving model to /content/depression_suicide_neither_nn.h5\n",
            "45/45 [==============================] - 0s 2ms/step - loss: 0.7640 - accuracy: 0.2139 - val_loss: 0.7637 - val_accuracy: 0.1667\n",
            "Epoch 11/100\n",
            "44/45 [============================>.] - ETA: 0s - loss: 0.7639 - accuracy: 0.1982\n",
            "Epoch 00011: val_loss improved from 0.76374 to 0.76374, saving model to /content/depression_suicide_neither_nn.h5\n",
            "45/45 [==============================] - 0s 2ms/step - loss: 0.7640 - accuracy: 0.1970 - val_loss: 0.7637 - val_accuracy: 0.1920\n",
            "Epoch 12/100\n",
            "43/45 [===========================>..] - ETA: 0s - loss: 0.7656 - accuracy: 0.2028\n",
            "Epoch 00012: val_loss improved from 0.76374 to 0.76374, saving model to /content/depression_suicide_neither_nn.h5\n",
            "45/45 [==============================] - 0s 2ms/step - loss: 0.7640 - accuracy: 0.2041 - val_loss: 0.7637 - val_accuracy: 0.2025\n",
            "Epoch 13/100\n",
            "38/45 [========================>.....] - ETA: 0s - loss: 0.7657 - accuracy: 0.2122\n",
            "Epoch 00013: val_loss improved from 0.76374 to 0.76374, saving model to /content/depression_suicide_neither_nn.h5\n",
            "45/45 [==============================] - 0s 2ms/step - loss: 0.7640 - accuracy: 0.2055 - val_loss: 0.7637 - val_accuracy: 0.1857\n",
            "Epoch 14/100\n",
            "41/45 [==========================>...] - ETA: 0s - loss: 0.7652 - accuracy: 0.1761\n",
            "Epoch 00014: val_loss improved from 0.76374 to 0.76374, saving model to /content/depression_suicide_neither_nn.h5\n",
            "45/45 [==============================] - 0s 2ms/step - loss: 0.7640 - accuracy: 0.1787 - val_loss: 0.7637 - val_accuracy: 0.2110\n",
            "Epoch 15/100\n",
            " 1/45 [..............................] - ETA: 0s - loss: 0.6871 - accuracy: 0.2812\n",
            "Epoch 00015: val_loss improved from 0.76374 to 0.76374, saving model to /content/depression_suicide_neither_nn.h5\n",
            "45/45 [==============================] - 0s 2ms/step - loss: 0.7640 - accuracy: 0.1907 - val_loss: 0.7637 - val_accuracy: 0.2068\n",
            "Epoch 16/100\n",
            " 1/45 [..............................] - ETA: 0s - loss: 0.8170 - accuracy: 0.1250\n",
            "Epoch 00016: val_loss did not improve from 0.76374\n",
            "45/45 [==============================] - 0s 2ms/step - loss: 0.7640 - accuracy: 0.1886 - val_loss: 0.7637 - val_accuracy: 0.1983\n",
            "Epoch 17/100\n",
            " 1/45 [..............................] - ETA: 0s - loss: 0.8170 - accuracy: 0.1562\n",
            "Epoch 00017: val_loss improved from 0.76374 to 0.76374, saving model to /content/depression_suicide_neither_nn.h5\n",
            "45/45 [==============================] - 0s 2ms/step - loss: 0.7640 - accuracy: 0.1949 - val_loss: 0.7637 - val_accuracy: 0.1814\n",
            "Epoch 18/100\n",
            "44/45 [============================>.] - ETA: 0s - loss: 0.7639 - accuracy: 0.1974\n",
            "Epoch 00018: val_loss did not improve from 0.76374\n",
            "45/45 [==============================] - 0s 2ms/step - loss: 0.7640 - accuracy: 0.1970 - val_loss: 0.7637 - val_accuracy: 0.1646\n",
            "Epoch 19/100\n",
            " 1/45 [..............................] - ETA: 0s - loss: 0.7954 - accuracy: 0.2188\n",
            "Epoch 00019: val_loss improved from 0.76374 to 0.76374, saving model to /content/depression_suicide_neither_nn.h5\n",
            "45/45 [==============================] - 0s 2ms/step - loss: 0.7640 - accuracy: 0.1858 - val_loss: 0.7637 - val_accuracy: 0.1624\n",
            "Epoch 20/100\n",
            "44/45 [============================>.] - ETA: 0s - loss: 0.7629 - accuracy: 0.1491\n",
            "Epoch 00020: val_loss improved from 0.76374 to 0.76374, saving model to /content/depression_suicide_neither_nn.h5\n",
            "45/45 [==============================] - 0s 2ms/step - loss: 0.7640 - accuracy: 0.1499 - val_loss: 0.7637 - val_accuracy: 0.1730\n",
            "Epoch 21/100\n",
            " 1/45 [..............................] - ETA: 0s - loss: 0.8170 - accuracy: 0.0938\n",
            "Epoch 00021: val_loss did not improve from 0.76374\n",
            "45/45 [==============================] - 0s 2ms/step - loss: 0.7640 - accuracy: 0.1365 - val_loss: 0.7637 - val_accuracy: 0.2131\n",
            "Epoch 22/100\n",
            " 1/45 [..............................] - ETA: 0s - loss: 0.8170 - accuracy: 0.2188\n",
            "Epoch 00022: val_loss improved from 0.76374 to 0.76374, saving model to /content/depression_suicide_neither_nn.h5\n",
            "45/45 [==============================] - 0s 2ms/step - loss: 0.7640 - accuracy: 0.1260 - val_loss: 0.7637 - val_accuracy: 0.0696\n",
            "Epoch 23/100\n",
            "38/45 [========================>.....] - ETA: 0s - loss: 0.7606 - accuracy: 0.0789\n",
            "Epoch 00023: val_loss improved from 0.76374 to 0.76374, saving model to /content/depression_suicide_neither_nn.h5\n",
            "45/45 [==============================] - 0s 2ms/step - loss: 0.7640 - accuracy: 0.0992 - val_loss: 0.7637 - val_accuracy: 0.1667\n",
            "Epoch 24/100\n",
            " 1/45 [..............................] - ETA: 0s - loss: 0.6871 - accuracy: 0.0938\n",
            "Epoch 00024: val_loss did not improve from 0.76374\n",
            "45/45 [==============================] - 0s 2ms/step - loss: 0.7640 - accuracy: 0.1267 - val_loss: 0.7637 - val_accuracy: 0.1266\n",
            "Epoch 25/100\n",
            " 1/45 [..............................] - ETA: 0s - loss: 0.7737 - accuracy: 0.1250\n",
            "Epoch 00025: val_loss did not improve from 0.76374\n",
            "45/45 [==============================] - 0s 2ms/step - loss: 0.7640 - accuracy: 0.0922 - val_loss: 0.7637 - val_accuracy: 0.0717\n",
            "Epoch 26/100\n",
            " 1/45 [..............................] - ETA: 0s - loss: 0.7954 - accuracy: 0.0625\n",
            "Epoch 00026: val_loss did not improve from 0.76374\n",
            "45/45 [==============================] - 0s 2ms/step - loss: 0.7640 - accuracy: 0.1759 - val_loss: 0.7637 - val_accuracy: 0.1793\n",
            "Epoch 27/100\n",
            " 1/45 [..............................] - ETA: 0s - loss: 0.8387 - accuracy: 0.1250\n",
            "Epoch 00027: val_loss did not improve from 0.76374\n",
            "45/45 [==============================] - 0s 2ms/step - loss: 0.7640 - accuracy: 0.1049 - val_loss: 0.7637 - val_accuracy: 0.4430\n",
            "Epoch 28/100\n",
            " 1/45 [..............................] - ETA: 0s - loss: 0.6654 - accuracy: 0.3750\n",
            "Epoch 00028: val_loss did not improve from 0.76374\n",
            "45/45 [==============================] - 0s 2ms/step - loss: 0.7640 - accuracy: 0.1429 - val_loss: 0.7637 - val_accuracy: 0.0949\n",
            "Epoch 29/100\n",
            " 1/45 [..............................] - ETA: 0s - loss: 0.7954 - accuracy: 0.0625\n",
            "Epoch 00029: val_loss did not improve from 0.76374\n",
            "45/45 [==============================] - 0s 2ms/step - loss: 0.7640 - accuracy: 0.2308 - val_loss: 0.7637 - val_accuracy: 0.4346\n",
            "Epoch 30/100\n",
            "45/45 [==============================] - ETA: 0s - loss: 0.7640 - accuracy: 0.1963\n",
            "Epoch 00030: val_loss improved from 0.76374 to 0.76374, saving model to /content/depression_suicide_neither_nn.h5\n",
            "45/45 [==============================] - 0s 2ms/step - loss: 0.7640 - accuracy: 0.1963 - val_loss: 0.7637 - val_accuracy: 0.4177\n",
            "Epoch 31/100\n",
            " 1/45 [..............................] - ETA: 0s - loss: 0.7737 - accuracy: 0.3125\n",
            "Epoch 00031: val_loss did not improve from 0.76374\n",
            "45/45 [==============================] - 0s 2ms/step - loss: 0.7640 - accuracy: 0.2773 - val_loss: 0.7637 - val_accuracy: 0.4916\n",
            "Epoch 32/100\n",
            "44/45 [============================>.] - ETA: 0s - loss: 0.7643 - accuracy: 0.2237\n",
            "Epoch 00032: val_loss did not improve from 0.76374\n",
            "45/45 [==============================] - 0s 2ms/step - loss: 0.7640 - accuracy: 0.2224 - val_loss: 0.7637 - val_accuracy: 0.0338\n",
            "Epoch 33/100\n",
            " 1/45 [..............................] - ETA: 0s - loss: 0.8603 - accuracy: 0.0312\n",
            "Epoch 00033: val_loss did not improve from 0.76374\n",
            "45/45 [==============================] - 0s 2ms/step - loss: 0.7640 - accuracy: 0.1970 - val_loss: 0.7637 - val_accuracy: 0.4599\n",
            "Epoch 34/100\n",
            " 1/45 [..............................] - ETA: 0s - loss: 0.8170 - accuracy: 0.4062\n",
            "Epoch 00034: val_loss did not improve from 0.76374\n",
            "45/45 [==============================] - 0s 2ms/step - loss: 0.7640 - accuracy: 0.2421 - val_loss: 0.7637 - val_accuracy: 0.4852\n",
            "Epoch 35/100\n",
            "43/45 [===========================>..] - ETA: 0s - loss: 0.7661 - accuracy: 0.3118\n",
            "Epoch 00035: val_loss did not improve from 0.76374\n",
            "45/45 [==============================] - 0s 2ms/step - loss: 0.7640 - accuracy: 0.3202 - val_loss: 0.7637 - val_accuracy: 0.4684\n",
            "Epoch 36/100\n",
            " 1/45 [..............................] - ETA: 0s - loss: 0.7520 - accuracy: 0.5000\n",
            "Epoch 00036: val_loss did not improve from 0.76374\n",
            "45/45 [==============================] - 0s 2ms/step - loss: 0.7640 - accuracy: 0.2850 - val_loss: 0.7637 - val_accuracy: 0.4873\n",
            "Epoch 37/100\n",
            "42/45 [===========================>..] - ETA: 0s - loss: 0.7680 - accuracy: 0.4204\n",
            "Epoch 00037: val_loss did not improve from 0.76374\n",
            "45/45 [==============================] - 0s 2ms/step - loss: 0.7640 - accuracy: 0.4018 - val_loss: 0.7637 - val_accuracy: 0.0359\n",
            "Epoch 38/100\n",
            " 1/45 [..............................] - ETA: 0s - loss: 0.7087 - accuracy: 0.0000e+00\n",
            "Epoch 00038: val_loss did not improve from 0.76374\n",
            "45/45 [==============================] - 0s 2ms/step - loss: 0.7640 - accuracy: 0.2245 - val_loss: 0.7637 - val_accuracy: 0.0549\n",
            "Epoch 39/100\n",
            " 1/45 [..............................] - ETA: 0s - loss: 0.7954 - accuracy: 0.0000e+00\n",
            "Epoch 00039: val_loss did not improve from 0.76374\n",
            "45/45 [==============================] - 0s 2ms/step - loss: 0.7640 - accuracy: 0.3730 - val_loss: 0.7637 - val_accuracy: 0.4726\n",
            "Epoch 40/100\n",
            " 1/45 [..............................] - ETA: 0s - loss: 0.8387 - accuracy: 0.4062\n",
            "Epoch 00040: val_loss did not improve from 0.76374\n",
            "45/45 [==============================] - 0s 2ms/step - loss: 0.7640 - accuracy: 0.2576 - val_loss: 0.7637 - val_accuracy: 0.0591\n",
            "Epoch 41/100\n",
            " 1/45 [..............................] - ETA: 0s - loss: 0.8387 - accuracy: 0.1250\n",
            "Epoch 00041: val_loss did not improve from 0.76374\n",
            "45/45 [==============================] - 0s 2ms/step - loss: 0.7640 - accuracy: 0.2569 - val_loss: 0.7637 - val_accuracy: 0.4747\n",
            "Epoch 42/100\n",
            " 1/45 [..............................] - ETA: 0s - loss: 0.6871 - accuracy: 0.5938\n",
            "Epoch 00042: val_loss did not improve from 0.76374\n",
            "45/45 [==============================] - 0s 2ms/step - loss: 0.7640 - accuracy: 0.3638 - val_loss: 0.7637 - val_accuracy: 0.0464\n",
            "Epoch 43/100\n",
            " 1/45 [..............................] - ETA: 0s - loss: 0.7737 - accuracy: 0.0938\n",
            "Epoch 00043: val_loss improved from 0.76374 to 0.76374, saving model to /content/depression_suicide_neither_nn.h5\n",
            "45/45 [==============================] - 0s 2ms/step - loss: 0.7640 - accuracy: 0.2928 - val_loss: 0.7637 - val_accuracy: 0.4768\n",
            "Epoch 44/100\n",
            " 1/45 [..............................] - ETA: 0s - loss: 0.7087 - accuracy: 0.6250\n",
            "Epoch 00044: val_loss did not improve from 0.76374\n",
            "45/45 [==============================] - 0s 2ms/step - loss: 0.7640 - accuracy: 0.3181 - val_loss: 0.7637 - val_accuracy: 0.4852\n",
            "Epoch 45/100\n",
            " 1/45 [..............................] - ETA: 0s - loss: 0.7520 - accuracy: 0.5625\n",
            "Epoch 00045: val_loss did not improve from 0.76374\n",
            "45/45 [==============================] - 0s 2ms/step - loss: 0.7640 - accuracy: 0.4279 - val_loss: 0.7637 - val_accuracy: 0.0211\n",
            "Epoch 46/100\n",
            " 1/45 [..............................] - ETA: 0s - loss: 0.7087 - accuracy: 0.0000e+00\n",
            "Epoch 00046: val_loss did not improve from 0.76374\n",
            "45/45 [==============================] - 0s 2ms/step - loss: 0.7640 - accuracy: 0.2013 - val_loss: 0.7637 - val_accuracy: 0.5000\n",
            "Epoch 47/100\n",
            "43/45 [===========================>..] - ETA: 0s - loss: 0.7651 - accuracy: 0.3554\n",
            "Epoch 00047: val_loss did not improve from 0.76374\n",
            "45/45 [==============================] - 0s 2ms/step - loss: 0.7640 - accuracy: 0.3575 - val_loss: 0.7637 - val_accuracy: 0.5000\n",
            "Epoch 48/100\n",
            "42/45 [===========================>..] - ETA: 0s - loss: 0.7593 - accuracy: 0.3289\n",
            "Epoch 00048: val_loss did not improve from 0.76374\n",
            "45/45 [==============================] - 0s 2ms/step - loss: 0.7640 - accuracy: 0.3139 - val_loss: 0.7637 - val_accuracy: 0.0211\n",
            "Epoch 49/100\n",
            "39/45 [=========================>....] - ETA: 0s - loss: 0.7681 - accuracy: 0.2548\n",
            "Epoch 00049: val_loss did not improve from 0.76374\n",
            "45/45 [==============================] - 0s 2ms/step - loss: 0.7640 - accuracy: 0.2329 - val_loss: 0.7637 - val_accuracy: 0.4895\n",
            "Epoch 50/100\n",
            "43/45 [===========================>..] - ETA: 0s - loss: 0.7611 - accuracy: 0.3387\n",
            "Epoch 00050: val_loss did not improve from 0.76374\n",
            "45/45 [==============================] - 0s 2ms/step - loss: 0.7640 - accuracy: 0.3483 - val_loss: 0.7637 - val_accuracy: 0.5000\n",
            "Epoch 51/100\n",
            "40/45 [=========================>....] - ETA: 0s - loss: 0.7650 - accuracy: 0.3187\n",
            "Epoch 00051: val_loss did not improve from 0.76374\n",
            "45/45 [==============================] - 0s 2ms/step - loss: 0.7640 - accuracy: 0.3371 - val_loss: 0.7637 - val_accuracy: 0.4937\n",
            "Epoch 52/100\n",
            "44/45 [============================>.] - ETA: 0s - loss: 0.7624 - accuracy: 0.2692\n",
            "Epoch 00052: val_loss did not improve from 0.76374\n",
            "45/45 [==============================] - 0s 2ms/step - loss: 0.7640 - accuracy: 0.2738 - val_loss: 0.7637 - val_accuracy: 0.5000\n",
            "Epoch 53/100\n",
            " 1/45 [..............................] - ETA: 0s - loss: 0.8170 - accuracy: 0.5938\n",
            "Epoch 00053: val_loss did not improve from 0.76374\n",
            "45/45 [==============================] - 0s 2ms/step - loss: 0.7640 - accuracy: 0.3751 - val_loss: 0.7637 - val_accuracy: 0.4747\n",
            "Epoch 54/100\n",
            " 1/45 [..............................] - ETA: 0s - loss: 0.8387 - accuracy: 0.4375\n",
            "Epoch 00054: val_loss did not improve from 0.76374\n",
            "45/45 [==============================] - 0s 2ms/step - loss: 0.7640 - accuracy: 0.2984 - val_loss: 0.7637 - val_accuracy: 0.0253\n",
            "Epoch 55/100\n",
            " 1/45 [..............................] - ETA: 0s - loss: 0.8387 - accuracy: 0.0938\n",
            "Epoch 00055: val_loss did not improve from 0.76374\n",
            "45/45 [==============================] - 0s 2ms/step - loss: 0.7640 - accuracy: 0.2780 - val_loss: 0.7637 - val_accuracy: 0.5042\n",
            "Epoch 56/100\n",
            "45/45 [==============================] - ETA: 0s - loss: 0.7640 - accuracy: 0.3286\n",
            "Epoch 00056: val_loss did not improve from 0.76374\n",
            "45/45 [==============================] - 0s 2ms/step - loss: 0.7640 - accuracy: 0.3286 - val_loss: 0.7637 - val_accuracy: 0.5063\n",
            "Epoch 57/100\n",
            " 1/45 [..............................] - ETA: 0s - loss: 0.7520 - accuracy: 0.4062\n",
            "Epoch 00057: val_loss did not improve from 0.76374\n",
            "45/45 [==============================] - 0s 2ms/step - loss: 0.7640 - accuracy: 0.3364 - val_loss: 0.7637 - val_accuracy: 0.0169\n",
            "Epoch 58/100\n",
            " 1/45 [..............................] - ETA: 0s - loss: 0.7954 - accuracy: 0.0312\n",
            "Epoch 00058: val_loss did not improve from 0.76374\n",
            "45/45 [==============================] - 0s 2ms/step - loss: 0.7640 - accuracy: 0.2146 - val_loss: 0.7637 - val_accuracy: 0.5042\n",
            "Epoch 59/100\n",
            " 1/45 [..............................] - ETA: 0s - loss: 0.7954 - accuracy: 0.5625\n",
            "Epoch 00059: val_loss did not improve from 0.76374\n",
            "45/45 [==============================] - 0s 2ms/step - loss: 0.7640 - accuracy: 0.2780 - val_loss: 0.7637 - val_accuracy: 0.5042\n",
            "Epoch 60/100\n",
            " 1/45 [..............................] - ETA: 0s - loss: 0.7304 - accuracy: 0.4062\n",
            "Epoch 00060: val_loss did not improve from 0.76374\n",
            "45/45 [==============================] - 0s 2ms/step - loss: 0.7640 - accuracy: 0.3406 - val_loss: 0.7637 - val_accuracy: 0.0253\n",
            "Epoch 61/100\n",
            " 1/45 [..............................] - ETA: 0s - loss: 0.9037 - accuracy: 0.0000e+00\n",
            "Epoch 00061: val_loss did not improve from 0.76374\n",
            "45/45 [==============================] - 0s 2ms/step - loss: 0.7640 - accuracy: 0.2308 - val_loss: 0.7637 - val_accuracy: 0.5042\n",
            "Epoch 62/100\n",
            "45/45 [==============================] - ETA: 0s - loss: 0.7640 - accuracy: 0.3315\n",
            "Epoch 00062: val_loss did not improve from 0.76374\n",
            "45/45 [==============================] - 0s 2ms/step - loss: 0.7640 - accuracy: 0.3315 - val_loss: 0.7637 - val_accuracy: 0.0169\n",
            "Epoch 63/100\n",
            " 1/45 [..............................] - ETA: 0s - loss: 0.7304 - accuracy: 0.0312\n",
            "Epoch 00063: val_loss did not improve from 0.76374\n",
            "45/45 [==============================] - 0s 2ms/step - loss: 0.7640 - accuracy: 0.3540 - val_loss: 0.7637 - val_accuracy: 0.5042\n",
            "Epoch 64/100\n",
            "45/45 [==============================] - ETA: 0s - loss: 0.7640 - accuracy: 0.4075\n",
            "Epoch 00064: val_loss did not improve from 0.76374\n",
            "45/45 [==============================] - 0s 2ms/step - loss: 0.7640 - accuracy: 0.4075 - val_loss: 0.7637 - val_accuracy: 0.5127\n",
            "Epoch 65/100\n",
            " 1/45 [..............................] - ETA: 0s - loss: 0.7954 - accuracy: 0.5625\n",
            "Epoch 00065: val_loss did not improve from 0.76374\n",
            "45/45 [==============================] - 0s 2ms/step - loss: 0.7640 - accuracy: 0.3519 - val_loss: 0.7637 - val_accuracy: 0.4873\n",
            "Epoch 66/100\n",
            "44/45 [============================>.] - ETA: 0s - loss: 0.7639 - accuracy: 0.2663\n",
            "Epoch 00066: val_loss did not improve from 0.76374\n",
            "45/45 [==============================] - 0s 2ms/step - loss: 0.7640 - accuracy: 0.2639 - val_loss: 0.7637 - val_accuracy: 0.0316\n",
            "Epoch 67/100\n",
            " 1/45 [..............................] - ETA: 0s - loss: 0.7737 - accuracy: 0.0312\n",
            "Epoch 00067: val_loss did not improve from 0.76374\n",
            "45/45 [==============================] - 0s 2ms/step - loss: 0.7640 - accuracy: 0.2646 - val_loss: 0.7637 - val_accuracy: 0.4873\n",
            "Epoch 68/100\n",
            " 1/45 [..............................] - ETA: 0s - loss: 0.7520 - accuracy: 0.4688\n",
            "Epoch 00068: val_loss did not improve from 0.76374\n",
            "45/45 [==============================] - 0s 2ms/step - loss: 0.7640 - accuracy: 0.2801 - val_loss: 0.7637 - val_accuracy: 0.4873\n",
            "Epoch 69/100\n",
            "43/45 [===========================>..] - ETA: 0s - loss: 0.7631 - accuracy: 0.2878\n",
            "Epoch 00069: val_loss did not improve from 0.76374\n",
            "45/45 [==============================] - 0s 2ms/step - loss: 0.7640 - accuracy: 0.2787 - val_loss: 0.7637 - val_accuracy: 0.4895\n",
            "Epoch 70/100\n",
            " 1/45 [..............................] - ETA: 0s - loss: 0.7304 - accuracy: 0.5625\n",
            "Epoch 00070: val_loss did not improve from 0.76374\n",
            "45/45 [==============================] - 0s 2ms/step - loss: 0.7640 - accuracy: 0.3315 - val_loss: 0.7637 - val_accuracy: 0.4873\n",
            "Epoch 71/100\n",
            "42/45 [===========================>..] - ETA: 0s - loss: 0.7603 - accuracy: 0.2850\n",
            "Epoch 00071: val_loss did not improve from 0.76374\n",
            "45/45 [==============================] - 0s 2ms/step - loss: 0.7640 - accuracy: 0.2963 - val_loss: 0.7637 - val_accuracy: 0.5127\n",
            "Epoch 72/100\n",
            "37/45 [=======================>......] - ETA: 0s - loss: 0.7760 - accuracy: 0.2601\n",
            "Epoch 00072: val_loss did not improve from 0.76374\n",
            "45/45 [==============================] - 0s 2ms/step - loss: 0.7640 - accuracy: 0.2365 - val_loss: 0.7637 - val_accuracy: 0.5127\n",
            "Epoch 73/100\n",
            "43/45 [===========================>..] - ETA: 0s - loss: 0.7641 - accuracy: 0.3350\n",
            "Epoch 00073: val_loss did not improve from 0.76374\n",
            "45/45 [==============================] - 0s 2ms/step - loss: 0.7640 - accuracy: 0.3406 - val_loss: 0.7637 - val_accuracy: 0.5127\n",
            "Epoch 74/100\n",
            "40/45 [=========================>....] - ETA: 0s - loss: 0.7656 - accuracy: 0.2500\n",
            "Epoch 00074: val_loss did not improve from 0.76374\n",
            "45/45 [==============================] - 0s 2ms/step - loss: 0.7640 - accuracy: 0.2738 - val_loss: 0.7637 - val_accuracy: 0.4895\n",
            "Epoch 75/100\n",
            "41/45 [==========================>...] - ETA: 0s - loss: 0.7631 - accuracy: 0.2820\n",
            "Epoch 00075: val_loss did not improve from 0.76374\n",
            "45/45 [==============================] - 0s 2ms/step - loss: 0.7640 - accuracy: 0.2998 - val_loss: 0.7637 - val_accuracy: 0.4895\n",
            "Epoch 76/100\n",
            "45/45 [==============================] - ETA: 0s - loss: 0.7640 - accuracy: 0.2723\n",
            "Epoch 00076: val_loss did not improve from 0.76374\n",
            "45/45 [==============================] - 0s 2ms/step - loss: 0.7640 - accuracy: 0.2723 - val_loss: 0.7637 - val_accuracy: 0.5148\n",
            "Epoch 77/100\n",
            "43/45 [===========================>..] - ETA: 0s - loss: 0.7636 - accuracy: 0.2384\n",
            "Epoch 00077: val_loss did not improve from 0.76374\n",
            "45/45 [==============================] - 0s 2ms/step - loss: 0.7640 - accuracy: 0.2456 - val_loss: 0.7637 - val_accuracy: 0.4916\n",
            "Epoch 78/100\n",
            "36/45 [=======================>......] - ETA: 0s - loss: 0.7701 - accuracy: 0.2431\n",
            "Epoch 00078: val_loss did not improve from 0.76374\n",
            "45/45 [==============================] - 0s 2ms/step - loss: 0.7640 - accuracy: 0.2857 - val_loss: 0.7637 - val_accuracy: 0.5148\n",
            "Epoch 79/100\n",
            " 1/45 [..............................] - ETA: 0s - loss: 0.7737 - accuracy: 0.5312\n",
            "Epoch 00079: val_loss did not improve from 0.76374\n",
            "45/45 [==============================] - 0s 2ms/step - loss: 0.7640 - accuracy: 0.3455 - val_loss: 0.7637 - val_accuracy: 0.4916\n",
            "Epoch 80/100\n",
            " 1/45 [..............................] - ETA: 0s - loss: 0.8820 - accuracy: 0.3750\n",
            "Epoch 00080: val_loss did not improve from 0.76374\n",
            "45/45 [==============================] - 0s 2ms/step - loss: 0.7640 - accuracy: 0.3427 - val_loss: 0.7637 - val_accuracy: 0.4831\n",
            "Epoch 81/100\n",
            " 1/45 [..............................] - ETA: 0s - loss: 0.7087 - accuracy: 0.5312\n",
            "Epoch 00081: val_loss did not improve from 0.76374\n",
            "45/45 [==============================] - 0s 2ms/step - loss: 0.7640 - accuracy: 0.2963 - val_loss: 0.7637 - val_accuracy: 0.4852\n",
            "Epoch 82/100\n",
            " 1/45 [..............................] - ETA: 0s - loss: 0.6654 - accuracy: 0.6562\n",
            "Epoch 00082: val_loss did not improve from 0.76374\n",
            "45/45 [==============================] - 0s 2ms/step - loss: 0.7640 - accuracy: 0.3139 - val_loss: 0.7637 - val_accuracy: 0.4852\n",
            "Epoch 83/100\n",
            "39/45 [=========================>....] - ETA: 0s - loss: 0.7598 - accuracy: 0.3077\n",
            "Epoch 00083: val_loss did not improve from 0.76374\n",
            "45/45 [==============================] - 0s 2ms/step - loss: 0.7640 - accuracy: 0.3040 - val_loss: 0.7637 - val_accuracy: 0.4873\n",
            "Epoch 84/100\n",
            " 1/45 [..............................] - ETA: 0s - loss: 0.8170 - accuracy: 0.3750\n",
            "Epoch 00084: val_loss did not improve from 0.76374\n",
            "45/45 [==============================] - 0s 2ms/step - loss: 0.7640 - accuracy: 0.3406 - val_loss: 0.7637 - val_accuracy: 0.5148\n",
            "Epoch 85/100\n",
            "41/45 [==========================>...] - ETA: 0s - loss: 0.7647 - accuracy: 0.2355\n",
            "Epoch 00085: val_loss did not improve from 0.76374\n",
            "45/45 [==============================] - 0s 2ms/step - loss: 0.7640 - accuracy: 0.2555 - val_loss: 0.7637 - val_accuracy: 0.5148\n",
            "Epoch 86/100\n",
            "43/45 [===========================>..] - ETA: 0s - loss: 0.7621 - accuracy: 0.3147\n",
            "Epoch 00086: val_loss did not improve from 0.76374\n",
            "45/45 [==============================] - 0s 2ms/step - loss: 0.7640 - accuracy: 0.3047 - val_loss: 0.7637 - val_accuracy: 0.4937\n",
            "Epoch 87/100\n",
            "43/45 [===========================>..] - ETA: 0s - loss: 0.7646 - accuracy: 0.3932\n",
            "Epoch 00087: val_loss did not improve from 0.76374\n",
            "45/45 [==============================] - 0s 2ms/step - loss: 0.7640 - accuracy: 0.3807 - val_loss: 0.7637 - val_accuracy: 0.0148\n",
            "Epoch 88/100\n",
            "42/45 [===========================>..] - ETA: 0s - loss: 0.7639 - accuracy: 0.2567\n",
            "Epoch 00088: val_loss did not improve from 0.76374\n",
            "45/45 [==============================] - 0s 2ms/step - loss: 0.7640 - accuracy: 0.2562 - val_loss: 0.7637 - val_accuracy: 0.5169\n",
            "Epoch 89/100\n",
            "39/45 [=========================>....] - ETA: 0s - loss: 0.7631 - accuracy: 0.3077\n",
            "Epoch 00089: val_loss did not improve from 0.76374\n",
            "45/45 [==============================] - 0s 2ms/step - loss: 0.7640 - accuracy: 0.3153 - val_loss: 0.7637 - val_accuracy: 0.0169\n",
            "Epoch 90/100\n",
            "41/45 [==========================>...] - ETA: 0s - loss: 0.7637 - accuracy: 0.2691\n",
            "Epoch 00090: val_loss did not improve from 0.76374\n",
            "45/45 [==============================] - 0s 2ms/step - loss: 0.7640 - accuracy: 0.2759 - val_loss: 0.7637 - val_accuracy: 0.5169\n",
            "Epoch 91/100\n",
            " 1/45 [..............................] - ETA: 0s - loss: 0.8387 - accuracy: 0.5938\n",
            "Epoch 00091: val_loss did not improve from 0.76374\n",
            "45/45 [==============================] - 0s 2ms/step - loss: 0.7640 - accuracy: 0.2991 - val_loss: 0.7637 - val_accuracy: 0.0148\n",
            "Epoch 92/100\n",
            " 1/45 [..............................] - ETA: 0s - loss: 0.7954 - accuracy: 0.0000e+00\n",
            "Epoch 00092: val_loss did not improve from 0.76374\n",
            "45/45 [==============================] - 0s 2ms/step - loss: 0.7640 - accuracy: 0.2442 - val_loss: 0.7637 - val_accuracy: 0.0190\n",
            "Epoch 93/100\n",
            " 1/45 [..............................] - ETA: 0s - loss: 0.8170 - accuracy: 0.0000e+00\n",
            "Epoch 00093: val_loss did not improve from 0.76374\n",
            "45/45 [==============================] - 0s 2ms/step - loss: 0.7640 - accuracy: 0.2738 - val_loss: 0.7637 - val_accuracy: 0.0148\n",
            "Epoch 94/100\n",
            " 1/45 [..............................] - ETA: 0s - loss: 0.8170 - accuracy: 0.0000e+00\n",
            "Epoch 00094: val_loss did not improve from 0.76374\n",
            "45/45 [==============================] - 0s 2ms/step - loss: 0.7640 - accuracy: 0.3040 - val_loss: 0.7637 - val_accuracy: 0.4958\n",
            "Epoch 95/100\n",
            " 1/45 [..............................] - ETA: 0s - loss: 0.7954 - accuracy: 0.4375\n",
            "Epoch 00095: val_loss did not improve from 0.76374\n",
            "45/45 [==============================] - 0s 2ms/step - loss: 0.7640 - accuracy: 0.3526 - val_loss: 0.7637 - val_accuracy: 0.0127\n",
            "Epoch 96/100\n",
            " 1/45 [..............................] - ETA: 0s - loss: 0.7954 - accuracy: 0.0000e+00\n",
            "Epoch 00096: val_loss did not improve from 0.76374\n",
            "45/45 [==============================] - 0s 2ms/step - loss: 0.7640 - accuracy: 0.2857 - val_loss: 0.7637 - val_accuracy: 0.0148\n",
            "Epoch 97/100\n",
            " 1/45 [..............................] - ETA: 0s - loss: 0.7520 - accuracy: 0.0000e+00\n",
            "Epoch 00097: val_loss did not improve from 0.76374\n",
            "45/45 [==============================] - 0s 2ms/step - loss: 0.7640 - accuracy: 0.2512 - val_loss: 0.7637 - val_accuracy: 0.4937\n",
            "Epoch 98/100\n",
            " 1/45 [..............................] - ETA: 0s - loss: 0.7087 - accuracy: 0.5625\n",
            "Epoch 00098: val_loss did not improve from 0.76374\n",
            "45/45 [==============================] - 0s 2ms/step - loss: 0.7640 - accuracy: 0.2702 - val_loss: 0.7637 - val_accuracy: 0.5169\n",
            "Epoch 99/100\n",
            " 1/45 [..............................] - ETA: 0s - loss: 0.6654 - accuracy: 0.3750\n",
            "Epoch 00099: val_loss did not improve from 0.76374\n",
            "45/45 [==============================] - 0s 2ms/step - loss: 0.7640 - accuracy: 0.2562 - val_loss: 0.7637 - val_accuracy: 0.4958\n",
            "Epoch 100/100\n",
            " 1/45 [..............................] - ETA: 0s - loss: 0.7520 - accuracy: 0.5000\n",
            "Epoch 00100: val_loss did not improve from 0.76374\n",
            "45/45 [==============================] - 0s 2ms/step - loss: 0.7640 - accuracy: 0.2885 - val_loss: 0.7637 - val_accuracy: 0.5169\n"
          ],
          "name": "stdout"
        }
      ]
    },
    {
      "cell_type": "code",
      "metadata": {
        "id": "iCoyxRJ7ECTA",
        "outputId": "2f7e03b9-73f0-49b7-e2dc-1dcf0527c094",
        "colab": {
          "base_uri": "https://localhost:8080/",
          "height": 51
        }
      },
      "source": [
        "from keras.models import load_model\n",
        "\n",
        "loadedModel = load_model('/content/depression_suicide_neither_nn.h5')\n",
        "loadedModel.evaluate(test_features, test_labels)"
      ],
      "execution_count": 17,
      "outputs": [
        {
          "output_type": "stream",
          "text": [
            "15/15 [==============================] - 0s 1ms/step - loss: 0.7637 - accuracy: 0.8650\n"
          ],
          "name": "stdout"
        },
        {
          "output_type": "execute_result",
          "data": {
            "text/plain": [
              "[0.7637370824813843, 0.8649789094924927]"
            ]
          },
          "metadata": {
            "tags": []
          },
          "execution_count": 17
        }
      ]
    },
    {
      "cell_type": "markdown",
      "metadata": {
        "id": "3rUMKuVgwzkY"
      },
      "source": [
        "<img src=\"https://jalammar.github.io/images/distilBERT/bert-training-logistic-regression.png\" />\n",
        "\n",
        "## Evaluating Model #2\n",
        "So how well does our model do in classifying sentences? One way is to check the accuracy against the testing dataset:"
      ]
    },
    {
      "cell_type": "markdown",
      "metadata": {
        "id": "75oyhr3VxHoE"
      },
      "source": [
        "How good is this score? What can we compare it against? Let's first look at a dummy classifier:"
      ]
    },
    {
      "cell_type": "code",
      "metadata": {
        "id": "lnwgmqNG7i5l",
        "outputId": "6a660713-01f4-4bdc-b5de-36cdf52a9bf2",
        "colab": {
          "base_uri": "https://localhost:8080/",
          "height": 34
        }
      },
      "source": [
        "from sklearn.dummy import DummyClassifier\n",
        "clf = DummyClassifier()\n",
        "\n",
        "scores = cross_val_score(clf, train_features, train_labels)\n",
        "print(\"Dummy classifier score: %0.3f (+/- %0.2f)\" % (scores.mean(), scores.std() * 2))"
      ],
      "execution_count": 18,
      "outputs": [
        {
          "output_type": "stream",
          "text": [
            "Dummy classifier score: 0.515 (+/- 0.04)\n"
          ],
          "name": "stdout"
        }
      ]
    },
    {
      "cell_type": "markdown",
      "metadata": {
        "id": "7Lg4LOpoxSOR"
      },
      "source": [
        "So our model clearly does better than a dummy classifier. But how does it compare against the best models?\n",
        "\n",
        "## Proper SST2 scores\n",
        "For reference, the [highest accuracy score](http://nlpprogress.com/english/sentiment_analysis.html) for this dataset is currently **96.8**. DistilBERT can be trained to improve its score on this task – a process called **fine-tuning** which updates BERT’s weights to make it achieve a better performance in this sentence classification task (which we can call the downstream task). The fine-tuned DistilBERT turns out to achieve an accuracy score of **90.7**. The full size BERT model achieves **94.9**.\n",
        "\n",
        "\n",
        "\n",
        "And that’s it! That’s a good first contact with BERT. The next step would be to head over to the documentation and try your hand at [fine-tuning](https://huggingface.co/transformers/examples.html#glue). You can also go back and switch from distilBERT to BERT and see how that works."
      ]
    },
    {
      "cell_type": "code",
      "metadata": {
        "id": "EJQuqV6cnWQu"
      },
      "source": [
        ""
      ],
      "execution_count": 18,
      "outputs": []
    }
  ]
}