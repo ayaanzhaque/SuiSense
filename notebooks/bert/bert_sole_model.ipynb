{
  "nbformat": 4,
  "nbformat_minor": 0,
  "metadata": {
    "colab": {
      "name": "bert-sole-model.ipynb",
      "provenance": [],
      "collapsed_sections": [],
      "authorship_tag": "ABX9TyOfCRqEc1HadG69xFnlG/eU",
      "include_colab_link": true
    },
    "kernelspec": {
      "name": "python3",
      "display_name": "Python 3"
    }
  },
  "cells": [
    {
      "cell_type": "markdown",
      "metadata": {
        "id": "view-in-github",
        "colab_type": "text"
      },
      "source": [
        "<a href=\"https://colab.research.google.com/github/ayaanzhaque/SuiSense/blob/master/notebooks/bert/bert_sole_model.ipynb\" target=\"_parent\"><img src=\"https://colab.research.google.com/assets/colab-badge.svg\" alt=\"Open In Colab\"/></a>"
      ]
    },
    {
      "cell_type": "code",
      "metadata": {
        "id": "gVTleFWlxwqm"
      },
      "source": [
        "#importing relevant libraries\n",
        "import numpy as np\n",
        "import pandas as pd\n",
        "from sklearn.model_selection import train_test_split\n",
        "from sklearn.linear_model import LogisticRegression\n",
        "from sklearn.model_selection import GridSearchCV\n",
        "from sklearn.model_selection import cross_val_score\n",
        "from sklearn.naive_bayes import MultinomialNB\n",
        "\n",
        "import torch\n",
        "\n",
        "import nltk\n",
        "from nltk.tokenize import RegexpTokenizer\n",
        "from nltk.stem import WordNetLemmatizer\n",
        "\n",
        "\n",
        "import warnings\n",
        "warnings.filterwarnings('ignore')"
      ],
      "execution_count": null,
      "outputs": []
    },
    {
      "cell_type": "code",
      "metadata": {
        "id": "DrymcvFSxyGI"
      },
      "source": [
        "features = np.loadtxt('features_real_data_for_model.csv')"
      ],
      "execution_count": null,
      "outputs": []
    },
    {
      "cell_type": "code",
      "metadata": {
        "id": "dNf15A3HycHl",
        "outputId": "c93b0d3b-f2c1-4594-8d81-d4b5aa3b2b23",
        "colab": {
          "base_uri": "https://localhost:8080/",
          "height": 34
        }
      },
      "source": [
        "features.shape"
      ],
      "execution_count": null,
      "outputs": [
        {
          "output_type": "execute_result",
          "data": {
            "text/plain": [
              "(1895, 768)"
            ]
          },
          "metadata": {
            "tags": []
          },
          "execution_count": 12
        }
      ]
    },
    {
      "cell_type": "code",
      "metadata": {
        "id": "TVBPzJCZz8pK"
      },
      "source": [
        ""
      ],
      "execution_count": null,
      "outputs": []
    },
    {
      "cell_type": "code",
      "metadata": {
        "id": "FV2Ptd4hzfOV",
        "outputId": "9fa2ffe9-7865-4ea1-ce8e-301593c5ef54",
        "colab": {
          "base_uri": "https://localhost:8080/",
          "height": 238
        }
      },
      "source": [
        "print(features)"
      ],
      "execution_count": null,
      "outputs": [
        {
          "output_type": "stream",
          "text": [
            "[[ 0.19605026  0.20534156  0.24803329 ...  0.15781963  0.45455933\n",
            "  -0.41783777]\n",
            " [-0.11692914 -0.39638266  0.09059574 ... -0.02261155  0.26243898\n",
            "   0.33010307]\n",
            " [ 0.11361607 -0.04054473  0.23259798 ... -0.1438802   0.45649728\n",
            "   0.47679883]\n",
            " ...\n",
            " [ 0.04628711  0.53464365 -0.19218408 ... -0.34011787  0.77088737\n",
            "   0.60213029]\n",
            " [ 0.24700873  0.28108341  0.21017519 ... -0.1912898   0.26677379\n",
            "  -0.13201511]\n",
            " [ 0.16641247  0.16862674  0.03572434 ... -0.15101409  0.51394463\n",
            "   0.24030764]]\n"
          ],
          "name": "stdout"
        }
      ]
    },
    {
      "cell_type": "code",
      "metadata": {
        "id": "nO2THH6Rz9Si",
        "outputId": "51b0c278-95d0-43da-c94c-ad2aa21a9b28",
        "colab": {
          "base_uri": "https://localhost:8080/",
          "height": 119
        }
      },
      "source": [
        "df = pd.read_csv('/content/real_data_for_model.csv')\n",
        "og_batch_1 = df[['selftext', 'is_suicide']]\n",
        "\n",
        "#batch_1_start = og_batch_1.head(60)\n",
        "#batch_1_end = og_batch_1.tail(60)\n",
        "#test_batch_1 = pd.concat([batch_1_start, batch_1_end], ignore_index=True)\n",
        "batch_1 = og_batch_1.rename(columns={'selftext': 0, 'is_suicide': 1})\n",
        "\n",
        "labels = batch_1[1]\n",
        "labels.head()\n"
      ],
      "execution_count": null,
      "outputs": [
        {
          "output_type": "execute_result",
          "data": {
            "text/plain": [
              "0    0\n",
              "1    0\n",
              "2    0\n",
              "3    0\n",
              "4    0\n",
              "Name: 1, dtype: int64"
            ]
          },
          "metadata": {
            "tags": []
          },
          "execution_count": 14
        }
      ]
    },
    {
      "cell_type": "code",
      "metadata": {
        "id": "4v-opdQj0LCz"
      },
      "source": [
        ""
      ],
      "execution_count": null,
      "outputs": []
    },
    {
      "cell_type": "code",
      "metadata": {
        "id": "ddAqbkoU6PP9"
      },
      "source": [
        "train_features, test_features, train_labels, test_labels = train_test_split(features, labels, test_size=0.25, random_state=42, stratify=labels)"
      ],
      "execution_count": null,
      "outputs": []
    },
    {
      "cell_type": "code",
      "metadata": {
        "id": "EHvawJZP2Rwv"
      },
      "source": [
        "train_features = np.asarray(train_features)\n",
        "train_labels = np.asarray(train_labels)\n",
        "test_features = np.asarray(test_features)\n",
        "test_labels = np.asarray(test_labels)"
      ],
      "execution_count": null,
      "outputs": []
    },
    {
      "cell_type": "code",
      "metadata": {
        "id": "cyEwr7yYD3Ci"
      },
      "source": [
        "# parameters = {'C': np.linspace(0.0001, 100, 20)}\n",
        "# grid_search = GridSearchCV(LogisticRegression(), parameters)\n",
        "# grid_search.fit(train_features, train_labels)\n",
        "\n",
        "# print('best parameters: ', grid_search.best_params_)\n",
        "# print('best scrores: ', grid_search.best_score_)"
      ],
      "execution_count": null,
      "outputs": []
    },
    {
      "cell_type": "code",
      "metadata": {
        "id": "zJatHmgw1an1"
      },
      "source": [
        "#!pip install tensorflow==2.0.0"
      ],
      "execution_count": null,
      "outputs": []
    },
    {
      "cell_type": "code",
      "metadata": {
        "id": "EasetdUEL_ha",
        "outputId": "49fabf5a-f815-4f5d-9d08-5fbd53ac6da5",
        "colab": {
          "base_uri": "https://localhost:8080/",
          "height": 34
        }
      },
      "source": [
        "features.shape"
      ],
      "execution_count": null,
      "outputs": [
        {
          "output_type": "execute_result",
          "data": {
            "text/plain": [
              "(1895, 768)"
            ]
          },
          "metadata": {
            "tags": []
          },
          "execution_count": 32
        }
      ]
    },
    {
      "cell_type": "code",
      "metadata": {
        "id": "gG-EVWx4CzBc",
        "outputId": "2ad92549-88cb-4c6d-f881-4fa16574ba1e",
        "colab": {
          "base_uri": "https://localhost:8080/",
          "height": 700
        }
      },
      "source": [
        "import tensorflow\n",
        "from tensorflow import keras\n",
        "from tensorflow.keras import layers\n",
        "\n",
        "from tensorflow.keras.models import Sequential\n",
        "\n",
        "from tensorflow.keras.layers import Dense, Activation, Embedding, Flatten, GlobalMaxPool1D, Dropout, Conv1D, Input\n",
        "\n",
        "model3 = Sequential()\n",
        "\n",
        "model3.add(Input(shape=(768,), name=\"input_word_ids\"))\n",
        "\n",
        "model3.add(Dense(1, activation='sigmoid'))\n",
        "\n",
        "model3.add(Dense(10, activation='relu'))\n",
        "model3.add(Dense(1, activation='sigmoid'))\n",
        "\n",
        "model3.compile(optimizer='adam',\n",
        "              loss='binary_crossentropy',\n",
        "              metrics=['accuracy'])\n",
        "\n",
        "history = model3.fit(train_features, train_labels, batch_size=32, epochs=19, verbose=1, validation_data=(test_features, test_labels))"
      ],
      "execution_count": null,
      "outputs": [
        {
          "output_type": "stream",
          "text": [
            "Train on 1421 samples, validate on 474 samples\n",
            "Epoch 1/19\n",
            "1421/1421 [==============================] - 1s 763us/sample - loss: 0.6899 - accuracy: 0.5222 - val_loss: 0.6850 - val_accuracy: 0.5274\n",
            "Epoch 2/19\n",
            "1421/1421 [==============================] - 0s 122us/sample - loss: 0.6777 - accuracy: 0.5327 - val_loss: 0.6797 - val_accuracy: 0.5211\n",
            "Epoch 3/19\n",
            "1421/1421 [==============================] - 0s 121us/sample - loss: 0.6705 - accuracy: 0.5588 - val_loss: 0.6759 - val_accuracy: 0.6118\n",
            "Epoch 4/19\n",
            "1421/1421 [==============================] - 0s 128us/sample - loss: 0.6634 - accuracy: 0.5890 - val_loss: 0.6700 - val_accuracy: 0.5992\n",
            "Epoch 5/19\n",
            "1421/1421 [==============================] - 0s 109us/sample - loss: 0.6547 - accuracy: 0.6115 - val_loss: 0.6659 - val_accuracy: 0.5949\n",
            "Epoch 6/19\n",
            "1421/1421 [==============================] - 0s 111us/sample - loss: 0.6496 - accuracy: 0.6094 - val_loss: 0.6590 - val_accuracy: 0.6477\n",
            "Epoch 7/19\n",
            "1421/1421 [==============================] - 0s 115us/sample - loss: 0.6390 - accuracy: 0.6355 - val_loss: 0.6531 - val_accuracy: 0.6540\n",
            "Epoch 8/19\n",
            "1421/1421 [==============================] - 0s 133us/sample - loss: 0.6349 - accuracy: 0.6531 - val_loss: 0.6549 - val_accuracy: 0.6435\n",
            "Epoch 9/19\n",
            "1421/1421 [==============================] - 0s 128us/sample - loss: 0.6248 - accuracy: 0.6608 - val_loss: 0.6444 - val_accuracy: 0.6624\n",
            "Epoch 10/19\n",
            "1421/1421 [==============================] - 0s 105us/sample - loss: 0.6142 - accuracy: 0.6671 - val_loss: 0.6351 - val_accuracy: 0.6814\n",
            "Epoch 11/19\n",
            "1421/1421 [==============================] - 0s 110us/sample - loss: 0.6064 - accuracy: 0.6784 - val_loss: 0.6295 - val_accuracy: 0.6814\n",
            "Epoch 12/19\n",
            "1421/1421 [==============================] - 0s 92us/sample - loss: 0.6002 - accuracy: 0.6868 - val_loss: 0.6268 - val_accuracy: 0.6814\n",
            "Epoch 13/19\n",
            "1421/1421 [==============================] - 0s 97us/sample - loss: 0.5903 - accuracy: 0.6953 - val_loss: 0.6234 - val_accuracy: 0.7004\n",
            "Epoch 14/19\n",
            "1421/1421 [==============================] - 0s 108us/sample - loss: 0.5844 - accuracy: 0.7044 - val_loss: 0.6173 - val_accuracy: 0.6814\n",
            "Epoch 15/19\n",
            "1421/1421 [==============================] - 0s 99us/sample - loss: 0.5755 - accuracy: 0.7143 - val_loss: 0.6141 - val_accuracy: 0.6878\n",
            "Epoch 16/19\n",
            "1421/1421 [==============================] - 0s 110us/sample - loss: 0.5679 - accuracy: 0.7094 - val_loss: 0.6180 - val_accuracy: 0.6688\n",
            "Epoch 17/19\n",
            "1421/1421 [==============================] - 0s 103us/sample - loss: 0.5618 - accuracy: 0.7227 - val_loss: 0.6091 - val_accuracy: 0.6814\n",
            "Epoch 18/19\n",
            "1421/1421 [==============================] - 0s 120us/sample - loss: 0.5597 - accuracy: 0.7150 - val_loss: 0.6090 - val_accuracy: 0.6709\n",
            "Epoch 19/19\n",
            "1421/1421 [==============================] - 0s 109us/sample - loss: 0.5491 - accuracy: 0.7340 - val_loss: 0.6086 - val_accuracy: 0.6793\n"
          ],
          "name": "stdout"
        }
      ]
    },
    {
      "cell_type": "code",
      "metadata": {
        "id": "Hh2MA-i92kIL"
      },
      "source": [
        "model3.save(\"final_regular_model.h5\")"
      ],
      "execution_count": null,
      "outputs": []
    },
    {
      "cell_type": "markdown",
      "metadata": {
        "id": "75oyhr3VxHoE"
      },
      "source": [
        "How good is this score? What can we compare it against? Let's first look at a dummy classifier:"
      ]
    },
    {
      "cell_type": "code",
      "metadata": {
        "id": "xymitTUs5Bwx"
      },
      "source": [
        "final_model = keras.models.load_model('final_regular_model.h5')"
      ],
      "execution_count": null,
      "outputs": []
    },
    {
      "cell_type": "code",
      "metadata": {
        "id": "M3c5ZeEY5Tio",
        "outputId": "b241ab41-0615-434d-d2be-715f0c199d6e",
        "colab": {
          "base_uri": "https://localhost:8080/",
          "height": 136
        }
      },
      "source": [
        "\n",
        "\n",
        "prediction = final_model.predict(features)\n",
        "print(prediction)"
      ],
      "execution_count": null,
      "outputs": [
        {
          "output_type": "stream",
          "text": [
            "[[0.32071516]\n",
            " [0.33665255]\n",
            " [0.3259926 ]\n",
            " ...\n",
            " [0.79324293]\n",
            " [0.6191386 ]\n",
            " [0.7364468 ]]\n"
          ],
          "name": "stdout"
        }
      ]
    },
    {
      "cell_type": "code",
      "metadata": {
        "id": "lnwgmqNG7i5l",
        "outputId": "594738f3-2e75-4a35-d456-8ddd318eab05",
        "colab": {
          "base_uri": "https://localhost:8080/",
          "height": 34
        }
      },
      "source": [
        "from sklearn.dummy import DummyClassifier\n",
        "clf = DummyClassifier()\n",
        "\n",
        "scores = cross_val_score(clf, train_features, train_labels)\n",
        "print(\"Dummy classifier score: %0.3f (+/- %0.2f)\" % (scores.mean(), scores.std() * 2))"
      ],
      "execution_count": null,
      "outputs": [
        {
          "output_type": "stream",
          "text": [
            "Dummy classifier score: 0.507 (+/- 0.02)\n"
          ],
          "name": "stdout"
        }
      ]
    }
  ]
}