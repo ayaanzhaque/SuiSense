{
  "nbformat": 4,
  "nbformat_minor": 0,
  "metadata": {
    "colab": {
      "name": "bert-sole-model.ipynb",
      "provenance": [],
      "collapsed_sections": [],
      "include_colab_link": true
    },
    "kernelspec": {
      "name": "python3",
      "display_name": "Python 3"
    }
  },
  "cells": [
    {
      "cell_type": "markdown",
      "metadata": {
        "id": "view-in-github",
        "colab_type": "text"
      },
      "source": [
        "<a href=\"https://colab.research.google.com/github/ayaanzhaque/SuiSense/blob/master/notebooks/bert/bert_sole_model.ipynb\" target=\"_parent\"><img src=\"https://colab.research.google.com/assets/colab-badge.svg\" alt=\"Open In Colab\"/></a>"
      ]
    },
    {
      "cell_type": "code",
      "metadata": {
        "id": "UArAmwlTkitj",
        "outputId": "4bd167be-c14b-476e-f6e0-1b93f6d75bb3",
        "colab": {
          "base_uri": "https://localhost:8080/",
          "height": 1000
        }
      },
      "source": [
        "!pip install tensorflow==2.0.0"
      ],
      "execution_count": 1,
      "outputs": [
        {
          "output_type": "stream",
          "text": [
            "Collecting tensorflow==2.0.0\n",
            "\u001b[?25l  Downloading https://files.pythonhosted.org/packages/46/0f/7bd55361168bb32796b360ad15a25de6966c9c1beb58a8e30c01c8279862/tensorflow-2.0.0-cp36-cp36m-manylinux2010_x86_64.whl (86.3MB)\n",
            "\u001b[K     |████████████████████████████████| 86.3MB 62kB/s \n",
            "\u001b[?25hCollecting tensorboard<2.1.0,>=2.0.0\n",
            "\u001b[?25l  Downloading https://files.pythonhosted.org/packages/76/54/99b9d5d52d5cb732f099baaaf7740403e83fe6b0cedde940fabd2b13d75a/tensorboard-2.0.2-py3-none-any.whl (3.8MB)\n",
            "\u001b[K     |████████████████████████████████| 3.8MB 41.7MB/s \n",
            "\u001b[?25hRequirement already satisfied: termcolor>=1.1.0 in /usr/local/lib/python3.6/dist-packages (from tensorflow==2.0.0) (1.1.0)\n",
            "Requirement already satisfied: keras-preprocessing>=1.0.5 in /usr/local/lib/python3.6/dist-packages (from tensorflow==2.0.0) (1.1.2)\n",
            "Collecting keras-applications>=1.0.8\n",
            "\u001b[?25l  Downloading https://files.pythonhosted.org/packages/71/e3/19762fdfc62877ae9102edf6342d71b28fbfd9dea3d2f96a882ce099b03f/Keras_Applications-1.0.8-py3-none-any.whl (50kB)\n",
            "\u001b[K     |████████████████████████████████| 51kB 5.5MB/s \n",
            "\u001b[?25hCollecting tensorflow-estimator<2.1.0,>=2.0.0\n",
            "\u001b[?25l  Downloading https://files.pythonhosted.org/packages/fc/08/8b927337b7019c374719145d1dceba21a8bb909b93b1ad6f8fb7d22c1ca1/tensorflow_estimator-2.0.1-py2.py3-none-any.whl (449kB)\n",
            "\u001b[K     |████████████████████████████████| 450kB 42.1MB/s \n",
            "\u001b[?25hRequirement already satisfied: absl-py>=0.7.0 in /usr/local/lib/python3.6/dist-packages (from tensorflow==2.0.0) (0.10.0)\n",
            "Requirement already satisfied: numpy<2.0,>=1.16.0 in /usr/local/lib/python3.6/dist-packages (from tensorflow==2.0.0) (1.18.5)\n",
            "Requirement already satisfied: grpcio>=1.8.6 in /usr/local/lib/python3.6/dist-packages (from tensorflow==2.0.0) (1.32.0)\n",
            "Requirement already satisfied: wheel>=0.26 in /usr/local/lib/python3.6/dist-packages (from tensorflow==2.0.0) (0.35.1)\n",
            "Requirement already satisfied: protobuf>=3.6.1 in /usr/local/lib/python3.6/dist-packages (from tensorflow==2.0.0) (3.12.4)\n",
            "Requirement already satisfied: wrapt>=1.11.1 in /usr/local/lib/python3.6/dist-packages (from tensorflow==2.0.0) (1.12.1)\n",
            "Requirement already satisfied: google-pasta>=0.1.6 in /usr/local/lib/python3.6/dist-packages (from tensorflow==2.0.0) (0.2.0)\n",
            "Requirement already satisfied: opt-einsum>=2.3.2 in /usr/local/lib/python3.6/dist-packages (from tensorflow==2.0.0) (3.3.0)\n",
            "Collecting gast==0.2.2\n",
            "  Downloading https://files.pythonhosted.org/packages/4e/35/11749bf99b2d4e3cceb4d55ca22590b0d7c2c62b9de38ac4a4a7f4687421/gast-0.2.2.tar.gz\n",
            "Requirement already satisfied: astor>=0.6.0 in /usr/local/lib/python3.6/dist-packages (from tensorflow==2.0.0) (0.8.1)\n",
            "Requirement already satisfied: six>=1.10.0 in /usr/local/lib/python3.6/dist-packages (from tensorflow==2.0.0) (1.15.0)\n",
            "Requirement already satisfied: google-auth<2,>=1.6.3 in /usr/local/lib/python3.6/dist-packages (from tensorboard<2.1.0,>=2.0.0->tensorflow==2.0.0) (1.17.2)\n",
            "Requirement already satisfied: markdown>=2.6.8 in /usr/local/lib/python3.6/dist-packages (from tensorboard<2.1.0,>=2.0.0->tensorflow==2.0.0) (3.2.2)\n",
            "Requirement already satisfied: google-auth-oauthlib<0.5,>=0.4.1 in /usr/local/lib/python3.6/dist-packages (from tensorboard<2.1.0,>=2.0.0->tensorflow==2.0.0) (0.4.1)\n",
            "Requirement already satisfied: werkzeug>=0.11.15 in /usr/local/lib/python3.6/dist-packages (from tensorboard<2.1.0,>=2.0.0->tensorflow==2.0.0) (1.0.1)\n",
            "Requirement already satisfied: requests<3,>=2.21.0 in /usr/local/lib/python3.6/dist-packages (from tensorboard<2.1.0,>=2.0.0->tensorflow==2.0.0) (2.23.0)\n",
            "Requirement already satisfied: setuptools>=41.0.0 in /usr/local/lib/python3.6/dist-packages (from tensorboard<2.1.0,>=2.0.0->tensorflow==2.0.0) (50.3.0)\n",
            "Requirement already satisfied: h5py in /usr/local/lib/python3.6/dist-packages (from keras-applications>=1.0.8->tensorflow==2.0.0) (2.10.0)\n",
            "Requirement already satisfied: pyasn1-modules>=0.2.1 in /usr/local/lib/python3.6/dist-packages (from google-auth<2,>=1.6.3->tensorboard<2.1.0,>=2.0.0->tensorflow==2.0.0) (0.2.8)\n",
            "Requirement already satisfied: rsa<5,>=3.1.4; python_version >= \"3\" in /usr/local/lib/python3.6/dist-packages (from google-auth<2,>=1.6.3->tensorboard<2.1.0,>=2.0.0->tensorflow==2.0.0) (4.6)\n",
            "Requirement already satisfied: cachetools<5.0,>=2.0.0 in /usr/local/lib/python3.6/dist-packages (from google-auth<2,>=1.6.3->tensorboard<2.1.0,>=2.0.0->tensorflow==2.0.0) (4.1.1)\n",
            "Requirement already satisfied: importlib-metadata; python_version < \"3.8\" in /usr/local/lib/python3.6/dist-packages (from markdown>=2.6.8->tensorboard<2.1.0,>=2.0.0->tensorflow==2.0.0) (2.0.0)\n",
            "Requirement already satisfied: requests-oauthlib>=0.7.0 in /usr/local/lib/python3.6/dist-packages (from google-auth-oauthlib<0.5,>=0.4.1->tensorboard<2.1.0,>=2.0.0->tensorflow==2.0.0) (1.3.0)\n",
            "Requirement already satisfied: idna<3,>=2.5 in /usr/local/lib/python3.6/dist-packages (from requests<3,>=2.21.0->tensorboard<2.1.0,>=2.0.0->tensorflow==2.0.0) (2.10)\n",
            "Requirement already satisfied: chardet<4,>=3.0.2 in /usr/local/lib/python3.6/dist-packages (from requests<3,>=2.21.0->tensorboard<2.1.0,>=2.0.0->tensorflow==2.0.0) (3.0.4)\n",
            "Requirement already satisfied: urllib3!=1.25.0,!=1.25.1,<1.26,>=1.21.1 in /usr/local/lib/python3.6/dist-packages (from requests<3,>=2.21.0->tensorboard<2.1.0,>=2.0.0->tensorflow==2.0.0) (1.24.3)\n",
            "Requirement already satisfied: certifi>=2017.4.17 in /usr/local/lib/python3.6/dist-packages (from requests<3,>=2.21.0->tensorboard<2.1.0,>=2.0.0->tensorflow==2.0.0) (2020.6.20)\n",
            "Requirement already satisfied: pyasn1<0.5.0,>=0.4.6 in /usr/local/lib/python3.6/dist-packages (from pyasn1-modules>=0.2.1->google-auth<2,>=1.6.3->tensorboard<2.1.0,>=2.0.0->tensorflow==2.0.0) (0.4.8)\n",
            "Requirement already satisfied: zipp>=0.5 in /usr/local/lib/python3.6/dist-packages (from importlib-metadata; python_version < \"3.8\"->markdown>=2.6.8->tensorboard<2.1.0,>=2.0.0->tensorflow==2.0.0) (3.2.0)\n",
            "Requirement already satisfied: oauthlib>=3.0.0 in /usr/local/lib/python3.6/dist-packages (from requests-oauthlib>=0.7.0->google-auth-oauthlib<0.5,>=0.4.1->tensorboard<2.1.0,>=2.0.0->tensorflow==2.0.0) (3.1.0)\n",
            "Building wheels for collected packages: gast\n",
            "  Building wheel for gast (setup.py) ... \u001b[?25l\u001b[?25hdone\n",
            "  Created wheel for gast: filename=gast-0.2.2-cp36-none-any.whl size=7542 sha256=19c454234e2a91d68f0041ca15e8b471d67f285e0d88f5c366e868f8ad8ea265\n",
            "  Stored in directory: /root/.cache/pip/wheels/5c/2e/7e/a1d4d4fcebe6c381f378ce7743a3ced3699feb89bcfbdadadd\n",
            "Successfully built gast\n",
            "\u001b[31mERROR: tensorflow-probability 0.11.0 has requirement gast>=0.3.2, but you'll have gast 0.2.2 which is incompatible.\u001b[0m\n",
            "Installing collected packages: tensorboard, keras-applications, tensorflow-estimator, gast, tensorflow\n",
            "  Found existing installation: tensorboard 2.3.0\n",
            "    Uninstalling tensorboard-2.3.0:\n",
            "      Successfully uninstalled tensorboard-2.3.0\n",
            "  Found existing installation: tensorflow-estimator 2.3.0\n",
            "    Uninstalling tensorflow-estimator-2.3.0:\n",
            "      Successfully uninstalled tensorflow-estimator-2.3.0\n",
            "  Found existing installation: gast 0.3.3\n",
            "    Uninstalling gast-0.3.3:\n",
            "      Successfully uninstalled gast-0.3.3\n",
            "  Found existing installation: tensorflow 2.3.0\n",
            "    Uninstalling tensorflow-2.3.0:\n",
            "      Successfully uninstalled tensorflow-2.3.0\n",
            "Successfully installed gast-0.2.2 keras-applications-1.0.8 tensorboard-2.0.2 tensorflow-2.0.0 tensorflow-estimator-2.0.1\n"
          ],
          "name": "stdout"
        }
      ]
    },
    {
      "cell_type": "code",
      "metadata": {
        "id": "gVTleFWlxwqm"
      },
      "source": [
        "#importing relevant libraries\n",
        "import numpy as np\n",
        "import pandas as pd\n",
        "from sklearn.model_selection import train_test_split\n",
        "from sklearn.linear_model import LogisticRegression\n",
        "from sklearn.model_selection import GridSearchCV\n",
        "from sklearn.model_selection import cross_val_score\n",
        "from sklearn.naive_bayes import MultinomialNB\n",
        "\n",
        "import torch\n",
        "\n",
        "import nltk\n",
        "from nltk.tokenize import RegexpTokenizer\n",
        "from nltk.stem import WordNetLemmatizer\n",
        "\n",
        "\n",
        "import warnings\n",
        "warnings.filterwarnings('ignore')"
      ],
      "execution_count": 2,
      "outputs": []
    },
    {
      "cell_type": "code",
      "metadata": {
        "id": "DrymcvFSxyGI"
      },
      "source": [
        "features = np.loadtxt('/content/depression_features.csv', delimiter=',')"
      ],
      "execution_count": 3,
      "outputs": []
    },
    {
      "cell_type": "code",
      "metadata": {
        "id": "dNf15A3HycHl",
        "outputId": "2f85719d-e415-44df-856f-7e876db8c483",
        "colab": {
          "base_uri": "https://localhost:8080/",
          "height": 34
        }
      },
      "source": [
        "features.shape"
      ],
      "execution_count": 4,
      "outputs": [
        {
          "output_type": "execute_result",
          "data": {
            "text/plain": [
              "(1753, 768)"
            ]
          },
          "metadata": {
            "tags": []
          },
          "execution_count": 4
        }
      ]
    },
    {
      "cell_type": "code",
      "metadata": {
        "id": "TVBPzJCZz8pK"
      },
      "source": [
        ""
      ],
      "execution_count": 4,
      "outputs": []
    },
    {
      "cell_type": "code",
      "metadata": {
        "id": "FV2Ptd4hzfOV",
        "outputId": "06f007ab-e300-45ed-ffad-bc5841d86aac",
        "colab": {
          "base_uri": "https://localhost:8080/",
          "height": 238
        }
      },
      "source": [
        "print(features)"
      ],
      "execution_count": 5,
      "outputs": [
        {
          "output_type": "stream",
          "text": [
            "[[ 0.07591268 -0.34822091  0.16085705 ... -0.14986664  0.16943021\n",
            "   0.40712491]\n",
            " [ 0.19959742 -0.46824878 -0.13320191 ...  0.24585974  0.29235959\n",
            "   0.7540049 ]\n",
            " [ 0.09190658 -0.44685808 -0.09476358 ...  0.07583393  0.58452082\n",
            "   0.14125887]\n",
            " ...\n",
            " [ 0.15364234 -0.03021675  0.27673104 ... -0.0609066   0.40177199\n",
            "   0.0525504 ]\n",
            " [ 0.3622891  -0.22443818 -0.05779193 ... -0.26590279  0.48995706\n",
            "   0.13213846]\n",
            " [ 0.12520161 -0.28329435  0.34319153 ...  0.05066732  0.2462766\n",
            "   0.07014484]]\n"
          ],
          "name": "stdout"
        }
      ]
    },
    {
      "cell_type": "code",
      "metadata": {
        "id": "nO2THH6Rz9Si",
        "outputId": "b6796f03-f86e-4726-86f1-aa403081b53a",
        "colab": {
          "base_uri": "https://localhost:8080/",
          "height": 119
        }
      },
      "source": [
        "df = pd.read_csv('/content/depression_vs_nothing_final.csv')\n",
        "og_batch_1 = df[['selftext', 'is_suicide']]\n",
        "\n",
        "#batch_1_start = og_batch_1.head(60)\n",
        "#batch_1_end = og_batch_1.tail(60)\n",
        "#test_batch_1 = pd.concat([batch_1_start, batch_1_end], ignore_index=True)\n",
        "batch_1 = og_batch_1.rename(columns={'selftext': 0, 'is_suicide': 1})\n",
        "\n",
        "labels = batch_1[1]\n",
        "labels.head()\n"
      ],
      "execution_count": 6,
      "outputs": [
        {
          "output_type": "execute_result",
          "data": {
            "text/plain": [
              "0    1\n",
              "1    1\n",
              "2    1\n",
              "3    1\n",
              "4    1\n",
              "Name: 1, dtype: int64"
            ]
          },
          "metadata": {
            "tags": []
          },
          "execution_count": 6
        }
      ]
    },
    {
      "cell_type": "code",
      "metadata": {
        "id": "4v-opdQj0LCz"
      },
      "source": [
        ""
      ],
      "execution_count": 6,
      "outputs": []
    },
    {
      "cell_type": "code",
      "metadata": {
        "id": "ddAqbkoU6PP9"
      },
      "source": [
        "train_features, test_features, train_labels, test_labels = train_test_split(features, labels, test_size=0.25, random_state=42, stratify=labels)"
      ],
      "execution_count": 7,
      "outputs": []
    },
    {
      "cell_type": "code",
      "metadata": {
        "id": "EHvawJZP2Rwv"
      },
      "source": [
        "train_features = np.asarray(train_features)\n",
        "train_labels = np.asarray(train_labels)\n",
        "test_features = np.asarray(test_features)\n",
        "test_labels = np.asarray(test_labels)"
      ],
      "execution_count": 8,
      "outputs": []
    },
    {
      "cell_type": "code",
      "metadata": {
        "id": "cyEwr7yYD3Ci"
      },
      "source": [
        "# parameters = {'C': np.linspace(0.0001, 100, 20)}\n",
        "# grid_search = GridSearchCV(LogisticRegression(), parameters)\n",
        "# grid_search.fit(train_features, train_labels)\n",
        "\n",
        "# print('best parameters: ', grid_search.best_params_)\n",
        "# print('best scrores: ', grid_search.best_score_)"
      ],
      "execution_count": 9,
      "outputs": []
    },
    {
      "cell_type": "code",
      "metadata": {
        "id": "zJatHmgw1an1"
      },
      "source": [
        "#"
      ],
      "execution_count": 10,
      "outputs": []
    },
    {
      "cell_type": "code",
      "metadata": {
        "id": "EasetdUEL_ha",
        "outputId": "1ae46a1b-7198-4a31-d6a1-da6eaadf3590",
        "colab": {
          "base_uri": "https://localhost:8080/",
          "height": 34
        }
      },
      "source": [
        "features.shape"
      ],
      "execution_count": 11,
      "outputs": [
        {
          "output_type": "execute_result",
          "data": {
            "text/plain": [
              "(1753, 768)"
            ]
          },
          "metadata": {
            "tags": []
          },
          "execution_count": 11
        }
      ]
    },
    {
      "cell_type": "code",
      "metadata": {
        "id": "gG-EVWx4CzBc",
        "outputId": "e19c0c4d-721b-4538-d1f5-03daea96f4db",
        "colab": {
          "base_uri": "https://localhost:8080/",
          "height": 1000
        }
      },
      "source": [
        "import tensorflow\n",
        "from tensorflow import keras\n",
        "from tensorflow.keras import layers\n",
        "\n",
        "from tensorflow.keras.models import Sequential\n",
        "\n",
        "from tensorflow.keras.layers import Dense, Activation, Embedding, Flatten, GlobalMaxPool1D, Dropout, Conv1D, Input\n",
        "\n",
        "model3 = Sequential()\n",
        "\n",
        "model3.add(Input(shape=(768,), name=\"input_word_ids\"))\n",
        "\n",
        "model3.add(Dense(1, activation='sigmoid'))\n",
        "\n",
        "model3.add(Dense(10, activation='relu'))\n",
        "model3.add(Dense(1, activation='sigmoid'))\n",
        "\n",
        "model3.compile(optimizer='adam',\n",
        "              loss='binary_crossentropy',\n",
        "              metrics=['accuracy'])\n",
        "\n",
        "history = model3.fit(train_features, train_labels, batch_size=32, epochs=80, verbose=1, validation_data=(test_features, test_labels))"
      ],
      "execution_count": 20,
      "outputs": [
        {
          "output_type": "stream",
          "text": [
            "Train on 1314 samples, validate on 439 samples\n",
            "Epoch 1/80\n",
            "1314/1314 [==============================] - 1s 596us/sample - loss: 0.6902 - accuracy: 0.6149 - val_loss: 0.6820 - val_accuracy: 0.5900\n",
            "Epoch 2/80\n",
            "1314/1314 [==============================] - 0s 97us/sample - loss: 0.6710 - accuracy: 0.6918 - val_loss: 0.6546 - val_accuracy: 0.7745\n",
            "Epoch 3/80\n",
            "1314/1314 [==============================] - 0s 84us/sample - loss: 0.6440 - accuracy: 0.7702 - val_loss: 0.6269 - val_accuracy: 0.8064\n",
            "Epoch 4/80\n",
            "1314/1314 [==============================] - 0s 85us/sample - loss: 0.6148 - accuracy: 0.8021 - val_loss: 0.5973 - val_accuracy: 0.7950\n",
            "Epoch 5/80\n",
            "1314/1314 [==============================] - 0s 82us/sample - loss: 0.5858 - accuracy: 0.8204 - val_loss: 0.5690 - val_accuracy: 0.8337\n",
            "Epoch 6/80\n",
            "1314/1314 [==============================] - 0s 82us/sample - loss: 0.5583 - accuracy: 0.8402 - val_loss: 0.5407 - val_accuracy: 0.8565\n",
            "Epoch 7/80\n",
            "1314/1314 [==============================] - 0s 81us/sample - loss: 0.5288 - accuracy: 0.8638 - val_loss: 0.5155 - val_accuracy: 0.8565\n",
            "Epoch 8/80\n",
            "1314/1314 [==============================] - 0s 82us/sample - loss: 0.5018 - accuracy: 0.8638 - val_loss: 0.4914 - val_accuracy: 0.8679\n",
            "Epoch 9/80\n",
            "1314/1314 [==============================] - 0s 86us/sample - loss: 0.4751 - accuracy: 0.8866 - val_loss: 0.4658 - val_accuracy: 0.8679\n",
            "Epoch 10/80\n",
            "1314/1314 [==============================] - 0s 85us/sample - loss: 0.4510 - accuracy: 0.8813 - val_loss: 0.4399 - val_accuracy: 0.8815\n",
            "Epoch 11/80\n",
            "1314/1314 [==============================] - 0s 86us/sample - loss: 0.4276 - accuracy: 0.8896 - val_loss: 0.4174 - val_accuracy: 0.8770\n",
            "Epoch 12/80\n",
            "1314/1314 [==============================] - 0s 88us/sample - loss: 0.4051 - accuracy: 0.8927 - val_loss: 0.4099 - val_accuracy: 0.8610\n",
            "Epoch 13/80\n",
            "1314/1314 [==============================] - 0s 95us/sample - loss: 0.3847 - accuracy: 0.8889 - val_loss: 0.3809 - val_accuracy: 0.8770\n",
            "Epoch 14/80\n",
            "1314/1314 [==============================] - 0s 84us/sample - loss: 0.3633 - accuracy: 0.8919 - val_loss: 0.3673 - val_accuracy: 0.8747\n",
            "Epoch 15/80\n",
            "1314/1314 [==============================] - 0s 82us/sample - loss: 0.3490 - accuracy: 0.8919 - val_loss: 0.3547 - val_accuracy: 0.8815\n",
            "Epoch 16/80\n",
            "1314/1314 [==============================] - 0s 91us/sample - loss: 0.3427 - accuracy: 0.8935 - val_loss: 0.3411 - val_accuracy: 0.8884\n",
            "Epoch 17/80\n",
            "1314/1314 [==============================] - 0s 83us/sample - loss: 0.3219 - accuracy: 0.9033 - val_loss: 0.3303 - val_accuracy: 0.8907\n",
            "Epoch 18/80\n",
            "1314/1314 [==============================] - 0s 83us/sample - loss: 0.3081 - accuracy: 0.9079 - val_loss: 0.3230 - val_accuracy: 0.8861\n",
            "Epoch 19/80\n",
            "1314/1314 [==============================] - 0s 84us/sample - loss: 0.2968 - accuracy: 0.9079 - val_loss: 0.3133 - val_accuracy: 0.8884\n",
            "Epoch 20/80\n",
            "1314/1314 [==============================] - 0s 85us/sample - loss: 0.2901 - accuracy: 0.9056 - val_loss: 0.3098 - val_accuracy: 0.8884\n",
            "Epoch 21/80\n",
            "1314/1314 [==============================] - 0s 92us/sample - loss: 0.2885 - accuracy: 0.9064 - val_loss: 0.3046 - val_accuracy: 0.8815\n",
            "Epoch 22/80\n",
            "1314/1314 [==============================] - 0s 88us/sample - loss: 0.2745 - accuracy: 0.9102 - val_loss: 0.2985 - val_accuracy: 0.8838\n",
            "Epoch 23/80\n",
            "1314/1314 [==============================] - 0s 90us/sample - loss: 0.2654 - accuracy: 0.9125 - val_loss: 0.2941 - val_accuracy: 0.8861\n",
            "Epoch 24/80\n",
            "1314/1314 [==============================] - 0s 99us/sample - loss: 0.2587 - accuracy: 0.9163 - val_loss: 0.2900 - val_accuracy: 0.8884\n",
            "Epoch 25/80\n",
            "1314/1314 [==============================] - 0s 88us/sample - loss: 0.2532 - accuracy: 0.9209 - val_loss: 0.2878 - val_accuracy: 0.8884\n",
            "Epoch 26/80\n",
            "1314/1314 [==============================] - 0s 93us/sample - loss: 0.2453 - accuracy: 0.9224 - val_loss: 0.2880 - val_accuracy: 0.8861\n",
            "Epoch 27/80\n",
            "1314/1314 [==============================] - 0s 87us/sample - loss: 0.2452 - accuracy: 0.9231 - val_loss: 0.2838 - val_accuracy: 0.8815\n",
            "Epoch 28/80\n",
            "1314/1314 [==============================] - 0s 97us/sample - loss: 0.2365 - accuracy: 0.9262 - val_loss: 0.2820 - val_accuracy: 0.8815\n",
            "Epoch 29/80\n",
            "1314/1314 [==============================] - 0s 92us/sample - loss: 0.2369 - accuracy: 0.9201 - val_loss: 0.2795 - val_accuracy: 0.8838\n",
            "Epoch 30/80\n",
            "1314/1314 [==============================] - 0s 86us/sample - loss: 0.2307 - accuracy: 0.9262 - val_loss: 0.2820 - val_accuracy: 0.8815\n",
            "Epoch 31/80\n",
            "1314/1314 [==============================] - 0s 80us/sample - loss: 0.2255 - accuracy: 0.9231 - val_loss: 0.2779 - val_accuracy: 0.8884\n",
            "Epoch 32/80\n",
            "1314/1314 [==============================] - 0s 87us/sample - loss: 0.2235 - accuracy: 0.9285 - val_loss: 0.2802 - val_accuracy: 0.8770\n",
            "Epoch 33/80\n",
            "1314/1314 [==============================] - 0s 92us/sample - loss: 0.2284 - accuracy: 0.9186 - val_loss: 0.2791 - val_accuracy: 0.8770\n",
            "Epoch 34/80\n",
            "1314/1314 [==============================] - 0s 84us/sample - loss: 0.2190 - accuracy: 0.9323 - val_loss: 0.2778 - val_accuracy: 0.8793\n",
            "Epoch 35/80\n",
            "1314/1314 [==============================] - 0s 81us/sample - loss: 0.2121 - accuracy: 0.9391 - val_loss: 0.2770 - val_accuracy: 0.8861\n",
            "Epoch 36/80\n",
            "1314/1314 [==============================] - 0s 83us/sample - loss: 0.2090 - accuracy: 0.9384 - val_loss: 0.2794 - val_accuracy: 0.8861\n",
            "Epoch 37/80\n",
            "1314/1314 [==============================] - 0s 89us/sample - loss: 0.2058 - accuracy: 0.9376 - val_loss: 0.2785 - val_accuracy: 0.8838\n",
            "Epoch 38/80\n",
            "1314/1314 [==============================] - 0s 87us/sample - loss: 0.2043 - accuracy: 0.9384 - val_loss: 0.2787 - val_accuracy: 0.8770\n",
            "Epoch 39/80\n",
            "1314/1314 [==============================] - 0s 79us/sample - loss: 0.2015 - accuracy: 0.9368 - val_loss: 0.2786 - val_accuracy: 0.8793\n",
            "Epoch 40/80\n",
            "1314/1314 [==============================] - 0s 86us/sample - loss: 0.1986 - accuracy: 0.9414 - val_loss: 0.2831 - val_accuracy: 0.8861\n",
            "Epoch 41/80\n",
            "1314/1314 [==============================] - 0s 83us/sample - loss: 0.1975 - accuracy: 0.9384 - val_loss: 0.2791 - val_accuracy: 0.8815\n",
            "Epoch 42/80\n",
            "1314/1314 [==============================] - 0s 81us/sample - loss: 0.1931 - accuracy: 0.9460 - val_loss: 0.2852 - val_accuracy: 0.8861\n",
            "Epoch 43/80\n",
            "1314/1314 [==============================] - 0s 81us/sample - loss: 0.1952 - accuracy: 0.9361 - val_loss: 0.2798 - val_accuracy: 0.8793\n",
            "Epoch 44/80\n",
            "1314/1314 [==============================] - 0s 81us/sample - loss: 0.1896 - accuracy: 0.9498 - val_loss: 0.2800 - val_accuracy: 0.8838\n",
            "Epoch 45/80\n",
            "1314/1314 [==============================] - 0s 90us/sample - loss: 0.1916 - accuracy: 0.9437 - val_loss: 0.2810 - val_accuracy: 0.8815\n",
            "Epoch 46/80\n",
            "1314/1314 [==============================] - 0s 92us/sample - loss: 0.1861 - accuracy: 0.9414 - val_loss: 0.2950 - val_accuracy: 0.8884\n",
            "Epoch 47/80\n",
            "1314/1314 [==============================] - 0s 84us/sample - loss: 0.1874 - accuracy: 0.9460 - val_loss: 0.2830 - val_accuracy: 0.8770\n",
            "Epoch 48/80\n",
            "1314/1314 [==============================] - 0s 91us/sample - loss: 0.1821 - accuracy: 0.9467 - val_loss: 0.2851 - val_accuracy: 0.8770\n",
            "Epoch 49/80\n",
            "1314/1314 [==============================] - 0s 85us/sample - loss: 0.1814 - accuracy: 0.9490 - val_loss: 0.2895 - val_accuracy: 0.8702\n",
            "Epoch 50/80\n",
            "1314/1314 [==============================] - 0s 81us/sample - loss: 0.1816 - accuracy: 0.9460 - val_loss: 0.2843 - val_accuracy: 0.8861\n",
            "Epoch 51/80\n",
            "1314/1314 [==============================] - 0s 82us/sample - loss: 0.1750 - accuracy: 0.9528 - val_loss: 0.2874 - val_accuracy: 0.8724\n",
            "Epoch 52/80\n",
            "1314/1314 [==============================] - 0s 81us/sample - loss: 0.1746 - accuracy: 0.9475 - val_loss: 0.2881 - val_accuracy: 0.8679\n",
            "Epoch 53/80\n",
            "1314/1314 [==============================] - 0s 84us/sample - loss: 0.1759 - accuracy: 0.9467 - val_loss: 0.2902 - val_accuracy: 0.8724\n",
            "Epoch 54/80\n",
            "1314/1314 [==============================] - 0s 83us/sample - loss: 0.1768 - accuracy: 0.9482 - val_loss: 0.3010 - val_accuracy: 0.8907\n",
            "Epoch 55/80\n",
            "1314/1314 [==============================] - 0s 85us/sample - loss: 0.1727 - accuracy: 0.9460 - val_loss: 0.2866 - val_accuracy: 0.8793\n",
            "Epoch 56/80\n",
            "1314/1314 [==============================] - 0s 89us/sample - loss: 0.1695 - accuracy: 0.9521 - val_loss: 0.2931 - val_accuracy: 0.8702\n",
            "Epoch 57/80\n",
            "1314/1314 [==============================] - 0s 88us/sample - loss: 0.1650 - accuracy: 0.9528 - val_loss: 0.2878 - val_accuracy: 0.8838\n",
            "Epoch 58/80\n",
            "1314/1314 [==============================] - 0s 90us/sample - loss: 0.1664 - accuracy: 0.9521 - val_loss: 0.2873 - val_accuracy: 0.8861\n",
            "Epoch 59/80\n",
            "1314/1314 [==============================] - 0s 80us/sample - loss: 0.1621 - accuracy: 0.9490 - val_loss: 0.2883 - val_accuracy: 0.8770\n",
            "Epoch 60/80\n",
            "1314/1314 [==============================] - 0s 88us/sample - loss: 0.1618 - accuracy: 0.9551 - val_loss: 0.2865 - val_accuracy: 0.8815\n",
            "Epoch 61/80\n",
            "1314/1314 [==============================] - 0s 84us/sample - loss: 0.1571 - accuracy: 0.9574 - val_loss: 0.3037 - val_accuracy: 0.8952\n",
            "Epoch 62/80\n",
            "1314/1314 [==============================] - 0s 86us/sample - loss: 0.1588 - accuracy: 0.9536 - val_loss: 0.2895 - val_accuracy: 0.8861\n",
            "Epoch 63/80\n",
            "1314/1314 [==============================] - 0s 84us/sample - loss: 0.1553 - accuracy: 0.9566 - val_loss: 0.2917 - val_accuracy: 0.8702\n",
            "Epoch 64/80\n",
            "1314/1314 [==============================] - 0s 97us/sample - loss: 0.1505 - accuracy: 0.9559 - val_loss: 0.2919 - val_accuracy: 0.8724\n",
            "Epoch 65/80\n",
            "1314/1314 [==============================] - 0s 85us/sample - loss: 0.1499 - accuracy: 0.9589 - val_loss: 0.2935 - val_accuracy: 0.8724\n",
            "Epoch 66/80\n",
            "1314/1314 [==============================] - 0s 83us/sample - loss: 0.1507 - accuracy: 0.9574 - val_loss: 0.2933 - val_accuracy: 0.8747\n",
            "Epoch 67/80\n",
            "1314/1314 [==============================] - 0s 89us/sample - loss: 0.1483 - accuracy: 0.9612 - val_loss: 0.2944 - val_accuracy: 0.8724\n",
            "Epoch 68/80\n",
            "1314/1314 [==============================] - 0s 83us/sample - loss: 0.1459 - accuracy: 0.9612 - val_loss: 0.3010 - val_accuracy: 0.8929\n",
            "Epoch 69/80\n",
            "1314/1314 [==============================] - 0s 86us/sample - loss: 0.1478 - accuracy: 0.9566 - val_loss: 0.3064 - val_accuracy: 0.8929\n",
            "Epoch 70/80\n",
            "1314/1314 [==============================] - 0s 86us/sample - loss: 0.1449 - accuracy: 0.9574 - val_loss: 0.2965 - val_accuracy: 0.8884\n",
            "Epoch 71/80\n",
            "1314/1314 [==============================] - 0s 81us/sample - loss: 0.1437 - accuracy: 0.9536 - val_loss: 0.2968 - val_accuracy: 0.8747\n",
            "Epoch 72/80\n",
            "1314/1314 [==============================] - 0s 85us/sample - loss: 0.1370 - accuracy: 0.9627 - val_loss: 0.2980 - val_accuracy: 0.8815\n",
            "Epoch 73/80\n",
            "1314/1314 [==============================] - 0s 87us/sample - loss: 0.1363 - accuracy: 0.9612 - val_loss: 0.2979 - val_accuracy: 0.8793\n",
            "Epoch 74/80\n",
            "1314/1314 [==============================] - 0s 88us/sample - loss: 0.1351 - accuracy: 0.9642 - val_loss: 0.3104 - val_accuracy: 0.8929\n",
            "Epoch 75/80\n",
            "1314/1314 [==============================] - 0s 108us/sample - loss: 0.1356 - accuracy: 0.9612 - val_loss: 0.3007 - val_accuracy: 0.8815\n",
            "Epoch 76/80\n",
            "1314/1314 [==============================] - 0s 79us/sample - loss: 0.1315 - accuracy: 0.9642 - val_loss: 0.3009 - val_accuracy: 0.8815\n",
            "Epoch 77/80\n",
            "1314/1314 [==============================] - 0s 82us/sample - loss: 0.1296 - accuracy: 0.9619 - val_loss: 0.3150 - val_accuracy: 0.8907\n",
            "Epoch 78/80\n",
            "1314/1314 [==============================] - 0s 87us/sample - loss: 0.1312 - accuracy: 0.9619 - val_loss: 0.3019 - val_accuracy: 0.8793\n",
            "Epoch 79/80\n",
            "1314/1314 [==============================] - 0s 91us/sample - loss: 0.1258 - accuracy: 0.9688 - val_loss: 0.3031 - val_accuracy: 0.8793\n",
            "Epoch 80/80\n",
            "1314/1314 [==============================] - 0s 94us/sample - loss: 0.1240 - accuracy: 0.9650 - val_loss: 0.3034 - val_accuracy: 0.8861\n"
          ],
          "name": "stdout"
        }
      ]
    },
    {
      "cell_type": "code",
      "metadata": {
        "id": "Hh2MA-i92kIL"
      },
      "source": [
        "model3.save(\"baseline_model.h5\")"
      ],
      "execution_count": 21,
      "outputs": []
    },
    {
      "cell_type": "markdown",
      "metadata": {
        "id": "75oyhr3VxHoE"
      },
      "source": [
        "How good is this score? What can we compare it against? Let's first look at a dummy classifier:"
      ]
    },
    {
      "cell_type": "code",
      "metadata": {
        "id": "xymitTUs5Bwx"
      },
      "source": [
        "final_model = keras.models.load_model('baseline_model.h5')"
      ],
      "execution_count": 22,
      "outputs": []
    },
    {
      "cell_type": "code",
      "metadata": {
        "id": "M3c5ZeEY5Tio",
        "outputId": "c189a542-cca0-4bf5-9cd9-f684499eeb3a",
        "colab": {
          "base_uri": "https://localhost:8080/",
          "height": 136
        }
      },
      "source": [
        "\n",
        "\n",
        "prediction = final_model.predict(features)\n",
        "print(prediction)"
      ],
      "execution_count": 23,
      "outputs": [
        {
          "output_type": "stream",
          "text": [
            "[[0.44810477]\n",
            " [0.77651376]\n",
            " [0.3583882 ]\n",
            " ...\n",
            " [0.00147873]\n",
            " [0.06990218]\n",
            " [0.00396224]]\n"
          ],
          "name": "stdout"
        }
      ]
    },
    {
      "cell_type": "code",
      "metadata": {
        "id": "lnwgmqNG7i5l",
        "outputId": "526e8b68-2fae-495c-f34f-2930de88ed73",
        "colab": {
          "base_uri": "https://localhost:8080/",
          "height": 34
        }
      },
      "source": [
        "from sklearn.dummy import DummyClassifier\n",
        "clf = DummyClassifier()\n",
        "\n",
        "scores = cross_val_score(clf, train_features, train_labels)\n",
        "print(\"Dummy classifier score: %0.3f (+/- %0.2f)\" % (scores.mean(), scores.std() * 2))"
      ],
      "execution_count": 24,
      "outputs": [
        {
          "output_type": "stream",
          "text": [
            "Dummy classifier score: 0.496 (+/- 0.07)\n"
          ],
          "name": "stdout"
        }
      ]
    }
  ]
}