{
 "cells": [
  {
   "cell_type": "markdown",
   "metadata": {
    "colab_type": "text",
    "id": "apHoaiXZyvyO"
   },
   "source": [
    "## Data Cleaning, Pre-Processing, and Analysis"
   ]
  },
  {
   "cell_type": "markdown",
   "metadata": {
    "colab_type": "text",
    "id": "u7lOIyQWyvyQ"
   },
   "source": [
    "# Data Cleaning\n",
    "This is the code for data cleaning, which means finding missing values and using the meaningful data for the classifier. There aren't that many, but dealing with them is still important"
   ]
  },
  {
   "cell_type": "code",
   "execution_count": 77,
   "metadata": {
    "colab": {},
    "colab_type": "code",
    "id": "RPEvSN9oyvyS",
    "outputId": "129d36ff-6ab3-45c3-9666-b0dc98316c7e"
   },
   "outputs": [
    {
     "name": "stderr",
     "output_type": "stream",
     "text": [
      "[nltk_data] Downloading package wordnet to\n",
      "[nltk_data]     /Users/ayaanhaque/nltk_data...\n",
      "[nltk_data]   Package wordnet is already up-to-date!\n",
      "[nltk_data] Downloading package stopwords to\n",
      "[nltk_data]     /Users/ayaanhaque/nltk_data...\n",
      "[nltk_data]   Package stopwords is already up-to-date!\n"
     ]
    }
   ],
   "source": [
    "# data analysis imports\n",
    "import numpy as np\n",
    "import pandas as pd\n",
    "import seaborn as sns\n",
    "import matplotlib.pyplot as plt\n",
    "\n",
    "# NLP Imports\n",
    "import nltk\n",
    "nltk.download('wordnet')\n",
    "nltk.download('stopwords')\n",
    "from nltk.tokenize import RegexpTokenizer\n",
    "from nltk.stem import WordNetLemmatizer\n",
    "from nltk.corpus import stopwords\n",
    "import re\n",
    "\n",
    "from sklearn.feature_extraction.text import CountVectorizer\n",
    "\n",
    "from wordcloud import WordCloud, STOPWORDS, ImageColorGenerator\n",
    "from PIL import Image\n",
    "import wordninja"
   ]
  },
  {
   "cell_type": "code",
   "execution_count": 78,
   "metadata": {
    "colab": {},
    "colab_type": "code",
    "id": "Xr3mNIBtyvyX"
   },
   "outputs": [],
   "source": [
    "# data configurations\n",
    "pd.set_option('display.max_columns', 100)\n",
    "sns.set_style(\"darkgrid\")"
   ]
  },
  {
   "cell_type": "code",
   "execution_count": 79,
   "metadata": {
    "colab": {},
    "colab_type": "code",
    "id": "Wf4dTS8nyvyb"
   },
   "outputs": [],
   "source": [
    "# initializing cvs files\n",
    "depression = pd.read_csv('../data/depression.csv')\n",
    "suicide_watch = pd.read_csv('../data/suicide_watch.csv')\n",
    "casual_convo = pd.read_csv('../data/casual_conversation_vs_suicide.csv')"
   ]
  },
  {
   "cell_type": "code",
   "execution_count": 80,
   "metadata": {
    "colab": {},
    "colab_type": "code",
    "id": "k5QPm4TJyvyg",
    "outputId": "b3a5d8db-1e94-4437-9e3c-c34f44615fa2"
   },
   "outputs": [
    {
     "data": {
      "text/plain": [
       "Index(['approved_at_utc', 'subreddit', 'selftext', 'author_fullname', 'saved',\n",
       "       'mod_reason_title', 'gilded', 'clicked', 'title', 'link_flair_richtext',\n",
       "       ...\n",
       "       'stickied', 'url', 'subreddit_subscribers', 'created_utc',\n",
       "       'num_crossposts', 'media', 'is_video', 'poll_data', 'author_cakeday',\n",
       "       'is_suicide'],\n",
       "      dtype='object', length=107)"
      ]
     },
     "execution_count": 80,
     "metadata": {},
     "output_type": "execute_result"
    }
   ],
   "source": [
    "#visualizing depression dataset\n",
    "pd.set_option('display.max_columns', 500)\n",
    "casual_convo.head()\n",
    "casual_convo.columns"
   ]
  },
  {
   "cell_type": "markdown",
   "metadata": {
    "colab_type": "text",
    "id": "pvwTJW4Nyvyj"
   },
   "source": [
    "### Relevant Data\n",
    "\n",
    "After viewing the data, there are 100 columns, but barely any of them are really needed for our classifier. We will choose the proper columns and go from there. \n",
    "\n",
    "To start, we will look at the title, text body, author username, number of comments, and lastly the URL of the post. "
   ]
  },
  {
   "cell_type": "code",
   "execution_count": 81,
   "metadata": {
    "colab": {},
    "colab_type": "code",
    "id": "PpQPO-8Zyvyj",
    "outputId": "8d17d030-525f-4255-a762-c8db4b27d76f"
   },
   "outputs": [
    {
     "data": {
      "text/html": [
       "<div>\n",
       "<style scoped>\n",
       "    .dataframe tbody tr th:only-of-type {\n",
       "        vertical-align: middle;\n",
       "    }\n",
       "\n",
       "    .dataframe tbody tr th {\n",
       "        vertical-align: top;\n",
       "    }\n",
       "\n",
       "    .dataframe thead th {\n",
       "        text-align: right;\n",
       "    }\n",
       "</style>\n",
       "<table border=\"1\" class=\"dataframe\">\n",
       "  <thead>\n",
       "    <tr style=\"text-align: right;\">\n",
       "      <th></th>\n",
       "      <th>title</th>\n",
       "      <th>selftext</th>\n",
       "      <th>author</th>\n",
       "      <th>num_comments</th>\n",
       "      <th>is_suicide</th>\n",
       "      <th>url</th>\n",
       "    </tr>\n",
       "  </thead>\n",
       "  <tbody>\n",
       "    <tr>\n",
       "      <th>0</th>\n",
       "      <td>r/CasualConversation Lounge</td>\n",
       "      <td>Let's chat!</td>\n",
       "      <td>tizorres</td>\n",
       "      <td>1049</td>\n",
       "      <td>0</td>\n",
       "      <td>https://www.reddit.com/r/CasualConversation/comments/i9pr7m/rcasualconversation_lounge/</td>\n",
       "    </tr>\n",
       "    <tr>\n",
       "      <th>1</th>\n",
       "      <td>September Monthly Meta - r/CasualConversation Fireside Chat</td>\n",
       "      <td>Monthly Meta is back - [follow the collection](https://www.reddit.com/r/CasualConversation/colle...</td>\n",
       "      <td>tizorres</td>\n",
       "      <td>6</td>\n",
       "      <td>0</td>\n",
       "      <td>https://www.reddit.com/r/CasualConversation/comments/iko4ik/september_monthly_meta_rcasualconver...</td>\n",
       "    </tr>\n",
       "    <tr>\n",
       "      <th>2</th>\n",
       "      <td>I got a hotel room here in my town because I needed a time for myself.</td>\n",
       "      <td>Look, I love my family and they're awesome. But, sometimes, I need to be alone. I like being alo...</td>\n",
       "      <td>nicedudefinallyhappy</td>\n",
       "      <td>161</td>\n",
       "      <td>0</td>\n",
       "      <td>https://www.reddit.com/r/CasualConversation/comments/inxmyy/i_got_a_hotel_room_here_in_my_town_b...</td>\n",
       "    </tr>\n",
       "    <tr>\n",
       "      <th>3</th>\n",
       "      <td>Your height is totally fine</td>\n",
       "      <td>Lately I’ve noticed many guys around my circle and on the internet that are very self conscious ...</td>\n",
       "      <td>PersianAss</td>\n",
       "      <td>1034</td>\n",
       "      <td>0</td>\n",
       "      <td>https://www.reddit.com/r/CasualConversation/comments/inlj6g/your_height_is_totally_fine/</td>\n",
       "    </tr>\n",
       "    <tr>\n",
       "      <th>4</th>\n",
       "      <td>I remember this conversation with an old acquaintance years ago and it changed me</td>\n",
       "      <td>I was at a Halloween party with my best friend, Chelsea, and she had some other friends over. Th...</td>\n",
       "      <td>liverloo96</td>\n",
       "      <td>68</td>\n",
       "      <td>0</td>\n",
       "      <td>https://www.reddit.com/r/CasualConversation/comments/inlvis/i_remember_this_conversation_with_an...</td>\n",
       "    </tr>\n",
       "  </tbody>\n",
       "</table>\n",
       "</div>"
      ],
      "text/plain": [
       "                                                                               title  \\\n",
       "0                                                        r/CasualConversation Lounge   \n",
       "1                        September Monthly Meta - r/CasualConversation Fireside Chat   \n",
       "2             I got a hotel room here in my town because I needed a time for myself.   \n",
       "3                                                        Your height is totally fine   \n",
       "4  I remember this conversation with an old acquaintance years ago and it changed me   \n",
       "\n",
       "                                                                                              selftext  \\\n",
       "0                                                                                          Let's chat!   \n",
       "1  Monthly Meta is back - [follow the collection](https://www.reddit.com/r/CasualConversation/colle...   \n",
       "2  Look, I love my family and they're awesome. But, sometimes, I need to be alone. I like being alo...   \n",
       "3  Lately I’ve noticed many guys around my circle and on the internet that are very self conscious ...   \n",
       "4  I was at a Halloween party with my best friend, Chelsea, and she had some other friends over. Th...   \n",
       "\n",
       "                 author  num_comments  is_suicide  \\\n",
       "0              tizorres          1049           0   \n",
       "1              tizorres             6           0   \n",
       "2  nicedudefinallyhappy           161           0   \n",
       "3            PersianAss          1034           0   \n",
       "4            liverloo96            68           0   \n",
       "\n",
       "                                                                                                   url  \n",
       "0              https://www.reddit.com/r/CasualConversation/comments/i9pr7m/rcasualconversation_lounge/  \n",
       "1  https://www.reddit.com/r/CasualConversation/comments/iko4ik/september_monthly_meta_rcasualconver...  \n",
       "2  https://www.reddit.com/r/CasualConversation/comments/inxmyy/i_got_a_hotel_room_here_in_my_town_b...  \n",
       "3             https://www.reddit.com/r/CasualConversation/comments/inlj6g/your_height_is_totally_fine/  \n",
       "4  https://www.reddit.com/r/CasualConversation/comments/inlvis/i_remember_this_conversation_with_an...  "
      ]
     },
     "execution_count": 81,
     "metadata": {},
     "output_type": "execute_result"
    }
   ],
   "source": [
    "casual_convo[[\"title\", \"selftext\", \"author\",  \"num_comments\", \"is_suicide\",\"url\"]].head(5)"
   ]
  },
  {
   "cell_type": "markdown",
   "metadata": {
    "colab_type": "text",
    "id": "g5zhgTrEyvyp"
   },
   "source": [
    "From these rows, we can see a few posts that people posted. The second post looks like it is from a moderator, as it is a checkin and they have lots of comments. Posts like these potentially have to be removed. "
   ]
  },
  {
   "cell_type": "code",
   "execution_count": 82,
   "metadata": {
    "colab": {},
    "colab_type": "code",
    "id": "tFLmjR4byvyr",
    "outputId": "318b18c8-6c7a-40c8-9c5a-003bb6e647fa"
   },
   "outputs": [
    {
     "data": {
      "text/html": [
       "<div>\n",
       "<style scoped>\n",
       "    .dataframe tbody tr th:only-of-type {\n",
       "        vertical-align: middle;\n",
       "    }\n",
       "\n",
       "    .dataframe tbody tr th {\n",
       "        vertical-align: top;\n",
       "    }\n",
       "\n",
       "    .dataframe thead th {\n",
       "        text-align: right;\n",
       "    }\n",
       "</style>\n",
       "<table border=\"1\" class=\"dataframe\">\n",
       "  <thead>\n",
       "    <tr style=\"text-align: right;\">\n",
       "      <th></th>\n",
       "      <th>title</th>\n",
       "      <th>selftext</th>\n",
       "      <th>author</th>\n",
       "      <th>num_comments</th>\n",
       "      <th>is_suicide</th>\n",
       "      <th>url</th>\n",
       "    </tr>\n",
       "  </thead>\n",
       "  <tbody>\n",
       "    <tr>\n",
       "      <th>0</th>\n",
       "      <td>New wiki on how to avoid accidentally encouraging suicide, and how to spot covert incitement</td>\n",
       "      <td>We've been seeing a worrying increase in pro-suicide content showing up here and, and also going...</td>\n",
       "      <td>SQLwitch</td>\n",
       "      <td>260</td>\n",
       "      <td>1</td>\n",
       "      <td>https://www.reddit.com/r/SuicideWatch/comments/cz6nfd/new_wiki_on_how_to_avoid_accidentally_enco...</td>\n",
       "    </tr>\n",
       "    <tr>\n",
       "      <th>1</th>\n",
       "      <td>Reminder: Absolutely no activism of any kind is allowed here. Any day.</td>\n",
       "      <td>If you want to recognise an occasion, please do so by offering extra support to those who've ask...</td>\n",
       "      <td>SQLwitch</td>\n",
       "      <td>124</td>\n",
       "      <td>1</td>\n",
       "      <td>https://www.reddit.com/r/SuicideWatch/comments/d2370x/reminder_absolutely_no_activism_of_any_kin...</td>\n",
       "    </tr>\n",
       "    <tr>\n",
       "      <th>2</th>\n",
       "      <td>To every single poster here i wanne say one thing</td>\n",
       "      <td>I really fucking feel you</td>\n",
       "      <td>NussNougatCroissant</td>\n",
       "      <td>46</td>\n",
       "      <td>1</td>\n",
       "      <td>https://www.reddit.com/r/SuicideWatch/comments/fe7bca/to_every_single_poster_here_i_wanne_say_on...</td>\n",
       "    </tr>\n",
       "    <tr>\n",
       "      <th>3</th>\n",
       "      <td>I just want it all to stop</td>\n",
       "      <td>Everyone ends up hating me eventually. \\nMy psychologist of almost ten years blew up at me and k...</td>\n",
       "      <td>hda-SVN-njhdsx</td>\n",
       "      <td>5</td>\n",
       "      <td>1</td>\n",
       "      <td>https://www.reddit.com/r/SuicideWatch/comments/fee4k7/i_just_want_it_all_to_stop/</td>\n",
       "    </tr>\n",
       "    <tr>\n",
       "      <th>4</th>\n",
       "      <td>Nobody gives a fuck until you die, and even then you're still not valid.</td>\n",
       "      <td>NaN</td>\n",
       "      <td>lil_peemis</td>\n",
       "      <td>3</td>\n",
       "      <td>1</td>\n",
       "      <td>https://www.reddit.com/r/SuicideWatch/comments/fea9x1/nobody_gives_a_fuck_until_you_die_and_even...</td>\n",
       "    </tr>\n",
       "  </tbody>\n",
       "</table>\n",
       "</div>"
      ],
      "text/plain": [
       "                                                                                          title  \\\n",
       "0  New wiki on how to avoid accidentally encouraging suicide, and how to spot covert incitement   \n",
       "1                        Reminder: Absolutely no activism of any kind is allowed here. Any day.   \n",
       "2                                             To every single poster here i wanne say one thing   \n",
       "3                                                                    I just want it all to stop   \n",
       "4                      Nobody gives a fuck until you die, and even then you're still not valid.   \n",
       "\n",
       "                                                                                              selftext  \\\n",
       "0  We've been seeing a worrying increase in pro-suicide content showing up here and, and also going...   \n",
       "1  If you want to recognise an occasion, please do so by offering extra support to those who've ask...   \n",
       "2                                                                            I really fucking feel you   \n",
       "3  Everyone ends up hating me eventually. \\nMy psychologist of almost ten years blew up at me and k...   \n",
       "4                                                                                                  NaN   \n",
       "\n",
       "                author  num_comments  is_suicide  \\\n",
       "0             SQLwitch           260           1   \n",
       "1             SQLwitch           124           1   \n",
       "2  NussNougatCroissant            46           1   \n",
       "3       hda-SVN-njhdsx             5           1   \n",
       "4           lil_peemis             3           1   \n",
       "\n",
       "                                                                                                   url  \n",
       "0  https://www.reddit.com/r/SuicideWatch/comments/cz6nfd/new_wiki_on_how_to_avoid_accidentally_enco...  \n",
       "1  https://www.reddit.com/r/SuicideWatch/comments/d2370x/reminder_absolutely_no_activism_of_any_kin...  \n",
       "2  https://www.reddit.com/r/SuicideWatch/comments/fe7bca/to_every_single_poster_here_i_wanne_say_on...  \n",
       "3                    https://www.reddit.com/r/SuicideWatch/comments/fee4k7/i_just_want_it_all_to_stop/  \n",
       "4  https://www.reddit.com/r/SuicideWatch/comments/fea9x1/nobody_gives_a_fuck_until_you_die_and_even...  "
      ]
     },
     "execution_count": 82,
     "metadata": {},
     "output_type": "execute_result"
    }
   ],
   "source": [
    "suicide_watch[[\"title\", \"selftext\", \"author\",  \"num_comments\", \"is_suicide\",\"url\"]].head(5)"
   ]
  },
  {
   "cell_type": "markdown",
   "metadata": {
    "colab_type": "text",
    "id": "nseLVrKryvyv"
   },
   "source": [
    "This is the suicide dataset. Just from the preview, the titles and posts are clearly different, but it is very hard to distinguish which is which and how to classify that. Post 5 has no body, which also could be problematic as it is a missing value."
   ]
  },
  {
   "cell_type": "code",
   "execution_count": 83,
   "metadata": {
    "colab": {},
    "colab_type": "code",
    "id": "0L_6A3nYyvyv",
    "outputId": "e4150555-0c44-4d92-bd23-8e64b5067976"
   },
   "outputs": [
    {
     "name": "stdout",
     "output_type": "stream",
     "text": [
      "(835, 6)\n",
      "(980, 6)\n"
     ]
    }
   ],
   "source": [
    "# viewing shapes of datasets\n",
    "print(casual_convo[[\"title\", \"selftext\", \"author\",  \"num_comments\", \"is_suicide\",\"url\"]].shape)\n",
    "print(suicide_watch[[\"title\", \"selftext\", \"author\",  \"num_comments\", \"is_suicide\",\"url\"]].shape)"
   ]
  },
  {
   "cell_type": "markdown",
   "metadata": {
    "colab_type": "text",
    "id": "BPDdet0Pyvyx"
   },
   "source": [
    "they are a bit different in size, but after cleaning and processing this shouldn't be an issue. "
   ]
  },
  {
   "cell_type": "code",
   "execution_count": 84,
   "metadata": {
    "colab": {},
    "colab_type": "code",
    "id": "iKoQeBBwyvyy",
    "scrolled": true
   },
   "outputs": [
    {
     "name": "stdout",
     "output_type": "stream",
     "text": [
      "Hi! I've been battling depression for the past two years, officially diagnosed in summer 2019, currently on medication &amp; therapy. Beating myself up every. single. day. for just being \"lazy\", and \"not being able to get it together\", as well as struggling with the thought that i somehow just tricked everybody (including the doctors) into thinking that i have depression when really i dont. 🥴  \n",
      "Anyways, after another horrifying therapy session of me complaining that i am really just a piece of shit that only wants to sleep 24/7, wasting her life away not accomplishing anything, my therapist urged me to list all the things which i do DO and sort of look at them from afar and try to practice gratitude and appreciation. Here it is:\n",
      "\n",
      "1) most days, I am able to make myself brush my teeth and on the good days even take a shower  \n",
      "2) i could have given up on all work  to kind of \"sleep through\" my depression (my partner can support me financially with no trouble) however as tempting as it is I still do the work (working remotely from home) and recently took on a big project, which I was debating declining but still didn't (no idea how and if  im going to handle it but ill update you on here)  \n",
      "3) roughly once a week I may feel like putting on makeup and doing my nails  \n",
      "4) i am able to socialize with my best friend and truly enjoy our evenings together, which is a huge one  \n",
      "5) i am now able to recognise that the meds do really help and I stopped having hysterical breakdowns and intrusive, disturbing thoughts  \n",
      "6) i have never missed a day of therapy  \n",
      "7) even though my sleep schedule is non-existence (sleeping every 4 hours during the course of a day) I still pull myself out of bed, have breakfast, maybe out on some clothes and go out to work in a cafe, even if for just an hour\n",
      "\n",
      "I think that's about it. I do feel better. Will update on my progress.\n"
     ]
    },
    {
     "data": {
      "text/plain": [
       "1874"
      ]
     },
     "execution_count": 84,
     "metadata": {},
     "output_type": "execute_result"
    }
   ],
   "source": [
    "# reading post 118 from the depression dataset\n",
    "print(depression[\"selftext\"][80])\n",
    "len(depression[\"selftext\"][80])"
   ]
  },
  {
   "cell_type": "code",
   "execution_count": 85,
   "metadata": {
    "colab": {},
    "colab_type": "code",
    "id": "WMUMLjbmyvy0",
    "outputId": "668630f8-89c3-4095-a423-fd91129e6f50",
    "scrolled": true
   },
   "outputs": [
    {
     "name": "stdout",
     "output_type": "stream",
     "text": [
      "I'm an 18 year old with severe depression, anxiety, ADHD, borderline personality disorder and DID at a point in my life. But I'm slowly recovering.\n",
      "\n",
      "I have always felt like I never belonged to this world, because I am \"too imaginative\" and \"too kind\". I behave \"not like how people should\". I'm mostly well-liked, but I know they think I'm a weirdo. Everyone does.\n",
      "\n",
      "It's final exam time for us, and I have to secure good marks, otherwise I won't be able to enter any good streams in a good college. It would be the end of my future. My family is in a financial crunch, but they give up everything for me. I am dead-set on helping my friends get through their depression and suicidal tendencies, but I'm failing at that. I have had three attempts, but I was saved by a person, who himself was alexithymic (I think) and suicidal. He still is, and he says if he doesn't do well, he will commit suicide.\n",
      "\n",
      "I don't know what I'm gonna do if I don't perform the way I should. But I certainly know that I will die if he does.\n",
      "\n",
      "In case everything goes wrong, I'll leave. There's no other way. The day of my death is nearing. It's just 3 months away.\n",
      "\n",
      "Love you all. Have a good day.\n"
     ]
    },
    {
     "data": {
      "text/plain": [
       "1172"
      ]
     },
     "execution_count": 85,
     "metadata": {},
     "output_type": "execute_result"
    }
   ],
   "source": [
    "# reading post 118 from the suicide dataset\n",
    "print(suicide_watch[\"selftext\"][118])\n",
    "len(suicide_watch[\"selftext\"][118])"
   ]
  },
  {
   "cell_type": "markdown",
   "metadata": {
    "colab_type": "text",
    "id": "AXw7a8D1yvy2"
   },
   "source": [
    "just from reading them, they look pretty similar. However, the stories of both people are completely different and one of them is suicidal. The second person explicitly says they will die in 3 months, but the first post makes no such remarks. A classifier could do a good job of distinguishing between these two. Let's read two more. "
   ]
  },
  {
   "cell_type": "code",
   "execution_count": 86,
   "metadata": {
    "colab": {},
    "colab_type": "code",
    "id": "sig0dBBxyvy3",
    "outputId": "761c2f8f-8954-4bb2-a774-59ea58bd1671"
   },
   "outputs": [
    {
     "name": "stdout",
     "output_type": "stream",
     "text": [
      "why does it hurt so much? Why can’t I be happy without it? There’s this empty void in my heart that gets bigger everyday. I’m just waiting until it eats me up, since I’ll never have 2 sided love.\n"
     ]
    }
   ],
   "source": [
    "print(depression[\"selftext\"][6])"
   ]
  },
  {
   "cell_type": "code",
   "execution_count": 87,
   "metadata": {
    "colab": {},
    "colab_type": "code",
    "id": "weBrdP65yvy7",
    "outputId": "1adfcd52-1514-4d46-91e4-7646d5a8f9b1"
   },
   "outputs": [
    {
     "name": "stdout",
     "output_type": "stream",
     "text": [
      "I wanted to die starting in Jan 2018, but things have only gotten worse.\n",
      "\n",
      "In summer 2018, those fucks on the Suicide Prevention chatroom called the police when I expressed suicidal ideations, so I was kidnapped and sent to a series of hospital-prisons with junk medical staff. I lost my job due to the hospital stay - and my apartment, car, and dog shortly followed.\n",
      "\n",
      "Can't get a decent job because my resume is now all fucked up and I have no connections, and I refuse to go back to miserable jobs that pay horribly. I'd rather die than do that for life.\n",
      "\n",
      "I am about to be sued on $4K debt, and then yesterday I was handed a $6.5K medical bill for treatment that would have been 100% unnecessary had I still had insurance and was able to go to regular check ups.\n",
      "\n",
      "You fucks on the Suicide Prevention line made my life demonstrably worse. You destroyed the mechanisms that kept me going as an independent and self-sufficient human. Now I have nothing and am in a far worse position (logistically speaking) to be dealing with any of this.\n",
      "\n",
      "Right now I'm sort of just waiting until where I'm currently staying kicks me out, which should be soon. After that, it's time to die. But I'll be sure to let the responsible parties know their part in this.\n"
     ]
    }
   ],
   "source": [
    "print(suicide_watch[\"selftext\"][100])"
   ]
  },
  {
   "cell_type": "markdown",
   "metadata": {
    "colab_type": "text",
    "id": "Q47VCSSFyvy9"
   },
   "source": [
    "between these two posts, there is a clear distinction, but it would be hard for a regular person reading it to be sure. Only a classifier generalized on thousands of peoples suffering could do this. But the first post talks about how their life is getting better, while the second explains that the person thinks that it is time to die. "
   ]
  },
  {
   "cell_type": "code",
   "execution_count": 88,
   "metadata": {},
   "outputs": [],
   "source": [
    "# casual_convo = casual_convo.rename(columns={'causal': 'is_suicide'})"
   ]
  },
  {
   "cell_type": "code",
   "execution_count": 89,
   "metadata": {
    "colab": {},
    "colab_type": "code",
    "id": "yTIpxr1Wyvy-",
    "outputId": "745cff73-ee45-4fe5-bd0f-debfdf1bebcc"
   },
   "outputs": [
    {
     "data": {
      "text/html": [
       "<div>\n",
       "<style scoped>\n",
       "    .dataframe tbody tr th:only-of-type {\n",
       "        vertical-align: middle;\n",
       "    }\n",
       "\n",
       "    .dataframe tbody tr th {\n",
       "        vertical-align: top;\n",
       "    }\n",
       "\n",
       "    .dataframe thead th {\n",
       "        text-align: right;\n",
       "    }\n",
       "</style>\n",
       "<table border=\"1\" class=\"dataframe\">\n",
       "  <thead>\n",
       "    <tr style=\"text-align: right;\">\n",
       "      <th></th>\n",
       "      <th>title</th>\n",
       "      <th>selftext</th>\n",
       "      <th>author</th>\n",
       "      <th>num_comments</th>\n",
       "      <th>is_suicide</th>\n",
       "      <th>url</th>\n",
       "    </tr>\n",
       "  </thead>\n",
       "  <tbody>\n",
       "    <tr>\n",
       "      <th>0</th>\n",
       "      <td>New wiki on how to avoid accidentally encouraging suicide, and how to spot covert incitement</td>\n",
       "      <td>We've been seeing a worrying increase in pro-suicide content showing up here and, and also going...</td>\n",
       "      <td>SQLwitch</td>\n",
       "      <td>260</td>\n",
       "      <td>1</td>\n",
       "      <td>https://www.reddit.com/r/SuicideWatch/comments/cz6nfd/new_wiki_on_how_to_avoid_accidentally_enco...</td>\n",
       "    </tr>\n",
       "    <tr>\n",
       "      <th>1</th>\n",
       "      <td>Reminder: Absolutely no activism of any kind is allowed here. Any day.</td>\n",
       "      <td>If you want to recognise an occasion, please do so by offering extra support to those who've ask...</td>\n",
       "      <td>SQLwitch</td>\n",
       "      <td>124</td>\n",
       "      <td>1</td>\n",
       "      <td>https://www.reddit.com/r/SuicideWatch/comments/d2370x/reminder_absolutely_no_activism_of_any_kin...</td>\n",
       "    </tr>\n",
       "    <tr>\n",
       "      <th>2</th>\n",
       "      <td>To every single poster here i wanne say one thing</td>\n",
       "      <td>I really fucking feel you</td>\n",
       "      <td>NussNougatCroissant</td>\n",
       "      <td>46</td>\n",
       "      <td>1</td>\n",
       "      <td>https://www.reddit.com/r/SuicideWatch/comments/fe7bca/to_every_single_poster_here_i_wanne_say_on...</td>\n",
       "    </tr>\n",
       "    <tr>\n",
       "      <th>3</th>\n",
       "      <td>I just want it all to stop</td>\n",
       "      <td>Everyone ends up hating me eventually. \\nMy psychologist of almost ten years blew up at me and k...</td>\n",
       "      <td>hda-SVN-njhdsx</td>\n",
       "      <td>5</td>\n",
       "      <td>1</td>\n",
       "      <td>https://www.reddit.com/r/SuicideWatch/comments/fee4k7/i_just_want_it_all_to_stop/</td>\n",
       "    </tr>\n",
       "    <tr>\n",
       "      <th>4</th>\n",
       "      <td>Nobody gives a fuck until you die, and even then you're still not valid.</td>\n",
       "      <td>NaN</td>\n",
       "      <td>lil_peemis</td>\n",
       "      <td>3</td>\n",
       "      <td>1</td>\n",
       "      <td>https://www.reddit.com/r/SuicideWatch/comments/fea9x1/nobody_gives_a_fuck_until_you_die_and_even...</td>\n",
       "    </tr>\n",
       "    <tr>\n",
       "      <th>...</th>\n",
       "      <td>...</td>\n",
       "      <td>...</td>\n",
       "      <td>...</td>\n",
       "      <td>...</td>\n",
       "      <td>...</td>\n",
       "      <td>...</td>\n",
       "    </tr>\n",
       "    <tr>\n",
       "      <th>1810</th>\n",
       "      <td>Do anyone else just sit in their car because it’s one of the places you feel safe and no longer ...</td>\n",
       "      <td>Sitting in my car, is a place where I cry, think and decompress. \\n\\nMy car has seen me cry more...</td>\n",
       "      <td>mayoeater</td>\n",
       "      <td>764</td>\n",
       "      <td>0</td>\n",
       "      <td>https://www.reddit.com/r/CasualConversation/comments/i8r3pc/do_anyone_else_just_sit_in_their_car...</td>\n",
       "    </tr>\n",
       "    <tr>\n",
       "      <th>1811</th>\n",
       "      <td>As a male, I’m so tired of the lack of unique clothing available.</td>\n",
       "      <td>As a male it’s insanely frustrating to browse women’s clothing and see all of the unique styles ...</td>\n",
       "      <td>Childish_Brandino</td>\n",
       "      <td>2416</td>\n",
       "      <td>0</td>\n",
       "      <td>https://www.reddit.com/r/CasualConversation/comments/i8bea3/as_a_male_im_so_tired_of_the_lack_of...</td>\n",
       "    </tr>\n",
       "    <tr>\n",
       "      <th>1812</th>\n",
       "      <td>My teenager made me so proud tonight with a simple gesture</td>\n",
       "      <td>I have 4 boys ranging from ages 3 to 14. Tonight the 3 year old was very tired, which of course ...</td>\n",
       "      <td>SedativeCorpse</td>\n",
       "      <td>251</td>\n",
       "      <td>0</td>\n",
       "      <td>https://www.reddit.com/r/CasualConversation/comments/i7mcfx/my_teenager_made_me_so_proud_tonight...</td>\n",
       "    </tr>\n",
       "    <tr>\n",
       "      <th>1813</th>\n",
       "      <td>After 30 years of being open, my family’s restaurant is closing tonight.</td>\n",
       "      <td>My family has owned a fine dining italian restaurant since before i was born. Most all of my chi...</td>\n",
       "      <td>retirereddit</td>\n",
       "      <td>769</td>\n",
       "      <td>0</td>\n",
       "      <td>https://www.reddit.com/r/CasualConversation/comments/i65fce/after_30_years_of_being_open_my_fami...</td>\n",
       "    </tr>\n",
       "    <tr>\n",
       "      <th>1814</th>\n",
       "      <td>I’ve been living in Japan for more than a decade now. I’m here if anyone has a question about li...</td>\n",
       "      <td>First of all, I’m not Japanese. I came to Japan about 12 years ago to work as a programmer in To...</td>\n",
       "      <td>BeardedGlass</td>\n",
       "      <td>18</td>\n",
       "      <td>0</td>\n",
       "      <td>https://www.reddit.com/r/CasualConversation/comments/i2qm0b/ive_been_living_in_japan_for_more_th...</td>\n",
       "    </tr>\n",
       "  </tbody>\n",
       "</table>\n",
       "<p>1815 rows × 6 columns</p>\n",
       "</div>"
      ],
      "text/plain": [
       "                                                                                                    title  \\\n",
       "0            New wiki on how to avoid accidentally encouraging suicide, and how to spot covert incitement   \n",
       "1                                  Reminder: Absolutely no activism of any kind is allowed here. Any day.   \n",
       "2                                                       To every single poster here i wanne say one thing   \n",
       "3                                                                              I just want it all to stop   \n",
       "4                                Nobody gives a fuck until you die, and even then you're still not valid.   \n",
       "...                                                                                                   ...   \n",
       "1810  Do anyone else just sit in their car because it’s one of the places you feel safe and no longer ...   \n",
       "1811                                    As a male, I’m so tired of the lack of unique clothing available.   \n",
       "1812                                           My teenager made me so proud tonight with a simple gesture   \n",
       "1813                             After 30 years of being open, my family’s restaurant is closing tonight.   \n",
       "1814  I’ve been living in Japan for more than a decade now. I’m here if anyone has a question about li...   \n",
       "\n",
       "                                                                                                 selftext  \\\n",
       "0     We've been seeing a worrying increase in pro-suicide content showing up here and, and also going...   \n",
       "1     If you want to recognise an occasion, please do so by offering extra support to those who've ask...   \n",
       "2                                                                               I really fucking feel you   \n",
       "3     Everyone ends up hating me eventually. \\nMy psychologist of almost ten years blew up at me and k...   \n",
       "4                                                                                                     NaN   \n",
       "...                                                                                                   ...   \n",
       "1810  Sitting in my car, is a place where I cry, think and decompress. \\n\\nMy car has seen me cry more...   \n",
       "1811  As a male it’s insanely frustrating to browse women’s clothing and see all of the unique styles ...   \n",
       "1812  I have 4 boys ranging from ages 3 to 14. Tonight the 3 year old was very tired, which of course ...   \n",
       "1813  My family has owned a fine dining italian restaurant since before i was born. Most all of my chi...   \n",
       "1814  First of all, I’m not Japanese. I came to Japan about 12 years ago to work as a programmer in To...   \n",
       "\n",
       "                   author  num_comments  is_suicide  \\\n",
       "0                SQLwitch           260           1   \n",
       "1                SQLwitch           124           1   \n",
       "2     NussNougatCroissant            46           1   \n",
       "3          hda-SVN-njhdsx             5           1   \n",
       "4              lil_peemis             3           1   \n",
       "...                   ...           ...         ...   \n",
       "1810            mayoeater           764           0   \n",
       "1811    Childish_Brandino          2416           0   \n",
       "1812       SedativeCorpse           251           0   \n",
       "1813         retirereddit           769           0   \n",
       "1814         BeardedGlass            18           0   \n",
       "\n",
       "                                                                                                      url  \n",
       "0     https://www.reddit.com/r/SuicideWatch/comments/cz6nfd/new_wiki_on_how_to_avoid_accidentally_enco...  \n",
       "1     https://www.reddit.com/r/SuicideWatch/comments/d2370x/reminder_absolutely_no_activism_of_any_kin...  \n",
       "2     https://www.reddit.com/r/SuicideWatch/comments/fe7bca/to_every_single_poster_here_i_wanne_say_on...  \n",
       "3                       https://www.reddit.com/r/SuicideWatch/comments/fee4k7/i_just_want_it_all_to_stop/  \n",
       "4     https://www.reddit.com/r/SuicideWatch/comments/fea9x1/nobody_gives_a_fuck_until_you_die_and_even...  \n",
       "...                                                                                                   ...  \n",
       "1810  https://www.reddit.com/r/CasualConversation/comments/i8r3pc/do_anyone_else_just_sit_in_their_car...  \n",
       "1811  https://www.reddit.com/r/CasualConversation/comments/i8bea3/as_a_male_im_so_tired_of_the_lack_of...  \n",
       "1812  https://www.reddit.com/r/CasualConversation/comments/i7mcfx/my_teenager_made_me_so_proud_tonight...  \n",
       "1813  https://www.reddit.com/r/CasualConversation/comments/i65fce/after_30_years_of_being_open_my_fami...  \n",
       "1814  https://www.reddit.com/r/CasualConversation/comments/i2qm0b/ive_been_living_in_japan_for_more_th...  \n",
       "\n",
       "[1815 rows x 6 columns]"
      ]
     },
     "execution_count": 89,
     "metadata": {},
     "output_type": "execute_result"
    }
   ],
   "source": [
    "# the 5 columns we chose seem good so lets shorten the datasets. \n",
    "dep_columns = depression[[\"title\", \"selftext\", \"author\",  \"num_comments\", \"is_suicide\",\"url\"]]\n",
    "sui_columns = suicide_watch[[\"title\", \"selftext\", \"author\",  \"num_comments\", \"is_suicide\",\"url\"]]\n",
    "cas_columns = casual_convo[[\"title\", \"selftext\", \"author\",  \"num_comments\", \"is_suicide\",\"url\"]]\n",
    "\n",
    "# lets combine the datasets into one massive dataset. \n",
    "# combined_data = pd.concat([dep_columns,sui_columns, cas_columns],axis=0, ignore_index=True) \n",
    "# combined_data = pd.concat([dep_columns, cas_columns],axis=0, ignore_index=True)  \n",
    "combined_data = pd.concat([sui_columns, cas_columns],axis=0, ignore_index=True)  \n",
    "combined_data"
   ]
  },
  {
   "cell_type": "code",
   "execution_count": 90,
   "metadata": {
    "colab": {},
    "colab_type": "code",
    "id": "-WRL8rSGyvzA"
   },
   "outputs": [],
   "source": [
    "# saving the combined data in our datasets folder\n",
    "combined_data.to_csv('../data/suicide_vs_nothing.csv', index = False)"
   ]
  },
  {
   "cell_type": "code",
   "execution_count": 91,
   "metadata": {
    "colab": {},
    "colab_type": "code",
    "id": "LCBmAGUhyvzC",
    "outputId": "7abdd2bc-0aa3-4460-c338-036ff6a16d0e"
   },
   "outputs": [
    {
     "name": "stdout",
     "output_type": "stream",
     "text": [
      "<class 'pandas.core.frame.DataFrame'>\n",
      "RangeIndex: 1815 entries, 0 to 1814\n",
      "Data columns (total 6 columns):\n",
      " #   Column        Non-Null Count  Dtype \n",
      "---  ------        --------------  ----- \n",
      " 0   title         1815 non-null   object\n",
      " 1   selftext      1751 non-null   object\n",
      " 2   author        1815 non-null   object\n",
      " 3   num_comments  1815 non-null   int64 \n",
      " 4   is_suicide    1815 non-null   int64 \n",
      " 5   url           1815 non-null   object\n",
      "dtypes: int64(2), object(4)\n",
      "memory usage: 85.2+ KB\n"
     ]
    }
   ],
   "source": [
    "# checking for missing values\n",
    "combined_data.info()"
   ]
  },
  {
   "cell_type": "markdown",
   "metadata": {
    "colab_type": "text",
    "id": "usJqoE2gyvzF"
   },
   "source": [
    "it looks like the only missing values are in the text body, which makes sense. "
   ]
  },
  {
   "cell_type": "code",
   "execution_count": 92,
   "metadata": {
    "colab": {},
    "colab_type": "code",
    "id": "F1wQYwZ6yvzF",
    "outputId": "c53c7a5c-62fb-428b-a04f-18cbac9f3719"
   },
   "outputs": [
    {
     "data": {
      "text/html": [
       "<div>\n",
       "<style scoped>\n",
       "    .dataframe tbody tr th:only-of-type {\n",
       "        vertical-align: middle;\n",
       "    }\n",
       "\n",
       "    .dataframe tbody tr th {\n",
       "        vertical-align: top;\n",
       "    }\n",
       "\n",
       "    .dataframe thead th {\n",
       "        text-align: right;\n",
       "    }\n",
       "</style>\n",
       "<table border=\"1\" class=\"dataframe\">\n",
       "  <thead>\n",
       "    <tr style=\"text-align: right;\">\n",
       "      <th></th>\n",
       "      <th>title</th>\n",
       "      <th>selftext</th>\n",
       "      <th>author</th>\n",
       "      <th>num_comments</th>\n",
       "      <th>is_suicide</th>\n",
       "      <th>url</th>\n",
       "    </tr>\n",
       "  </thead>\n",
       "  <tbody>\n",
       "    <tr>\n",
       "      <th>4</th>\n",
       "      <td>Nobody gives a fuck until you die, and even then you're still not valid.</td>\n",
       "      <td>NaN</td>\n",
       "      <td>lil_peemis</td>\n",
       "      <td>3</td>\n",
       "      <td>1</td>\n",
       "      <td>https://www.reddit.com/r/SuicideWatch/comments/fea9x1/nobody_gives_a_fuck_until_you_die_and_even...</td>\n",
       "    </tr>\n",
       "    <tr>\n",
       "      <th>6</th>\n",
       "      <td>I have two brothers who have killed themselves, and that fact is the only thing keeping me from ...</td>\n",
       "      <td>NaN</td>\n",
       "      <td>ArsenalOwl</td>\n",
       "      <td>1</td>\n",
       "      <td>1</td>\n",
       "      <td>https://www.reddit.com/r/SuicideWatch/comments/feenlk/i_have_two_brothers_who_have_killed_themse...</td>\n",
       "    </tr>\n",
       "    <tr>\n",
       "      <th>8</th>\n",
       "      <td>I want to die I want to die I want to die</td>\n",
       "      <td>NaN</td>\n",
       "      <td>alynde</td>\n",
       "      <td>4</td>\n",
       "      <td>1</td>\n",
       "      <td>https://www.reddit.com/r/SuicideWatch/comments/fecvpg/i_want_to_die_i_want_to_die_i_want_to_die/</td>\n",
       "    </tr>\n",
       "    <tr>\n",
       "      <th>17</th>\n",
       "      <td>I am so sorry, but it has gotten worse</td>\n",
       "      <td>NaN</td>\n",
       "      <td>SmushyKidK</td>\n",
       "      <td>4</td>\n",
       "      <td>1</td>\n",
       "      <td>https://www.reddit.com/r/SuicideWatch/comments/feerry/i_am_so_sorry_but_it_has_gotten_worse/</td>\n",
       "    </tr>\n",
       "    <tr>\n",
       "      <th>20</th>\n",
       "      <td>I want to douse my body in gasoline and set myself on fire</td>\n",
       "      <td>NaN</td>\n",
       "      <td>SalehRobbins</td>\n",
       "      <td>3</td>\n",
       "      <td>1</td>\n",
       "      <td>https://www.reddit.com/r/SuicideWatch/comments/fefk02/i_want_to_douse_my_body_in_gasoline_and_set/</td>\n",
       "    </tr>\n",
       "    <tr>\n",
       "      <th>24</th>\n",
       "      <td>I can't do this anymore</td>\n",
       "      <td>NaN</td>\n",
       "      <td>sappy_banana</td>\n",
       "      <td>4</td>\n",
       "      <td>1</td>\n",
       "      <td>https://www.reddit.com/r/SuicideWatch/comments/feeq4w/i_cant_do_this_anymore/</td>\n",
       "    </tr>\n",
       "    <tr>\n",
       "      <th>40</th>\n",
       "      <td>If I had a gun, I’d blow my fucking brains out right now</td>\n",
       "      <td>NaN</td>\n",
       "      <td>CGM2004</td>\n",
       "      <td>1</td>\n",
       "      <td>1</td>\n",
       "      <td>https://www.reddit.com/r/SuicideWatch/comments/fecg6p/if_i_had_a_gun_id_blow_my_fucking_brains_out/</td>\n",
       "    </tr>\n",
       "    <tr>\n",
       "      <th>43</th>\n",
       "      <td>This world is a joke.</td>\n",
       "      <td>NaN</td>\n",
       "      <td>crybaby1577</td>\n",
       "      <td>11</td>\n",
       "      <td>1</td>\n",
       "      <td>https://www.reddit.com/r/SuicideWatch/comments/fe3uns/this_world_is_a_joke/</td>\n",
       "    </tr>\n",
       "    <tr>\n",
       "      <th>47</th>\n",
       "      <td>I think I’m ready</td>\n",
       "      <td>NaN</td>\n",
       "      <td>___horse___</td>\n",
       "      <td>4</td>\n",
       "      <td>1</td>\n",
       "      <td>https://www.reddit.com/r/SuicideWatch/comments/fedy44/i_think_im_ready/</td>\n",
       "    </tr>\n",
       "    <tr>\n",
       "      <th>56</th>\n",
       "      <td>IM ABOUT To kill my self help</td>\n",
       "      <td>NaN</td>\n",
       "      <td>myusernameisunknown1</td>\n",
       "      <td>0</td>\n",
       "      <td>1</td>\n",
       "      <td>https://www.reddit.com/r/SuicideWatch/comments/fehrt0/im_about_to_kill_my_self_help/</td>\n",
       "    </tr>\n",
       "  </tbody>\n",
       "</table>\n",
       "</div>"
      ],
      "text/plain": [
       "                                                                                                  title  \\\n",
       "4                              Nobody gives a fuck until you die, and even then you're still not valid.   \n",
       "6   I have two brothers who have killed themselves, and that fact is the only thing keeping me from ...   \n",
       "8                                                             I want to die I want to die I want to die   \n",
       "17                                                               I am so sorry, but it has gotten worse   \n",
       "20                                           I want to douse my body in gasoline and set myself on fire   \n",
       "24                                                                              I can't do this anymore   \n",
       "40                                             If I had a gun, I’d blow my fucking brains out right now   \n",
       "43                                                                                This world is a joke.   \n",
       "47                                                                                    I think I’m ready   \n",
       "56                                                                        IM ABOUT To kill my self help   \n",
       "\n",
       "   selftext                author  num_comments  is_suicide  \\\n",
       "4       NaN            lil_peemis             3           1   \n",
       "6       NaN            ArsenalOwl             1           1   \n",
       "8       NaN                alynde             4           1   \n",
       "17      NaN            SmushyKidK             4           1   \n",
       "20      NaN          SalehRobbins             3           1   \n",
       "24      NaN          sappy_banana             4           1   \n",
       "40      NaN               CGM2004             1           1   \n",
       "43      NaN           crybaby1577            11           1   \n",
       "47      NaN           ___horse___             4           1   \n",
       "56      NaN  myusernameisunknown1             0           1   \n",
       "\n",
       "                                                                                                    url  \n",
       "4   https://www.reddit.com/r/SuicideWatch/comments/fea9x1/nobody_gives_a_fuck_until_you_die_and_even...  \n",
       "6   https://www.reddit.com/r/SuicideWatch/comments/feenlk/i_have_two_brothers_who_have_killed_themse...  \n",
       "8      https://www.reddit.com/r/SuicideWatch/comments/fecvpg/i_want_to_die_i_want_to_die_i_want_to_die/  \n",
       "17         https://www.reddit.com/r/SuicideWatch/comments/feerry/i_am_so_sorry_but_it_has_gotten_worse/  \n",
       "20   https://www.reddit.com/r/SuicideWatch/comments/fefk02/i_want_to_douse_my_body_in_gasoline_and_set/  \n",
       "24                        https://www.reddit.com/r/SuicideWatch/comments/feeq4w/i_cant_do_this_anymore/  \n",
       "40  https://www.reddit.com/r/SuicideWatch/comments/fecg6p/if_i_had_a_gun_id_blow_my_fucking_brains_out/  \n",
       "43                          https://www.reddit.com/r/SuicideWatch/comments/fe3uns/this_world_is_a_joke/  \n",
       "47                              https://www.reddit.com/r/SuicideWatch/comments/fedy44/i_think_im_ready/  \n",
       "56                 https://www.reddit.com/r/SuicideWatch/comments/fehrt0/im_about_to_kill_my_self_help/  "
      ]
     },
     "execution_count": 92,
     "metadata": {},
     "output_type": "execute_result"
    }
   ],
   "source": [
    "# looking at the posts with missing text values\n",
    "combined_data[combined_data[\"selftext\"].isnull()].head(10)"
   ]
  },
  {
   "cell_type": "markdown",
   "metadata": {
    "colab_type": "text",
    "id": "x72z_owvyvzK"
   },
   "source": [
    "The posts with missing values are either very concise in the title and to the point, or the main text is basically in the title. Luckily, there aren't that many posts with missing values. However, most of the null values are in the suicide dataset, which makes sense but also could be troublesome for our classifier. Maybe using the titles as the text would be a good approach. "
   ]
  },
  {
   "cell_type": "code",
   "execution_count": 93,
   "metadata": {
    "colab": {},
    "colab_type": "code",
    "id": "b37WNNamyvzL",
    "outputId": "b4afab7e-9050-4aec-ca1e-ff155f65077d"
   },
   "outputs": [
    {
     "data": {
      "text/plain": [
       "1    64\n",
       "Name: is_suicide, dtype: int64"
      ]
     },
     "execution_count": 93,
     "metadata": {},
     "output_type": "execute_result"
    }
   ],
   "source": [
    "combined_data[\"is_suicide\"][combined_data[\"selftext\"].isnull()].value_counts()"
   ]
  },
  {
   "cell_type": "code",
   "execution_count": 94,
   "metadata": {
    "colab": {},
    "colab_type": "code",
    "id": "OZG7ErrQyvzS"
   },
   "outputs": [],
   "source": [
    "# the best approach for the null values it to just fill them with \"emptypost\"\n",
    "combined_data[\"selftext\"].fillna(\"emptypost\",inplace=True)"
   ]
  },
  {
   "cell_type": "code",
   "execution_count": 95,
   "metadata": {
    "colab": {},
    "colab_type": "code",
    "id": "4DsxPL4qyvzU",
    "outputId": "33b39329-4056-4506-e830-049a24ab435d"
   },
   "outputs": [
    {
     "data": {
      "text/html": [
       "<div>\n",
       "<style scoped>\n",
       "    .dataframe tbody tr th:only-of-type {\n",
       "        vertical-align: middle;\n",
       "    }\n",
       "\n",
       "    .dataframe tbody tr th {\n",
       "        vertical-align: top;\n",
       "    }\n",
       "\n",
       "    .dataframe thead th {\n",
       "        text-align: right;\n",
       "    }\n",
       "</style>\n",
       "<table border=\"1\" class=\"dataframe\">\n",
       "  <thead>\n",
       "    <tr style=\"text-align: right;\">\n",
       "      <th></th>\n",
       "      <th>title</th>\n",
       "      <th>selftext</th>\n",
       "      <th>author</th>\n",
       "      <th>num_comments</th>\n",
       "      <th>is_suicide</th>\n",
       "      <th>url</th>\n",
       "    </tr>\n",
       "  </thead>\n",
       "  <tbody>\n",
       "    <tr>\n",
       "      <th>4</th>\n",
       "      <td>Nobody gives a fuck until you die, and even then you're still not valid.</td>\n",
       "      <td>emptypost</td>\n",
       "      <td>lil_peemis</td>\n",
       "      <td>3</td>\n",
       "      <td>1</td>\n",
       "      <td>https://www.reddit.com/r/SuicideWatch/comments/fea9x1/nobody_gives_a_fuck_until_you_die_and_even...</td>\n",
       "    </tr>\n",
       "    <tr>\n",
       "      <th>6</th>\n",
       "      <td>I have two brothers who have killed themselves, and that fact is the only thing keeping me from ...</td>\n",
       "      <td>emptypost</td>\n",
       "      <td>ArsenalOwl</td>\n",
       "      <td>1</td>\n",
       "      <td>1</td>\n",
       "      <td>https://www.reddit.com/r/SuicideWatch/comments/feenlk/i_have_two_brothers_who_have_killed_themse...</td>\n",
       "    </tr>\n",
       "    <tr>\n",
       "      <th>8</th>\n",
       "      <td>I want to die I want to die I want to die</td>\n",
       "      <td>emptypost</td>\n",
       "      <td>alynde</td>\n",
       "      <td>4</td>\n",
       "      <td>1</td>\n",
       "      <td>https://www.reddit.com/r/SuicideWatch/comments/fecvpg/i_want_to_die_i_want_to_die_i_want_to_die/</td>\n",
       "    </tr>\n",
       "    <tr>\n",
       "      <th>17</th>\n",
       "      <td>I am so sorry, but it has gotten worse</td>\n",
       "      <td>emptypost</td>\n",
       "      <td>SmushyKidK</td>\n",
       "      <td>4</td>\n",
       "      <td>1</td>\n",
       "      <td>https://www.reddit.com/r/SuicideWatch/comments/feerry/i_am_so_sorry_but_it_has_gotten_worse/</td>\n",
       "    </tr>\n",
       "    <tr>\n",
       "      <th>20</th>\n",
       "      <td>I want to douse my body in gasoline and set myself on fire</td>\n",
       "      <td>emptypost</td>\n",
       "      <td>SalehRobbins</td>\n",
       "      <td>3</td>\n",
       "      <td>1</td>\n",
       "      <td>https://www.reddit.com/r/SuicideWatch/comments/fefk02/i_want_to_douse_my_body_in_gasoline_and_set/</td>\n",
       "    </tr>\n",
       "  </tbody>\n",
       "</table>\n",
       "</div>"
      ],
      "text/plain": [
       "                                                                                                  title  \\\n",
       "4                              Nobody gives a fuck until you die, and even then you're still not valid.   \n",
       "6   I have two brothers who have killed themselves, and that fact is the only thing keeping me from ...   \n",
       "8                                                             I want to die I want to die I want to die   \n",
       "17                                                               I am so sorry, but it has gotten worse   \n",
       "20                                           I want to douse my body in gasoline and set myself on fire   \n",
       "\n",
       "     selftext        author  num_comments  is_suicide  \\\n",
       "4   emptypost    lil_peemis             3           1   \n",
       "6   emptypost    ArsenalOwl             1           1   \n",
       "8   emptypost        alynde             4           1   \n",
       "17  emptypost    SmushyKidK             4           1   \n",
       "20  emptypost  SalehRobbins             3           1   \n",
       "\n",
       "                                                                                                    url  \n",
       "4   https://www.reddit.com/r/SuicideWatch/comments/fea9x1/nobody_gives_a_fuck_until_you_die_and_even...  \n",
       "6   https://www.reddit.com/r/SuicideWatch/comments/feenlk/i_have_two_brothers_who_have_killed_themse...  \n",
       "8      https://www.reddit.com/r/SuicideWatch/comments/fecvpg/i_want_to_die_i_want_to_die_i_want_to_die/  \n",
       "17         https://www.reddit.com/r/SuicideWatch/comments/feerry/i_am_so_sorry_but_it_has_gotten_worse/  \n",
       "20   https://www.reddit.com/r/SuicideWatch/comments/fefk02/i_want_to_douse_my_body_in_gasoline_and_set/  "
      ]
     },
     "execution_count": 95,
     "metadata": {},
     "output_type": "execute_result"
    }
   ],
   "source": [
    "# checking if filling missing values worked\n",
    "combined_data[combined_data[\"selftext\"].isin([\"emptypost\"])].head()"
   ]
  },
  {
   "cell_type": "code",
   "execution_count": 96,
   "metadata": {
    "colab": {},
    "colab_type": "code",
    "id": "dH4qHWcoyvzX",
    "outputId": "bd0912dc-36ab-46f4-e386-7ff81ffa530c"
   },
   "outputs": [
    {
     "name": "stdout",
     "output_type": "stream",
     "text": [
      "<class 'pandas.core.frame.DataFrame'>\n",
      "RangeIndex: 1815 entries, 0 to 1814\n",
      "Data columns (total 6 columns):\n",
      " #   Column        Non-Null Count  Dtype \n",
      "---  ------        --------------  ----- \n",
      " 0   title         1815 non-null   object\n",
      " 1   selftext      1815 non-null   object\n",
      " 2   author        1815 non-null   object\n",
      " 3   num_comments  1815 non-null   int64 \n",
      " 4   is_suicide    1815 non-null   int64 \n",
      " 5   url           1815 non-null   object\n",
      "dtypes: int64(2), object(4)\n",
      "memory usage: 85.2+ KB\n"
     ]
    }
   ],
   "source": [
    "# checking entire dataset for missing values\n",
    "combined_data.info()"
   ]
  },
  {
   "cell_type": "markdown",
   "metadata": {
    "colab_type": "text",
    "id": "K2OnDMpryvzZ"
   },
   "source": [
    "# Data Preprocessing\n",
    "The posts are all written in different punctuation and capitalizations, so standardizing the data is an important first step. "
   ]
  },
  {
   "cell_type": "markdown",
   "metadata": {
    "colab_type": "text",
    "id": "--WqWPW_yvzZ"
   },
   "source": [
    "### Preprocessing Functions\n",
    "Let's begin by removing capitalizations, reducing sentences to base words, and removing punctuation. We will add this as a new column to our data."
   ]
  },
  {
   "cell_type": "code",
   "execution_count": 97,
   "metadata": {
    "colab": {},
    "colab_type": "code",
    "id": "jikSNGrsyvza"
   },
   "outputs": [],
   "source": [
    "def processing_text(series_to_process):\n",
    "    new_list = []\n",
    "    tokenizer = RegexpTokenizer(r'(\\w+)')\n",
    "    lemmatizer = WordNetLemmatizer()\n",
    "    for i in range(len(series_to_process)):\n",
    "        # tokenized item in a new list\n",
    "        dirty_string = (series_to_process)[i].lower()\n",
    "        words_only = tokenizer.tokenize(dirty_string) # words_only is a list of only the words, no punctuation\n",
    "        #Lemmatize the words_only\n",
    "        words_only_lem = [lemmatizer.lemmatize(i) for i in words_only]\n",
    "        # removing stop words\n",
    "        words_without_stop = [i for i in words_only_lem if i not in stopwords.words(\"english\")]\n",
    "        # return seperated words\n",
    "        long_string_clean = \" \".join(word for word in words_without_stop)\n",
    "        new_list.append(long_string_clean)\n",
    "    return new_list"
   ]
  },
  {
   "cell_type": "code",
   "execution_count": 98,
   "metadata": {
    "colab": {},
    "colab_type": "code",
    "id": "Oukr9PXgyvzc",
    "outputId": "6afea178-1882-4fe4-fa93-a70af33a94e0"
   },
   "outputs": [
    {
     "data": {
      "text/html": [
       "<div>\n",
       "<style scoped>\n",
       "    .dataframe tbody tr th:only-of-type {\n",
       "        vertical-align: middle;\n",
       "    }\n",
       "\n",
       "    .dataframe tbody tr th {\n",
       "        vertical-align: top;\n",
       "    }\n",
       "\n",
       "    .dataframe thead th {\n",
       "        text-align: right;\n",
       "    }\n",
       "</style>\n",
       "<table border=\"1\" class=\"dataframe\">\n",
       "  <thead>\n",
       "    <tr style=\"text-align: right;\">\n",
       "      <th></th>\n",
       "      <th>title</th>\n",
       "      <th>selftext</th>\n",
       "      <th>author</th>\n",
       "      <th>num_comments</th>\n",
       "      <th>is_suicide</th>\n",
       "      <th>url</th>\n",
       "      <th>selftext_clean</th>\n",
       "      <th>title_clean</th>\n",
       "    </tr>\n",
       "  </thead>\n",
       "  <tbody>\n",
       "    <tr>\n",
       "      <th>0</th>\n",
       "      <td>New wiki on how to avoid accidentally encouraging suicide, and how to spot covert incitement</td>\n",
       "      <td>We've been seeing a worrying increase in pro-suicide content showing up here and, and also going...</td>\n",
       "      <td>SQLwitch</td>\n",
       "      <td>260</td>\n",
       "      <td>1</td>\n",
       "      <td>https://www.reddit.com/r/SuicideWatch/comments/cz6nfd/new_wiki_on_how_to_avoid_accidentally_enco...</td>\n",
       "      <td>seeing worrying increase pro suicide content showing also going unreported undermines purpose wa...</td>\n",
       "      <td>new wiki avoid accidentally encouraging suicide spot covert incitement</td>\n",
       "    </tr>\n",
       "    <tr>\n",
       "      <th>1</th>\n",
       "      <td>Reminder: Absolutely no activism of any kind is allowed here. Any day.</td>\n",
       "      <td>If you want to recognise an occasion, please do so by offering extra support to those who've ask...</td>\n",
       "      <td>SQLwitch</td>\n",
       "      <td>124</td>\n",
       "      <td>1</td>\n",
       "      <td>https://www.reddit.com/r/SuicideWatch/comments/d2370x/reminder_absolutely_no_activism_of_any_kin...</td>\n",
       "      <td>want recognise occasion please offering extra support asked good citizen community mindful tip g...</td>\n",
       "      <td>reminder absolutely activism kind allowed day</td>\n",
       "    </tr>\n",
       "    <tr>\n",
       "      <th>2</th>\n",
       "      <td>To every single poster here i wanne say one thing</td>\n",
       "      <td>I really fucking feel you</td>\n",
       "      <td>NussNougatCroissant</td>\n",
       "      <td>46</td>\n",
       "      <td>1</td>\n",
       "      <td>https://www.reddit.com/r/SuicideWatch/comments/fe7bca/to_every_single_poster_here_i_wanne_say_on...</td>\n",
       "      <td>really fucking feel</td>\n",
       "      <td>every single poster wanne say one thing</td>\n",
       "    </tr>\n",
       "    <tr>\n",
       "      <th>3</th>\n",
       "      <td>I just want it all to stop</td>\n",
       "      <td>Everyone ends up hating me eventually. \\nMy psychologist of almost ten years blew up at me and k...</td>\n",
       "      <td>hda-SVN-njhdsx</td>\n",
       "      <td>5</td>\n",
       "      <td>1</td>\n",
       "      <td>https://www.reddit.com/r/SuicideWatch/comments/fee4k7/i_just_want_it_all_to_stop/</td>\n",
       "      <td>everyone end hating eventually psychologist almost ten year blew kicked last session doubting ev...</td>\n",
       "      <td>want stop</td>\n",
       "    </tr>\n",
       "    <tr>\n",
       "      <th>4</th>\n",
       "      <td>Nobody gives a fuck until you die, and even then you're still not valid.</td>\n",
       "      <td>emptypost</td>\n",
       "      <td>lil_peemis</td>\n",
       "      <td>3</td>\n",
       "      <td>1</td>\n",
       "      <td>https://www.reddit.com/r/SuicideWatch/comments/fea9x1/nobody_gives_a_fuck_until_you_die_and_even...</td>\n",
       "      <td>emptypost</td>\n",
       "      <td>nobody give fuck die even still valid</td>\n",
       "    </tr>\n",
       "    <tr>\n",
       "      <th>5</th>\n",
       "      <td>I want to die</td>\n",
       "      <td>Dude I just want death. I’ve never actually wanted to die before but I just really really don’t ...</td>\n",
       "      <td>My21SabbathChemicals</td>\n",
       "      <td>6</td>\n",
       "      <td>1</td>\n",
       "      <td>https://www.reddit.com/r/SuicideWatch/comments/fee4yo/i_want_to_die/</td>\n",
       "      <td>dude want death never actually wanted die really really want everyone hate honestly hate everyon...</td>\n",
       "      <td>want die</td>\n",
       "    </tr>\n",
       "    <tr>\n",
       "      <th>6</th>\n",
       "      <td>I have two brothers who have killed themselves, and that fact is the only thing keeping me from ...</td>\n",
       "      <td>emptypost</td>\n",
       "      <td>ArsenalOwl</td>\n",
       "      <td>1</td>\n",
       "      <td>1</td>\n",
       "      <td>https://www.reddit.com/r/SuicideWatch/comments/feenlk/i_have_two_brothers_who_have_killed_themse...</td>\n",
       "      <td>emptypost</td>\n",
       "      <td>two brother killed fact thing keeping looked found sub instead</td>\n",
       "    </tr>\n",
       "    <tr>\n",
       "      <th>7</th>\n",
       "      <td>8 years ago I posted here, wanting to die. My life is so much better now.</td>\n",
       "      <td>When I was 15-16 years old, I posted here in my darkest moments. I couldn't see any reason to ke...</td>\n",
       "      <td>deppressionthrowaway</td>\n",
       "      <td>36</td>\n",
       "      <td>1</td>\n",
       "      <td>https://www.reddit.com/r/SuicideWatch/comments/fe6pma/8_years_ago_i_posted_here_wanting_to_die_m...</td>\n",
       "      <td>wa 15 16 year old posted darkest moment see reason keep living thought wa nothing special next 8...</td>\n",
       "      <td>8 year ago posted wanting die life much better</td>\n",
       "    </tr>\n",
       "  </tbody>\n",
       "</table>\n",
       "</div>"
      ],
      "text/plain": [
       "                                                                                                 title  \\\n",
       "0         New wiki on how to avoid accidentally encouraging suicide, and how to spot covert incitement   \n",
       "1                               Reminder: Absolutely no activism of any kind is allowed here. Any day.   \n",
       "2                                                    To every single poster here i wanne say one thing   \n",
       "3                                                                           I just want it all to stop   \n",
       "4                             Nobody gives a fuck until you die, and even then you're still not valid.   \n",
       "5                                                                                        I want to die   \n",
       "6  I have two brothers who have killed themselves, and that fact is the only thing keeping me from ...   \n",
       "7                            8 years ago I posted here, wanting to die. My life is so much better now.   \n",
       "\n",
       "                                                                                              selftext  \\\n",
       "0  We've been seeing a worrying increase in pro-suicide content showing up here and, and also going...   \n",
       "1  If you want to recognise an occasion, please do so by offering extra support to those who've ask...   \n",
       "2                                                                            I really fucking feel you   \n",
       "3  Everyone ends up hating me eventually. \\nMy psychologist of almost ten years blew up at me and k...   \n",
       "4                                                                                            emptypost   \n",
       "5  Dude I just want death. I’ve never actually wanted to die before but I just really really don’t ...   \n",
       "6                                                                                            emptypost   \n",
       "7  When I was 15-16 years old, I posted here in my darkest moments. I couldn't see any reason to ke...   \n",
       "\n",
       "                 author  num_comments  is_suicide  \\\n",
       "0              SQLwitch           260           1   \n",
       "1              SQLwitch           124           1   \n",
       "2   NussNougatCroissant            46           1   \n",
       "3        hda-SVN-njhdsx             5           1   \n",
       "4            lil_peemis             3           1   \n",
       "5  My21SabbathChemicals             6           1   \n",
       "6            ArsenalOwl             1           1   \n",
       "7  deppressionthrowaway            36           1   \n",
       "\n",
       "                                                                                                   url  \\\n",
       "0  https://www.reddit.com/r/SuicideWatch/comments/cz6nfd/new_wiki_on_how_to_avoid_accidentally_enco...   \n",
       "1  https://www.reddit.com/r/SuicideWatch/comments/d2370x/reminder_absolutely_no_activism_of_any_kin...   \n",
       "2  https://www.reddit.com/r/SuicideWatch/comments/fe7bca/to_every_single_poster_here_i_wanne_say_on...   \n",
       "3                    https://www.reddit.com/r/SuicideWatch/comments/fee4k7/i_just_want_it_all_to_stop/   \n",
       "4  https://www.reddit.com/r/SuicideWatch/comments/fea9x1/nobody_gives_a_fuck_until_you_die_and_even...   \n",
       "5                                 https://www.reddit.com/r/SuicideWatch/comments/fee4yo/i_want_to_die/   \n",
       "6  https://www.reddit.com/r/SuicideWatch/comments/feenlk/i_have_two_brothers_who_have_killed_themse...   \n",
       "7  https://www.reddit.com/r/SuicideWatch/comments/fe6pma/8_years_ago_i_posted_here_wanting_to_die_m...   \n",
       "\n",
       "                                                                                        selftext_clean  \\\n",
       "0  seeing worrying increase pro suicide content showing also going unreported undermines purpose wa...   \n",
       "1  want recognise occasion please offering extra support asked good citizen community mindful tip g...   \n",
       "2                                                                                  really fucking feel   \n",
       "3  everyone end hating eventually psychologist almost ten year blew kicked last session doubting ev...   \n",
       "4                                                                                            emptypost   \n",
       "5  dude want death never actually wanted die really really want everyone hate honestly hate everyon...   \n",
       "6                                                                                            emptypost   \n",
       "7  wa 15 16 year old posted darkest moment see reason keep living thought wa nothing special next 8...   \n",
       "\n",
       "                                                              title_clean  \n",
       "0  new wiki avoid accidentally encouraging suicide spot covert incitement  \n",
       "1                           reminder absolutely activism kind allowed day  \n",
       "2                                 every single poster wanne say one thing  \n",
       "3                                                               want stop  \n",
       "4                                   nobody give fuck die even still valid  \n",
       "5                                                                want die  \n",
       "6          two brother killed fact thing keeping looked found sub instead  \n",
       "7                          8 year ago posted wanting die life much better  "
      ]
     },
     "execution_count": 98,
     "metadata": {},
     "output_type": "execute_result"
    }
   ],
   "source": [
    "# checking to see if the new columns were added\n",
    "combined_data[\"selftext_clean\"] = processing_text(combined_data[\"selftext\"])\n",
    "combined_data[\"title_clean\"] = processing_text(combined_data[\"title\"])\n",
    "pd.set_option(\"display.max_colwidth\", 100)\n",
    "combined_data.head(8)"
   ]
  },
  {
   "cell_type": "markdown",
   "metadata": {
    "colab_type": "text",
    "id": "wbMXeOelyvzf"
   },
   "source": [
    "Cleaning the titles and text worked, and that is important for our classifier to simplify the process and create a clearer distinction between the two datasets. "
   ]
  },
  {
   "cell_type": "code",
   "execution_count": 99,
   "metadata": {
    "colab": {},
    "colab_type": "code",
    "id": "IQZbAEizyvzf",
    "outputId": "2a58f384-d301-410b-b78f-c0c686bb6748"
   },
   "outputs": [
    {
     "data": {
      "text/html": [
       "<div>\n",
       "<style scoped>\n",
       "    .dataframe tbody tr th:only-of-type {\n",
       "        vertical-align: middle;\n",
       "    }\n",
       "\n",
       "    .dataframe tbody tr th {\n",
       "        vertical-align: top;\n",
       "    }\n",
       "\n",
       "    .dataframe thead th {\n",
       "        text-align: right;\n",
       "    }\n",
       "</style>\n",
       "<table border=\"1\" class=\"dataframe\">\n",
       "  <thead>\n",
       "    <tr style=\"text-align: right;\">\n",
       "      <th></th>\n",
       "      <th>selftext</th>\n",
       "      <th>selftext_clean</th>\n",
       "    </tr>\n",
       "  </thead>\n",
       "  <tbody>\n",
       "    <tr>\n",
       "      <th>1813</th>\n",
       "      <td>My family has owned a fine dining italian restaurant since before i was born. Most all of my childhood memories are in that restaurant. Everyday after school i’d go do my homework at the bar, i’d follow my dad around the kitchen and help with little things like making salads, and i will never forget making my first pizza at 4 years old. Whenever it stormed really bad and we lost power my family would go and sleep on the floor in the dining room — it was always a safe space. It was always somewhere for us to go, something for us to do, something that needed constant watering and attention. It’s been my family’s livelihood for my entire existence. It’s kept my belly full as well as my heart. It’s my father’s lifelong work and it’s made me respect him sooo much after 30 years of being there to cook for 14+ hours a day. I don’t know who i’d be without this restaurant. It’s shaped me in ways that i couldn’t possibly explain over a reddit post. It’s made me confident, brave, not scared o...</td>\n",
       "      <td>family ha owned fine dining italian restaurant since wa born childhood memory restaurant everyday school go homework bar follow dad around kitchen help little thing like making salad never forget making first pizza 4 year old whenever stormed really bad lost power family would go sleep floor dining room wa always safe space wa always somewhere u go something u something needed constant watering attention family livelihood entire existence kept belly full well heart father lifelong work made respect sooo much 30 year cook 14 hour day know without restaurant shaped way possibly explain reddit post made confident brave scared little heat built incredible relationship staff lucky work long started taking seriously wa 15 wa busgirl first wa hostess got little older became server good one especially spilling red wine one many older woman embarrassing beyond compare realized 18 like father wa cook 24 cooking alongside dad everyday since realized knack beautiful exhausting exhilarating men...</td>\n",
       "    </tr>\n",
       "    <tr>\n",
       "      <th>1814</th>\n",
       "      <td>First of all, I’m not Japanese. I came to Japan about 12 years ago to work as a programmer in Tokyo as a contractual job. A couple years of that and I felt I love it here, so I decided to live in Japan and took a full-time job.\\n\\nFortunately, my personality fits the culture and I feel like I’m thriving here. There are pros and cons in every single country, of course, and Japan is no exception. But I feel the pros outweigh the cons, so I’m a bit biased. \\n\\nI’ve lived in both the urban metropolis and the provincial rural towns. My current neighborhood is a suburb that’s somewhere in the middle. Less than an hour from central Tokyo, yet surrounded by forests and mountains, two rivers, and everything is walkable.\\n\\nI realized that there are a lot of people on Reddit who are interested in Japan, both lovers and haters. If you have anything you want to know, I’ll try to answer it with what I know and have experienced.\\n\\nIf you’re not comfortable in making your post public, you can ju...</td>\n",
       "      <td>first japanese came japan 12 year ago work programmer tokyo contractual job couple year felt love decided live japan took full time job fortunately personality fit culture feel like thriving pro con every single country course japan exception feel pro outweigh con bit biased lived urban metropolis provincial rural town current neighborhood suburb somewhere middle le hour central tokyo yet surrounded forest mountain two river everything walkable realized lot people reddit interested japan lover hater anything want know try answer know experienced comfortable making post public send private message</td>\n",
       "    </tr>\n",
       "  </tbody>\n",
       "</table>\n",
       "</div>"
      ],
      "text/plain": [
       "                                                                                                                                                                                                                                                                                                                                                                                                                                                                                                                                                                                                                                                                                                                                                                                                                                                                                                                                                                                                                                     selftext  \\\n",
       "1813  My family has owned a fine dining italian restaurant since before i was born. Most all of my childhood memories are in that restaurant. Everyday after school i’d go do my homework at the bar, i’d follow my dad around the kitchen and help with little things like making salads, and i will never forget making my first pizza at 4 years old. Whenever it stormed really bad and we lost power my family would go and sleep on the floor in the dining room — it was always a safe space. It was always somewhere for us to go, something for us to do, something that needed constant watering and attention. It’s been my family’s livelihood for my entire existence. It’s kept my belly full as well as my heart. It’s my father’s lifelong work and it’s made me respect him sooo much after 30 years of being there to cook for 14+ hours a day. I don’t know who i’d be without this restaurant. It’s shaped me in ways that i couldn’t possibly explain over a reddit post. It’s made me confident, brave, not scared o...   \n",
       "1814  First of all, I’m not Japanese. I came to Japan about 12 years ago to work as a programmer in Tokyo as a contractual job. A couple years of that and I felt I love it here, so I decided to live in Japan and took a full-time job.\\n\\nFortunately, my personality fits the culture and I feel like I’m thriving here. There are pros and cons in every single country, of course, and Japan is no exception. But I feel the pros outweigh the cons, so I’m a bit biased. \\n\\nI’ve lived in both the urban metropolis and the provincial rural towns. My current neighborhood is a suburb that’s somewhere in the middle. Less than an hour from central Tokyo, yet surrounded by forests and mountains, two rivers, and everything is walkable.\\n\\nI realized that there are a lot of people on Reddit who are interested in Japan, both lovers and haters. If you have anything you want to know, I’ll try to answer it with what I know and have experienced.\\n\\nIf you’re not comfortable in making your post public, you can ju...   \n",
       "\n",
       "                                                                                                                                                                                                                                                                                                                                                                                                                                                                                                                                                                                                                                                                                                                                                                                                                                                                                                                                                                                                                               selftext_clean  \n",
       "1813  family ha owned fine dining italian restaurant since wa born childhood memory restaurant everyday school go homework bar follow dad around kitchen help little thing like making salad never forget making first pizza 4 year old whenever stormed really bad lost power family would go sleep floor dining room wa always safe space wa always somewhere u go something u something needed constant watering attention family livelihood entire existence kept belly full well heart father lifelong work made respect sooo much 30 year cook 14 hour day know without restaurant shaped way possibly explain reddit post made confident brave scared little heat built incredible relationship staff lucky work long started taking seriously wa 15 wa busgirl first wa hostess got little older became server good one especially spilling red wine one many older woman embarrassing beyond compare realized 18 like father wa cook 24 cooking alongside dad everyday since realized knack beautiful exhausting exhilarating men...  \n",
       "1814                                                                                                                                                                                                                                                                                                                                                                                                              first japanese came japan 12 year ago work programmer tokyo contractual job couple year felt love decided live japan took full time job fortunately personality fit culture feel like thriving pro con every single country course japan exception feel pro outweigh con bit biased lived urban metropolis provincial rural town current neighborhood suburb somewhere middle le hour central tokyo yet surrounded forest mountain two river everything walkable realized lot people reddit interested japan lover hater anything want know try answer know experienced comfortable making post public send private message  "
      ]
     },
     "execution_count": 99,
     "metadata": {},
     "output_type": "execute_result"
    }
   ],
   "source": [
    "# checking selftext_clean\n",
    "pd.set_option(\"display.max_colwidth\", 1000)\n",
    "combined_data[[\"selftext\",\"selftext_clean\"]].tail(2)"
   ]
  },
  {
   "cell_type": "code",
   "execution_count": 100,
   "metadata": {
    "colab": {},
    "colab_type": "code",
    "id": "CSfsip9ayvzj",
    "outputId": "f902ae4e-1ec7-4db3-d166-65c8ebb3c9e6"
   },
   "outputs": [
    {
     "name": "stdout",
     "output_type": "stream",
     "text": [
      "{'SQLwitch': 'SQL witch', 'NussNougatCroissant': 'Nuss Nougat Croissant', 'hda-SVN-njhdsx': 'hd a SVN nj hds x', 'lil_peemis': 'lil pee mis', 'My21SabbathChemicals': 'My 21 Sabbath Chemicals', 'ArsenalOwl': 'Arsenal Owl', 'deppressionthrowaway': 'dep press ion throwaway', 'alynde': 'a lyn de', 'Frocharocha': 'F rocha rocha'}\n"
     ]
    }
   ],
   "source": [
    "# testing wordninja\n",
    "author_test = []\n",
    "for i in range(10):\n",
    "    splits_list = wordninja.split(combined_data[\"author\"][i])\n",
    "    combined_string = \" \".join(splits_list)\n",
    "    author_test.append(combined_string)\n",
    "test_dict = {combined_data[\"author\"][i]:author_test[i] for i in range(10)}\n",
    "print(test_dict)"
   ]
  },
  {
   "cell_type": "code",
   "execution_count": 101,
   "metadata": {
    "colab": {},
    "colab_type": "code",
    "id": "zs7WtREMyvzm"
   },
   "outputs": [],
   "source": [
    "# lets also clean the author names\n",
    "def processing_author_names(series_to_process):\n",
    "    author_split = []\n",
    "    for i in range(len(series_to_process)):\n",
    "        splits_list = wordninja.split(series_to_process[i])\n",
    "        combined_string = \" \".join(splits_list)\n",
    "        author_split.append(combined_string)\n",
    "    new_list = []\n",
    "    tokenizer = RegexpTokenizer(r'(\\w+)')\n",
    "    lemmatizer = WordNetLemmatizer()\n",
    "    for i in range(len(author_split)):\n",
    "        #TOKENISED ITEM(LONG STRING) IN A LIST\n",
    "        dirty_string = (author_split)[i].lower()\n",
    "        words_only = tokenizer.tokenize(dirty_string) #WORDS_ONLY IS A LIST THAT DOESN'T HAVE PUNCTUATION\n",
    "        #LEMMATISE THE ITEMS IN WORDS_ONLY\n",
    "        words_only_lem = [lemmatizer.lemmatize(i) for i in words_only]\n",
    "        #REMOVING STOP WORDS FROM THE LEMMATIZED LIST\n",
    "        words_without_stop = [i for i in words_only_lem if i not in stopwords.words(\"english\")]\n",
    "        #RETURN SEPERATED WORDS INTO LONG STRING\n",
    "        long_string_clean = \" \".join(word for word in words_without_stop)\n",
    "        new_list.append(long_string_clean)\n",
    "    return new_list"
   ]
  },
  {
   "cell_type": "code",
   "execution_count": 102,
   "metadata": {
    "colab": {},
    "colab_type": "code",
    "id": "yb2wIb-xyvzq",
    "outputId": "0361f4d3-c6cc-4a8f-c574-27cf5b13d7ea"
   },
   "outputs": [
    {
     "data": {
      "text/html": [
       "<div>\n",
       "<style scoped>\n",
       "    .dataframe tbody tr th:only-of-type {\n",
       "        vertical-align: middle;\n",
       "    }\n",
       "\n",
       "    .dataframe tbody tr th {\n",
       "        vertical-align: top;\n",
       "    }\n",
       "\n",
       "    .dataframe thead th {\n",
       "        text-align: right;\n",
       "    }\n",
       "</style>\n",
       "<table border=\"1\" class=\"dataframe\">\n",
       "  <thead>\n",
       "    <tr style=\"text-align: right;\">\n",
       "      <th></th>\n",
       "      <th>author</th>\n",
       "      <th>author_clean</th>\n",
       "    </tr>\n",
       "  </thead>\n",
       "  <tbody>\n",
       "    <tr>\n",
       "      <th>1805</th>\n",
       "      <td>Cael450</td>\n",
       "      <td>ca el 450</td>\n",
       "    </tr>\n",
       "    <tr>\n",
       "      <th>1806</th>\n",
       "      <td>jaycub84</td>\n",
       "      <td>jay cub 84</td>\n",
       "    </tr>\n",
       "    <tr>\n",
       "      <th>1807</th>\n",
       "      <td>mirarom</td>\n",
       "      <td>mira rom</td>\n",
       "    </tr>\n",
       "    <tr>\n",
       "      <th>1808</th>\n",
       "      <td>SilyTheGoose</td>\n",
       "      <td>sil goose</td>\n",
       "    </tr>\n",
       "    <tr>\n",
       "      <th>1809</th>\n",
       "      <td>flawmyy</td>\n",
       "      <td>flaw</td>\n",
       "    </tr>\n",
       "    <tr>\n",
       "      <th>1810</th>\n",
       "      <td>mayoeater</td>\n",
       "      <td>mayo eater</td>\n",
       "    </tr>\n",
       "    <tr>\n",
       "      <th>1811</th>\n",
       "      <td>Childish_Brandino</td>\n",
       "      <td>childish brandi</td>\n",
       "    </tr>\n",
       "    <tr>\n",
       "      <th>1812</th>\n",
       "      <td>SedativeCorpse</td>\n",
       "      <td>sedative corpse</td>\n",
       "    </tr>\n",
       "    <tr>\n",
       "      <th>1813</th>\n",
       "      <td>retirereddit</td>\n",
       "      <td>retire reddit</td>\n",
       "    </tr>\n",
       "    <tr>\n",
       "      <th>1814</th>\n",
       "      <td>BeardedGlass</td>\n",
       "      <td>bearded glass</td>\n",
       "    </tr>\n",
       "  </tbody>\n",
       "</table>\n",
       "</div>"
      ],
      "text/plain": [
       "                 author     author_clean\n",
       "1805            Cael450        ca el 450\n",
       "1806           jaycub84       jay cub 84\n",
       "1807            mirarom         mira rom\n",
       "1808       SilyTheGoose        sil goose\n",
       "1809            flawmyy             flaw\n",
       "1810          mayoeater       mayo eater\n",
       "1811  Childish_Brandino  childish brandi\n",
       "1812     SedativeCorpse  sedative corpse\n",
       "1813       retirereddit    retire reddit\n",
       "1814       BeardedGlass    bearded glass"
      ]
     },
     "execution_count": 102,
     "metadata": {},
     "output_type": "execute_result"
    }
   ],
   "source": [
    "combined_data[\"author_clean\"]= processing_author_names(combined_data[\"author\"])\n",
    "\n",
    "# checking author_clean\n",
    "pd.set_option(\"display.max_colwidth\", 100)\n",
    "combined_data[[\"author\",\"author_clean\"]].tail(10)"
   ]
  },
  {
   "cell_type": "markdown",
   "metadata": {
    "colab_type": "text",
    "id": "E0t-ih_Oyvzs"
   },
   "source": [
    "so it doesn't work that well, but it isn't too big a deal because the author names don't matter as much, as long as it is simplified it is working well."
   ]
  },
  {
   "cell_type": "code",
   "execution_count": 103,
   "metadata": {
    "colab": {},
    "colab_type": "code",
    "id": "7InX6K6Xyvzs",
    "outputId": "2570c53b-9e11-4670-d493-f68de86934fd"
   },
   "outputs": [
    {
     "data": {
      "text/plain": [
       "title             0\n",
       "selftext          0\n",
       "author            0\n",
       "num_comments      0\n",
       "is_suicide        0\n",
       "url               0\n",
       "selftext_clean    0\n",
       "title_clean       0\n",
       "author_clean      0\n",
       "dtype: int64"
      ]
     },
     "execution_count": 103,
     "metadata": {},
     "output_type": "execute_result"
    }
   ],
   "source": [
    "# Making sure there is no new missing values added\n",
    "combined_data.isnull().sum()"
   ]
  },
  {
   "cell_type": "code",
   "execution_count": 104,
   "metadata": {},
   "outputs": [],
   "source": [
    "combined_data.to_csv('../data/suicide_vs_nothing.csv', index = False)"
   ]
  },
  {
   "cell_type": "markdown",
   "metadata": {
    "colab_type": "text",
    "id": "27KqjCutyvzv"
   },
   "source": [
    "## Data Preprocessing Complete\n",
    "This was a relatively simple process because we only have a few attributes to adjust. We have 3 attributes to train our model on now."
   ]
  }
 ],
 "metadata": {
  "colab": {
   "include_colab_link": true,
   "name": "data_processing.ipynb",
   "provenance": [],
   "toc_visible": true
  },
  "kernelspec": {
   "display_name": "Python 3",
   "language": "python",
   "name": "python3"
  },
  "language_info": {
   "codemirror_mode": {
    "name": "ipython",
    "version": 3
   },
   "file_extension": ".py",
   "mimetype": "text/x-python",
   "name": "python",
   "nbconvert_exporter": "python",
   "pygments_lexer": "ipython3",
   "version": "3.7.6"
  }
 },
 "nbformat": 4,
 "nbformat_minor": 1
}
