{
  "nbformat": 4,
  "nbformat_minor": 0,
  "metadata": {
    "accelerator": "TPU",
    "colab": {
      "name": "workingBertModel.ipynb",
      "provenance": [],
      "toc_visible": true,
      "include_colab_link": true
    },
    "kernelspec": {
      "display_name": "Python 3",
      "language": "python",
      "name": "python3"
    },
    "language_info": {
      "codemirror_mode": {
        "name": "ipython",
        "version": 3
      },
      "file_extension": ".py",
      "mimetype": "text/x-python",
      "name": "python",
      "nbconvert_exporter": "python",
      "pygments_lexer": "ipython3",
      "version": "3.7.6"
    },
    "widgets": {
      "application/vnd.jupyter.widget-state+json": {
        "013a1b147e024fab99b8f1c1c033f924": {
          "model_module": "@jupyter-widgets/controls",
          "model_name": "HBoxModel",
          "state": {
            "_view_name": "HBoxView",
            "_dom_classes": [],
            "_model_name": "HBoxModel",
            "_view_module": "@jupyter-widgets/controls",
            "_model_module_version": "1.5.0",
            "_view_count": null,
            "_view_module_version": "1.5.0",
            "box_style": "",
            "layout": "IPY_MODEL_61b56bbfa67141f5ac6d142f281b4cf1",
            "_model_module": "@jupyter-widgets/controls",
            "children": [
              "IPY_MODEL_d70f75760c3e4873aee2839a6842aa09",
              "IPY_MODEL_09d6136fba1e4d3a846ff2bee303c9d5"
            ]
          }
        },
        "61b56bbfa67141f5ac6d142f281b4cf1": {
          "model_module": "@jupyter-widgets/base",
          "model_name": "LayoutModel",
          "state": {
            "_view_name": "LayoutView",
            "grid_template_rows": null,
            "right": null,
            "justify_content": null,
            "_view_module": "@jupyter-widgets/base",
            "overflow": null,
            "_model_module_version": "1.2.0",
            "_view_count": null,
            "flex_flow": null,
            "width": null,
            "min_width": null,
            "border": null,
            "align_items": null,
            "bottom": null,
            "_model_module": "@jupyter-widgets/base",
            "top": null,
            "grid_column": null,
            "overflow_y": null,
            "overflow_x": null,
            "grid_auto_flow": null,
            "grid_area": null,
            "grid_template_columns": null,
            "flex": null,
            "_model_name": "LayoutModel",
            "justify_items": null,
            "grid_row": null,
            "max_height": null,
            "align_content": null,
            "visibility": null,
            "align_self": null,
            "height": null,
            "min_height": null,
            "padding": null,
            "grid_auto_rows": null,
            "grid_gap": null,
            "max_width": null,
            "order": null,
            "_view_module_version": "1.2.0",
            "grid_template_areas": null,
            "object_position": null,
            "object_fit": null,
            "grid_auto_columns": null,
            "margin": null,
            "display": null,
            "left": null
          }
        },
        "d70f75760c3e4873aee2839a6842aa09": {
          "model_module": "@jupyter-widgets/controls",
          "model_name": "FloatProgressModel",
          "state": {
            "_view_name": "ProgressView",
            "style": "IPY_MODEL_40f603749ddc4032a7d835fd7b5c22a3",
            "_dom_classes": [],
            "description": "Downloading: 100%",
            "_model_name": "FloatProgressModel",
            "bar_style": "success",
            "max": 231508,
            "_view_module": "@jupyter-widgets/controls",
            "_model_module_version": "1.5.0",
            "value": 231508,
            "_view_count": null,
            "_view_module_version": "1.5.0",
            "orientation": "horizontal",
            "min": 0,
            "description_tooltip": null,
            "_model_module": "@jupyter-widgets/controls",
            "layout": "IPY_MODEL_0d441ac47ebc4eeca94b33dd200544bc"
          }
        },
        "09d6136fba1e4d3a846ff2bee303c9d5": {
          "model_module": "@jupyter-widgets/controls",
          "model_name": "HTMLModel",
          "state": {
            "_view_name": "HTMLView",
            "style": "IPY_MODEL_580305e1503845319eb2d7837c565f2e",
            "_dom_classes": [],
            "description": "",
            "_model_name": "HTMLModel",
            "placeholder": "​",
            "_view_module": "@jupyter-widgets/controls",
            "_model_module_version": "1.5.0",
            "value": " 232k/232k [00:00&lt;00:00, 1.57MB/s]",
            "_view_count": null,
            "_view_module_version": "1.5.0",
            "description_tooltip": null,
            "_model_module": "@jupyter-widgets/controls",
            "layout": "IPY_MODEL_b1f1a999519944b6ab880ab4d92a21c7"
          }
        },
        "40f603749ddc4032a7d835fd7b5c22a3": {
          "model_module": "@jupyter-widgets/controls",
          "model_name": "ProgressStyleModel",
          "state": {
            "_view_name": "StyleView",
            "_model_name": "ProgressStyleModel",
            "description_width": "initial",
            "_view_module": "@jupyter-widgets/base",
            "_model_module_version": "1.5.0",
            "_view_count": null,
            "_view_module_version": "1.2.0",
            "bar_color": null,
            "_model_module": "@jupyter-widgets/controls"
          }
        },
        "0d441ac47ebc4eeca94b33dd200544bc": {
          "model_module": "@jupyter-widgets/base",
          "model_name": "LayoutModel",
          "state": {
            "_view_name": "LayoutView",
            "grid_template_rows": null,
            "right": null,
            "justify_content": null,
            "_view_module": "@jupyter-widgets/base",
            "overflow": null,
            "_model_module_version": "1.2.0",
            "_view_count": null,
            "flex_flow": null,
            "width": null,
            "min_width": null,
            "border": null,
            "align_items": null,
            "bottom": null,
            "_model_module": "@jupyter-widgets/base",
            "top": null,
            "grid_column": null,
            "overflow_y": null,
            "overflow_x": null,
            "grid_auto_flow": null,
            "grid_area": null,
            "grid_template_columns": null,
            "flex": null,
            "_model_name": "LayoutModel",
            "justify_items": null,
            "grid_row": null,
            "max_height": null,
            "align_content": null,
            "visibility": null,
            "align_self": null,
            "height": null,
            "min_height": null,
            "padding": null,
            "grid_auto_rows": null,
            "grid_gap": null,
            "max_width": null,
            "order": null,
            "_view_module_version": "1.2.0",
            "grid_template_areas": null,
            "object_position": null,
            "object_fit": null,
            "grid_auto_columns": null,
            "margin": null,
            "display": null,
            "left": null
          }
        },
        "580305e1503845319eb2d7837c565f2e": {
          "model_module": "@jupyter-widgets/controls",
          "model_name": "DescriptionStyleModel",
          "state": {
            "_view_name": "StyleView",
            "_model_name": "DescriptionStyleModel",
            "description_width": "",
            "_view_module": "@jupyter-widgets/base",
            "_model_module_version": "1.5.0",
            "_view_count": null,
            "_view_module_version": "1.2.0",
            "_model_module": "@jupyter-widgets/controls"
          }
        },
        "b1f1a999519944b6ab880ab4d92a21c7": {
          "model_module": "@jupyter-widgets/base",
          "model_name": "LayoutModel",
          "state": {
            "_view_name": "LayoutView",
            "grid_template_rows": null,
            "right": null,
            "justify_content": null,
            "_view_module": "@jupyter-widgets/base",
            "overflow": null,
            "_model_module_version": "1.2.0",
            "_view_count": null,
            "flex_flow": null,
            "width": null,
            "min_width": null,
            "border": null,
            "align_items": null,
            "bottom": null,
            "_model_module": "@jupyter-widgets/base",
            "top": null,
            "grid_column": null,
            "overflow_y": null,
            "overflow_x": null,
            "grid_auto_flow": null,
            "grid_area": null,
            "grid_template_columns": null,
            "flex": null,
            "_model_name": "LayoutModel",
            "justify_items": null,
            "grid_row": null,
            "max_height": null,
            "align_content": null,
            "visibility": null,
            "align_self": null,
            "height": null,
            "min_height": null,
            "padding": null,
            "grid_auto_rows": null,
            "grid_gap": null,
            "max_width": null,
            "order": null,
            "_view_module_version": "1.2.0",
            "grid_template_areas": null,
            "object_position": null,
            "object_fit": null,
            "grid_auto_columns": null,
            "margin": null,
            "display": null,
            "left": null
          }
        },
        "ba90e4655bdd42cdbeaa175082f97ba7": {
          "model_module": "@jupyter-widgets/controls",
          "model_name": "HBoxModel",
          "state": {
            "_view_name": "HBoxView",
            "_dom_classes": [],
            "_model_name": "HBoxModel",
            "_view_module": "@jupyter-widgets/controls",
            "_model_module_version": "1.5.0",
            "_view_count": null,
            "_view_module_version": "1.5.0",
            "box_style": "",
            "layout": "IPY_MODEL_be05c49c165e4e55ad0a8272f44db122",
            "_model_module": "@jupyter-widgets/controls",
            "children": [
              "IPY_MODEL_952dbbede5fe4fd5b5ef93660283bdd2",
              "IPY_MODEL_e444451f711743a99031286214f8cd75"
            ]
          }
        },
        "be05c49c165e4e55ad0a8272f44db122": {
          "model_module": "@jupyter-widgets/base",
          "model_name": "LayoutModel",
          "state": {
            "_view_name": "LayoutView",
            "grid_template_rows": null,
            "right": null,
            "justify_content": null,
            "_view_module": "@jupyter-widgets/base",
            "overflow": null,
            "_model_module_version": "1.2.0",
            "_view_count": null,
            "flex_flow": null,
            "width": null,
            "min_width": null,
            "border": null,
            "align_items": null,
            "bottom": null,
            "_model_module": "@jupyter-widgets/base",
            "top": null,
            "grid_column": null,
            "overflow_y": null,
            "overflow_x": null,
            "grid_auto_flow": null,
            "grid_area": null,
            "grid_template_columns": null,
            "flex": null,
            "_model_name": "LayoutModel",
            "justify_items": null,
            "grid_row": null,
            "max_height": null,
            "align_content": null,
            "visibility": null,
            "align_self": null,
            "height": null,
            "min_height": null,
            "padding": null,
            "grid_auto_rows": null,
            "grid_gap": null,
            "max_width": null,
            "order": null,
            "_view_module_version": "1.2.0",
            "grid_template_areas": null,
            "object_position": null,
            "object_fit": null,
            "grid_auto_columns": null,
            "margin": null,
            "display": null,
            "left": null
          }
        },
        "952dbbede5fe4fd5b5ef93660283bdd2": {
          "model_module": "@jupyter-widgets/controls",
          "model_name": "FloatProgressModel",
          "state": {
            "_view_name": "ProgressView",
            "style": "IPY_MODEL_0f719e4bf0fb40b89c851e074dbc3f73",
            "_dom_classes": [],
            "description": "Downloading: 100%",
            "_model_name": "FloatProgressModel",
            "bar_style": "success",
            "max": 433,
            "_view_module": "@jupyter-widgets/controls",
            "_model_module_version": "1.5.0",
            "value": 433,
            "_view_count": null,
            "_view_module_version": "1.5.0",
            "orientation": "horizontal",
            "min": 0,
            "description_tooltip": null,
            "_model_module": "@jupyter-widgets/controls",
            "layout": "IPY_MODEL_c96a08c93802432e886f187f9796f9c1"
          }
        },
        "e444451f711743a99031286214f8cd75": {
          "model_module": "@jupyter-widgets/controls",
          "model_name": "HTMLModel",
          "state": {
            "_view_name": "HTMLView",
            "style": "IPY_MODEL_f51fa19e1d594fdeb7cb917812176dd5",
            "_dom_classes": [],
            "description": "",
            "_model_name": "HTMLModel",
            "placeholder": "​",
            "_view_module": "@jupyter-widgets/controls",
            "_model_module_version": "1.5.0",
            "value": " 433/433 [00:09&lt;00:00, 45.5B/s]",
            "_view_count": null,
            "_view_module_version": "1.5.0",
            "description_tooltip": null,
            "_model_module": "@jupyter-widgets/controls",
            "layout": "IPY_MODEL_f18b07a469af4cc29b29d0a9823dd30c"
          }
        },
        "0f719e4bf0fb40b89c851e074dbc3f73": {
          "model_module": "@jupyter-widgets/controls",
          "model_name": "ProgressStyleModel",
          "state": {
            "_view_name": "StyleView",
            "_model_name": "ProgressStyleModel",
            "description_width": "initial",
            "_view_module": "@jupyter-widgets/base",
            "_model_module_version": "1.5.0",
            "_view_count": null,
            "_view_module_version": "1.2.0",
            "bar_color": null,
            "_model_module": "@jupyter-widgets/controls"
          }
        },
        "c96a08c93802432e886f187f9796f9c1": {
          "model_module": "@jupyter-widgets/base",
          "model_name": "LayoutModel",
          "state": {
            "_view_name": "LayoutView",
            "grid_template_rows": null,
            "right": null,
            "justify_content": null,
            "_view_module": "@jupyter-widgets/base",
            "overflow": null,
            "_model_module_version": "1.2.0",
            "_view_count": null,
            "flex_flow": null,
            "width": null,
            "min_width": null,
            "border": null,
            "align_items": null,
            "bottom": null,
            "_model_module": "@jupyter-widgets/base",
            "top": null,
            "grid_column": null,
            "overflow_y": null,
            "overflow_x": null,
            "grid_auto_flow": null,
            "grid_area": null,
            "grid_template_columns": null,
            "flex": null,
            "_model_name": "LayoutModel",
            "justify_items": null,
            "grid_row": null,
            "max_height": null,
            "align_content": null,
            "visibility": null,
            "align_self": null,
            "height": null,
            "min_height": null,
            "padding": null,
            "grid_auto_rows": null,
            "grid_gap": null,
            "max_width": null,
            "order": null,
            "_view_module_version": "1.2.0",
            "grid_template_areas": null,
            "object_position": null,
            "object_fit": null,
            "grid_auto_columns": null,
            "margin": null,
            "display": null,
            "left": null
          }
        },
        "f51fa19e1d594fdeb7cb917812176dd5": {
          "model_module": "@jupyter-widgets/controls",
          "model_name": "DescriptionStyleModel",
          "state": {
            "_view_name": "StyleView",
            "_model_name": "DescriptionStyleModel",
            "description_width": "",
            "_view_module": "@jupyter-widgets/base",
            "_model_module_version": "1.5.0",
            "_view_count": null,
            "_view_module_version": "1.2.0",
            "_model_module": "@jupyter-widgets/controls"
          }
        },
        "f18b07a469af4cc29b29d0a9823dd30c": {
          "model_module": "@jupyter-widgets/base",
          "model_name": "LayoutModel",
          "state": {
            "_view_name": "LayoutView",
            "grid_template_rows": null,
            "right": null,
            "justify_content": null,
            "_view_module": "@jupyter-widgets/base",
            "overflow": null,
            "_model_module_version": "1.2.0",
            "_view_count": null,
            "flex_flow": null,
            "width": null,
            "min_width": null,
            "border": null,
            "align_items": null,
            "bottom": null,
            "_model_module": "@jupyter-widgets/base",
            "top": null,
            "grid_column": null,
            "overflow_y": null,
            "overflow_x": null,
            "grid_auto_flow": null,
            "grid_area": null,
            "grid_template_columns": null,
            "flex": null,
            "_model_name": "LayoutModel",
            "justify_items": null,
            "grid_row": null,
            "max_height": null,
            "align_content": null,
            "visibility": null,
            "align_self": null,
            "height": null,
            "min_height": null,
            "padding": null,
            "grid_auto_rows": null,
            "grid_gap": null,
            "max_width": null,
            "order": null,
            "_view_module_version": "1.2.0",
            "grid_template_areas": null,
            "object_position": null,
            "object_fit": null,
            "grid_auto_columns": null,
            "margin": null,
            "display": null,
            "left": null
          }
        },
        "660702664fa7498e8dd8f7e27fa54a83": {
          "model_module": "@jupyter-widgets/controls",
          "model_name": "HBoxModel",
          "state": {
            "_view_name": "HBoxView",
            "_dom_classes": [],
            "_model_name": "HBoxModel",
            "_view_module": "@jupyter-widgets/controls",
            "_model_module_version": "1.5.0",
            "_view_count": null,
            "_view_module_version": "1.5.0",
            "box_style": "",
            "layout": "IPY_MODEL_9df96490175d429d87826a8131f354f3",
            "_model_module": "@jupyter-widgets/controls",
            "children": [
              "IPY_MODEL_c62499b3ae9d47dcb86a1c8e6ec0f40f",
              "IPY_MODEL_82cb17e333c8481fbdc9e6a613b63aba"
            ]
          }
        },
        "9df96490175d429d87826a8131f354f3": {
          "model_module": "@jupyter-widgets/base",
          "model_name": "LayoutModel",
          "state": {
            "_view_name": "LayoutView",
            "grid_template_rows": null,
            "right": null,
            "justify_content": null,
            "_view_module": "@jupyter-widgets/base",
            "overflow": null,
            "_model_module_version": "1.2.0",
            "_view_count": null,
            "flex_flow": null,
            "width": null,
            "min_width": null,
            "border": null,
            "align_items": null,
            "bottom": null,
            "_model_module": "@jupyter-widgets/base",
            "top": null,
            "grid_column": null,
            "overflow_y": null,
            "overflow_x": null,
            "grid_auto_flow": null,
            "grid_area": null,
            "grid_template_columns": null,
            "flex": null,
            "_model_name": "LayoutModel",
            "justify_items": null,
            "grid_row": null,
            "max_height": null,
            "align_content": null,
            "visibility": null,
            "align_self": null,
            "height": null,
            "min_height": null,
            "padding": null,
            "grid_auto_rows": null,
            "grid_gap": null,
            "max_width": null,
            "order": null,
            "_view_module_version": "1.2.0",
            "grid_template_areas": null,
            "object_position": null,
            "object_fit": null,
            "grid_auto_columns": null,
            "margin": null,
            "display": null,
            "left": null
          }
        },
        "c62499b3ae9d47dcb86a1c8e6ec0f40f": {
          "model_module": "@jupyter-widgets/controls",
          "model_name": "FloatProgressModel",
          "state": {
            "_view_name": "ProgressView",
            "style": "IPY_MODEL_6c0547f0528047be8e7b2d21f88d620c",
            "_dom_classes": [],
            "description": "Downloading: 100%",
            "_model_name": "FloatProgressModel",
            "bar_style": "success",
            "max": 440473133,
            "_view_module": "@jupyter-widgets/controls",
            "_model_module_version": "1.5.0",
            "value": 440473133,
            "_view_count": null,
            "_view_module_version": "1.5.0",
            "orientation": "horizontal",
            "min": 0,
            "description_tooltip": null,
            "_model_module": "@jupyter-widgets/controls",
            "layout": "IPY_MODEL_562b77e00e77481a88418eb323e360fe"
          }
        },
        "82cb17e333c8481fbdc9e6a613b63aba": {
          "model_module": "@jupyter-widgets/controls",
          "model_name": "HTMLModel",
          "state": {
            "_view_name": "HTMLView",
            "style": "IPY_MODEL_55b612b566184953841fb86707349a99",
            "_dom_classes": [],
            "description": "",
            "_model_name": "HTMLModel",
            "placeholder": "​",
            "_view_module": "@jupyter-widgets/controls",
            "_model_module_version": "1.5.0",
            "value": " 440M/440M [00:09&lt;00:00, 47.9MB/s]",
            "_view_count": null,
            "_view_module_version": "1.5.0",
            "description_tooltip": null,
            "_model_module": "@jupyter-widgets/controls",
            "layout": "IPY_MODEL_f19a3fe67ea042ccaa0e4a81f5706cd4"
          }
        },
        "6c0547f0528047be8e7b2d21f88d620c": {
          "model_module": "@jupyter-widgets/controls",
          "model_name": "ProgressStyleModel",
          "state": {
            "_view_name": "StyleView",
            "_model_name": "ProgressStyleModel",
            "description_width": "initial",
            "_view_module": "@jupyter-widgets/base",
            "_model_module_version": "1.5.0",
            "_view_count": null,
            "_view_module_version": "1.2.0",
            "bar_color": null,
            "_model_module": "@jupyter-widgets/controls"
          }
        },
        "562b77e00e77481a88418eb323e360fe": {
          "model_module": "@jupyter-widgets/base",
          "model_name": "LayoutModel",
          "state": {
            "_view_name": "LayoutView",
            "grid_template_rows": null,
            "right": null,
            "justify_content": null,
            "_view_module": "@jupyter-widgets/base",
            "overflow": null,
            "_model_module_version": "1.2.0",
            "_view_count": null,
            "flex_flow": null,
            "width": null,
            "min_width": null,
            "border": null,
            "align_items": null,
            "bottom": null,
            "_model_module": "@jupyter-widgets/base",
            "top": null,
            "grid_column": null,
            "overflow_y": null,
            "overflow_x": null,
            "grid_auto_flow": null,
            "grid_area": null,
            "grid_template_columns": null,
            "flex": null,
            "_model_name": "LayoutModel",
            "justify_items": null,
            "grid_row": null,
            "max_height": null,
            "align_content": null,
            "visibility": null,
            "align_self": null,
            "height": null,
            "min_height": null,
            "padding": null,
            "grid_auto_rows": null,
            "grid_gap": null,
            "max_width": null,
            "order": null,
            "_view_module_version": "1.2.0",
            "grid_template_areas": null,
            "object_position": null,
            "object_fit": null,
            "grid_auto_columns": null,
            "margin": null,
            "display": null,
            "left": null
          }
        },
        "55b612b566184953841fb86707349a99": {
          "model_module": "@jupyter-widgets/controls",
          "model_name": "DescriptionStyleModel",
          "state": {
            "_view_name": "StyleView",
            "_model_name": "DescriptionStyleModel",
            "description_width": "",
            "_view_module": "@jupyter-widgets/base",
            "_model_module_version": "1.5.0",
            "_view_count": null,
            "_view_module_version": "1.2.0",
            "_model_module": "@jupyter-widgets/controls"
          }
        },
        "f19a3fe67ea042ccaa0e4a81f5706cd4": {
          "model_module": "@jupyter-widgets/base",
          "model_name": "LayoutModel",
          "state": {
            "_view_name": "LayoutView",
            "grid_template_rows": null,
            "right": null,
            "justify_content": null,
            "_view_module": "@jupyter-widgets/base",
            "overflow": null,
            "_model_module_version": "1.2.0",
            "_view_count": null,
            "flex_flow": null,
            "width": null,
            "min_width": null,
            "border": null,
            "align_items": null,
            "bottom": null,
            "_model_module": "@jupyter-widgets/base",
            "top": null,
            "grid_column": null,
            "overflow_y": null,
            "overflow_x": null,
            "grid_auto_flow": null,
            "grid_area": null,
            "grid_template_columns": null,
            "flex": null,
            "_model_name": "LayoutModel",
            "justify_items": null,
            "grid_row": null,
            "max_height": null,
            "align_content": null,
            "visibility": null,
            "align_self": null,
            "height": null,
            "min_height": null,
            "padding": null,
            "grid_auto_rows": null,
            "grid_gap": null,
            "max_width": null,
            "order": null,
            "_view_module_version": "1.2.0",
            "grid_template_areas": null,
            "object_position": null,
            "object_fit": null,
            "grid_auto_columns": null,
            "margin": null,
            "display": null,
            "left": null
          }
        }
      }
    }
  },
  "cells": [
    {
      "cell_type": "markdown",
      "metadata": {
        "id": "view-in-github",
        "colab_type": "text"
      },
      "source": [
        "<a href=\"https://colab.research.google.com/github/ayaanzhaque/SuiSense/blob/master/notebooks/BERT/workingBertModel.ipynb\" target=\"_parent\"><img src=\"https://colab.research.google.com/assets/colab-badge.svg\" alt=\"Open In Colab\"/></a>"
      ]
    },
    {
      "cell_type": "code",
      "metadata": {
        "colab_type": "code",
        "id": "To9ENLU90WGl",
        "colab": {
          "base_uri": "https://localhost:8080/",
          "height": 615
        },
        "outputId": "db58d395-161d-47be-8851-d7fdc5b9426c"
      },
      "source": [
        "!pip install transformers"
      ],
      "execution_count": 1,
      "outputs": [
        {
          "output_type": "stream",
          "text": [
            "Collecting transformers\n",
            "\u001b[?25l  Downloading https://files.pythonhosted.org/packages/ae/05/c8c55b600308dc04e95100dc8ad8a244dd800fe75dfafcf1d6348c6f6209/transformers-3.1.0-py3-none-any.whl (884kB)\n",
            "\u001b[K     |████████████████████████████████| 890kB 3.4MB/s \n",
            "\u001b[?25hCollecting tokenizers==0.8.1.rc2\n",
            "\u001b[?25l  Downloading https://files.pythonhosted.org/packages/80/83/8b9fccb9e48eeb575ee19179e2bdde0ee9a1904f97de5f02d19016b8804f/tokenizers-0.8.1rc2-cp36-cp36m-manylinux1_x86_64.whl (3.0MB)\n",
            "\u001b[K     |████████████████████████████████| 3.0MB 15.7MB/s \n",
            "\u001b[?25hRequirement already satisfied: tqdm>=4.27 in /usr/local/lib/python3.6/dist-packages (from transformers) (4.41.1)\n",
            "Collecting sacremoses\n",
            "\u001b[?25l  Downloading https://files.pythonhosted.org/packages/7d/34/09d19aff26edcc8eb2a01bed8e98f13a1537005d31e95233fd48216eed10/sacremoses-0.0.43.tar.gz (883kB)\n",
            "\u001b[K     |████████████████████████████████| 890kB 41.6MB/s \n",
            "\u001b[?25hRequirement already satisfied: requests in /usr/local/lib/python3.6/dist-packages (from transformers) (2.23.0)\n",
            "Requirement already satisfied: filelock in /usr/local/lib/python3.6/dist-packages (from transformers) (3.0.12)\n",
            "Requirement already satisfied: regex!=2019.12.17 in /usr/local/lib/python3.6/dist-packages (from transformers) (2019.12.20)\n",
            "Collecting sentencepiece!=0.1.92\n",
            "\u001b[?25l  Downloading https://files.pythonhosted.org/packages/d4/a4/d0a884c4300004a78cca907a6ff9a5e9fe4f090f5d95ab341c53d28cbc58/sentencepiece-0.1.91-cp36-cp36m-manylinux1_x86_64.whl (1.1MB)\n",
            "\u001b[K     |████████████████████████████████| 1.1MB 45.8MB/s \n",
            "\u001b[?25hRequirement already satisfied: numpy in /usr/local/lib/python3.6/dist-packages (from transformers) (1.18.5)\n",
            "Requirement already satisfied: dataclasses; python_version < \"3.7\" in /usr/local/lib/python3.6/dist-packages (from transformers) (0.7)\n",
            "Requirement already satisfied: packaging in /usr/local/lib/python3.6/dist-packages (from transformers) (20.4)\n",
            "Requirement already satisfied: six in /usr/local/lib/python3.6/dist-packages (from sacremoses->transformers) (1.15.0)\n",
            "Requirement already satisfied: click in /usr/local/lib/python3.6/dist-packages (from sacremoses->transformers) (7.1.2)\n",
            "Requirement already satisfied: joblib in /usr/local/lib/python3.6/dist-packages (from sacremoses->transformers) (0.16.0)\n",
            "Requirement already satisfied: urllib3!=1.25.0,!=1.25.1,<1.26,>=1.21.1 in /usr/local/lib/python3.6/dist-packages (from requests->transformers) (1.24.3)\n",
            "Requirement already satisfied: idna<3,>=2.5 in /usr/local/lib/python3.6/dist-packages (from requests->transformers) (2.10)\n",
            "Requirement already satisfied: certifi>=2017.4.17 in /usr/local/lib/python3.6/dist-packages (from requests->transformers) (2020.6.20)\n",
            "Requirement already satisfied: chardet<4,>=3.0.2 in /usr/local/lib/python3.6/dist-packages (from requests->transformers) (3.0.4)\n",
            "Requirement already satisfied: pyparsing>=2.0.2 in /usr/local/lib/python3.6/dist-packages (from packaging->transformers) (2.4.7)\n",
            "Building wheels for collected packages: sacremoses\n",
            "  Building wheel for sacremoses (setup.py) ... \u001b[?25l\u001b[?25hdone\n",
            "  Created wheel for sacremoses: filename=sacremoses-0.0.43-cp36-none-any.whl size=893257 sha256=a50b9b5511336c44113c0b8ae388514ea9df8b85be3df2b65473d5e695bc6d72\n",
            "  Stored in directory: /root/.cache/pip/wheels/29/3c/fd/7ce5c3f0666dab31a50123635e6fb5e19ceb42ce38d4e58f45\n",
            "Successfully built sacremoses\n",
            "Installing collected packages: tokenizers, sacremoses, sentencepiece, transformers\n",
            "Successfully installed sacremoses-0.0.43 sentencepiece-0.1.91 tokenizers-0.8.1rc2 transformers-3.1.0\n"
          ],
          "name": "stdout"
        }
      ]
    },
    {
      "cell_type": "code",
      "metadata": {
        "colab_type": "code",
        "id": "fvFvBLJV0Dkv",
        "colab": {}
      },
      "source": [
        "#importing relevant libraries\n",
        "import numpy as np\n",
        "import pandas as pd\n",
        "from sklearn.model_selection import train_test_split\n",
        "from sklearn.linear_model import LogisticRegression\n",
        "from sklearn.model_selection import GridSearchCV\n",
        "from sklearn.model_selection import cross_val_score\n",
        "from sklearn.naive_bayes import MultinomialNB\n",
        "\n",
        "import torch\n",
        "\n",
        "import nltk\n",
        "from nltk.tokenize import RegexpTokenizer\n",
        "from nltk.stem import WordNetLemmatizer\n",
        "\n",
        "import transformers as ppb\n",
        "import warnings\n",
        "warnings.filterwarnings('ignore')"
      ],
      "execution_count": 2,
      "outputs": []
    },
    {
      "cell_type": "markdown",
      "metadata": {
        "colab_type": "text",
        "id": "zQ-42fh0hjsF"
      },
      "source": [
        "## Importing the dataset\n",
        "We'll use pandas to read the dataset and load it into a dataframe."
      ]
    },
    {
      "cell_type": "code",
      "metadata": {
        "colab_type": "code",
        "id": "cyoj29J24hPX",
        "colab": {}
      },
      "source": [
        "df = pd.read_csv('/content/cleaned_data_casual.csv')\n",
        "og_batch_1 = df[['selftext', 'is_suicide']]"
      ],
      "execution_count": 6,
      "outputs": []
    },
    {
      "cell_type": "markdown",
      "metadata": {
        "colab_type": "text",
        "id": "dMVE3waNhuNj"
      },
      "source": [
        "For performance reasons, we'll only use 2,000 sentences from the dataset"
      ]
    },
    {
      "cell_type": "code",
      "metadata": {
        "colab_type": "code",
        "id": "gTM3hOHW4hUY",
        "colab": {
          "base_uri": "https://localhost:8080/",
          "height": 204
        },
        "outputId": "30691ef0-854e-43a5-b946-baa5e425e310"
      },
      "source": [
        "#batch_1_start = og_batch_1.head(60)\n",
        "#batch_1_end = og_batch_1.tail(60)\n",
        "#test_batch_1 = pd.concat([batch_1_start, batch_1_end], ignore_index=True)\n",
        "batch_1 = og_batch_1.rename(columns={'selftext': 0, 'is_suicide': 1})\n",
        "batch_1.head()"
      ],
      "execution_count": 7,
      "outputs": [
        {
          "output_type": "execute_result",
          "data": {
            "text/html": [
              "<div>\n",
              "<style scoped>\n",
              "    .dataframe tbody tr th:only-of-type {\n",
              "        vertical-align: middle;\n",
              "    }\n",
              "\n",
              "    .dataframe tbody tr th {\n",
              "        vertical-align: top;\n",
              "    }\n",
              "\n",
              "    .dataframe thead th {\n",
              "        text-align: right;\n",
              "    }\n",
              "</style>\n",
              "<table border=\"1\" class=\"dataframe\">\n",
              "  <thead>\n",
              "    <tr style=\"text-align: right;\">\n",
              "      <th></th>\n",
              "      <th>0</th>\n",
              "      <th>1</th>\n",
              "    </tr>\n",
              "  </thead>\n",
              "  <tbody>\n",
              "    <tr>\n",
              "      <th>0</th>\n",
              "      <td>We understand that most people who reply immed...</td>\n",
              "      <td>0</td>\n",
              "    </tr>\n",
              "    <tr>\n",
              "      <th>1</th>\n",
              "      <td>Welcome to /r/depression's check-in post - a p...</td>\n",
              "      <td>0</td>\n",
              "    </tr>\n",
              "    <tr>\n",
              "      <th>2</th>\n",
              "      <td>I've been feeling really depressed and lonely ...</td>\n",
              "      <td>0</td>\n",
              "    </tr>\n",
              "    <tr>\n",
              "      <th>3</th>\n",
              "      <td>I literally broke down crying and asked to go ...</td>\n",
              "      <td>0</td>\n",
              "    </tr>\n",
              "    <tr>\n",
              "      <th>4</th>\n",
              "      <td>Any kind soul want to give a depressed person ...</td>\n",
              "      <td>0</td>\n",
              "    </tr>\n",
              "  </tbody>\n",
              "</table>\n",
              "</div>"
            ],
            "text/plain": [
              "                                                   0  1\n",
              "0  We understand that most people who reply immed...  0\n",
              "1  Welcome to /r/depression's check-in post - a p...  0\n",
              "2  I've been feeling really depressed and lonely ...  0\n",
              "3  I literally broke down crying and asked to go ...  0\n",
              "4  Any kind soul want to give a depressed person ...  0"
            ]
          },
          "metadata": {
            "tags": []
          },
          "execution_count": 7
        }
      ]
    },
    {
      "cell_type": "markdown",
      "metadata": {
        "colab_type": "text",
        "id": "PRc2L89hh1Tf"
      },
      "source": [
        "We can ask pandas how many sentences are labeled as \"positive\" (value 1) and how many are labeled \"negative\" (having the value 0)"
      ]
    },
    {
      "cell_type": "code",
      "metadata": {
        "colab_type": "code",
        "id": "jGvcfcCP5xpZ",
        "colab": {
          "base_uri": "https://localhost:8080/",
          "height": 85
        },
        "outputId": "c0ded573-eb29-4409-e110-18fff610a7ae"
      },
      "source": [
        "batch_1[1].value_counts()"
      ],
      "execution_count": 8,
      "outputs": [
        {
          "output_type": "execute_result",
          "data": {
            "text/plain": [
              "1    980\n",
              "0    917\n",
              "2    804\n",
              "Name: 1, dtype: int64"
            ]
          },
          "metadata": {
            "tags": []
          },
          "execution_count": 8
        }
      ]
    },
    {
      "cell_type": "markdown",
      "metadata": {
        "colab_type": "text",
        "id": "7_MO08_KiAOb"
      },
      "source": [
        "## Loading the Pre-trained BERT model\n",
        "Let's now load a pre-trained BERT model. "
      ]
    },
    {
      "cell_type": "code",
      "metadata": {
        "colab_type": "code",
        "id": "q1InADgf5xm2",
        "colab": {
          "base_uri": "https://localhost:8080/",
          "height": 164,
          "referenced_widgets": [
            "013a1b147e024fab99b8f1c1c033f924",
            "61b56bbfa67141f5ac6d142f281b4cf1",
            "d70f75760c3e4873aee2839a6842aa09",
            "09d6136fba1e4d3a846ff2bee303c9d5",
            "40f603749ddc4032a7d835fd7b5c22a3",
            "0d441ac47ebc4eeca94b33dd200544bc",
            "580305e1503845319eb2d7837c565f2e",
            "b1f1a999519944b6ab880ab4d92a21c7",
            "ba90e4655bdd42cdbeaa175082f97ba7",
            "be05c49c165e4e55ad0a8272f44db122",
            "952dbbede5fe4fd5b5ef93660283bdd2",
            "e444451f711743a99031286214f8cd75",
            "0f719e4bf0fb40b89c851e074dbc3f73",
            "c96a08c93802432e886f187f9796f9c1",
            "f51fa19e1d594fdeb7cb917812176dd5",
            "f18b07a469af4cc29b29d0a9823dd30c",
            "660702664fa7498e8dd8f7e27fa54a83",
            "9df96490175d429d87826a8131f354f3",
            "c62499b3ae9d47dcb86a1c8e6ec0f40f",
            "82cb17e333c8481fbdc9e6a613b63aba",
            "6c0547f0528047be8e7b2d21f88d620c",
            "562b77e00e77481a88418eb323e360fe",
            "55b612b566184953841fb86707349a99",
            "f19a3fe67ea042ccaa0e4a81f5706cd4"
          ]
        },
        "outputId": "3ec6c52f-98dd-4c6f-b351-d8ae0926c67a"
      },
      "source": [
        "# For DistilBERT:\n",
        "#model_class, tokenizer_class, pretrained_weights = (ppb.DistilBertModel, ppb.DistilBertTokenizer, 'distilbert-base-uncased')\n",
        "\n",
        "## Want BERT instead of distilBERT? Uncomment the following line:\n",
        "model_class, tokenizer_class, pretrained_weights = (ppb.BertModel, ppb.BertTokenizer, 'bert-base-uncased')\n",
        "\n",
        "# Load pretrained model/tokenizer\n",
        "tokenizer = tokenizer_class.from_pretrained(pretrained_weights)\n",
        "model = model_class.from_pretrained(pretrained_weights)"
      ],
      "execution_count": 9,
      "outputs": [
        {
          "output_type": "display_data",
          "data": {
            "application/vnd.jupyter.widget-view+json": {
              "model_id": "013a1b147e024fab99b8f1c1c033f924",
              "version_minor": 0,
              "version_major": 2
            },
            "text/plain": [
              "HBox(children=(FloatProgress(value=0.0, description='Downloading', max=231508.0, style=ProgressStyle(descripti…"
            ]
          },
          "metadata": {
            "tags": []
          }
        },
        {
          "output_type": "stream",
          "text": [
            "\n"
          ],
          "name": "stdout"
        },
        {
          "output_type": "display_data",
          "data": {
            "application/vnd.jupyter.widget-view+json": {
              "model_id": "ba90e4655bdd42cdbeaa175082f97ba7",
              "version_minor": 0,
              "version_major": 2
            },
            "text/plain": [
              "HBox(children=(FloatProgress(value=0.0, description='Downloading', max=433.0, style=ProgressStyle(description_…"
            ]
          },
          "metadata": {
            "tags": []
          }
        },
        {
          "output_type": "stream",
          "text": [
            "\n"
          ],
          "name": "stdout"
        },
        {
          "output_type": "display_data",
          "data": {
            "application/vnd.jupyter.widget-view+json": {
              "model_id": "660702664fa7498e8dd8f7e27fa54a83",
              "version_minor": 0,
              "version_major": 2
            },
            "text/plain": [
              "HBox(children=(FloatProgress(value=0.0, description='Downloading', max=440473133.0, style=ProgressStyle(descri…"
            ]
          },
          "metadata": {
            "tags": []
          }
        },
        {
          "output_type": "stream",
          "text": [
            "\n"
          ],
          "name": "stdout"
        }
      ]
    },
    {
      "cell_type": "markdown",
      "metadata": {
        "colab_type": "text",
        "id": "lZDBMn3wiSX6"
      },
      "source": [
        "Right now, the variable `model` holds a pretrained distilBERT model -- a version of BERT that is smaller, but much faster and requiring a lot less memory.\n",
        "\n",
        "## Model #1: Preparing the Dataset\n",
        "Before we can hand our sentences to BERT, we need to so some minimal processing to put them in the format it requires.\n",
        "\n",
        "### Tokenization\n",
        "Our first step is to tokenize the sentences -- break them up into word and subwords in the format BERT is comfortable with."
      ]
    },
    {
      "cell_type": "code",
      "metadata": {
        "colab_type": "code",
        "id": "Dg82ndBA5xlN",
        "colab": {}
      },
      "source": [
        "tokenized = batch_1[0].apply((lambda x: tokenizer.encode(x, add_special_tokens=True, truncation=True, max_length=128)))"
      ],
      "execution_count": 10,
      "outputs": []
    },
    {
      "cell_type": "code",
      "metadata": {
        "colab_type": "code",
        "id": "URn-DWJt5xhP",
        "colab": {}
      },
      "source": [
        "max_len = 0\n",
        "for i in tokenized.values:\n",
        "    if len(i) > max_len:\n",
        "        max_len = len(i)\n",
        "\n",
        "padded = np.array([i + [0]*(max_len-len(i)) for i in tokenized.values])"
      ],
      "execution_count": 11,
      "outputs": []
    },
    {
      "cell_type": "markdown",
      "metadata": {
        "colab_type": "text",
        "id": "Mdjg306wjjmL"
      },
      "source": [
        "Our dataset is now in the `padded` variable, we can view its dimensions below:"
      ]
    },
    {
      "cell_type": "code",
      "metadata": {
        "colab_type": "code",
        "id": "jdi7uXo95xeq",
        "colab": {
          "base_uri": "https://localhost:8080/",
          "height": 34
        },
        "outputId": "5c1db33c-555c-48ff-f4da-1a08554fce00"
      },
      "source": [
        "np.array(padded).shape"
      ],
      "execution_count": 12,
      "outputs": [
        {
          "output_type": "execute_result",
          "data": {
            "text/plain": [
              "(2701, 128)"
            ]
          },
          "metadata": {
            "tags": []
          },
          "execution_count": 12
        }
      ]
    },
    {
      "cell_type": "markdown",
      "metadata": {
        "colab_type": "text",
        "id": "sDZBsYSDjzDV"
      },
      "source": [
        "### Masking\n",
        "If we directly send `padded` to BERT, that would slightly confuse it. We need to create another variable to tell it to ignore (mask) the padding we've added when it's processing its input. That's what attention_mask is:"
      ]
    },
    {
      "cell_type": "code",
      "metadata": {
        "colab_type": "code",
        "id": "4K_iGRNa_Ozc",
        "colab": {
          "base_uri": "https://localhost:8080/",
          "height": 34
        },
        "outputId": "57abf7a9-17f7-484c-c194-f55bebcffadb"
      },
      "source": [
        "attention_mask = np.where(padded != 0, 1, 0)\n",
        "attention_mask.shape"
      ],
      "execution_count": 13,
      "outputs": [
        {
          "output_type": "execute_result",
          "data": {
            "text/plain": [
              "(2701, 128)"
            ]
          },
          "metadata": {
            "tags": []
          },
          "execution_count": 13
        }
      ]
    },
    {
      "cell_type": "code",
      "metadata": {
        "colab_type": "code",
        "id": "39UVjAV56PJz",
        "colab": {}
      },
      "source": [
        "input_ids = torch.tensor(padded)  \n",
        "attention_mask = torch.tensor(attention_mask)\n",
        "\n",
        "with torch.no_grad():\n",
        "    last_hidden_states = model(input_ids, attention_mask=attention_mask)"
      ],
      "execution_count": 14,
      "outputs": []
    },
    {
      "cell_type": "code",
      "metadata": {
        "colab_type": "code",
        "id": "C9t60At16PVs",
        "colab": {
          "base_uri": "https://localhost:8080/",
          "height": 238
        },
        "outputId": "3717e04c-4f73-4b8b-d8b3-439962304661"
      },
      "source": [
        "features = last_hidden_states[0][:,0,:].numpy()\n",
        "print(features)"
      ],
      "execution_count": 15,
      "outputs": [
        {
          "output_type": "stream",
          "text": [
            "[[ 0.15627055 -0.20722187 -0.03962998 ...  0.15881488  0.3669506\n",
            "   0.46319035]\n",
            " [-0.05789474 -0.01733885 -0.1070803  ...  0.01880805 -0.06970198\n",
            "   0.54524016]\n",
            " [ 0.19604996  0.20534162  0.24803358 ...  0.1578196   0.45455894\n",
            "  -0.4178381 ]\n",
            " ...\n",
            " [ 0.45092496 -0.15768571 -0.16213767 ... -0.16745816  0.6286537\n",
            "   0.411904  ]\n",
            " [ 0.1912971  -0.16093378 -0.01542986 ... -0.11184699  0.46886578\n",
            "   0.47975355]\n",
            " [ 0.5417328   0.0307596   0.32225472 ...  0.01061545  0.7953502\n",
            "   0.41072857]]\n"
          ],
          "name": "stdout"
        }
      ]
    },
    {
      "cell_type": "markdown",
      "metadata": {
        "colab_type": "text",
        "id": "_VZVU66Gurr-"
      },
      "source": [
        "The labels indicating which sentence is positive and negative now go into the `labels` variable"
      ]
    },
    {
      "cell_type": "code",
      "metadata": {
        "colab_type": "code",
        "id": "JD3fX2yh6PTx",
        "colab": {
          "base_uri": "https://localhost:8080/",
          "height": 119
        },
        "outputId": "b86ee90a-7812-49de-c7e9-95f42544bad5"
      },
      "source": [
        "labels = batch_1[1]\n",
        "labels.head()"
      ],
      "execution_count": 17,
      "outputs": [
        {
          "output_type": "execute_result",
          "data": {
            "text/plain": [
              "0    0\n",
              "1    0\n",
              "2    0\n",
              "3    0\n",
              "4    0\n",
              "Name: 1, dtype: int64"
            ]
          },
          "metadata": {
            "tags": []
          },
          "execution_count": 17
        }
      ]
    },
    {
      "cell_type": "markdown",
      "metadata": {
        "colab_type": "text",
        "id": "iaoEvM2evRx1"
      },
      "source": [
        "## Model #2: Train/Test Split\n",
        "Let's now split our datset into a training set and testing set (even though we're using 2,000 sentences from the SST2 training set)."
      ]
    },
    {
      "cell_type": "code",
      "metadata": {
        "colab_type": "code",
        "id": "ddAqbkoU6PP9",
        "colab": {}
      },
      "source": [
        "train_features, test_features, train_labels, test_labels = train_test_split(features, labels, test_size=0.25, random_state=42, stratify=labels)"
      ],
      "execution_count": 18,
      "outputs": []
    },
    {
      "cell_type": "code",
      "metadata": {
        "colab_type": "code",
        "id": "cyEwr7yYD3Ci",
        "colab": {}
      },
      "source": [
        "# parameters = {'C': np.linspace(0.0001, 100, 20)}\n",
        "# grid_search = GridSearchCV(LogisticRegression(), parameters)\n",
        "# grid_search.fit(train_features, train_labels)\n",
        "\n",
        "# print('best parameters: ', grid_search.best_params_)\n",
        "# print('best scrores: ', grid_search.best_score_)"
      ],
      "execution_count": null,
      "outputs": []
    },
    {
      "cell_type": "code",
      "metadata": {
        "colab_type": "code",
        "id": "gG-EVWx4CzBc",
        "colab": {
          "base_uri": "https://localhost:8080/",
          "height": 1000
        },
        "outputId": "1836e482-ad33-4686-945b-f4d786eb2f9a"
      },
      "source": [
        "from keras.models import Sequential\n",
        "from keras import layers\n",
        "from keras.layers import Dense, Activation, Embedding, Flatten, GlobalMaxPool1D, Dropout, Conv1D\n",
        "from keras.callbacks import ModelCheckpoint\n",
        "\n",
        "model3 = Sequential()\n",
        "model3.add(Dense(1, activation='sigmoid'))\n",
        "\n",
        "model3.add(Dense(10, activation='relu'))\n",
        "# model3.add(Dense(1, activation='sigmoid'))\n",
        "model3.add(Dense(3, activation = 'softmax')) # this gives the probability distribution for each class, should be 1 hot encoded, maybe we take this out of the model and only use it when predicting\n",
        "\n",
        "model3.compile(optimizer='adam',\n",
        "              loss='binary_crossentropy',\n",
        "              metrics=['accuracy'])\n",
        "\n",
        "\n",
        "checkpoint = ModelCheckpoint('/content/depression_suicide_neither_nn.h5', verbose=1, monitor='val_loss',save_best_only=True, mode='auto')  \n",
        "\n",
        "\n",
        "history = model3.fit(train_features, train_labels, batch_size=32, epochs=100, verbose=1, callbacks=[checkpoint], validation_data=(test_features, test_labels))"
      ],
      "execution_count": 20,
      "outputs": [
        {
          "output_type": "stream",
          "text": [
            "Epoch 1/100\n",
            "39/64 [=================>............] - ETA: 0s - loss: 1.0542 - accuracy: 0.3333\n",
            "Epoch 00001: val_loss improved from inf to 1.06888, saving model to /content/depression_suicide_neither_nn.h5\n",
            "64/64 [==============================] - 0s 8ms/step - loss: 1.0699 - accuracy: 0.3343 - val_loss: 1.0689 - val_accuracy: 0.3698\n",
            "Epoch 2/100\n",
            "40/64 [=================>............] - ETA: 0s - loss: 1.0575 - accuracy: 0.3531\n",
            "Epoch 00002: val_loss improved from 1.06888 to 1.06888, saving model to /content/depression_suicide_neither_nn.h5\n",
            "64/64 [==============================] - 0s 2ms/step - loss: 1.0699 - accuracy: 0.3442 - val_loss: 1.0689 - val_accuracy: 0.3506\n",
            "Epoch 3/100\n",
            "48/64 [=====================>........] - ETA: 0s - loss: 1.0625 - accuracy: 0.3340\n",
            "Epoch 00003: val_loss did not improve from 1.06888\n",
            "64/64 [==============================] - 0s 2ms/step - loss: 1.0699 - accuracy: 0.3472 - val_loss: 1.0689 - val_accuracy: 0.3757\n",
            "Epoch 4/100\n",
            "48/64 [=====================>........] - ETA: 0s - loss: 1.0702 - accuracy: 0.3633\n",
            "Epoch 00004: val_loss did not improve from 1.06888\n",
            "64/64 [==============================] - 0s 2ms/step - loss: 1.0699 - accuracy: 0.3600 - val_loss: 1.0689 - val_accuracy: 0.3772\n",
            "Epoch 5/100\n",
            "48/64 [=====================>........] - ETA: 0s - loss: 1.0783 - accuracy: 0.3509\n",
            "Epoch 00005: val_loss did not improve from 1.06888\n",
            "64/64 [==============================] - 0s 2ms/step - loss: 1.0699 - accuracy: 0.3536 - val_loss: 1.0689 - val_accuracy: 0.3757\n",
            "Epoch 6/100\n",
            "45/64 [====================>.........] - ETA: 0s - loss: 1.0851 - accuracy: 0.3583\n",
            "Epoch 00006: val_loss did not improve from 1.06888\n",
            "64/64 [==============================] - 0s 2ms/step - loss: 1.0699 - accuracy: 0.3649 - val_loss: 1.0689 - val_accuracy: 0.3861\n",
            "Epoch 7/100\n",
            "47/64 [=====================>........] - ETA: 0s - loss: 1.0723 - accuracy: 0.3644\n",
            "Epoch 00007: val_loss did not improve from 1.06888\n",
            "64/64 [==============================] - 0s 2ms/step - loss: 1.0699 - accuracy: 0.3615 - val_loss: 1.0689 - val_accuracy: 0.3861\n",
            "Epoch 8/100\n",
            "51/64 [======================>.......] - ETA: 0s - loss: 1.0693 - accuracy: 0.3548\n",
            "Epoch 00008: val_loss did not improve from 1.06888\n",
            "64/64 [==============================] - 0s 2ms/step - loss: 1.0699 - accuracy: 0.3590 - val_loss: 1.0689 - val_accuracy: 0.3817\n",
            "Epoch 9/100\n",
            "53/64 [=======================>......] - ETA: 0s - loss: 1.0770 - accuracy: 0.3491\n",
            "Epoch 00009: val_loss did not improve from 1.06888\n",
            "64/64 [==============================] - 0s 1ms/step - loss: 1.0699 - accuracy: 0.3546 - val_loss: 1.0689 - val_accuracy: 0.3757\n",
            "Epoch 10/100\n",
            "44/64 [===================>..........] - ETA: 0s - loss: 1.0834 - accuracy: 0.3402\n",
            "Epoch 00010: val_loss did not improve from 1.06888\n",
            "64/64 [==============================] - 0s 2ms/step - loss: 1.0699 - accuracy: 0.3541 - val_loss: 1.0689 - val_accuracy: 0.3787\n",
            "Epoch 11/100\n",
            "49/64 [=====================>........] - ETA: 0s - loss: 1.0889 - accuracy: 0.3552\n",
            "Epoch 00011: val_loss did not improve from 1.06888\n",
            "64/64 [==============================] - 0s 2ms/step - loss: 1.0699 - accuracy: 0.3590 - val_loss: 1.0689 - val_accuracy: 0.3713\n",
            "Epoch 12/100\n",
            "52/64 [=======================>......] - ETA: 0s - loss: 1.0736 - accuracy: 0.3498\n",
            "Epoch 00012: val_loss did not improve from 1.06888\n",
            "64/64 [==============================] - 0s 2ms/step - loss: 1.0699 - accuracy: 0.3521 - val_loss: 1.0689 - val_accuracy: 0.3698\n",
            "Epoch 13/100\n",
            "49/64 [=====================>........] - ETA: 0s - loss: 1.0783 - accuracy: 0.3431\n",
            "Epoch 00013: val_loss did not improve from 1.06888\n",
            "64/64 [==============================] - 0s 2ms/step - loss: 1.0699 - accuracy: 0.3457 - val_loss: 1.0689 - val_accuracy: 0.3846\n",
            "Epoch 14/100\n",
            "52/64 [=======================>......] - ETA: 0s - loss: 1.0720 - accuracy: 0.3510\n",
            "Epoch 00014: val_loss did not improve from 1.06888\n",
            "64/64 [==============================] - 0s 2ms/step - loss: 1.0699 - accuracy: 0.3536 - val_loss: 1.0689 - val_accuracy: 0.3802\n",
            "Epoch 15/100\n",
            "50/64 [======================>.......] - ETA: 0s - loss: 1.0700 - accuracy: 0.3481\n",
            "Epoch 00015: val_loss did not improve from 1.06888\n",
            "64/64 [==============================] - 0s 2ms/step - loss: 1.0699 - accuracy: 0.3531 - val_loss: 1.0689 - val_accuracy: 0.3609\n",
            "Epoch 16/100\n",
            "42/64 [==================>...........] - ETA: 0s - loss: 1.0558 - accuracy: 0.3408\n",
            "Epoch 00016: val_loss did not improve from 1.06888\n",
            "64/64 [==============================] - 0s 2ms/step - loss: 1.0699 - accuracy: 0.3481 - val_loss: 1.0689 - val_accuracy: 0.3787\n",
            "Epoch 17/100\n",
            "52/64 [=======================>......] - ETA: 0s - loss: 1.0665 - accuracy: 0.3215\n",
            "Epoch 00017: val_loss did not improve from 1.06888\n",
            "64/64 [==============================] - 0s 1ms/step - loss: 1.0699 - accuracy: 0.3195 - val_loss: 1.0689 - val_accuracy: 0.3136\n",
            "Epoch 18/100\n",
            "46/64 [====================>.........] - ETA: 0s - loss: 1.0802 - accuracy: 0.3227\n",
            "Epoch 00018: val_loss did not improve from 1.06888\n",
            "64/64 [==============================] - 0s 2ms/step - loss: 1.0699 - accuracy: 0.3165 - val_loss: 1.0689 - val_accuracy: 0.3462\n",
            "Epoch 19/100\n",
            "45/64 [====================>.........] - ETA: 0s - loss: 1.0770 - accuracy: 0.3187\n",
            "Epoch 00019: val_loss did not improve from 1.06888\n",
            "64/64 [==============================] - 0s 2ms/step - loss: 1.0699 - accuracy: 0.3156 - val_loss: 1.0689 - val_accuracy: 0.3624\n",
            "Epoch 20/100\n",
            "48/64 [=====================>........] - ETA: 0s - loss: 1.0688 - accuracy: 0.3105\n",
            "Epoch 00020: val_loss did not improve from 1.06888\n",
            "64/64 [==============================] - 0s 2ms/step - loss: 1.0699 - accuracy: 0.3136 - val_loss: 1.0689 - val_accuracy: 0.3077\n",
            "Epoch 21/100\n",
            "48/64 [=====================>........] - ETA: 0s - loss: 1.0670 - accuracy: 0.3092\n",
            "Epoch 00021: val_loss did not improve from 1.06888\n",
            "64/64 [==============================] - 0s 2ms/step - loss: 1.0699 - accuracy: 0.3156 - val_loss: 1.0689 - val_accuracy: 0.3328\n",
            "Epoch 22/100\n",
            "49/64 [=====================>........] - ETA: 0s - loss: 1.0770 - accuracy: 0.3284\n",
            "Epoch 00022: val_loss did not improve from 1.06888\n",
            "64/64 [==============================] - 0s 2ms/step - loss: 1.0699 - accuracy: 0.3284 - val_loss: 1.0689 - val_accuracy: 0.3328\n",
            "Epoch 23/100\n",
            "48/64 [=====================>........] - ETA: 0s - loss: 1.0702 - accuracy: 0.3079\n",
            "Epoch 00023: val_loss did not improve from 1.06888\n",
            "64/64 [==============================] - 0s 2ms/step - loss: 1.0699 - accuracy: 0.3062 - val_loss: 1.0689 - val_accuracy: 0.3314\n",
            "Epoch 24/100\n",
            "48/64 [=====================>........] - ETA: 0s - loss: 1.0733 - accuracy: 0.3177\n",
            "Epoch 00024: val_loss did not improve from 1.06888\n",
            "64/64 [==============================] - 0s 2ms/step - loss: 1.0699 - accuracy: 0.3185 - val_loss: 1.0689 - val_accuracy: 0.3654\n",
            "Epoch 25/100\n",
            "44/64 [===================>..........] - ETA: 0s - loss: 1.0765 - accuracy: 0.3210\n",
            "Epoch 00025: val_loss did not improve from 1.06888\n",
            "64/64 [==============================] - 0s 2ms/step - loss: 1.0699 - accuracy: 0.3160 - val_loss: 1.0689 - val_accuracy: 0.3284\n",
            "Epoch 26/100\n",
            "49/64 [=====================>........] - ETA: 0s - loss: 1.0672 - accuracy: 0.3151\n",
            "Epoch 00026: val_loss did not improve from 1.06888\n",
            "64/64 [==============================] - 0s 2ms/step - loss: 1.0699 - accuracy: 0.3131 - val_loss: 1.0689 - val_accuracy: 0.3491\n",
            "Epoch 27/100\n",
            "52/64 [=======================>......] - ETA: 0s - loss: 1.0749 - accuracy: 0.3203\n",
            "Epoch 00027: val_loss did not improve from 1.06888\n",
            "64/64 [==============================] - 0s 1ms/step - loss: 1.0699 - accuracy: 0.3121 - val_loss: 1.0689 - val_accuracy: 0.3506\n",
            "Epoch 28/100\n",
            "52/64 [=======================>......] - ETA: 0s - loss: 1.0765 - accuracy: 0.3257\n",
            "Epoch 00028: val_loss did not improve from 1.06888\n",
            "64/64 [==============================] - 0s 2ms/step - loss: 1.0699 - accuracy: 0.3205 - val_loss: 1.0689 - val_accuracy: 0.3476\n",
            "Epoch 29/100\n",
            "51/64 [======================>.......] - ETA: 0s - loss: 1.0744 - accuracy: 0.3260\n",
            "Epoch 00029: val_loss did not improve from 1.06888\n",
            "64/64 [==============================] - 0s 1ms/step - loss: 1.0699 - accuracy: 0.3185 - val_loss: 1.0689 - val_accuracy: 0.3728\n",
            "Epoch 30/100\n",
            "43/64 [===================>..........] - ETA: 0s - loss: 1.0729 - accuracy: 0.3227\n",
            "Epoch 00030: val_loss did not improve from 1.06888\n",
            "64/64 [==============================] - 0s 2ms/step - loss: 1.0699 - accuracy: 0.3091 - val_loss: 1.0689 - val_accuracy: 0.3328\n",
            "Epoch 31/100\n",
            "50/64 [======================>.......] - ETA: 0s - loss: 1.0757 - accuracy: 0.3212\n",
            "Epoch 00031: val_loss did not improve from 1.06888\n",
            "64/64 [==============================] - 0s 2ms/step - loss: 1.0699 - accuracy: 0.3215 - val_loss: 1.0689 - val_accuracy: 0.3254\n",
            "Epoch 32/100\n",
            "45/64 [====================>.........] - ETA: 0s - loss: 1.0827 - accuracy: 0.2965\n",
            "Epoch 00032: val_loss did not improve from 1.06888\n",
            "64/64 [==============================] - 0s 2ms/step - loss: 1.0699 - accuracy: 0.3002 - val_loss: 1.0689 - val_accuracy: 0.3388\n",
            "Epoch 33/100\n",
            "40/64 [=================>............] - ETA: 0s - loss: 1.0715 - accuracy: 0.3078\n",
            "Epoch 00033: val_loss did not improve from 1.06888\n",
            "64/64 [==============================] - 0s 2ms/step - loss: 1.0699 - accuracy: 0.3165 - val_loss: 1.0689 - val_accuracy: 0.3284\n",
            "Epoch 34/100\n",
            "47/64 [=====================>........] - ETA: 0s - loss: 1.0774 - accuracy: 0.3231\n",
            "Epoch 00034: val_loss did not improve from 1.06888\n",
            "64/64 [==============================] - 0s 2ms/step - loss: 1.0699 - accuracy: 0.3200 - val_loss: 1.0689 - val_accuracy: 0.3210\n",
            "Epoch 35/100\n",
            "38/64 [================>.............] - ETA: 0s - loss: 1.0667 - accuracy: 0.3347\n",
            "Epoch 00035: val_loss did not improve from 1.06888\n",
            "64/64 [==============================] - 0s 2ms/step - loss: 1.0699 - accuracy: 0.3151 - val_loss: 1.0689 - val_accuracy: 0.3314\n",
            "Epoch 36/100\n",
            "43/64 [===================>..........] - ETA: 0s - loss: 1.0654 - accuracy: 0.2980\n",
            "Epoch 00036: val_loss did not improve from 1.06888\n",
            "64/64 [==============================] - 0s 2ms/step - loss: 1.0699 - accuracy: 0.3022 - val_loss: 1.0689 - val_accuracy: 0.3550\n",
            "Epoch 37/100\n",
            "40/64 [=================>............] - ETA: 0s - loss: 1.0515 - accuracy: 0.3156\n",
            "Epoch 00037: val_loss did not improve from 1.06888\n",
            "64/64 [==============================] - 0s 2ms/step - loss: 1.0699 - accuracy: 0.3096 - val_loss: 1.0689 - val_accuracy: 0.2959\n",
            "Epoch 38/100\n",
            "52/64 [=======================>......] - ETA: 0s - loss: 1.0740 - accuracy: 0.3137\n",
            "Epoch 00038: val_loss did not improve from 1.06888\n",
            "64/64 [==============================] - 0s 2ms/step - loss: 1.0699 - accuracy: 0.3121 - val_loss: 1.0689 - val_accuracy: 0.3240\n",
            "Epoch 39/100\n",
            "53/64 [=======================>......] - ETA: 0s - loss: 1.0671 - accuracy: 0.3249\n",
            "Epoch 00039: val_loss did not improve from 1.06888\n",
            "64/64 [==============================] - 0s 2ms/step - loss: 1.0699 - accuracy: 0.3314 - val_loss: 1.0689 - val_accuracy: 0.3817\n",
            "Epoch 40/100\n",
            "52/64 [=======================>......] - ETA: 0s - loss: 1.0824 - accuracy: 0.3083\n",
            "Epoch 00040: val_loss did not improve from 1.06888\n",
            "64/64 [==============================] - 0s 2ms/step - loss: 1.0699 - accuracy: 0.3175 - val_loss: 1.0689 - val_accuracy: 0.3491\n",
            "Epoch 41/100\n",
            "51/64 [======================>.......] - ETA: 0s - loss: 1.0655 - accuracy: 0.3358\n",
            "Epoch 00041: val_loss did not improve from 1.06888\n",
            "64/64 [==============================] - 0s 2ms/step - loss: 1.0699 - accuracy: 0.3417 - val_loss: 1.0689 - val_accuracy: 0.3639\n",
            "Epoch 42/100\n",
            "52/64 [=======================>......] - ETA: 0s - loss: 1.0799 - accuracy: 0.3215\n",
            "Epoch 00042: val_loss did not improve from 1.06888\n",
            "64/64 [==============================] - 0s 2ms/step - loss: 1.0699 - accuracy: 0.3165 - val_loss: 1.0689 - val_accuracy: 0.2959\n",
            "Epoch 43/100\n",
            "49/64 [=====================>........] - ETA: 0s - loss: 1.0730 - accuracy: 0.3208\n",
            "Epoch 00043: val_loss did not improve from 1.06888\n",
            "64/64 [==============================] - 0s 2ms/step - loss: 1.0699 - accuracy: 0.3235 - val_loss: 1.0689 - val_accuracy: 0.3654\n",
            "Epoch 44/100\n",
            "49/64 [=====================>........] - ETA: 0s - loss: 1.0672 - accuracy: 0.3418\n",
            "Epoch 00044: val_loss did not improve from 1.06888\n",
            "64/64 [==============================] - 0s 2ms/step - loss: 1.0699 - accuracy: 0.3511 - val_loss: 1.0689 - val_accuracy: 0.2944\n",
            "Epoch 45/100\n",
            "51/64 [======================>.......] - ETA: 0s - loss: 1.0659 - accuracy: 0.3143\n",
            "Epoch 00045: val_loss did not improve from 1.06888\n",
            "64/64 [==============================] - 0s 1ms/step - loss: 1.0699 - accuracy: 0.3126 - val_loss: 1.0689 - val_accuracy: 0.3624\n",
            "Epoch 46/100\n",
            "51/64 [======================>.......] - ETA: 0s - loss: 1.0621 - accuracy: 0.3382\n",
            "Epoch 00046: val_loss did not improve from 1.06888\n",
            "64/64 [==============================] - 0s 1ms/step - loss: 1.0699 - accuracy: 0.3348 - val_loss: 1.0689 - val_accuracy: 0.3476\n",
            "Epoch 47/100\n",
            "53/64 [=======================>......] - ETA: 0s - loss: 1.0814 - accuracy: 0.3196\n",
            "Epoch 00047: val_loss did not improve from 1.06888\n",
            "64/64 [==============================] - 0s 1ms/step - loss: 1.0699 - accuracy: 0.3225 - val_loss: 1.0689 - val_accuracy: 0.3402\n",
            "Epoch 48/100\n",
            "50/64 [======================>.......] - ETA: 0s - loss: 1.0687 - accuracy: 0.3006\n",
            "Epoch 00048: val_loss did not improve from 1.06888\n",
            "64/64 [==============================] - 0s 2ms/step - loss: 1.0699 - accuracy: 0.3022 - val_loss: 1.0689 - val_accuracy: 0.2973\n",
            "Epoch 49/100\n",
            "38/64 [================>.............] - ETA: 0s - loss: 1.0627 - accuracy: 0.3207\n",
            "Epoch 00049: val_loss did not improve from 1.06888\n",
            "64/64 [==============================] - 0s 2ms/step - loss: 1.0699 - accuracy: 0.3156 - val_loss: 1.0689 - val_accuracy: 0.3151\n",
            "Epoch 50/100\n",
            "47/64 [=====================>........] - ETA: 0s - loss: 1.0691 - accuracy: 0.3285\n",
            "Epoch 00050: val_loss did not improve from 1.06888\n",
            "64/64 [==============================] - 0s 2ms/step - loss: 1.0699 - accuracy: 0.3383 - val_loss: 1.0689 - val_accuracy: 0.3609\n",
            "Epoch 51/100\n",
            "50/64 [======================>.......] - ETA: 0s - loss: 1.0718 - accuracy: 0.2994\n",
            "Epoch 00051: val_loss did not improve from 1.06888\n",
            "64/64 [==============================] - 0s 2ms/step - loss: 1.0699 - accuracy: 0.3101 - val_loss: 1.0689 - val_accuracy: 0.3476\n",
            "Epoch 52/100\n",
            "50/64 [======================>.......] - ETA: 0s - loss: 1.0722 - accuracy: 0.3231\n",
            "Epoch 00052: val_loss did not improve from 1.06888\n",
            "64/64 [==============================] - 0s 1ms/step - loss: 1.0699 - accuracy: 0.3210 - val_loss: 1.0689 - val_accuracy: 0.3462\n",
            "Epoch 53/100\n",
            "44/64 [===================>..........] - ETA: 0s - loss: 1.0878 - accuracy: 0.3452\n",
            "Epoch 00053: val_loss did not improve from 1.06888\n",
            "64/64 [==============================] - 0s 2ms/step - loss: 1.0699 - accuracy: 0.3506 - val_loss: 1.0689 - val_accuracy: 0.3402\n",
            "Epoch 54/100\n",
            "47/64 [=====================>........] - ETA: 0s - loss: 1.0802 - accuracy: 0.3145\n",
            "Epoch 00054: val_loss did not improve from 1.06888\n",
            "64/64 [==============================] - 0s 2ms/step - loss: 1.0699 - accuracy: 0.3195 - val_loss: 1.0689 - val_accuracy: 0.3669\n",
            "Epoch 55/100\n",
            "48/64 [=====================>........] - ETA: 0s - loss: 1.0729 - accuracy: 0.3229\n",
            "Epoch 00055: val_loss did not improve from 1.06888\n",
            "64/64 [==============================] - 0s 2ms/step - loss: 1.0699 - accuracy: 0.3314 - val_loss: 1.0689 - val_accuracy: 0.3402\n",
            "Epoch 56/100\n",
            "47/64 [=====================>........] - ETA: 0s - loss: 1.0793 - accuracy: 0.3225\n",
            "Epoch 00056: val_loss did not improve from 1.06888\n",
            "64/64 [==============================] - 0s 2ms/step - loss: 1.0699 - accuracy: 0.3131 - val_loss: 1.0689 - val_accuracy: 0.3151\n",
            "Epoch 57/100\n",
            "50/64 [======================>.......] - ETA: 0s - loss: 1.0804 - accuracy: 0.3194\n",
            "Epoch 00057: val_loss did not improve from 1.06888\n",
            "64/64 [==============================] - 0s 2ms/step - loss: 1.0699 - accuracy: 0.3180 - val_loss: 1.0689 - val_accuracy: 0.3580\n",
            "Epoch 58/100\n",
            "47/64 [=====================>........] - ETA: 0s - loss: 1.0599 - accuracy: 0.3305\n",
            "Epoch 00058: val_loss did not improve from 1.06888\n",
            "64/64 [==============================] - 0s 2ms/step - loss: 1.0699 - accuracy: 0.3249 - val_loss: 1.0689 - val_accuracy: 0.3402\n",
            "Epoch 59/100\n",
            "45/64 [====================>.........] - ETA: 0s - loss: 1.0615 - accuracy: 0.3653\n",
            "Epoch 00059: val_loss did not improve from 1.06888\n",
            "64/64 [==============================] - 0s 2ms/step - loss: 1.0699 - accuracy: 0.3551 - val_loss: 1.0689 - val_accuracy: 0.2973\n",
            "Epoch 60/100\n",
            "48/64 [=====================>........] - ETA: 0s - loss: 1.0724 - accuracy: 0.3424\n",
            "Epoch 00060: val_loss did not improve from 1.06888\n",
            "64/64 [==============================] - 0s 2ms/step - loss: 1.0699 - accuracy: 0.3407 - val_loss: 1.0689 - val_accuracy: 0.3402\n",
            "Epoch 61/100\n",
            "46/64 [====================>.........] - ETA: 0s - loss: 1.0821 - accuracy: 0.3166\n",
            "Epoch 00061: val_loss did not improve from 1.06888\n",
            "64/64 [==============================] - 0s 2ms/step - loss: 1.0699 - accuracy: 0.3264 - val_loss: 1.0689 - val_accuracy: 0.2973\n",
            "Epoch 62/100\n",
            "48/64 [=====================>........] - ETA: 0s - loss: 1.0607 - accuracy: 0.3275\n",
            "Epoch 00062: val_loss did not improve from 1.06888\n",
            "64/64 [==============================] - 0s 2ms/step - loss: 1.0699 - accuracy: 0.3254 - val_loss: 1.0689 - val_accuracy: 0.3462\n",
            "Epoch 63/100\n",
            "50/64 [======================>.......] - ETA: 0s - loss: 1.0540 - accuracy: 0.3288\n",
            "Epoch 00063: val_loss did not improve from 1.06888\n",
            "64/64 [==============================] - 0s 2ms/step - loss: 1.0699 - accuracy: 0.3427 - val_loss: 1.0689 - val_accuracy: 0.3624\n",
            "Epoch 64/100\n",
            "47/64 [=====================>........] - ETA: 0s - loss: 1.0700 - accuracy: 0.3112\n",
            "Epoch 00064: val_loss did not improve from 1.06888\n",
            "64/64 [==============================] - 0s 2ms/step - loss: 1.0699 - accuracy: 0.3190 - val_loss: 1.0689 - val_accuracy: 0.3609\n",
            "Epoch 65/100\n",
            "48/64 [=====================>........] - ETA: 0s - loss: 1.0855 - accuracy: 0.3392\n",
            "Epoch 00065: val_loss did not improve from 1.06888\n",
            "64/64 [==============================] - 0s 1ms/step - loss: 1.0699 - accuracy: 0.3412 - val_loss: 1.0689 - val_accuracy: 0.3624\n",
            "Epoch 66/100\n",
            "54/64 [========================>.....] - ETA: 0s - loss: 1.0713 - accuracy: 0.3351\n",
            "Epoch 00066: val_loss did not improve from 1.06888\n",
            "64/64 [==============================] - 0s 1ms/step - loss: 1.0699 - accuracy: 0.3393 - val_loss: 1.0689 - val_accuracy: 0.3624\n",
            "Epoch 67/100\n",
            "47/64 [=====================>........] - ETA: 0s - loss: 1.0728 - accuracy: 0.3504\n",
            "Epoch 00067: val_loss did not improve from 1.06888\n",
            "64/64 [==============================] - 0s 2ms/step - loss: 1.0699 - accuracy: 0.3442 - val_loss: 1.0689 - val_accuracy: 0.3624\n",
            "Epoch 68/100\n",
            "44/64 [===================>..........] - ETA: 0s - loss: 1.0765 - accuracy: 0.3551\n",
            "Epoch 00068: val_loss did not improve from 1.06888\n",
            "64/64 [==============================] - 0s 2ms/step - loss: 1.0699 - accuracy: 0.3462 - val_loss: 1.0689 - val_accuracy: 0.3624\n",
            "Epoch 69/100\n",
            "52/64 [=======================>......] - ETA: 0s - loss: 1.0728 - accuracy: 0.3401\n",
            "Epoch 00069: val_loss did not improve from 1.06888\n",
            "64/64 [==============================] - 0s 2ms/step - loss: 1.0699 - accuracy: 0.3393 - val_loss: 1.0689 - val_accuracy: 0.2973\n",
            "Epoch 70/100\n",
            "50/64 [======================>.......] - ETA: 0s - loss: 1.0687 - accuracy: 0.3306\n",
            "Epoch 00070: val_loss did not improve from 1.06888\n",
            "64/64 [==============================] - 0s 2ms/step - loss: 1.0699 - accuracy: 0.3264 - val_loss: 1.0689 - val_accuracy: 0.3624\n",
            "Epoch 71/100\n",
            "53/64 [=======================>......] - ETA: 0s - loss: 1.0671 - accuracy: 0.3325\n",
            "Epoch 00071: val_loss did not improve from 1.06888\n",
            "64/64 [==============================] - 0s 2ms/step - loss: 1.0699 - accuracy: 0.3348 - val_loss: 1.0689 - val_accuracy: 0.2973\n",
            "Epoch 72/100\n",
            "50/64 [======================>.......] - ETA: 0s - loss: 1.0601 - accuracy: 0.3269\n",
            "Epoch 00072: val_loss did not improve from 1.06888\n",
            "64/64 [==============================] - 0s 2ms/step - loss: 1.0699 - accuracy: 0.3348 - val_loss: 1.0689 - val_accuracy: 0.3624\n",
            "Epoch 73/100\n",
            "41/64 [==================>...........] - ETA: 0s - loss: 1.0627 - accuracy: 0.3323\n",
            "Epoch 00073: val_loss did not improve from 1.06888\n",
            "64/64 [==============================] - 0s 2ms/step - loss: 1.0699 - accuracy: 0.3274 - val_loss: 1.0689 - val_accuracy: 0.2973\n",
            "Epoch 74/100\n",
            "46/64 [====================>.........] - ETA: 0s - loss: 1.0727 - accuracy: 0.3417\n",
            "Epoch 00074: val_loss did not improve from 1.06888\n",
            "64/64 [==============================] - 0s 2ms/step - loss: 1.0699 - accuracy: 0.3398 - val_loss: 1.0689 - val_accuracy: 0.3491\n",
            "Epoch 75/100\n",
            "46/64 [====================>.........] - ETA: 0s - loss: 1.0755 - accuracy: 0.3268\n",
            "Epoch 00075: val_loss did not improve from 1.06888\n",
            "64/64 [==============================] - 0s 2ms/step - loss: 1.0699 - accuracy: 0.3388 - val_loss: 1.0689 - val_accuracy: 0.2973\n",
            "Epoch 76/100\n",
            "49/64 [=====================>........] - ETA: 0s - loss: 1.0725 - accuracy: 0.3367\n",
            "Epoch 00076: val_loss did not improve from 1.06888\n",
            "64/64 [==============================] - 0s 2ms/step - loss: 1.0699 - accuracy: 0.3319 - val_loss: 1.0689 - val_accuracy: 0.3743\n",
            "Epoch 77/100\n",
            "49/64 [=====================>........] - ETA: 0s - loss: 1.0637 - accuracy: 0.3182\n",
            "Epoch 00077: val_loss did not improve from 1.06888\n",
            "64/64 [==============================] - 0s 2ms/step - loss: 1.0699 - accuracy: 0.3141 - val_loss: 1.0689 - val_accuracy: 0.2973\n",
            "Epoch 78/100\n",
            "44/64 [===================>..........] - ETA: 0s - loss: 1.0587 - accuracy: 0.3366\n",
            "Epoch 00078: val_loss did not improve from 1.06888\n",
            "64/64 [==============================] - 0s 2ms/step - loss: 1.0699 - accuracy: 0.3264 - val_loss: 1.0689 - val_accuracy: 0.2973\n",
            "Epoch 79/100\n",
            "45/64 [====================>.........] - ETA: 0s - loss: 1.0741 - accuracy: 0.3361\n",
            "Epoch 00079: val_loss did not improve from 1.06888\n",
            "64/64 [==============================] - 0s 2ms/step - loss: 1.0699 - accuracy: 0.3328 - val_loss: 1.0689 - val_accuracy: 0.2973\n",
            "Epoch 80/100\n",
            "50/64 [======================>.......] - ETA: 0s - loss: 1.0709 - accuracy: 0.3181\n",
            "Epoch 00080: val_loss did not improve from 1.06888\n",
            "64/64 [==============================] - 0s 1ms/step - loss: 1.0699 - accuracy: 0.3151 - val_loss: 1.0689 - val_accuracy: 0.2973\n",
            "Epoch 81/100\n",
            "48/64 [=====================>........] - ETA: 0s - loss: 1.0720 - accuracy: 0.3346\n",
            "Epoch 00081: val_loss did not improve from 1.06888\n",
            "64/64 [==============================] - 0s 2ms/step - loss: 1.0699 - accuracy: 0.3284 - val_loss: 1.0689 - val_accuracy: 0.3624\n",
            "Epoch 82/100\n",
            "47/64 [=====================>........] - ETA: 0s - loss: 1.0710 - accuracy: 0.3398\n",
            "Epoch 00082: val_loss did not improve from 1.06888\n",
            "64/64 [==============================] - 0s 2ms/step - loss: 1.0699 - accuracy: 0.3319 - val_loss: 1.0689 - val_accuracy: 0.3402\n",
            "Epoch 83/100\n",
            "53/64 [=======================>......] - ETA: 0s - loss: 1.0647 - accuracy: 0.3284\n",
            "Epoch 00083: val_loss did not improve from 1.06888\n",
            "64/64 [==============================] - 0s 2ms/step - loss: 1.0699 - accuracy: 0.3279 - val_loss: 1.0689 - val_accuracy: 0.3624\n",
            "Epoch 84/100\n",
            "54/64 [========================>.....] - ETA: 0s - loss: 1.0753 - accuracy: 0.3391\n",
            "Epoch 00084: val_loss did not improve from 1.06888\n",
            "64/64 [==============================] - 0s 1ms/step - loss: 1.0699 - accuracy: 0.3462 - val_loss: 1.0689 - val_accuracy: 0.2973\n",
            "Epoch 85/100\n",
            "49/64 [=====================>........] - ETA: 0s - loss: 1.0610 - accuracy: 0.3202\n",
            "Epoch 00085: val_loss did not improve from 1.06888\n",
            "64/64 [==============================] - 0s 2ms/step - loss: 1.0699 - accuracy: 0.3160 - val_loss: 1.0689 - val_accuracy: 0.3624\n",
            "Epoch 86/100\n",
            "51/64 [======================>.......] - ETA: 0s - loss: 1.0702 - accuracy: 0.3033\n",
            "Epoch 00086: val_loss did not improve from 1.06888\n",
            "64/64 [==============================] - 0s 2ms/step - loss: 1.0699 - accuracy: 0.3091 - val_loss: 1.0689 - val_accuracy: 0.3624\n",
            "Epoch 87/100\n",
            "50/64 [======================>.......] - ETA: 0s - loss: 1.0709 - accuracy: 0.3375\n",
            "Epoch 00087: val_loss did not improve from 1.06888\n",
            "64/64 [==============================] - 0s 2ms/step - loss: 1.0699 - accuracy: 0.3417 - val_loss: 1.0689 - val_accuracy: 0.2973\n",
            "Epoch 88/100\n",
            "51/64 [======================>.......] - ETA: 0s - loss: 1.0651 - accuracy: 0.3199\n",
            "Epoch 00088: val_loss did not improve from 1.06888\n",
            "64/64 [==============================] - 0s 2ms/step - loss: 1.0699 - accuracy: 0.3210 - val_loss: 1.0689 - val_accuracy: 0.2973\n",
            "Epoch 89/100\n",
            "51/64 [======================>.......] - ETA: 0s - loss: 1.0629 - accuracy: 0.3431\n",
            "Epoch 00089: val_loss did not improve from 1.06888\n",
            "64/64 [==============================] - 0s 1ms/step - loss: 1.0699 - accuracy: 0.3412 - val_loss: 1.0689 - val_accuracy: 0.3402\n",
            "Epoch 90/100\n",
            "48/64 [=====================>........] - ETA: 0s - loss: 1.0733 - accuracy: 0.3151\n",
            "Epoch 00090: val_loss did not improve from 1.06888\n",
            "64/64 [==============================] - 0s 2ms/step - loss: 1.0699 - accuracy: 0.3190 - val_loss: 1.0689 - val_accuracy: 0.2973\n",
            "Epoch 91/100\n",
            "48/64 [=====================>........] - ETA: 0s - loss: 1.0684 - accuracy: 0.3522\n",
            "Epoch 00091: val_loss did not improve from 1.06888\n",
            "64/64 [==============================] - 0s 2ms/step - loss: 1.0699 - accuracy: 0.3452 - val_loss: 1.0689 - val_accuracy: 0.2973\n",
            "Epoch 92/100\n",
            "47/64 [=====================>........] - ETA: 0s - loss: 1.0710 - accuracy: 0.3205\n",
            "Epoch 00092: val_loss did not improve from 1.06888\n",
            "64/64 [==============================] - 0s 2ms/step - loss: 1.0699 - accuracy: 0.3165 - val_loss: 1.0689 - val_accuracy: 0.2973\n",
            "Epoch 93/100\n",
            "48/64 [=====================>........] - ETA: 0s - loss: 1.0661 - accuracy: 0.3340\n",
            "Epoch 00093: val_loss did not improve from 1.06888\n",
            "64/64 [==============================] - 0s 2ms/step - loss: 1.0699 - accuracy: 0.3398 - val_loss: 1.0689 - val_accuracy: 0.3550\n",
            "Epoch 94/100\n",
            "44/64 [===================>..........] - ETA: 0s - loss: 1.0706 - accuracy: 0.3210\n",
            "Epoch 00094: val_loss did not improve from 1.06888\n",
            "64/64 [==============================] - 0s 2ms/step - loss: 1.0699 - accuracy: 0.3240 - val_loss: 1.0689 - val_accuracy: 0.3402\n",
            "Epoch 95/100\n",
            "49/64 [=====================>........] - ETA: 0s - loss: 1.0615 - accuracy: 0.3527\n",
            "Epoch 00095: val_loss did not improve from 1.06888\n",
            "64/64 [==============================] - 0s 2ms/step - loss: 1.0699 - accuracy: 0.3546 - val_loss: 1.0689 - val_accuracy: 0.3624\n",
            "Epoch 96/100\n",
            "45/64 [====================>.........] - ETA: 0s - loss: 1.0659 - accuracy: 0.3347\n",
            "Epoch 00096: val_loss did not improve from 1.06888\n",
            "64/64 [==============================] - 0s 2ms/step - loss: 1.0699 - accuracy: 0.3383 - val_loss: 1.0689 - val_accuracy: 0.3609\n",
            "Epoch 97/100\n",
            "43/64 [===================>..........] - ETA: 0s - loss: 1.0790 - accuracy: 0.3365\n",
            "Epoch 00097: val_loss did not improve from 1.06888\n",
            "64/64 [==============================] - 0s 2ms/step - loss: 1.0699 - accuracy: 0.3462 - val_loss: 1.0689 - val_accuracy: 0.3624\n",
            "Epoch 98/100\n",
            "46/64 [====================>.........] - ETA: 0s - loss: 1.0685 - accuracy: 0.3329\n",
            "Epoch 00098: val_loss did not improve from 1.06888\n",
            "64/64 [==============================] - 0s 2ms/step - loss: 1.0699 - accuracy: 0.3383 - val_loss: 1.0689 - val_accuracy: 0.3402\n",
            "Epoch 99/100\n",
            "50/64 [======================>.......] - ETA: 0s - loss: 1.0666 - accuracy: 0.3406\n",
            "Epoch 00099: val_loss did not improve from 1.06888\n",
            "64/64 [==============================] - 0s 1ms/step - loss: 1.0699 - accuracy: 0.3383 - val_loss: 1.0689 - val_accuracy: 0.3402\n",
            "Epoch 100/100\n",
            "46/64 [====================>.........] - ETA: 0s - loss: 1.0737 - accuracy: 0.3560\n",
            "Epoch 00100: val_loss did not improve from 1.06888\n",
            "64/64 [==============================] - 0s 2ms/step - loss: 1.0699 - accuracy: 0.3457 - val_loss: 1.0689 - val_accuracy: 0.2973\n"
          ],
          "name": "stdout"
        }
      ]
    },
    {
      "cell_type": "code",
      "metadata": {
        "colab_type": "code",
        "id": "iCoyxRJ7ECTA",
        "colab": {
          "base_uri": "https://localhost:8080/",
          "height": 51
        },
        "outputId": "608bb08a-d915-40a6-b3b5-69348ebb713a"
      },
      "source": [
        "from keras.models import load_model\n",
        "\n",
        "loadedModel = load_model('/content/depression_suicide_neither_nn.h5')\n",
        "loadedModel.evaluate(test_features, test_labels)"
      ],
      "execution_count": 21,
      "outputs": [
        {
          "output_type": "stream",
          "text": [
            "22/22 [==============================] - 0s 1ms/step - loss: 1.0689 - accuracy: 0.5636\n"
          ],
          "name": "stdout"
        },
        {
          "output_type": "execute_result",
          "data": {
            "text/plain": [
              "[1.0688765048980713, 0.5636094808578491]"
            ]
          },
          "metadata": {
            "tags": []
          },
          "execution_count": 21
        }
      ]
    },
    {
      "cell_type": "markdown",
      "metadata": {
        "colab_type": "text",
        "id": "3rUMKuVgwzkY"
      },
      "source": [
        "<img src=\"https://jalammar.github.io/images/distilBERT/bert-training-logistic-regression.png\" />\n",
        "\n",
        "## Evaluating Model #2\n",
        "So how well does our model do in classifying sentences? One way is to check the accuracy against the testing dataset:"
      ]
    },
    {
      "cell_type": "markdown",
      "metadata": {
        "colab_type": "text",
        "id": "75oyhr3VxHoE"
      },
      "source": [
        "How good is this score? What can we compare it against? Let's first look at a dummy classifier:"
      ]
    },
    {
      "cell_type": "code",
      "metadata": {
        "colab_type": "code",
        "id": "lnwgmqNG7i5l",
        "colab": {
          "base_uri": "https://localhost:8080/",
          "height": 34
        },
        "outputId": "88b959c5-9693-419a-8d66-08d3ae053517"
      },
      "source": [
        "from sklearn.dummy import DummyClassifier\n",
        "clf = DummyClassifier()\n",
        "\n",
        "scores = cross_val_score(clf, train_features, train_labels)\n",
        "print(\"Dummy classifier score: %0.3f (+/- %0.2f)\" % (scores.mean(), scores.std() * 2))"
      ],
      "execution_count": null,
      "outputs": [
        {
          "output_type": "stream",
          "text": [
            "Dummy classifier score: 0.509 (+/- 0.06)\n"
          ],
          "name": "stdout"
        }
      ]
    },
    {
      "cell_type": "markdown",
      "metadata": {
        "colab_type": "text",
        "id": "7Lg4LOpoxSOR"
      },
      "source": [
        "So our model clearly does better than a dummy classifier. But how does it compare against the best models?\n",
        "\n",
        "## Proper SST2 scores\n",
        "For reference, the [highest accuracy score](http://nlpprogress.com/english/sentiment_analysis.html) for this dataset is currently **96.8**. DistilBERT can be trained to improve its score on this task – a process called **fine-tuning** which updates BERT’s weights to make it achieve a better performance in this sentence classification task (which we can call the downstream task). The fine-tuned DistilBERT turns out to achieve an accuracy score of **90.7**. The full size BERT model achieves **94.9**.\n",
        "\n",
        "\n",
        "\n",
        "And that’s it! That’s a good first contact with BERT. The next step would be to head over to the documentation and try your hand at [fine-tuning](https://huggingface.co/transformers/examples.html#glue). You can also go back and switch from distilBERT to BERT and see how that works."
      ]
    },
    {
      "cell_type": "code",
      "metadata": {
        "colab_type": "code",
        "id": "EJQuqV6cnWQu",
        "colab": {}
      },
      "source": [
        ""
      ],
      "execution_count": null,
      "outputs": []
    }
  ]
}