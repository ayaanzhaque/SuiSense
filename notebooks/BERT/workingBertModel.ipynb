{
  "nbformat": 4,
  "nbformat_minor": 0,
  "metadata": {
    "accelerator": "TPU",
    "colab": {
      "name": "workingBertModel.ipynb",
      "provenance": [],
      "include_colab_link": true
    },
    "kernelspec": {
      "display_name": "Python 3",
      "language": "python",
      "name": "python3"
    },
    "language_info": {
      "codemirror_mode": {
        "name": "ipython",
        "version": 3
      },
      "file_extension": ".py",
      "mimetype": "text/x-python",
      "name": "python",
      "nbconvert_exporter": "python",
      "pygments_lexer": "ipython3",
      "version": "3.7.6"
    },
    "widgets": {
      "application/vnd.jupyter.widget-state+json": {
        "fd01bd27c817490f819864b4f720c9a3": {
          "model_module": "@jupyter-widgets/controls",
          "model_name": "HBoxModel",
          "state": {
            "_view_name": "HBoxView",
            "_dom_classes": [],
            "_model_name": "HBoxModel",
            "_view_module": "@jupyter-widgets/controls",
            "_model_module_version": "1.5.0",
            "_view_count": null,
            "_view_module_version": "1.5.0",
            "box_style": "",
            "layout": "IPY_MODEL_1849796b737442f8b23fe3d030eb4387",
            "_model_module": "@jupyter-widgets/controls",
            "children": [
              "IPY_MODEL_6ca2a89b059b4bef801fe02211302d1c",
              "IPY_MODEL_44343d705548433cb2413c912c8c9137"
            ]
          }
        },
        "1849796b737442f8b23fe3d030eb4387": {
          "model_module": "@jupyter-widgets/base",
          "model_name": "LayoutModel",
          "state": {
            "_view_name": "LayoutView",
            "grid_template_rows": null,
            "right": null,
            "justify_content": null,
            "_view_module": "@jupyter-widgets/base",
            "overflow": null,
            "_model_module_version": "1.2.0",
            "_view_count": null,
            "flex_flow": null,
            "width": null,
            "min_width": null,
            "border": null,
            "align_items": null,
            "bottom": null,
            "_model_module": "@jupyter-widgets/base",
            "top": null,
            "grid_column": null,
            "overflow_y": null,
            "overflow_x": null,
            "grid_auto_flow": null,
            "grid_area": null,
            "grid_template_columns": null,
            "flex": null,
            "_model_name": "LayoutModel",
            "justify_items": null,
            "grid_row": null,
            "max_height": null,
            "align_content": null,
            "visibility": null,
            "align_self": null,
            "height": null,
            "min_height": null,
            "padding": null,
            "grid_auto_rows": null,
            "grid_gap": null,
            "max_width": null,
            "order": null,
            "_view_module_version": "1.2.0",
            "grid_template_areas": null,
            "object_position": null,
            "object_fit": null,
            "grid_auto_columns": null,
            "margin": null,
            "display": null,
            "left": null
          }
        },
        "6ca2a89b059b4bef801fe02211302d1c": {
          "model_module": "@jupyter-widgets/controls",
          "model_name": "FloatProgressModel",
          "state": {
            "_view_name": "ProgressView",
            "style": "IPY_MODEL_8a19e47b81114f309b87ade75cf8c9c9",
            "_dom_classes": [],
            "description": "Downloading: 100%",
            "_model_name": "FloatProgressModel",
            "bar_style": "success",
            "max": 231508,
            "_view_module": "@jupyter-widgets/controls",
            "_model_module_version": "1.5.0",
            "value": 231508,
            "_view_count": null,
            "_view_module_version": "1.5.0",
            "orientation": "horizontal",
            "min": 0,
            "description_tooltip": null,
            "_model_module": "@jupyter-widgets/controls",
            "layout": "IPY_MODEL_a7ca3b88aa7d4170a868e9312af4d30c"
          }
        },
        "44343d705548433cb2413c912c8c9137": {
          "model_module": "@jupyter-widgets/controls",
          "model_name": "HTMLModel",
          "state": {
            "_view_name": "HTMLView",
            "style": "IPY_MODEL_6acf7ca0997a46bcbe951123d667a761",
            "_dom_classes": [],
            "description": "",
            "_model_name": "HTMLModel",
            "placeholder": "​",
            "_view_module": "@jupyter-widgets/controls",
            "_model_module_version": "1.5.0",
            "value": " 232k/232k [00:00&lt;00:00, 1.61MB/s]",
            "_view_count": null,
            "_view_module_version": "1.5.0",
            "description_tooltip": null,
            "_model_module": "@jupyter-widgets/controls",
            "layout": "IPY_MODEL_c219b82555ea45598414bd5915566c25"
          }
        },
        "8a19e47b81114f309b87ade75cf8c9c9": {
          "model_module": "@jupyter-widgets/controls",
          "model_name": "ProgressStyleModel",
          "state": {
            "_view_name": "StyleView",
            "_model_name": "ProgressStyleModel",
            "description_width": "initial",
            "_view_module": "@jupyter-widgets/base",
            "_model_module_version": "1.5.0",
            "_view_count": null,
            "_view_module_version": "1.2.0",
            "bar_color": null,
            "_model_module": "@jupyter-widgets/controls"
          }
        },
        "a7ca3b88aa7d4170a868e9312af4d30c": {
          "model_module": "@jupyter-widgets/base",
          "model_name": "LayoutModel",
          "state": {
            "_view_name": "LayoutView",
            "grid_template_rows": null,
            "right": null,
            "justify_content": null,
            "_view_module": "@jupyter-widgets/base",
            "overflow": null,
            "_model_module_version": "1.2.0",
            "_view_count": null,
            "flex_flow": null,
            "width": null,
            "min_width": null,
            "border": null,
            "align_items": null,
            "bottom": null,
            "_model_module": "@jupyter-widgets/base",
            "top": null,
            "grid_column": null,
            "overflow_y": null,
            "overflow_x": null,
            "grid_auto_flow": null,
            "grid_area": null,
            "grid_template_columns": null,
            "flex": null,
            "_model_name": "LayoutModel",
            "justify_items": null,
            "grid_row": null,
            "max_height": null,
            "align_content": null,
            "visibility": null,
            "align_self": null,
            "height": null,
            "min_height": null,
            "padding": null,
            "grid_auto_rows": null,
            "grid_gap": null,
            "max_width": null,
            "order": null,
            "_view_module_version": "1.2.0",
            "grid_template_areas": null,
            "object_position": null,
            "object_fit": null,
            "grid_auto_columns": null,
            "margin": null,
            "display": null,
            "left": null
          }
        },
        "6acf7ca0997a46bcbe951123d667a761": {
          "model_module": "@jupyter-widgets/controls",
          "model_name": "DescriptionStyleModel",
          "state": {
            "_view_name": "StyleView",
            "_model_name": "DescriptionStyleModel",
            "description_width": "",
            "_view_module": "@jupyter-widgets/base",
            "_model_module_version": "1.5.0",
            "_view_count": null,
            "_view_module_version": "1.2.0",
            "_model_module": "@jupyter-widgets/controls"
          }
        },
        "c219b82555ea45598414bd5915566c25": {
          "model_module": "@jupyter-widgets/base",
          "model_name": "LayoutModel",
          "state": {
            "_view_name": "LayoutView",
            "grid_template_rows": null,
            "right": null,
            "justify_content": null,
            "_view_module": "@jupyter-widgets/base",
            "overflow": null,
            "_model_module_version": "1.2.0",
            "_view_count": null,
            "flex_flow": null,
            "width": null,
            "min_width": null,
            "border": null,
            "align_items": null,
            "bottom": null,
            "_model_module": "@jupyter-widgets/base",
            "top": null,
            "grid_column": null,
            "overflow_y": null,
            "overflow_x": null,
            "grid_auto_flow": null,
            "grid_area": null,
            "grid_template_columns": null,
            "flex": null,
            "_model_name": "LayoutModel",
            "justify_items": null,
            "grid_row": null,
            "max_height": null,
            "align_content": null,
            "visibility": null,
            "align_self": null,
            "height": null,
            "min_height": null,
            "padding": null,
            "grid_auto_rows": null,
            "grid_gap": null,
            "max_width": null,
            "order": null,
            "_view_module_version": "1.2.0",
            "grid_template_areas": null,
            "object_position": null,
            "object_fit": null,
            "grid_auto_columns": null,
            "margin": null,
            "display": null,
            "left": null
          }
        },
        "85d5355afcab4498b79c505b29191702": {
          "model_module": "@jupyter-widgets/controls",
          "model_name": "HBoxModel",
          "state": {
            "_view_name": "HBoxView",
            "_dom_classes": [],
            "_model_name": "HBoxModel",
            "_view_module": "@jupyter-widgets/controls",
            "_model_module_version": "1.5.0",
            "_view_count": null,
            "_view_module_version": "1.5.0",
            "box_style": "",
            "layout": "IPY_MODEL_2475008bb627446d92bdce9ac0b82456",
            "_model_module": "@jupyter-widgets/controls",
            "children": [
              "IPY_MODEL_51859bd5007b42cc9742242c0262501d",
              "IPY_MODEL_b8cf0b31ab4648ec91fc2bc1601b7c20"
            ]
          }
        },
        "2475008bb627446d92bdce9ac0b82456": {
          "model_module": "@jupyter-widgets/base",
          "model_name": "LayoutModel",
          "state": {
            "_view_name": "LayoutView",
            "grid_template_rows": null,
            "right": null,
            "justify_content": null,
            "_view_module": "@jupyter-widgets/base",
            "overflow": null,
            "_model_module_version": "1.2.0",
            "_view_count": null,
            "flex_flow": null,
            "width": null,
            "min_width": null,
            "border": null,
            "align_items": null,
            "bottom": null,
            "_model_module": "@jupyter-widgets/base",
            "top": null,
            "grid_column": null,
            "overflow_y": null,
            "overflow_x": null,
            "grid_auto_flow": null,
            "grid_area": null,
            "grid_template_columns": null,
            "flex": null,
            "_model_name": "LayoutModel",
            "justify_items": null,
            "grid_row": null,
            "max_height": null,
            "align_content": null,
            "visibility": null,
            "align_self": null,
            "height": null,
            "min_height": null,
            "padding": null,
            "grid_auto_rows": null,
            "grid_gap": null,
            "max_width": null,
            "order": null,
            "_view_module_version": "1.2.0",
            "grid_template_areas": null,
            "object_position": null,
            "object_fit": null,
            "grid_auto_columns": null,
            "margin": null,
            "display": null,
            "left": null
          }
        },
        "51859bd5007b42cc9742242c0262501d": {
          "model_module": "@jupyter-widgets/controls",
          "model_name": "FloatProgressModel",
          "state": {
            "_view_name": "ProgressView",
            "style": "IPY_MODEL_3d97a8704fac4878aa248c4c5dfe400b",
            "_dom_classes": [],
            "description": "Downloading: 100%",
            "_model_name": "FloatProgressModel",
            "bar_style": "success",
            "max": 433,
            "_view_module": "@jupyter-widgets/controls",
            "_model_module_version": "1.5.0",
            "value": 433,
            "_view_count": null,
            "_view_module_version": "1.5.0",
            "orientation": "horizontal",
            "min": 0,
            "description_tooltip": null,
            "_model_module": "@jupyter-widgets/controls",
            "layout": "IPY_MODEL_0e9717adb1964b96a626720ef8a53573"
          }
        },
        "b8cf0b31ab4648ec91fc2bc1601b7c20": {
          "model_module": "@jupyter-widgets/controls",
          "model_name": "HTMLModel",
          "state": {
            "_view_name": "HTMLView",
            "style": "IPY_MODEL_2f17062fb6274abfaf58bdae255e3c35",
            "_dom_classes": [],
            "description": "",
            "_model_name": "HTMLModel",
            "placeholder": "​",
            "_view_module": "@jupyter-widgets/controls",
            "_model_module_version": "1.5.0",
            "value": " 433/433 [00:08&lt;00:00, 48.2B/s]",
            "_view_count": null,
            "_view_module_version": "1.5.0",
            "description_tooltip": null,
            "_model_module": "@jupyter-widgets/controls",
            "layout": "IPY_MODEL_9d1a4308738b4e04b9db412d16dadac2"
          }
        },
        "3d97a8704fac4878aa248c4c5dfe400b": {
          "model_module": "@jupyter-widgets/controls",
          "model_name": "ProgressStyleModel",
          "state": {
            "_view_name": "StyleView",
            "_model_name": "ProgressStyleModel",
            "description_width": "initial",
            "_view_module": "@jupyter-widgets/base",
            "_model_module_version": "1.5.0",
            "_view_count": null,
            "_view_module_version": "1.2.0",
            "bar_color": null,
            "_model_module": "@jupyter-widgets/controls"
          }
        },
        "0e9717adb1964b96a626720ef8a53573": {
          "model_module": "@jupyter-widgets/base",
          "model_name": "LayoutModel",
          "state": {
            "_view_name": "LayoutView",
            "grid_template_rows": null,
            "right": null,
            "justify_content": null,
            "_view_module": "@jupyter-widgets/base",
            "overflow": null,
            "_model_module_version": "1.2.0",
            "_view_count": null,
            "flex_flow": null,
            "width": null,
            "min_width": null,
            "border": null,
            "align_items": null,
            "bottom": null,
            "_model_module": "@jupyter-widgets/base",
            "top": null,
            "grid_column": null,
            "overflow_y": null,
            "overflow_x": null,
            "grid_auto_flow": null,
            "grid_area": null,
            "grid_template_columns": null,
            "flex": null,
            "_model_name": "LayoutModel",
            "justify_items": null,
            "grid_row": null,
            "max_height": null,
            "align_content": null,
            "visibility": null,
            "align_self": null,
            "height": null,
            "min_height": null,
            "padding": null,
            "grid_auto_rows": null,
            "grid_gap": null,
            "max_width": null,
            "order": null,
            "_view_module_version": "1.2.0",
            "grid_template_areas": null,
            "object_position": null,
            "object_fit": null,
            "grid_auto_columns": null,
            "margin": null,
            "display": null,
            "left": null
          }
        },
        "2f17062fb6274abfaf58bdae255e3c35": {
          "model_module": "@jupyter-widgets/controls",
          "model_name": "DescriptionStyleModel",
          "state": {
            "_view_name": "StyleView",
            "_model_name": "DescriptionStyleModel",
            "description_width": "",
            "_view_module": "@jupyter-widgets/base",
            "_model_module_version": "1.5.0",
            "_view_count": null,
            "_view_module_version": "1.2.0",
            "_model_module": "@jupyter-widgets/controls"
          }
        },
        "9d1a4308738b4e04b9db412d16dadac2": {
          "model_module": "@jupyter-widgets/base",
          "model_name": "LayoutModel",
          "state": {
            "_view_name": "LayoutView",
            "grid_template_rows": null,
            "right": null,
            "justify_content": null,
            "_view_module": "@jupyter-widgets/base",
            "overflow": null,
            "_model_module_version": "1.2.0",
            "_view_count": null,
            "flex_flow": null,
            "width": null,
            "min_width": null,
            "border": null,
            "align_items": null,
            "bottom": null,
            "_model_module": "@jupyter-widgets/base",
            "top": null,
            "grid_column": null,
            "overflow_y": null,
            "overflow_x": null,
            "grid_auto_flow": null,
            "grid_area": null,
            "grid_template_columns": null,
            "flex": null,
            "_model_name": "LayoutModel",
            "justify_items": null,
            "grid_row": null,
            "max_height": null,
            "align_content": null,
            "visibility": null,
            "align_self": null,
            "height": null,
            "min_height": null,
            "padding": null,
            "grid_auto_rows": null,
            "grid_gap": null,
            "max_width": null,
            "order": null,
            "_view_module_version": "1.2.0",
            "grid_template_areas": null,
            "object_position": null,
            "object_fit": null,
            "grid_auto_columns": null,
            "margin": null,
            "display": null,
            "left": null
          }
        },
        "bc37cf26c6f44432b811416d8a608975": {
          "model_module": "@jupyter-widgets/controls",
          "model_name": "HBoxModel",
          "state": {
            "_view_name": "HBoxView",
            "_dom_classes": [],
            "_model_name": "HBoxModel",
            "_view_module": "@jupyter-widgets/controls",
            "_model_module_version": "1.5.0",
            "_view_count": null,
            "_view_module_version": "1.5.0",
            "box_style": "",
            "layout": "IPY_MODEL_fd5a0ae700b04f7e96680ff66a015b4f",
            "_model_module": "@jupyter-widgets/controls",
            "children": [
              "IPY_MODEL_c36384243cc2401c9ce0d9fcb1174607",
              "IPY_MODEL_f6a79bf16ce84f15a78be3e224c411fa"
            ]
          }
        },
        "fd5a0ae700b04f7e96680ff66a015b4f": {
          "model_module": "@jupyter-widgets/base",
          "model_name": "LayoutModel",
          "state": {
            "_view_name": "LayoutView",
            "grid_template_rows": null,
            "right": null,
            "justify_content": null,
            "_view_module": "@jupyter-widgets/base",
            "overflow": null,
            "_model_module_version": "1.2.0",
            "_view_count": null,
            "flex_flow": null,
            "width": null,
            "min_width": null,
            "border": null,
            "align_items": null,
            "bottom": null,
            "_model_module": "@jupyter-widgets/base",
            "top": null,
            "grid_column": null,
            "overflow_y": null,
            "overflow_x": null,
            "grid_auto_flow": null,
            "grid_area": null,
            "grid_template_columns": null,
            "flex": null,
            "_model_name": "LayoutModel",
            "justify_items": null,
            "grid_row": null,
            "max_height": null,
            "align_content": null,
            "visibility": null,
            "align_self": null,
            "height": null,
            "min_height": null,
            "padding": null,
            "grid_auto_rows": null,
            "grid_gap": null,
            "max_width": null,
            "order": null,
            "_view_module_version": "1.2.0",
            "grid_template_areas": null,
            "object_position": null,
            "object_fit": null,
            "grid_auto_columns": null,
            "margin": null,
            "display": null,
            "left": null
          }
        },
        "c36384243cc2401c9ce0d9fcb1174607": {
          "model_module": "@jupyter-widgets/controls",
          "model_name": "FloatProgressModel",
          "state": {
            "_view_name": "ProgressView",
            "style": "IPY_MODEL_2d18e0ee3920421280b7d659d0f85124",
            "_dom_classes": [],
            "description": "Downloading: 100%",
            "_model_name": "FloatProgressModel",
            "bar_style": "success",
            "max": 440473133,
            "_view_module": "@jupyter-widgets/controls",
            "_model_module_version": "1.5.0",
            "value": 440473133,
            "_view_count": null,
            "_view_module_version": "1.5.0",
            "orientation": "horizontal",
            "min": 0,
            "description_tooltip": null,
            "_model_module": "@jupyter-widgets/controls",
            "layout": "IPY_MODEL_4d70d50077c24075ad5cb4c437200927"
          }
        },
        "f6a79bf16ce84f15a78be3e224c411fa": {
          "model_module": "@jupyter-widgets/controls",
          "model_name": "HTMLModel",
          "state": {
            "_view_name": "HTMLView",
            "style": "IPY_MODEL_6f4d2cdd207440fc93e898b389ba2d74",
            "_dom_classes": [],
            "description": "",
            "_model_name": "HTMLModel",
            "placeholder": "​",
            "_view_module": "@jupyter-widgets/controls",
            "_model_module_version": "1.5.0",
            "value": " 440M/440M [00:08&lt;00:00, 51.3MB/s]",
            "_view_count": null,
            "_view_module_version": "1.5.0",
            "description_tooltip": null,
            "_model_module": "@jupyter-widgets/controls",
            "layout": "IPY_MODEL_fc0451c489874e3e839698a8d2d91da8"
          }
        },
        "2d18e0ee3920421280b7d659d0f85124": {
          "model_module": "@jupyter-widgets/controls",
          "model_name": "ProgressStyleModel",
          "state": {
            "_view_name": "StyleView",
            "_model_name": "ProgressStyleModel",
            "description_width": "initial",
            "_view_module": "@jupyter-widgets/base",
            "_model_module_version": "1.5.0",
            "_view_count": null,
            "_view_module_version": "1.2.0",
            "bar_color": null,
            "_model_module": "@jupyter-widgets/controls"
          }
        },
        "4d70d50077c24075ad5cb4c437200927": {
          "model_module": "@jupyter-widgets/base",
          "model_name": "LayoutModel",
          "state": {
            "_view_name": "LayoutView",
            "grid_template_rows": null,
            "right": null,
            "justify_content": null,
            "_view_module": "@jupyter-widgets/base",
            "overflow": null,
            "_model_module_version": "1.2.0",
            "_view_count": null,
            "flex_flow": null,
            "width": null,
            "min_width": null,
            "border": null,
            "align_items": null,
            "bottom": null,
            "_model_module": "@jupyter-widgets/base",
            "top": null,
            "grid_column": null,
            "overflow_y": null,
            "overflow_x": null,
            "grid_auto_flow": null,
            "grid_area": null,
            "grid_template_columns": null,
            "flex": null,
            "_model_name": "LayoutModel",
            "justify_items": null,
            "grid_row": null,
            "max_height": null,
            "align_content": null,
            "visibility": null,
            "align_self": null,
            "height": null,
            "min_height": null,
            "padding": null,
            "grid_auto_rows": null,
            "grid_gap": null,
            "max_width": null,
            "order": null,
            "_view_module_version": "1.2.0",
            "grid_template_areas": null,
            "object_position": null,
            "object_fit": null,
            "grid_auto_columns": null,
            "margin": null,
            "display": null,
            "left": null
          }
        },
        "6f4d2cdd207440fc93e898b389ba2d74": {
          "model_module": "@jupyter-widgets/controls",
          "model_name": "DescriptionStyleModel",
          "state": {
            "_view_name": "StyleView",
            "_model_name": "DescriptionStyleModel",
            "description_width": "",
            "_view_module": "@jupyter-widgets/base",
            "_model_module_version": "1.5.0",
            "_view_count": null,
            "_view_module_version": "1.2.0",
            "_model_module": "@jupyter-widgets/controls"
          }
        },
        "fc0451c489874e3e839698a8d2d91da8": {
          "model_module": "@jupyter-widgets/base",
          "model_name": "LayoutModel",
          "state": {
            "_view_name": "LayoutView",
            "grid_template_rows": null,
            "right": null,
            "justify_content": null,
            "_view_module": "@jupyter-widgets/base",
            "overflow": null,
            "_model_module_version": "1.2.0",
            "_view_count": null,
            "flex_flow": null,
            "width": null,
            "min_width": null,
            "border": null,
            "align_items": null,
            "bottom": null,
            "_model_module": "@jupyter-widgets/base",
            "top": null,
            "grid_column": null,
            "overflow_y": null,
            "overflow_x": null,
            "grid_auto_flow": null,
            "grid_area": null,
            "grid_template_columns": null,
            "flex": null,
            "_model_name": "LayoutModel",
            "justify_items": null,
            "grid_row": null,
            "max_height": null,
            "align_content": null,
            "visibility": null,
            "align_self": null,
            "height": null,
            "min_height": null,
            "padding": null,
            "grid_auto_rows": null,
            "grid_gap": null,
            "max_width": null,
            "order": null,
            "_view_module_version": "1.2.0",
            "grid_template_areas": null,
            "object_position": null,
            "object_fit": null,
            "grid_auto_columns": null,
            "margin": null,
            "display": null,
            "left": null
          }
        }
      }
    }
  },
  "cells": [
    {
      "cell_type": "markdown",
      "metadata": {
        "id": "view-in-github",
        "colab_type": "text"
      },
      "source": [
        "<a href=\"https://colab.research.google.com/github/ayaanzhaque/SuiSense/blob/master/notebooks/BERT/workingBertModel.ipynb\" target=\"_parent\"><img src=\"https://colab.research.google.com/assets/colab-badge.svg\" alt=\"Open In Colab\"/></a>"
      ]
    },
    {
      "cell_type": "code",
      "metadata": {
        "colab_type": "code",
        "id": "To9ENLU90WGl",
        "colab": {
          "base_uri": "https://localhost:8080/",
          "height": 615
        },
        "outputId": "f9630dcc-ee76-4ae5-b201-5067027a7538"
      },
      "source": [
        "!pip install transformers"
      ],
      "execution_count": 3,
      "outputs": [
        {
          "output_type": "stream",
          "text": [
            "Collecting transformers\n",
            "\u001b[?25l  Downloading https://files.pythonhosted.org/packages/27/3c/91ed8f5c4e7ef3227b4119200fc0ed4b4fd965b1f0172021c25701087825/transformers-3.0.2-py3-none-any.whl (769kB)\n",
            "\u001b[K     |████████████████████████████████| 778kB 3.4MB/s \n",
            "\u001b[?25hRequirement already satisfied: regex!=2019.12.17 in /usr/local/lib/python3.6/dist-packages (from transformers) (2019.12.20)\n",
            "Collecting sentencepiece!=0.1.92\n",
            "\u001b[?25l  Downloading https://files.pythonhosted.org/packages/d4/a4/d0a884c4300004a78cca907a6ff9a5e9fe4f090f5d95ab341c53d28cbc58/sentencepiece-0.1.91-cp36-cp36m-manylinux1_x86_64.whl (1.1MB)\n",
            "\u001b[K     |████████████████████████████████| 1.1MB 9.7MB/s \n",
            "\u001b[?25hRequirement already satisfied: dataclasses; python_version < \"3.7\" in /usr/local/lib/python3.6/dist-packages (from transformers) (0.7)\n",
            "Requirement already satisfied: filelock in /usr/local/lib/python3.6/dist-packages (from transformers) (3.0.12)\n",
            "Requirement already satisfied: numpy in /usr/local/lib/python3.6/dist-packages (from transformers) (1.18.5)\n",
            "Requirement already satisfied: packaging in /usr/local/lib/python3.6/dist-packages (from transformers) (20.4)\n",
            "Requirement already satisfied: tqdm>=4.27 in /usr/local/lib/python3.6/dist-packages (from transformers) (4.41.1)\n",
            "Requirement already satisfied: requests in /usr/local/lib/python3.6/dist-packages (from transformers) (2.23.0)\n",
            "Collecting sacremoses\n",
            "\u001b[?25l  Downloading https://files.pythonhosted.org/packages/7d/34/09d19aff26edcc8eb2a01bed8e98f13a1537005d31e95233fd48216eed10/sacremoses-0.0.43.tar.gz (883kB)\n",
            "\u001b[K     |████████████████████████████████| 890kB 16.4MB/s \n",
            "\u001b[?25hCollecting tokenizers==0.8.1.rc1\n",
            "\u001b[?25l  Downloading https://files.pythonhosted.org/packages/40/d0/30d5f8d221a0ed981a186c8eb986ce1c94e3a6e87f994eae9f4aa5250217/tokenizers-0.8.1rc1-cp36-cp36m-manylinux1_x86_64.whl (3.0MB)\n",
            "\u001b[K     |████████████████████████████████| 3.0MB 23.6MB/s \n",
            "\u001b[?25hRequirement already satisfied: pyparsing>=2.0.2 in /usr/local/lib/python3.6/dist-packages (from packaging->transformers) (2.4.7)\n",
            "Requirement already satisfied: six in /usr/local/lib/python3.6/dist-packages (from packaging->transformers) (1.15.0)\n",
            "Requirement already satisfied: urllib3!=1.25.0,!=1.25.1,<1.26,>=1.21.1 in /usr/local/lib/python3.6/dist-packages (from requests->transformers) (1.24.3)\n",
            "Requirement already satisfied: idna<3,>=2.5 in /usr/local/lib/python3.6/dist-packages (from requests->transformers) (2.10)\n",
            "Requirement already satisfied: certifi>=2017.4.17 in /usr/local/lib/python3.6/dist-packages (from requests->transformers) (2020.6.20)\n",
            "Requirement already satisfied: chardet<4,>=3.0.2 in /usr/local/lib/python3.6/dist-packages (from requests->transformers) (3.0.4)\n",
            "Requirement already satisfied: click in /usr/local/lib/python3.6/dist-packages (from sacremoses->transformers) (7.1.2)\n",
            "Requirement already satisfied: joblib in /usr/local/lib/python3.6/dist-packages (from sacremoses->transformers) (0.16.0)\n",
            "Building wheels for collected packages: sacremoses\n",
            "  Building wheel for sacremoses (setup.py) ... \u001b[?25l\u001b[?25hdone\n",
            "  Created wheel for sacremoses: filename=sacremoses-0.0.43-cp36-none-any.whl size=893260 sha256=a42506fcf8ff7e95c5f0f8aaedbaaa7a95ffb29208451a65f9b4c3c3ad6b46e6\n",
            "  Stored in directory: /root/.cache/pip/wheels/29/3c/fd/7ce5c3f0666dab31a50123635e6fb5e19ceb42ce38d4e58f45\n",
            "Successfully built sacremoses\n",
            "Installing collected packages: sentencepiece, sacremoses, tokenizers, transformers\n",
            "Successfully installed sacremoses-0.0.43 sentencepiece-0.1.91 tokenizers-0.8.1rc1 transformers-3.0.2\n"
          ],
          "name": "stdout"
        }
      ]
    },
    {
      "cell_type": "code",
      "metadata": {
        "colab_type": "code",
        "id": "fvFvBLJV0Dkv",
        "colab": {}
      },
      "source": [
        "#importing relevant libraries\n",
        "import numpy as np\n",
        "import pandas as pd\n",
        "from sklearn.model_selection import train_test_split\n",
        "from sklearn.linear_model import LogisticRegression\n",
        "from sklearn.model_selection import GridSearchCV\n",
        "from sklearn.model_selection import cross_val_score\n",
        "from sklearn.naive_bayes import MultinomialNB\n",
        "\n",
        "import torch\n",
        "\n",
        "import nltk\n",
        "from nltk.tokenize import RegexpTokenizer\n",
        "from nltk.stem import WordNetLemmatizer\n",
        "\n",
        "import transformers as ppb\n",
        "import warnings\n",
        "warnings.filterwarnings('ignore')"
      ],
      "execution_count": 4,
      "outputs": []
    },
    {
      "cell_type": "markdown",
      "metadata": {
        "colab_type": "text",
        "id": "zQ-42fh0hjsF"
      },
      "source": [
        "## Importing the dataset\n",
        "We'll use pandas to read the dataset and load it into a dataframe."
      ]
    },
    {
      "cell_type": "code",
      "metadata": {
        "colab_type": "code",
        "id": "cyoj29J24hPX",
        "colab": {}
      },
      "source": [
        "df = pd.read_csv('https://raw.githubusercontent.com/ayaanzhaque/SuiSense/master/data/scheme1.csv')\n",
        "og_batch_1 = df[['selftext', 'New Labels']]\n",
        "\n"
      ],
      "execution_count": 5,
      "outputs": []
    },
    {
      "cell_type": "markdown",
      "metadata": {
        "colab_type": "text",
        "id": "dMVE3waNhuNj"
      },
      "source": [
        "For performance reasons, we'll only use 2,000 sentences from the dataset"
      ]
    },
    {
      "cell_type": "code",
      "metadata": {
        "colab_type": "code",
        "id": "gTM3hOHW4hUY",
        "colab": {
          "base_uri": "https://localhost:8080/",
          "height": 204
        },
        "outputId": "6049041f-af32-41fe-8910-cf9c46945ba0"
      },
      "source": [
        "#batch_1_start = og_batch_1.head(60)\n",
        "#batch_1_end = og_batch_1.tail(60)\n",
        "#test_batch_1 = pd.concat([batch_1_start, batch_1_end], ignore_index=True)\n",
        "batch_1 = og_batch_1.rename(columns={'selftext': 0, 'New Labels': 1})\n",
        "batch_1.head()"
      ],
      "execution_count": 6,
      "outputs": [
        {
          "output_type": "execute_result",
          "data": {
            "text/html": [
              "<div>\n",
              "<style scoped>\n",
              "    .dataframe tbody tr th:only-of-type {\n",
              "        vertical-align: middle;\n",
              "    }\n",
              "\n",
              "    .dataframe tbody tr th {\n",
              "        vertical-align: top;\n",
              "    }\n",
              "\n",
              "    .dataframe thead th {\n",
              "        text-align: right;\n",
              "    }\n",
              "</style>\n",
              "<table border=\"1\" class=\"dataframe\">\n",
              "  <thead>\n",
              "    <tr style=\"text-align: right;\">\n",
              "      <th></th>\n",
              "      <th>0</th>\n",
              "      <th>1</th>\n",
              "    </tr>\n",
              "  </thead>\n",
              "  <tbody>\n",
              "    <tr>\n",
              "      <th>0</th>\n",
              "      <td>We understand that most people who reply immed...</td>\n",
              "      <td>1</td>\n",
              "    </tr>\n",
              "    <tr>\n",
              "      <th>1</th>\n",
              "      <td>Welcome to /r/depression's check-in post - a p...</td>\n",
              "      <td>1</td>\n",
              "    </tr>\n",
              "    <tr>\n",
              "      <th>2</th>\n",
              "      <td>I've been feeling really depressed and lonely ...</td>\n",
              "      <td>0</td>\n",
              "    </tr>\n",
              "    <tr>\n",
              "      <th>3</th>\n",
              "      <td>I literally broke down crying and asked to go ...</td>\n",
              "      <td>0</td>\n",
              "    </tr>\n",
              "    <tr>\n",
              "      <th>4</th>\n",
              "      <td>Any kind soul want to give a depressed person ...</td>\n",
              "      <td>1</td>\n",
              "    </tr>\n",
              "  </tbody>\n",
              "</table>\n",
              "</div>"
            ],
            "text/plain": [
              "                                                   0  1\n",
              "0  We understand that most people who reply immed...  1\n",
              "1  Welcome to /r/depression's check-in post - a p...  1\n",
              "2  I've been feeling really depressed and lonely ...  0\n",
              "3  I literally broke down crying and asked to go ...  0\n",
              "4  Any kind soul want to give a depressed person ...  1"
            ]
          },
          "metadata": {
            "tags": []
          },
          "execution_count": 6
        }
      ]
    },
    {
      "cell_type": "markdown",
      "metadata": {
        "colab_type": "text",
        "id": "PRc2L89hh1Tf"
      },
      "source": [
        "We can ask pandas how many sentences are labeled as \"positive\" (value 1) and how many are labeled \"negative\" (having the value 0)"
      ]
    },
    {
      "cell_type": "code",
      "metadata": {
        "colab_type": "code",
        "id": "jGvcfcCP5xpZ",
        "colab": {
          "base_uri": "https://localhost:8080/",
          "height": 68
        },
        "outputId": "426cf719-18ff-4b32-dabf-37d17b59f05b"
      },
      "source": [
        "batch_1[1].value_counts()"
      ],
      "execution_count": 7,
      "outputs": [
        {
          "output_type": "execute_result",
          "data": {
            "text/plain": [
              "1    1446\n",
              "0     451\n",
              "Name: 1, dtype: int64"
            ]
          },
          "metadata": {
            "tags": []
          },
          "execution_count": 7
        }
      ]
    },
    {
      "cell_type": "markdown",
      "metadata": {
        "colab_type": "text",
        "id": "7_MO08_KiAOb"
      },
      "source": [
        "## Loading the Pre-trained BERT model\n",
        "Let's now load a pre-trained BERT model. "
      ]
    },
    {
      "cell_type": "code",
      "metadata": {
        "colab_type": "code",
        "id": "q1InADgf5xm2",
        "colab": {
          "base_uri": "https://localhost:8080/",
          "height": 164,
          "referenced_widgets": [
            "fd01bd27c817490f819864b4f720c9a3",
            "1849796b737442f8b23fe3d030eb4387",
            "6ca2a89b059b4bef801fe02211302d1c",
            "44343d705548433cb2413c912c8c9137",
            "8a19e47b81114f309b87ade75cf8c9c9",
            "a7ca3b88aa7d4170a868e9312af4d30c",
            "6acf7ca0997a46bcbe951123d667a761",
            "c219b82555ea45598414bd5915566c25",
            "85d5355afcab4498b79c505b29191702",
            "2475008bb627446d92bdce9ac0b82456",
            "51859bd5007b42cc9742242c0262501d",
            "b8cf0b31ab4648ec91fc2bc1601b7c20",
            "3d97a8704fac4878aa248c4c5dfe400b",
            "0e9717adb1964b96a626720ef8a53573",
            "2f17062fb6274abfaf58bdae255e3c35",
            "9d1a4308738b4e04b9db412d16dadac2",
            "bc37cf26c6f44432b811416d8a608975",
            "fd5a0ae700b04f7e96680ff66a015b4f",
            "c36384243cc2401c9ce0d9fcb1174607",
            "f6a79bf16ce84f15a78be3e224c411fa",
            "2d18e0ee3920421280b7d659d0f85124",
            "4d70d50077c24075ad5cb4c437200927",
            "6f4d2cdd207440fc93e898b389ba2d74",
            "fc0451c489874e3e839698a8d2d91da8"
          ]
        },
        "outputId": "a3d876de-eac8-4064-f97d-938debe4869c"
      },
      "source": [
        "# For DistilBERT:\n",
        "#model_class, tokenizer_class, pretrained_weights = (ppb.DistilBertModel, ppb.DistilBertTokenizer, 'distilbert-base-uncased')\n",
        "\n",
        "## Want BERT instead of distilBERT? Uncomment the following line:\n",
        "model_class, tokenizer_class, pretrained_weights = (ppb.BertModel, ppb.BertTokenizer, 'bert-base-uncased')\n",
        "\n",
        "# Load pretrained model/tokenizer\n",
        "tokenizer = tokenizer_class.from_pretrained(pretrained_weights)\n",
        "model = model_class.from_pretrained(pretrained_weights)"
      ],
      "execution_count": 8,
      "outputs": [
        {
          "output_type": "display_data",
          "data": {
            "application/vnd.jupyter.widget-view+json": {
              "model_id": "fd01bd27c817490f819864b4f720c9a3",
              "version_minor": 0,
              "version_major": 2
            },
            "text/plain": [
              "HBox(children=(FloatProgress(value=0.0, description='Downloading', max=231508.0, style=ProgressStyle(descripti…"
            ]
          },
          "metadata": {
            "tags": []
          }
        },
        {
          "output_type": "stream",
          "text": [
            "\n"
          ],
          "name": "stdout"
        },
        {
          "output_type": "display_data",
          "data": {
            "application/vnd.jupyter.widget-view+json": {
              "model_id": "85d5355afcab4498b79c505b29191702",
              "version_minor": 0,
              "version_major": 2
            },
            "text/plain": [
              "HBox(children=(FloatProgress(value=0.0, description='Downloading', max=433.0, style=ProgressStyle(description_…"
            ]
          },
          "metadata": {
            "tags": []
          }
        },
        {
          "output_type": "stream",
          "text": [
            "\n"
          ],
          "name": "stdout"
        },
        {
          "output_type": "display_data",
          "data": {
            "application/vnd.jupyter.widget-view+json": {
              "model_id": "bc37cf26c6f44432b811416d8a608975",
              "version_minor": 0,
              "version_major": 2
            },
            "text/plain": [
              "HBox(children=(FloatProgress(value=0.0, description='Downloading', max=440473133.0, style=ProgressStyle(descri…"
            ]
          },
          "metadata": {
            "tags": []
          }
        },
        {
          "output_type": "stream",
          "text": [
            "\n"
          ],
          "name": "stdout"
        }
      ]
    },
    {
      "cell_type": "markdown",
      "metadata": {
        "colab_type": "text",
        "id": "lZDBMn3wiSX6"
      },
      "source": [
        "Right now, the variable `model` holds a pretrained distilBERT model -- a version of BERT that is smaller, but much faster and requiring a lot less memory.\n",
        "\n",
        "## Model #1: Preparing the Dataset\n",
        "Before we can hand our sentences to BERT, we need to so some minimal processing to put them in the format it requires.\n",
        "\n",
        "### Tokenization\n",
        "Our first step is to tokenize the sentences -- break them up into word and subwords in the format BERT is comfortable with."
      ]
    },
    {
      "cell_type": "code",
      "metadata": {
        "colab_type": "code",
        "id": "Dg82ndBA5xlN",
        "colab": {}
      },
      "source": [
        "tokenized = batch_1[0].apply((lambda x: tokenizer.encode(x, add_special_tokens=True, truncation=True, max_length=128)))"
      ],
      "execution_count": 9,
      "outputs": []
    },
    {
      "cell_type": "code",
      "metadata": {
        "colab_type": "code",
        "id": "URn-DWJt5xhP",
        "colab": {}
      },
      "source": [
        "max_len = 0\n",
        "for i in tokenized.values:\n",
        "    if len(i) > max_len:\n",
        "        max_len = len(i)\n",
        "\n",
        "padded = np.array([i + [0]*(max_len-len(i)) for i in tokenized.values])"
      ],
      "execution_count": 10,
      "outputs": []
    },
    {
      "cell_type": "markdown",
      "metadata": {
        "colab_type": "text",
        "id": "Mdjg306wjjmL"
      },
      "source": [
        "Our dataset is now in the `padded` variable, we can view its dimensions below:"
      ]
    },
    {
      "cell_type": "code",
      "metadata": {
        "colab_type": "code",
        "id": "jdi7uXo95xeq",
        "colab": {
          "base_uri": "https://localhost:8080/",
          "height": 34
        },
        "outputId": "fa90f4ae-f347-4ee6-a79d-5409e0b78fa8"
      },
      "source": [
        "np.array(padded).shape"
      ],
      "execution_count": 11,
      "outputs": [
        {
          "output_type": "execute_result",
          "data": {
            "text/plain": [
              "(1897, 128)"
            ]
          },
          "metadata": {
            "tags": []
          },
          "execution_count": 11
        }
      ]
    },
    {
      "cell_type": "markdown",
      "metadata": {
        "colab_type": "text",
        "id": "sDZBsYSDjzDV"
      },
      "source": [
        "### Masking\n",
        "If we directly send `padded` to BERT, that would slightly confuse it. We need to create another variable to tell it to ignore (mask) the padding we've added when it's processing its input. That's what attention_mask is:"
      ]
    },
    {
      "cell_type": "code",
      "metadata": {
        "colab_type": "code",
        "id": "4K_iGRNa_Ozc",
        "colab": {
          "base_uri": "https://localhost:8080/",
          "height": 34
        },
        "outputId": "44cc8765-3e6d-48a4-afe2-bea2e3f1dc0d"
      },
      "source": [
        "attention_mask = np.where(padded != 0, 1, 0)\n",
        "attention_mask.shape"
      ],
      "execution_count": 12,
      "outputs": [
        {
          "output_type": "execute_result",
          "data": {
            "text/plain": [
              "(1897, 128)"
            ]
          },
          "metadata": {
            "tags": []
          },
          "execution_count": 12
        }
      ]
    },
    {
      "cell_type": "code",
      "metadata": {
        "colab_type": "code",
        "id": "39UVjAV56PJz",
        "colab": {}
      },
      "source": [
        "input_ids = torch.tensor(padded)  \n",
        "attention_mask = torch.tensor(attention_mask)\n",
        "\n",
        "with torch.no_grad():\n",
        "    last_hidden_states = model(input_ids, attention_mask=attention_mask)"
      ],
      "execution_count": 14,
      "outputs": []
    },
    {
      "cell_type": "code",
      "metadata": {
        "colab_type": "code",
        "id": "C9t60At16PVs",
        "colab": {
          "base_uri": "https://localhost:8080/",
          "height": 238
        },
        "outputId": "1968c237-1c3e-41d9-f67a-caab7275bff7"
      },
      "source": [
        "features = last_hidden_states[0][:,0,:].numpy()\n",
        "print(features)"
      ],
      "execution_count": 15,
      "outputs": [
        {
          "output_type": "stream",
          "text": [
            "[[ 0.15627055 -0.20722187 -0.03962998 ...  0.15881488  0.3669506\n",
            "   0.46319035]\n",
            " [-0.05789474 -0.01733885 -0.1070803  ...  0.01880805 -0.06970198\n",
            "   0.54524016]\n",
            " [ 0.19604996  0.20534162  0.24803358 ...  0.1578196   0.45455894\n",
            "  -0.4178381 ]\n",
            " ...\n",
            " [ 0.04628709  0.53464365 -0.19218428 ... -0.3401183   0.7708875\n",
            "   0.6021303 ]\n",
            " [ 0.247009    0.28108364  0.2101751  ... -0.19128986  0.26677406\n",
            "  -0.13201515]\n",
            " [ 0.16641271  0.16862686  0.03572455 ... -0.15101437  0.5139445\n",
            "   0.24030793]]\n"
          ],
          "name": "stdout"
        }
      ]
    },
    {
      "cell_type": "markdown",
      "metadata": {
        "colab_type": "text",
        "id": "_VZVU66Gurr-"
      },
      "source": [
        "The labels indicating which sentence is positive and negative now go into the `labels` variable"
      ]
    },
    {
      "cell_type": "code",
      "metadata": {
        "colab_type": "code",
        "id": "JD3fX2yh6PTx",
        "colab": {
          "base_uri": "https://localhost:8080/",
          "height": 119
        },
        "outputId": "22459efe-1315-4467-9b53-3490cf8913c2"
      },
      "source": [
        "labels = batch_1[1]\n",
        "labels.head()"
      ],
      "execution_count": 16,
      "outputs": [
        {
          "output_type": "execute_result",
          "data": {
            "text/plain": [
              "0    1\n",
              "1    1\n",
              "2    0\n",
              "3    0\n",
              "4    1\n",
              "Name: 1, dtype: int64"
            ]
          },
          "metadata": {
            "tags": []
          },
          "execution_count": 16
        }
      ]
    },
    {
      "cell_type": "markdown",
      "metadata": {
        "colab_type": "text",
        "id": "iaoEvM2evRx1"
      },
      "source": [
        "## Model #2: Train/Test Split\n",
        "Let's now split our datset into a training set and testing set (even though we're using 2,000 sentences from the SST2 training set)."
      ]
    },
    {
      "cell_type": "code",
      "metadata": {
        "colab_type": "code",
        "id": "ddAqbkoU6PP9",
        "colab": {}
      },
      "source": [
        "train_features, test_features, train_labels, test_labels = train_test_split(features, labels, test_size=0.25, random_state=42, stratify=labels)"
      ],
      "execution_count": 17,
      "outputs": []
    },
    {
      "cell_type": "code",
      "metadata": {
        "colab_type": "code",
        "id": "cyEwr7yYD3Ci",
        "colab": {}
      },
      "source": [
        "# parameters = {'C': np.linspace(0.0001, 100, 20)}\n",
        "# grid_search = GridSearchCV(LogisticRegression(), parameters)\n",
        "# grid_search.fit(train_features, train_labels)\n",
        "\n",
        "# print('best parameters: ', grid_search.best_params_)\n",
        "# print('best scrores: ', grid_search.best_score_)"
      ],
      "execution_count": 18,
      "outputs": []
    },
    {
      "cell_type": "markdown",
      "metadata": {
        "colab_type": "text",
        "id": "KCT9u8vAwnID"
      },
      "source": [
        "We now train the LogisticRegression model. If you've chosen to do the gridsearch, you can plug the value of C into the model declaration (e.g. `LogisticRegression(C=5.2)`)."
      ]
    },
    {
      "cell_type": "code",
      "metadata": {
        "colab_type": "code",
        "id": "gG-EVWx4CzBc",
        "colab": {
          "base_uri": "https://localhost:8080/",
          "height": 1000
        },
        "outputId": "543c3585-7d27-4f7f-e0e6-ef66ab30bc57"
      },
      "source": [
        "from keras.models import Sequential\n",
        "from keras import layers\n",
        "from keras.layers import Dense, Activation, Embedding, Flatten, GlobalMaxPool1D, Dropout, Conv1D\n",
        "from keras.callbacks import ModelCheckpoint\n",
        "\n",
        "model3 = Sequential()\n",
        "model3.add(Dense(1, activation='sigmoid'))\n",
        "\n",
        "model3.add(Dense(10, activation='relu'))\n",
        "model3.add(Dense(1, activation='sigmoid'))\n",
        "\n",
        "model3.compile(optimizer='adam',\n",
        "              loss='binary_crossentropy',\n",
        "              metrics=['accuracy'])\n",
        "\n",
        "\n",
        "checkpoint = ModelCheckpoint('/content/bertmodel.h5', verbose=1, monitor='val_loss',save_best_only=True, mode='auto')  \n",
        "\n",
        "\n",
        "history = model3.fit(train_features, train_labels, batch_size=32, epochs=100, verbose=1, callbacks=[checkpoint], validation_data=(test_features, test_labels))"
      ],
      "execution_count": 28,
      "outputs": [
        {
          "output_type": "stream",
          "text": [
            "Epoch 1/100\n",
            "45/45 [==============================] - ETA: 0s - loss: 0.5892 - accuracy: 0.7623\n",
            "Epoch 00001: val_loss improved from inf to 0.56322, saving model to /content/bertmodel.h5\n",
            "45/45 [==============================] - 0s 4ms/step - loss: 0.5892 - accuracy: 0.7623 - val_loss: 0.5632 - val_accuracy: 0.7621\n",
            "Epoch 2/100\n",
            "42/45 [===========================>..] - ETA: 0s - loss: 0.5586 - accuracy: 0.7604\n",
            "Epoch 00002: val_loss improved from 0.56322 to 0.55202, saving model to /content/bertmodel.h5\n",
            "45/45 [==============================] - 0s 2ms/step - loss: 0.5565 - accuracy: 0.7623 - val_loss: 0.5520 - val_accuracy: 0.7621\n",
            "Epoch 3/100\n",
            "42/45 [===========================>..] - ETA: 0s - loss: 0.5458 - accuracy: 0.7664\n",
            "Epoch 00003: val_loss improved from 0.55202 to 0.54779, saving model to /content/bertmodel.h5\n",
            "45/45 [==============================] - 0s 2ms/step - loss: 0.5500 - accuracy: 0.7623 - val_loss: 0.5478 - val_accuracy: 0.7621\n",
            "Epoch 4/100\n",
            "39/45 [=========================>....] - ETA: 0s - loss: 0.5379 - accuracy: 0.7644\n",
            "Epoch 00004: val_loss improved from 0.54779 to 0.52327, saving model to /content/bertmodel.h5\n",
            "45/45 [==============================] - 0s 2ms/step - loss: 0.5378 - accuracy: 0.7623 - val_loss: 0.5233 - val_accuracy: 0.7621\n",
            "Epoch 5/100\n",
            " 1/45 [..............................] - ETA: 0s - loss: 0.4611 - accuracy: 0.8438\n",
            "Epoch 00005: val_loss improved from 0.52327 to 0.50526, saving model to /content/bertmodel.h5\n",
            "45/45 [==============================] - 0s 2ms/step - loss: 0.5145 - accuracy: 0.7623 - val_loss: 0.5053 - val_accuracy: 0.7621\n",
            "Epoch 6/100\n",
            " 1/45 [..............................] - ETA: 0s - loss: 0.4666 - accuracy: 0.8125\n",
            "Epoch 00006: val_loss improved from 0.50526 to 0.49532, saving model to /content/bertmodel.h5\n",
            "45/45 [==============================] - 0s 2ms/step - loss: 0.5000 - accuracy: 0.7623 - val_loss: 0.4953 - val_accuracy: 0.7621\n",
            "Epoch 7/100\n",
            " 1/45 [..............................] - ETA: 0s - loss: 0.4286 - accuracy: 0.8125\n",
            "Epoch 00007: val_loss improved from 0.49532 to 0.48654, saving model to /content/bertmodel.h5\n",
            "45/45 [==============================] - 0s 2ms/step - loss: 0.4900 - accuracy: 0.7623 - val_loss: 0.4865 - val_accuracy: 0.7621\n",
            "Epoch 8/100\n",
            " 1/45 [..............................] - ETA: 0s - loss: 0.5151 - accuracy: 0.6875\n",
            "Epoch 00008: val_loss improved from 0.48654 to 0.48218, saving model to /content/bertmodel.h5\n",
            "45/45 [==============================] - 0s 2ms/step - loss: 0.4811 - accuracy: 0.7623 - val_loss: 0.4822 - val_accuracy: 0.7621\n",
            "Epoch 9/100\n",
            " 1/45 [..............................] - ETA: 0s - loss: 0.5949 - accuracy: 0.6562\n",
            "Epoch 00009: val_loss improved from 0.48218 to 0.47671, saving model to /content/bertmodel.h5\n",
            "45/45 [==============================] - 0s 2ms/step - loss: 0.4753 - accuracy: 0.7623 - val_loss: 0.4767 - val_accuracy: 0.7621\n",
            "Epoch 10/100\n",
            "42/45 [===========================>..] - ETA: 0s - loss: 0.4752 - accuracy: 0.7567\n",
            "Epoch 00010: val_loss improved from 0.47671 to 0.47142, saving model to /content/bertmodel.h5\n",
            "45/45 [==============================] - 0s 2ms/step - loss: 0.4695 - accuracy: 0.7623 - val_loss: 0.4714 - val_accuracy: 0.7621\n",
            "Epoch 11/100\n",
            " 1/45 [..............................] - ETA: 0s - loss: 0.4024 - accuracy: 0.7812\n",
            "Epoch 00011: val_loss improved from 0.47142 to 0.46833, saving model to /content/bertmodel.h5\n",
            "45/45 [==============================] - 0s 2ms/step - loss: 0.4645 - accuracy: 0.7623 - val_loss: 0.4683 - val_accuracy: 0.7621\n",
            "Epoch 12/100\n",
            " 1/45 [..............................] - ETA: 0s - loss: 0.4699 - accuracy: 0.7188\n",
            "Epoch 00012: val_loss improved from 0.46833 to 0.46337, saving model to /content/bertmodel.h5\n",
            "45/45 [==============================] - 0s 2ms/step - loss: 0.4593 - accuracy: 0.7623 - val_loss: 0.4634 - val_accuracy: 0.7621\n",
            "Epoch 13/100\n",
            "42/45 [===========================>..] - ETA: 0s - loss: 0.4474 - accuracy: 0.7686\n",
            "Epoch 00013: val_loss improved from 0.46337 to 0.45977, saving model to /content/bertmodel.h5\n",
            "45/45 [==============================] - 0s 3ms/step - loss: 0.4526 - accuracy: 0.7623 - val_loss: 0.4598 - val_accuracy: 0.7621\n",
            "Epoch 14/100\n",
            " 1/45 [..............................] - ETA: 0s - loss: 0.3387 - accuracy: 0.8750\n",
            "Epoch 00014: val_loss improved from 0.45977 to 0.45442, saving model to /content/bertmodel.h5\n",
            "45/45 [==============================] - 0s 2ms/step - loss: 0.4471 - accuracy: 0.7623 - val_loss: 0.4544 - val_accuracy: 0.7621\n",
            "Epoch 15/100\n",
            " 1/45 [..............................] - ETA: 0s - loss: 0.4568 - accuracy: 0.6875\n",
            "Epoch 00015: val_loss improved from 0.45442 to 0.45086, saving model to /content/bertmodel.h5\n",
            "45/45 [==============================] - 0s 2ms/step - loss: 0.4423 - accuracy: 0.7623 - val_loss: 0.4509 - val_accuracy: 0.7621\n",
            "Epoch 16/100\n",
            "45/45 [==============================] - ETA: 0s - loss: 0.4356 - accuracy: 0.7623\n",
            "Epoch 00016: val_loss improved from 0.45086 to 0.44823, saving model to /content/bertmodel.h5\n",
            "45/45 [==============================] - 0s 2ms/step - loss: 0.4356 - accuracy: 0.7623 - val_loss: 0.4482 - val_accuracy: 0.7621\n",
            "Epoch 17/100\n",
            "41/45 [==========================>...] - ETA: 0s - loss: 0.4335 - accuracy: 0.7591\n",
            "Epoch 00017: val_loss improved from 0.44823 to 0.44502, saving model to /content/bertmodel.h5\n",
            "45/45 [==============================] - 0s 3ms/step - loss: 0.4316 - accuracy: 0.7623 - val_loss: 0.4450 - val_accuracy: 0.7621\n",
            "Epoch 18/100\n",
            " 1/45 [..............................] - ETA: 0s - loss: 0.4379 - accuracy: 0.7188\n",
            "Epoch 00018: val_loss did not improve from 0.44502\n",
            "45/45 [==============================] - 0s 2ms/step - loss: 0.4286 - accuracy: 0.7623 - val_loss: 0.4455 - val_accuracy: 0.7621\n",
            "Epoch 19/100\n",
            " 1/45 [..............................] - ETA: 0s - loss: 0.4170 - accuracy: 0.7188\n",
            "Epoch 00019: val_loss improved from 0.44502 to 0.43739, saving model to /content/bertmodel.h5\n",
            "45/45 [==============================] - 0s 2ms/step - loss: 0.4221 - accuracy: 0.7623 - val_loss: 0.4374 - val_accuracy: 0.7621\n",
            "Epoch 20/100\n",
            " 1/45 [..............................] - ETA: 0s - loss: 0.5147 - accuracy: 0.6250\n",
            "Epoch 00020: val_loss improved from 0.43739 to 0.43604, saving model to /content/bertmodel.h5\n",
            "45/45 [==============================] - 0s 2ms/step - loss: 0.4152 - accuracy: 0.7623 - val_loss: 0.4360 - val_accuracy: 0.7621\n",
            "Epoch 21/100\n",
            "44/45 [============================>.] - ETA: 0s - loss: 0.4106 - accuracy: 0.7628\n",
            "Epoch 00021: val_loss improved from 0.43604 to 0.43310, saving model to /content/bertmodel.h5\n",
            "45/45 [==============================] - 0s 2ms/step - loss: 0.4103 - accuracy: 0.7623 - val_loss: 0.4331 - val_accuracy: 0.7621\n",
            "Epoch 22/100\n",
            " 1/45 [..............................] - ETA: 0s - loss: 0.3369 - accuracy: 0.7812\n",
            "Epoch 00022: val_loss improved from 0.43310 to 0.43223, saving model to /content/bertmodel.h5\n",
            "45/45 [==============================] - 0s 2ms/step - loss: 0.4058 - accuracy: 0.7757 - val_loss: 0.4322 - val_accuracy: 0.7768\n",
            "Epoch 23/100\n",
            " 1/45 [..............................] - ETA: 0s - loss: 0.3874 - accuracy: 0.7812\n",
            "Epoch 00023: val_loss did not improve from 0.43223\n",
            "45/45 [==============================] - 0s 2ms/step - loss: 0.4036 - accuracy: 0.7904 - val_loss: 0.4390 - val_accuracy: 0.7768\n",
            "Epoch 24/100\n",
            " 1/45 [..............................] - ETA: 0s - loss: 0.3851 - accuracy: 0.7188\n",
            "Epoch 00024: val_loss improved from 0.43223 to 0.43193, saving model to /content/bertmodel.h5\n",
            "45/45 [==============================] - 0s 2ms/step - loss: 0.3989 - accuracy: 0.7876 - val_loss: 0.4319 - val_accuracy: 0.7811\n",
            "Epoch 25/100\n",
            " 1/45 [..............................] - ETA: 0s - loss: 0.5073 - accuracy: 0.8438\n",
            "Epoch 00025: val_loss did not improve from 0.43193\n",
            "45/45 [==============================] - 0s 2ms/step - loss: 0.3924 - accuracy: 0.8066 - val_loss: 0.4376 - val_accuracy: 0.7811\n",
            "Epoch 26/100\n",
            " 1/45 [..............................] - ETA: 0s - loss: 0.4686 - accuracy: 0.8438\n",
            "Epoch 00026: val_loss did not improve from 0.43193\n",
            "45/45 [==============================] - 0s 2ms/step - loss: 0.3917 - accuracy: 0.8003 - val_loss: 0.4365 - val_accuracy: 0.7811\n",
            "Epoch 27/100\n",
            " 1/45 [..............................] - ETA: 0s - loss: 0.3288 - accuracy: 0.8438\n",
            "Epoch 00027: val_loss did not improve from 0.43193\n",
            "45/45 [==============================] - 0s 2ms/step - loss: 0.3883 - accuracy: 0.8003 - val_loss: 0.4336 - val_accuracy: 0.7853\n",
            "Epoch 28/100\n",
            " 1/45 [..............................] - ETA: 0s - loss: 0.3307 - accuracy: 0.8125\n",
            "Epoch 00028: val_loss improved from 0.43193 to 0.42991, saving model to /content/bertmodel.h5\n",
            "45/45 [==============================] - 0s 2ms/step - loss: 0.3811 - accuracy: 0.8045 - val_loss: 0.4299 - val_accuracy: 0.7747\n",
            "Epoch 29/100\n",
            " 1/45 [..............................] - ETA: 0s - loss: 0.4315 - accuracy: 0.7812\n",
            "Epoch 00029: val_loss did not improve from 0.42991\n",
            "45/45 [==============================] - 0s 2ms/step - loss: 0.3800 - accuracy: 0.8094 - val_loss: 0.4329 - val_accuracy: 0.7811\n",
            "Epoch 30/100\n",
            " 1/45 [..............................] - ETA: 0s - loss: 0.5443 - accuracy: 0.6875\n",
            "Epoch 00030: val_loss did not improve from 0.42991\n",
            "45/45 [==============================] - 0s 2ms/step - loss: 0.3744 - accuracy: 0.8150 - val_loss: 0.4335 - val_accuracy: 0.7768\n",
            "Epoch 31/100\n",
            " 1/45 [..............................] - ETA: 0s - loss: 0.4149 - accuracy: 0.8438\n",
            "Epoch 00031: val_loss did not improve from 0.42991\n",
            "45/45 [==============================] - 0s 2ms/step - loss: 0.3710 - accuracy: 0.8200 - val_loss: 0.4345 - val_accuracy: 0.7705\n",
            "Epoch 32/100\n",
            "44/45 [============================>.] - ETA: 0s - loss: 0.3672 - accuracy: 0.8210\n",
            "Epoch 00032: val_loss did not improve from 0.42991\n",
            "45/45 [==============================] - 0s 2ms/step - loss: 0.3687 - accuracy: 0.8193 - val_loss: 0.4332 - val_accuracy: 0.7747\n",
            "Epoch 33/100\n",
            " 1/45 [..............................] - ETA: 0s - loss: 0.3916 - accuracy: 0.7500\n",
            "Epoch 00033: val_loss did not improve from 0.42991\n",
            "45/45 [==============================] - 0s 2ms/step - loss: 0.3670 - accuracy: 0.8263 - val_loss: 0.4406 - val_accuracy: 0.7726\n",
            "Epoch 34/100\n",
            " 1/45 [..............................] - ETA: 0s - loss: 0.3432 - accuracy: 0.7812\n",
            "Epoch 00034: val_loss did not improve from 0.42991\n",
            "45/45 [==============================] - 0s 2ms/step - loss: 0.3628 - accuracy: 0.8242 - val_loss: 0.4377 - val_accuracy: 0.7726\n",
            "Epoch 35/100\n",
            " 1/45 [..............................] - ETA: 0s - loss: 0.3952 - accuracy: 0.8125\n",
            "Epoch 00035: val_loss did not improve from 0.42991\n",
            "45/45 [==============================] - 0s 2ms/step - loss: 0.3585 - accuracy: 0.8354 - val_loss: 0.4484 - val_accuracy: 0.7768\n",
            "Epoch 36/100\n",
            " 1/45 [..............................] - ETA: 0s - loss: 0.3199 - accuracy: 0.7500\n",
            "Epoch 00036: val_loss did not improve from 0.42991\n",
            "45/45 [==============================] - 0s 2ms/step - loss: 0.3535 - accuracy: 0.8284 - val_loss: 0.4349 - val_accuracy: 0.7853\n",
            "Epoch 37/100\n",
            " 1/45 [..............................] - ETA: 0s - loss: 0.4084 - accuracy: 0.7500\n",
            "Epoch 00037: val_loss did not improve from 0.42991\n",
            "45/45 [==============================] - 0s 2ms/step - loss: 0.3507 - accuracy: 0.8319 - val_loss: 0.4542 - val_accuracy: 0.7789\n",
            "Epoch 38/100\n",
            " 1/45 [..............................] - ETA: 0s - loss: 0.3123 - accuracy: 0.7812\n",
            "Epoch 00038: val_loss did not improve from 0.42991\n",
            "45/45 [==============================] - 0s 2ms/step - loss: 0.3479 - accuracy: 0.8418 - val_loss: 0.4434 - val_accuracy: 0.7747\n",
            "Epoch 39/100\n",
            " 1/45 [..............................] - ETA: 0s - loss: 0.3466 - accuracy: 0.8125\n",
            "Epoch 00039: val_loss did not improve from 0.42991\n",
            "45/45 [==============================] - 0s 1ms/step - loss: 0.3432 - accuracy: 0.8432 - val_loss: 0.4457 - val_accuracy: 0.7768\n",
            "Epoch 40/100\n",
            "44/45 [============================>.] - ETA: 0s - loss: 0.3450 - accuracy: 0.8423\n",
            "Epoch 00040: val_loss did not improve from 0.42991\n",
            "45/45 [==============================] - 0s 2ms/step - loss: 0.3431 - accuracy: 0.8439 - val_loss: 0.4584 - val_accuracy: 0.7768\n",
            "Epoch 41/100\n",
            "45/45 [==============================] - ETA: 0s - loss: 0.3362 - accuracy: 0.8425\n",
            "Epoch 00041: val_loss did not improve from 0.42991\n",
            "45/45 [==============================] - 0s 2ms/step - loss: 0.3362 - accuracy: 0.8425 - val_loss: 0.4420 - val_accuracy: 0.7705\n",
            "Epoch 42/100\n",
            " 1/45 [..............................] - ETA: 0s - loss: 0.2894 - accuracy: 0.9375\n",
            "Epoch 00042: val_loss did not improve from 0.42991\n",
            "45/45 [==============================] - 0s 2ms/step - loss: 0.3395 - accuracy: 0.8397 - val_loss: 0.4435 - val_accuracy: 0.7684\n",
            "Epoch 43/100\n",
            " 1/45 [..............................] - ETA: 0s - loss: 0.3584 - accuracy: 0.8125\n",
            "Epoch 00043: val_loss did not improve from 0.42991\n",
            "45/45 [==============================] - 0s 2ms/step - loss: 0.3327 - accuracy: 0.8502 - val_loss: 0.4453 - val_accuracy: 0.7747\n",
            "Epoch 44/100\n",
            " 1/45 [..............................] - ETA: 0s - loss: 0.2774 - accuracy: 0.8750\n",
            "Epoch 00044: val_loss did not improve from 0.42991\n",
            "45/45 [==============================] - 0s 1ms/step - loss: 0.3288 - accuracy: 0.8474 - val_loss: 0.4485 - val_accuracy: 0.7811\n",
            "Epoch 45/100\n",
            " 1/45 [..............................] - ETA: 0s - loss: 0.2991 - accuracy: 0.8438\n",
            "Epoch 00045: val_loss did not improve from 0.42991\n",
            "45/45 [==============================] - 0s 2ms/step - loss: 0.3271 - accuracy: 0.8516 - val_loss: 0.4489 - val_accuracy: 0.7747\n",
            "Epoch 46/100\n",
            " 1/45 [..............................] - ETA: 0s - loss: 0.3076 - accuracy: 0.9062\n",
            "Epoch 00046: val_loss did not improve from 0.42991\n",
            "45/45 [==============================] - 0s 2ms/step - loss: 0.3214 - accuracy: 0.8558 - val_loss: 0.4524 - val_accuracy: 0.7789\n",
            "Epoch 47/100\n",
            " 1/45 [..............................] - ETA: 0s - loss: 0.2486 - accuracy: 0.9062\n",
            "Epoch 00047: val_loss did not improve from 0.42991\n",
            "45/45 [==============================] - 0s 2ms/step - loss: 0.3362 - accuracy: 0.8376 - val_loss: 0.4741 - val_accuracy: 0.7789\n",
            "Epoch 48/100\n",
            "43/45 [===========================>..] - ETA: 0s - loss: 0.3172 - accuracy: 0.8583\n",
            "Epoch 00048: val_loss did not improve from 0.42991\n",
            "45/45 [==============================] - 0s 2ms/step - loss: 0.3170 - accuracy: 0.8586 - val_loss: 0.4647 - val_accuracy: 0.7705\n",
            "Epoch 49/100\n",
            "44/45 [============================>.] - ETA: 0s - loss: 0.3170 - accuracy: 0.8580\n",
            "Epoch 00049: val_loss did not improve from 0.42991\n",
            "45/45 [==============================] - 0s 2ms/step - loss: 0.3158 - accuracy: 0.8594 - val_loss: 0.4657 - val_accuracy: 0.7747\n",
            "Epoch 50/100\n",
            " 1/45 [..............................] - ETA: 0s - loss: 0.2434 - accuracy: 0.9375\n",
            "Epoch 00050: val_loss did not improve from 0.42991\n",
            "45/45 [==============================] - 0s 2ms/step - loss: 0.3127 - accuracy: 0.8629 - val_loss: 0.4638 - val_accuracy: 0.7768\n",
            "Epoch 51/100\n",
            " 1/45 [..............................] - ETA: 0s - loss: 0.2461 - accuracy: 0.9062\n",
            "Epoch 00051: val_loss did not improve from 0.42991\n",
            "45/45 [==============================] - 0s 2ms/step - loss: 0.3122 - accuracy: 0.8586 - val_loss: 0.4635 - val_accuracy: 0.7747\n",
            "Epoch 52/100\n",
            " 1/45 [..............................] - ETA: 0s - loss: 0.2003 - accuracy: 0.9688\n",
            "Epoch 00052: val_loss did not improve from 0.42991\n",
            "45/45 [==============================] - 0s 1ms/step - loss: 0.3077 - accuracy: 0.8636 - val_loss: 0.4620 - val_accuracy: 0.7684\n",
            "Epoch 53/100\n",
            " 1/45 [..............................] - ETA: 0s - loss: 0.1932 - accuracy: 0.9062\n",
            "Epoch 00053: val_loss did not improve from 0.42991\n",
            "45/45 [==============================] - 0s 2ms/step - loss: 0.3039 - accuracy: 0.8699 - val_loss: 0.4889 - val_accuracy: 0.7789\n",
            "Epoch 54/100\n",
            " 1/45 [..............................] - ETA: 0s - loss: 0.3138 - accuracy: 0.8750\n",
            "Epoch 00054: val_loss did not improve from 0.42991\n",
            "45/45 [==============================] - 0s 2ms/step - loss: 0.3097 - accuracy: 0.8572 - val_loss: 0.5127 - val_accuracy: 0.7811\n",
            "Epoch 55/100\n",
            " 1/45 [..............................] - ETA: 0s - loss: 0.2904 - accuracy: 0.8750\n",
            "Epoch 00055: val_loss did not improve from 0.42991\n",
            "45/45 [==============================] - 0s 2ms/step - loss: 0.2998 - accuracy: 0.8706 - val_loss: 0.4960 - val_accuracy: 0.7811\n",
            "Epoch 56/100\n",
            " 1/45 [..............................] - ETA: 0s - loss: 0.3629 - accuracy: 0.7812\n",
            "Epoch 00056: val_loss did not improve from 0.42991\n",
            "45/45 [==============================] - 0s 2ms/step - loss: 0.2982 - accuracy: 0.8678 - val_loss: 0.4877 - val_accuracy: 0.7747\n",
            "Epoch 57/100\n",
            "45/45 [==============================] - ETA: 0s - loss: 0.2959 - accuracy: 0.8727\n",
            "Epoch 00057: val_loss did not improve from 0.42991\n",
            "45/45 [==============================] - 0s 2ms/step - loss: 0.2959 - accuracy: 0.8727 - val_loss: 0.4709 - val_accuracy: 0.7516\n",
            "Epoch 58/100\n",
            " 1/45 [..............................] - ETA: 0s - loss: 0.2776 - accuracy: 0.9375\n",
            "Epoch 00058: val_loss did not improve from 0.42991\n",
            "45/45 [==============================] - 0s 2ms/step - loss: 0.2973 - accuracy: 0.8650 - val_loss: 0.4773 - val_accuracy: 0.7705\n",
            "Epoch 59/100\n",
            " 1/45 [..............................] - ETA: 0s - loss: 0.1829 - accuracy: 0.9375\n",
            "Epoch 00059: val_loss did not improve from 0.42991\n",
            "45/45 [==============================] - 0s 2ms/step - loss: 0.2946 - accuracy: 0.8713 - val_loss: 0.4849 - val_accuracy: 0.7663\n",
            "Epoch 60/100\n",
            "41/45 [==========================>...] - ETA: 0s - loss: 0.2855 - accuracy: 0.8811\n",
            "Epoch 00060: val_loss did not improve from 0.42991\n",
            "45/45 [==============================] - 0s 2ms/step - loss: 0.2875 - accuracy: 0.8833 - val_loss: 0.4918 - val_accuracy: 0.7768\n",
            "Epoch 61/100\n",
            " 1/45 [..............................] - ETA: 0s - loss: 0.2462 - accuracy: 0.9375\n",
            "Epoch 00061: val_loss did not improve from 0.42991\n",
            "45/45 [==============================] - 0s 2ms/step - loss: 0.2837 - accuracy: 0.8805 - val_loss: 0.4973 - val_accuracy: 0.7747\n",
            "Epoch 62/100\n",
            " 1/45 [..............................] - ETA: 0s - loss: 0.3243 - accuracy: 0.8750\n",
            "Epoch 00062: val_loss did not improve from 0.42991\n",
            "45/45 [==============================] - 0s 2ms/step - loss: 0.2868 - accuracy: 0.8769 - val_loss: 0.4796 - val_accuracy: 0.7537\n",
            "Epoch 63/100\n",
            "45/45 [==============================] - ETA: 0s - loss: 0.2838 - accuracy: 0.8769\n",
            "Epoch 00063: val_loss did not improve from 0.42991\n",
            "45/45 [==============================] - 0s 2ms/step - loss: 0.2838 - accuracy: 0.8769 - val_loss: 0.4866 - val_accuracy: 0.7663\n",
            "Epoch 64/100\n",
            "45/45 [==============================] - ETA: 0s - loss: 0.2795 - accuracy: 0.8805\n",
            "Epoch 00064: val_loss did not improve from 0.42991\n",
            "45/45 [==============================] - 0s 2ms/step - loss: 0.2795 - accuracy: 0.8805 - val_loss: 0.5108 - val_accuracy: 0.7747\n",
            "Epoch 65/100\n",
            " 1/45 [..............................] - ETA: 0s - loss: 0.3602 - accuracy: 0.7812\n",
            "Epoch 00065: val_loss did not improve from 0.42991\n",
            "45/45 [==============================] - 0s 2ms/step - loss: 0.2762 - accuracy: 0.8840 - val_loss: 0.4899 - val_accuracy: 0.7579\n",
            "Epoch 66/100\n",
            " 1/45 [..............................] - ETA: 0s - loss: 0.2366 - accuracy: 0.9375\n",
            "Epoch 00066: val_loss did not improve from 0.42991\n",
            "45/45 [==============================] - 0s 2ms/step - loss: 0.2741 - accuracy: 0.8861 - val_loss: 0.5131 - val_accuracy: 0.7768\n",
            "Epoch 67/100\n",
            "38/45 [========================>.....] - ETA: 0s - loss: 0.2793 - accuracy: 0.8766\n",
            "Epoch 00067: val_loss did not improve from 0.42991\n",
            "45/45 [==============================] - 0s 2ms/step - loss: 0.2764 - accuracy: 0.8762 - val_loss: 0.5225 - val_accuracy: 0.7726\n",
            "Epoch 68/100\n",
            " 1/45 [..............................] - ETA: 0s - loss: 0.3475 - accuracy: 0.8750\n",
            "Epoch 00068: val_loss did not improve from 0.42991\n",
            "45/45 [==============================] - 0s 2ms/step - loss: 0.2726 - accuracy: 0.8840 - val_loss: 0.5119 - val_accuracy: 0.7726\n",
            "Epoch 69/100\n",
            " 1/45 [..............................] - ETA: 0s - loss: 0.1541 - accuracy: 0.9688\n",
            "Epoch 00069: val_loss did not improve from 0.42991\n",
            "45/45 [==============================] - 0s 2ms/step - loss: 0.2720 - accuracy: 0.8882 - val_loss: 0.5078 - val_accuracy: 0.7642\n",
            "Epoch 70/100\n",
            " 1/45 [..............................] - ETA: 0s - loss: 0.2782 - accuracy: 0.8750\n",
            "Epoch 00070: val_loss did not improve from 0.42991\n",
            "45/45 [==============================] - 0s 2ms/step - loss: 0.2671 - accuracy: 0.8896 - val_loss: 0.5216 - val_accuracy: 0.7789\n",
            "Epoch 71/100\n",
            " 1/45 [..............................] - ETA: 0s - loss: 0.2640 - accuracy: 0.8750\n",
            "Epoch 00071: val_loss did not improve from 0.42991\n",
            "45/45 [==============================] - 0s 2ms/step - loss: 0.2655 - accuracy: 0.8861 - val_loss: 0.5118 - val_accuracy: 0.7600\n",
            "Epoch 72/100\n",
            " 1/45 [..............................] - ETA: 0s - loss: 0.1976 - accuracy: 0.9375\n",
            "Epoch 00072: val_loss did not improve from 0.42991\n",
            "45/45 [==============================] - 0s 2ms/step - loss: 0.2663 - accuracy: 0.8875 - val_loss: 0.5022 - val_accuracy: 0.7558\n",
            "Epoch 73/100\n",
            " 1/45 [..............................] - ETA: 0s - loss: 0.3149 - accuracy: 0.9062\n",
            "Epoch 00073: val_loss did not improve from 0.42991\n",
            "45/45 [==============================] - 0s 2ms/step - loss: 0.2697 - accuracy: 0.8868 - val_loss: 0.5472 - val_accuracy: 0.7705\n",
            "Epoch 74/100\n",
            " 1/45 [..............................] - ETA: 0s - loss: 0.1983 - accuracy: 0.9062\n",
            "Epoch 00074: val_loss did not improve from 0.42991\n",
            "45/45 [==============================] - 0s 2ms/step - loss: 0.2669 - accuracy: 0.8861 - val_loss: 0.5315 - val_accuracy: 0.7705\n",
            "Epoch 75/100\n",
            " 1/45 [..............................] - ETA: 0s - loss: 0.2422 - accuracy: 0.9688\n",
            "Epoch 00075: val_loss did not improve from 0.42991\n",
            "45/45 [==============================] - 0s 2ms/step - loss: 0.2627 - accuracy: 0.8882 - val_loss: 0.5099 - val_accuracy: 0.7516\n",
            "Epoch 76/100\n",
            " 1/45 [..............................] - ETA: 0s - loss: 0.2842 - accuracy: 0.8438\n",
            "Epoch 00076: val_loss did not improve from 0.42991\n",
            "45/45 [==============================] - 0s 2ms/step - loss: 0.2738 - accuracy: 0.8720 - val_loss: 0.5174 - val_accuracy: 0.7558\n",
            "Epoch 77/100\n",
            " 1/45 [..............................] - ETA: 0s - loss: 0.2111 - accuracy: 0.9375\n",
            "Epoch 00077: val_loss did not improve from 0.42991\n",
            "45/45 [==============================] - 0s 2ms/step - loss: 0.2593 - accuracy: 0.8903 - val_loss: 0.5195 - val_accuracy: 0.7495\n",
            "Epoch 78/100\n",
            " 1/45 [..............................] - ETA: 0s - loss: 0.3263 - accuracy: 0.8438\n",
            "Epoch 00078: val_loss did not improve from 0.42991\n",
            "45/45 [==============================] - 0s 2ms/step - loss: 0.2578 - accuracy: 0.8896 - val_loss: 0.5326 - val_accuracy: 0.7663\n",
            "Epoch 79/100\n",
            " 1/45 [..............................] - ETA: 0s - loss: 0.2495 - accuracy: 0.9375\n",
            "Epoch 00079: val_loss did not improve from 0.42991\n",
            "45/45 [==============================] - 0s 2ms/step - loss: 0.2520 - accuracy: 0.8980 - val_loss: 0.5226 - val_accuracy: 0.7537\n",
            "Epoch 80/100\n",
            " 1/45 [..............................] - ETA: 0s - loss: 0.2773 - accuracy: 0.8438\n",
            "Epoch 00080: val_loss did not improve from 0.42991\n",
            "45/45 [==============================] - 0s 2ms/step - loss: 0.2514 - accuracy: 0.9015 - val_loss: 0.5433 - val_accuracy: 0.7705\n",
            "Epoch 81/100\n",
            " 1/45 [..............................] - ETA: 0s - loss: 0.2681 - accuracy: 0.9062\n",
            "Epoch 00081: val_loss did not improve from 0.42991\n",
            "45/45 [==============================] - 0s 1ms/step - loss: 0.2494 - accuracy: 0.8994 - val_loss: 0.5592 - val_accuracy: 0.7684\n",
            "Epoch 82/100\n",
            "43/45 [===========================>..] - ETA: 0s - loss: 0.2490 - accuracy: 0.8946\n",
            "Epoch 00082: val_loss did not improve from 0.42991\n",
            "45/45 [==============================] - 0s 2ms/step - loss: 0.2497 - accuracy: 0.8938 - val_loss: 0.5415 - val_accuracy: 0.7684\n",
            "Epoch 83/100\n",
            " 1/45 [..............................] - ETA: 0s - loss: 0.2676 - accuracy: 0.8750\n",
            "Epoch 00083: val_loss did not improve from 0.42991\n",
            "45/45 [==============================] - 0s 2ms/step - loss: 0.2428 - accuracy: 0.9079 - val_loss: 0.5679 - val_accuracy: 0.7705\n",
            "Epoch 84/100\n",
            " 1/45 [..............................] - ETA: 0s - loss: 0.3032 - accuracy: 0.8125\n",
            "Epoch 00084: val_loss did not improve from 0.42991\n",
            "45/45 [==============================] - 0s 2ms/step - loss: 0.2441 - accuracy: 0.8973 - val_loss: 0.5742 - val_accuracy: 0.7726\n",
            "Epoch 85/100\n",
            " 1/45 [..............................] - ETA: 0s - loss: 0.3839 - accuracy: 0.8750\n",
            "Epoch 00085: val_loss did not improve from 0.42991\n",
            "45/45 [==============================] - 0s 2ms/step - loss: 0.2516 - accuracy: 0.8917 - val_loss: 0.5386 - val_accuracy: 0.7474\n",
            "Epoch 86/100\n",
            " 1/45 [..............................] - ETA: 0s - loss: 0.1975 - accuracy: 0.9062\n",
            "Epoch 00086: val_loss did not improve from 0.42991\n",
            "45/45 [==============================] - 0s 2ms/step - loss: 0.2385 - accuracy: 0.9058 - val_loss: 0.5831 - val_accuracy: 0.7726\n",
            "Epoch 87/100\n",
            " 1/45 [..............................] - ETA: 0s - loss: 0.3018 - accuracy: 0.8438\n",
            "Epoch 00087: val_loss did not improve from 0.42991\n",
            "45/45 [==============================] - 0s 2ms/step - loss: 0.2461 - accuracy: 0.8903 - val_loss: 0.5439 - val_accuracy: 0.7558\n",
            "Epoch 88/100\n",
            " 1/45 [..............................] - ETA: 0s - loss: 0.2324 - accuracy: 0.8750\n",
            "Epoch 00088: val_loss did not improve from 0.42991\n",
            "45/45 [==============================] - 0s 2ms/step - loss: 0.2368 - accuracy: 0.9086 - val_loss: 0.5602 - val_accuracy: 0.7705\n",
            "Epoch 89/100\n",
            " 1/45 [..............................] - ETA: 0s - loss: 0.2234 - accuracy: 0.9375\n",
            "Epoch 00089: val_loss did not improve from 0.42991\n",
            "45/45 [==============================] - 0s 2ms/step - loss: 0.2365 - accuracy: 0.9058 - val_loss: 0.5790 - val_accuracy: 0.7726\n",
            "Epoch 90/100\n",
            "45/45 [==============================] - ETA: 0s - loss: 0.2405 - accuracy: 0.9015\n",
            "Epoch 00090: val_loss did not improve from 0.42991\n",
            "45/45 [==============================] - 0s 2ms/step - loss: 0.2405 - accuracy: 0.9015 - val_loss: 0.5684 - val_accuracy: 0.7684\n",
            "Epoch 91/100\n",
            "42/45 [===========================>..] - ETA: 0s - loss: 0.2396 - accuracy: 0.9003\n",
            "Epoch 00091: val_loss did not improve from 0.42991\n",
            "45/45 [==============================] - 0s 2ms/step - loss: 0.2387 - accuracy: 0.9001 - val_loss: 0.5681 - val_accuracy: 0.7663\n",
            "Epoch 92/100\n",
            " 1/45 [..............................] - ETA: 0s - loss: 0.2879 - accuracy: 0.9375\n",
            "Epoch 00092: val_loss did not improve from 0.42991\n",
            "45/45 [==============================] - 0s 2ms/step - loss: 0.2314 - accuracy: 0.9100 - val_loss: 0.6021 - val_accuracy: 0.7747\n",
            "Epoch 93/100\n",
            " 1/45 [..............................] - ETA: 0s - loss: 0.1193 - accuracy: 0.9688\n",
            "Epoch 00093: val_loss did not improve from 0.42991\n",
            "45/45 [==============================] - 0s 2ms/step - loss: 0.2309 - accuracy: 0.9079 - val_loss: 0.5834 - val_accuracy: 0.7684\n",
            "Epoch 94/100\n",
            " 1/45 [..............................] - ETA: 0s - loss: 0.1917 - accuracy: 0.9375\n",
            "Epoch 00094: val_loss did not improve from 0.42991\n",
            "45/45 [==============================] - 0s 2ms/step - loss: 0.2295 - accuracy: 0.9058 - val_loss: 0.6319 - val_accuracy: 0.7811\n",
            "Epoch 95/100\n",
            " 1/45 [..............................] - ETA: 0s - loss: 0.2294 - accuracy: 0.8750\n",
            "Epoch 00095: val_loss did not improve from 0.42991\n",
            "45/45 [==============================] - 0s 2ms/step - loss: 0.2306 - accuracy: 0.9065 - val_loss: 0.6162 - val_accuracy: 0.7747\n",
            "Epoch 96/100\n",
            " 1/45 [..............................] - ETA: 0s - loss: 0.1825 - accuracy: 0.9688\n",
            "Epoch 00096: val_loss did not improve from 0.42991\n",
            "45/45 [==============================] - 0s 2ms/step - loss: 0.2243 - accuracy: 0.9142 - val_loss: 0.6022 - val_accuracy: 0.7684\n",
            "Epoch 97/100\n",
            "40/45 [=========================>....] - ETA: 0s - loss: 0.2225 - accuracy: 0.9141\n",
            "Epoch 00097: val_loss did not improve from 0.42991\n",
            "45/45 [==============================] - 0s 2ms/step - loss: 0.2237 - accuracy: 0.9107 - val_loss: 0.6084 - val_accuracy: 0.7705\n",
            "Epoch 98/100\n",
            " 1/45 [..............................] - ETA: 0s - loss: 0.1753 - accuracy: 0.9375\n",
            "Epoch 00098: val_loss did not improve from 0.42991\n",
            "45/45 [==============================] - 0s 2ms/step - loss: 0.2275 - accuracy: 0.9107 - val_loss: 0.5989 - val_accuracy: 0.7705\n",
            "Epoch 99/100\n",
            " 1/45 [..............................] - ETA: 0s - loss: 0.2542 - accuracy: 0.8750\n",
            "Epoch 00099: val_loss did not improve from 0.42991\n",
            "45/45 [==============================] - 0s 2ms/step - loss: 0.2223 - accuracy: 0.9163 - val_loss: 0.5859 - val_accuracy: 0.7537\n",
            "Epoch 100/100\n",
            " 1/45 [..............................] - ETA: 0s - loss: 0.2387 - accuracy: 0.8750\n",
            "Epoch 00100: val_loss did not improve from 0.42991\n",
            "45/45 [==============================] - 0s 2ms/step - loss: 0.2253 - accuracy: 0.9121 - val_loss: 0.6031 - val_accuracy: 0.7642\n"
          ],
          "name": "stdout"
        }
      ]
    },
    {
      "cell_type": "markdown",
      "metadata": {
        "colab_type": "text",
        "id": "3rUMKuVgwzkY"
      },
      "source": [
        "<img src=\"https://jalammar.github.io/images/distilBERT/bert-training-logistic-regression.png\" />\n",
        "\n",
        "## Evaluating Model #2\n",
        "So how well does our model do in classifying sentences? One way is to check the accuracy against the testing dataset:"
      ]
    },
    {
      "cell_type": "code",
      "metadata": {
        "colab_type": "code",
        "id": "iCoyxRJ7ECTA",
        "colab": {
          "base_uri": "https://localhost:8080/",
          "height": 198
        },
        "outputId": "89f22a4b-5054-429d-fe64-f47c90205b99"
      },
      "source": [
        "from keras.models import load_model\n",
        "\n",
        "loadedModel = load_model('/content/bertmodel.h5')\n",
        "loadedModel.score(test_features, test_labels)"
      ],
      "execution_count": 27,
      "outputs": [
        {
          "output_type": "error",
          "ename": "AttributeError",
          "evalue": "ignored",
          "traceback": [
            "\u001b[0;31m---------------------------------------------------------------------------\u001b[0m",
            "\u001b[0;31mAttributeError\u001b[0m                            Traceback (most recent call last)",
            "\u001b[0;32m<ipython-input-27-b217f85ff71e>\u001b[0m in \u001b[0;36m<module>\u001b[0;34m()\u001b[0m\n\u001b[1;32m      2\u001b[0m \u001b[0;34m\u001b[0m\u001b[0m\n\u001b[1;32m      3\u001b[0m \u001b[0mloadedModel\u001b[0m \u001b[0;34m=\u001b[0m \u001b[0mload_model\u001b[0m\u001b[0;34m(\u001b[0m\u001b[0;34m'/content/bertmodel.h5'\u001b[0m\u001b[0;34m)\u001b[0m\u001b[0;34m\u001b[0m\u001b[0;34m\u001b[0m\u001b[0m\n\u001b[0;32m----> 4\u001b[0;31m \u001b[0mloadedModel\u001b[0m\u001b[0;34m.\u001b[0m\u001b[0mscore\u001b[0m\u001b[0;34m(\u001b[0m\u001b[0mtest_features\u001b[0m\u001b[0;34m,\u001b[0m \u001b[0mtest_labels\u001b[0m\u001b[0;34m)\u001b[0m\u001b[0;34m\u001b[0m\u001b[0;34m\u001b[0m\u001b[0m\n\u001b[0m",
            "\u001b[0;31mAttributeError\u001b[0m: 'Sequential' object has no attribute 'score'"
          ]
        }
      ]
    },
    {
      "cell_type": "markdown",
      "metadata": {
        "colab_type": "text",
        "id": "75oyhr3VxHoE"
      },
      "source": [
        "How good is this score? What can we compare it against? Let's first look at a dummy classifier:"
      ]
    },
    {
      "cell_type": "code",
      "metadata": {
        "colab_type": "code",
        "id": "lnwgmqNG7i5l",
        "colab": {}
      },
      "source": [
        "from sklearn.dummy import DummyClassifier\n",
        "clf = DummyClassifier()\n",
        "\n",
        "scores = cross_val_score(clf, train_features, train_labels)\n",
        "print(\"Dummy classifier score: %0.3f (+/- %0.2f)\" % (scores.mean(), scores.std() * 2))"
      ],
      "execution_count": null,
      "outputs": []
    },
    {
      "cell_type": "markdown",
      "metadata": {
        "colab_type": "text",
        "id": "7Lg4LOpoxSOR"
      },
      "source": [
        "So our model clearly does better than a dummy classifier. But how does it compare against the best models?\n",
        "\n",
        "## Proper SST2 scores\n",
        "For reference, the [highest accuracy score](http://nlpprogress.com/english/sentiment_analysis.html) for this dataset is currently **96.8**. DistilBERT can be trained to improve its score on this task – a process called **fine-tuning** which updates BERT’s weights to make it achieve a better performance in this sentence classification task (which we can call the downstream task). The fine-tuned DistilBERT turns out to achieve an accuracy score of **90.7**. The full size BERT model achieves **94.9**.\n",
        "\n",
        "\n",
        "\n",
        "And that’s it! That’s a good first contact with BERT. The next step would be to head over to the documentation and try your hand at [fine-tuning](https://huggingface.co/transformers/examples.html#glue). You can also go back and switch from distilBERT to BERT and see how that works."
      ]
    },
    {
      "cell_type": "code",
      "metadata": {
        "colab_type": "code",
        "id": "EJQuqV6cnWQu",
        "colab": {}
      },
      "source": [
        ""
      ],
      "execution_count": null,
      "outputs": []
    }
  ]
}