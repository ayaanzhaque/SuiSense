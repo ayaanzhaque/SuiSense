{
  "nbformat": 4,
  "nbformat_minor": 0,
  "metadata": {
    "accelerator": "TPU",
    "colab": {
      "name": "workingBertModel.ipynb",
      "provenance": [],
      "toc_visible": true,
      "include_colab_link": true
    },
    "kernelspec": {
      "display_name": "Python 3",
      "language": "python",
      "name": "python3"
    },
    "language_info": {
      "codemirror_mode": {
        "name": "ipython",
        "version": 3
      },
      "file_extension": ".py",
      "mimetype": "text/x-python",
      "name": "python",
      "nbconvert_exporter": "python",
      "pygments_lexer": "ipython3",
      "version": "3.7.6"
    }
  },
  "cells": [
    {
      "cell_type": "markdown",
      "metadata": {
        "id": "view-in-github",
        "colab_type": "text"
      },
      "source": [
        "<a href=\"https://colab.research.google.com/github/ayaanzhaque/SuiSense/blob/master/notebooks/BERT/workingBertModel.ipynb\" target=\"_parent\"><img src=\"https://colab.research.google.com/assets/colab-badge.svg\" alt=\"Open In Colab\"/></a>"
      ]
    },
    {
      "cell_type": "code",
      "metadata": {
        "colab_type": "code",
        "id": "To9ENLU90WGl",
        "colab": {
          "base_uri": "https://localhost:8080/",
          "height": 340
        },
        "outputId": "b4b9eb02-3059-4f41-e308-ee1e1e6f4a94"
      },
      "source": [
        "!pip install transformers"
      ],
      "execution_count": null,
      "outputs": [
        {
          "output_type": "stream",
          "text": [
            "Requirement already satisfied: transformers in /usr/local/lib/python3.6/dist-packages (3.0.2)\n",
            "Requirement already satisfied: numpy in /usr/local/lib/python3.6/dist-packages (from transformers) (1.18.5)\n",
            "Requirement already satisfied: sentencepiece!=0.1.92 in /usr/local/lib/python3.6/dist-packages (from transformers) (0.1.91)\n",
            "Requirement already satisfied: tokenizers==0.8.1.rc1 in /usr/local/lib/python3.6/dist-packages (from transformers) (0.8.1rc1)\n",
            "Requirement already satisfied: regex!=2019.12.17 in /usr/local/lib/python3.6/dist-packages (from transformers) (2019.12.20)\n",
            "Requirement already satisfied: filelock in /usr/local/lib/python3.6/dist-packages (from transformers) (3.0.12)\n",
            "Requirement already satisfied: tqdm>=4.27 in /usr/local/lib/python3.6/dist-packages (from transformers) (4.41.1)\n",
            "Requirement already satisfied: sacremoses in /usr/local/lib/python3.6/dist-packages (from transformers) (0.0.43)\n",
            "Requirement already satisfied: dataclasses; python_version < \"3.7\" in /usr/local/lib/python3.6/dist-packages (from transformers) (0.7)\n",
            "Requirement already satisfied: packaging in /usr/local/lib/python3.6/dist-packages (from transformers) (20.4)\n",
            "Requirement already satisfied: requests in /usr/local/lib/python3.6/dist-packages (from transformers) (2.23.0)\n",
            "Requirement already satisfied: six in /usr/local/lib/python3.6/dist-packages (from sacremoses->transformers) (1.15.0)\n",
            "Requirement already satisfied: click in /usr/local/lib/python3.6/dist-packages (from sacremoses->transformers) (7.1.2)\n",
            "Requirement already satisfied: joblib in /usr/local/lib/python3.6/dist-packages (from sacremoses->transformers) (0.16.0)\n",
            "Requirement already satisfied: pyparsing>=2.0.2 in /usr/local/lib/python3.6/dist-packages (from packaging->transformers) (2.4.7)\n",
            "Requirement already satisfied: idna<3,>=2.5 in /usr/local/lib/python3.6/dist-packages (from requests->transformers) (2.10)\n",
            "Requirement already satisfied: certifi>=2017.4.17 in /usr/local/lib/python3.6/dist-packages (from requests->transformers) (2020.6.20)\n",
            "Requirement already satisfied: urllib3!=1.25.0,!=1.25.1,<1.26,>=1.21.1 in /usr/local/lib/python3.6/dist-packages (from requests->transformers) (1.24.3)\n",
            "Requirement already satisfied: chardet<4,>=3.0.2 in /usr/local/lib/python3.6/dist-packages (from requests->transformers) (3.0.4)\n"
          ],
          "name": "stdout"
        }
      ]
    },
    {
      "cell_type": "code",
      "metadata": {
        "colab_type": "code",
        "id": "fvFvBLJV0Dkv",
        "colab": {}
      },
      "source": [
        "#importing relevant libraries\n",
        "import numpy as np\n",
        "import pandas as pd\n",
        "from sklearn.model_selection import train_test_split\n",
        "from sklearn.linear_model import LogisticRegression\n",
        "from sklearn.model_selection import GridSearchCV\n",
        "from sklearn.model_selection import cross_val_score\n",
        "from sklearn.naive_bayes import MultinomialNB\n",
        "\n",
        "import torch\n",
        "\n",
        "import nltk\n",
        "from nltk.tokenize import RegexpTokenizer\n",
        "from nltk.stem import WordNetLemmatizer\n",
        "\n",
        "import transformers as ppb\n",
        "import warnings\n",
        "warnings.filterwarnings('ignore')"
      ],
      "execution_count": null,
      "outputs": []
    },
    {
      "cell_type": "markdown",
      "metadata": {
        "colab_type": "text",
        "id": "zQ-42fh0hjsF"
      },
      "source": [
        "## Importing the dataset\n",
        "We'll use pandas to read the dataset and load it into a dataframe."
      ]
    },
    {
      "cell_type": "code",
      "metadata": {
        "colab_type": "code",
        "id": "cyoj29J24hPX",
        "colab": {}
      },
      "source": [
        "df = pd.read_csv('https://raw.githubusercontent.com/ayaanzhaque/SuiSense/master/data/scheme1.csv')\n",
        "og_batch_1 = df[['selftext', 'is_suicide']]\n",
        "\n"
      ],
      "execution_count": null,
      "outputs": []
    },
    {
      "cell_type": "markdown",
      "metadata": {
        "colab_type": "text",
        "id": "dMVE3waNhuNj"
      },
      "source": [
        "For performance reasons, we'll only use 2,000 sentences from the dataset"
      ]
    },
    {
      "cell_type": "code",
      "metadata": {
        "colab_type": "code",
        "id": "gTM3hOHW4hUY",
        "colab": {
          "base_uri": "https://localhost:8080/",
          "height": 204
        },
        "outputId": "de0f406d-e280-4b43-968c-6bcb4341dcd6"
      },
      "source": [
        "#batch_1_start = og_batch_1.head(60)\n",
        "#batch_1_end = og_batch_1.tail(60)\n",
        "#test_batch_1 = pd.concat([batch_1_start, batch_1_end], ignore_index=True)\n",
        "batch_1 = og_batch_1.rename(columns={'selftext': 0, 'is_suicide': 1})\n",
        "batch_1.head()"
      ],
      "execution_count": null,
      "outputs": [
        {
          "output_type": "execute_result",
          "data": {
            "text/html": [
              "<div>\n",
              "<style scoped>\n",
              "    .dataframe tbody tr th:only-of-type {\n",
              "        vertical-align: middle;\n",
              "    }\n",
              "\n",
              "    .dataframe tbody tr th {\n",
              "        vertical-align: top;\n",
              "    }\n",
              "\n",
              "    .dataframe thead th {\n",
              "        text-align: right;\n",
              "    }\n",
              "</style>\n",
              "<table border=\"1\" class=\"dataframe\">\n",
              "  <thead>\n",
              "    <tr style=\"text-align: right;\">\n",
              "      <th></th>\n",
              "      <th>0</th>\n",
              "      <th>1</th>\n",
              "    </tr>\n",
              "  </thead>\n",
              "  <tbody>\n",
              "    <tr>\n",
              "      <th>0</th>\n",
              "      <td>We understand that most people who reply immed...</td>\n",
              "      <td>0</td>\n",
              "    </tr>\n",
              "    <tr>\n",
              "      <th>1</th>\n",
              "      <td>Welcome to /r/depression's check-in post - a p...</td>\n",
              "      <td>0</td>\n",
              "    </tr>\n",
              "    <tr>\n",
              "      <th>2</th>\n",
              "      <td>I've been feeling really depressed and lonely ...</td>\n",
              "      <td>0</td>\n",
              "    </tr>\n",
              "    <tr>\n",
              "      <th>3</th>\n",
              "      <td>I literally broke down crying and asked to go ...</td>\n",
              "      <td>0</td>\n",
              "    </tr>\n",
              "    <tr>\n",
              "      <th>4</th>\n",
              "      <td>Any kind soul want to give a depressed person ...</td>\n",
              "      <td>0</td>\n",
              "    </tr>\n",
              "  </tbody>\n",
              "</table>\n",
              "</div>"
            ],
            "text/plain": [
              "                                                   0  1\n",
              "0  We understand that most people who reply immed...  0\n",
              "1  Welcome to /r/depression's check-in post - a p...  0\n",
              "2  I've been feeling really depressed and lonely ...  0\n",
              "3  I literally broke down crying and asked to go ...  0\n",
              "4  Any kind soul want to give a depressed person ...  0"
            ]
          },
          "metadata": {
            "tags": []
          },
          "execution_count": 13
        }
      ]
    },
    {
      "cell_type": "markdown",
      "metadata": {
        "colab_type": "text",
        "id": "PRc2L89hh1Tf"
      },
      "source": [
        "We can ask pandas how many sentences are labeled as \"positive\" (value 1) and how many are labeled \"negative\" (having the value 0)"
      ]
    },
    {
      "cell_type": "code",
      "metadata": {
        "colab_type": "code",
        "id": "jGvcfcCP5xpZ",
        "colab": {
          "base_uri": "https://localhost:8080/",
          "height": 68
        },
        "outputId": "21eed2ef-41d0-48cc-92f8-1fd35f763247"
      },
      "source": [
        "batch_1[1].value_counts()"
      ],
      "execution_count": null,
      "outputs": [
        {
          "output_type": "execute_result",
          "data": {
            "text/plain": [
              "1    980\n",
              "0    917\n",
              "Name: 1, dtype: int64"
            ]
          },
          "metadata": {
            "tags": []
          },
          "execution_count": 14
        }
      ]
    },
    {
      "cell_type": "markdown",
      "metadata": {
        "colab_type": "text",
        "id": "7_MO08_KiAOb"
      },
      "source": [
        "## Loading the Pre-trained BERT model\n",
        "Let's now load a pre-trained BERT model. "
      ]
    },
    {
      "cell_type": "code",
      "metadata": {
        "colab_type": "code",
        "id": "q1InADgf5xm2",
        "colab": {}
      },
      "source": [
        "# For DistilBERT:\n",
        "#model_class, tokenizer_class, pretrained_weights = (ppb.DistilBertModel, ppb.DistilBertTokenizer, 'distilbert-base-uncased')\n",
        "\n",
        "## Want BERT instead of distilBERT? Uncomment the following line:\n",
        "model_class, tokenizer_class, pretrained_weights = (ppb.BertModel, ppb.BertTokenizer, 'bert-base-uncased')\n",
        "\n",
        "# Load pretrained model/tokenizer\n",
        "tokenizer = tokenizer_class.from_pretrained(pretrained_weights)\n",
        "model = model_class.from_pretrained(pretrained_weights)"
      ],
      "execution_count": null,
      "outputs": []
    },
    {
      "cell_type": "markdown",
      "metadata": {
        "colab_type": "text",
        "id": "lZDBMn3wiSX6"
      },
      "source": [
        "Right now, the variable `model` holds a pretrained distilBERT model -- a version of BERT that is smaller, but much faster and requiring a lot less memory.\n",
        "\n",
        "## Model #1: Preparing the Dataset\n",
        "Before we can hand our sentences to BERT, we need to so some minimal processing to put them in the format it requires.\n",
        "\n",
        "### Tokenization\n",
        "Our first step is to tokenize the sentences -- break them up into word and subwords in the format BERT is comfortable with."
      ]
    },
    {
      "cell_type": "code",
      "metadata": {
        "colab_type": "code",
        "id": "Dg82ndBA5xlN",
        "colab": {}
      },
      "source": [
        "tokenized = batch_1[0].apply((lambda x: tokenizer.encode(x, add_special_tokens=True, truncation=True, max_length=128)))"
      ],
      "execution_count": null,
      "outputs": []
    },
    {
      "cell_type": "code",
      "metadata": {
        "colab_type": "code",
        "id": "URn-DWJt5xhP",
        "colab": {}
      },
      "source": [
        "max_len = 0\n",
        "for i in tokenized.values:\n",
        "    if len(i) > max_len:\n",
        "        max_len = len(i)\n",
        "\n",
        "padded = np.array([i + [0]*(max_len-len(i)) for i in tokenized.values])"
      ],
      "execution_count": null,
      "outputs": []
    },
    {
      "cell_type": "markdown",
      "metadata": {
        "colab_type": "text",
        "id": "Mdjg306wjjmL"
      },
      "source": [
        "Our dataset is now in the `padded` variable, we can view its dimensions below:"
      ]
    },
    {
      "cell_type": "code",
      "metadata": {
        "colab_type": "code",
        "id": "jdi7uXo95xeq",
        "colab": {
          "base_uri": "https://localhost:8080/",
          "height": 34
        },
        "outputId": "e6d0ccec-6a54-4708-a90f-221eb53d39e2"
      },
      "source": [
        "np.array(padded).shape"
      ],
      "execution_count": null,
      "outputs": [
        {
          "output_type": "execute_result",
          "data": {
            "text/plain": [
              "(1897, 128)"
            ]
          },
          "metadata": {
            "tags": []
          },
          "execution_count": 9
        }
      ]
    },
    {
      "cell_type": "markdown",
      "metadata": {
        "colab_type": "text",
        "id": "sDZBsYSDjzDV"
      },
      "source": [
        "### Masking\n",
        "If we directly send `padded` to BERT, that would slightly confuse it. We need to create another variable to tell it to ignore (mask) the padding we've added when it's processing its input. That's what attention_mask is:"
      ]
    },
    {
      "cell_type": "code",
      "metadata": {
        "colab_type": "code",
        "id": "4K_iGRNa_Ozc",
        "colab": {
          "base_uri": "https://localhost:8080/",
          "height": 34
        },
        "outputId": "81e5aab7-4fb6-4fc2-8af3-b21e331e1d09"
      },
      "source": [
        "attention_mask = np.where(padded != 0, 1, 0)\n",
        "attention_mask.shape"
      ],
      "execution_count": null,
      "outputs": [
        {
          "output_type": "execute_result",
          "data": {
            "text/plain": [
              "(1897, 128)"
            ]
          },
          "metadata": {
            "tags": []
          },
          "execution_count": 15
        }
      ]
    },
    {
      "cell_type": "code",
      "metadata": {
        "colab_type": "code",
        "id": "39UVjAV56PJz",
        "colab": {}
      },
      "source": [
        "input_ids = torch.tensor(padded)  \n",
        "attention_mask = torch.tensor(attention_mask)\n",
        "\n",
        "with torch.no_grad():\n",
        "    last_hidden_states = model(input_ids, attention_mask=attention_mask)"
      ],
      "execution_count": null,
      "outputs": []
    },
    {
      "cell_type": "code",
      "metadata": {
        "colab_type": "code",
        "id": "C9t60At16PVs",
        "colab": {
          "base_uri": "https://localhost:8080/",
          "height": 238
        },
        "outputId": "c880c727-c831-44b1-8aa7-da99405fe5c5"
      },
      "source": [
        "features = last_hidden_states[0][:,0,:].numpy()\n",
        "print(features)"
      ],
      "execution_count": null,
      "outputs": [
        {
          "output_type": "stream",
          "text": [
            "[[ 0.15627109 -0.20722139 -0.03962984 ...  0.15881492  0.36695075\n",
            "   0.46319005]\n",
            " [-0.05789456 -0.01733888 -0.10708018 ...  0.01880779 -0.06970225\n",
            "   0.54524034]\n",
            " [ 0.19605026  0.20534156  0.24803329 ...  0.15781963  0.45455933\n",
            "  -0.41783777]\n",
            " ...\n",
            " [ 0.04628711  0.53464365 -0.19218408 ... -0.34011787  0.7708874\n",
            "   0.6021303 ]\n",
            " [ 0.24700873  0.2810834   0.21017519 ... -0.1912898   0.2667738\n",
            "  -0.13201511]\n",
            " [ 0.16641247  0.16862674  0.03572434 ... -0.15101409  0.5139446\n",
            "   0.24030764]]\n"
          ],
          "name": "stdout"
        }
      ]
    },
    {
      "cell_type": "markdown",
      "metadata": {
        "colab_type": "text",
        "id": "_VZVU66Gurr-"
      },
      "source": [
        "The labels indicating which sentence is positive and negative now go into the `labels` variable"
      ]
    },
    {
      "cell_type": "code",
      "metadata": {
        "colab_type": "code",
        "id": "JD3fX2yh6PTx",
        "colab": {
          "base_uri": "https://localhost:8080/",
          "height": 119
        },
        "outputId": "1fcaad55-e117-4d2d-8005-859706a4069f"
      },
      "source": [
        "labels = batch_1[1]\n",
        "labels.head()"
      ],
      "execution_count": null,
      "outputs": [
        {
          "output_type": "execute_result",
          "data": {
            "text/plain": [
              "0    0\n",
              "1    0\n",
              "2    0\n",
              "3    0\n",
              "4    0\n",
              "Name: 1, dtype: int64"
            ]
          },
          "metadata": {
            "tags": []
          },
          "execution_count": 18
        }
      ]
    },
    {
      "cell_type": "markdown",
      "metadata": {
        "colab_type": "text",
        "id": "iaoEvM2evRx1"
      },
      "source": [
        "## Model #2: Train/Test Split\n",
        "Let's now split our datset into a training set and testing set (even though we're using 2,000 sentences from the SST2 training set)."
      ]
    },
    {
      "cell_type": "code",
      "metadata": {
        "colab_type": "code",
        "id": "ddAqbkoU6PP9",
        "colab": {}
      },
      "source": [
        "train_features, test_features, train_labels, test_labels = train_test_split(features, labels, test_size=0.25, random_state=42, stratify=labels)"
      ],
      "execution_count": null,
      "outputs": []
    },
    {
      "cell_type": "code",
      "metadata": {
        "colab_type": "code",
        "id": "cyEwr7yYD3Ci",
        "colab": {}
      },
      "source": [
        "# parameters = {'C': np.linspace(0.0001, 100, 20)}\n",
        "# grid_search = GridSearchCV(LogisticRegression(), parameters)\n",
        "# grid_search.fit(train_features, train_labels)\n",
        "\n",
        "# print('best parameters: ', grid_search.best_params_)\n",
        "# print('best scrores: ', grid_search.best_score_)"
      ],
      "execution_count": null,
      "outputs": []
    },
    {
      "cell_type": "markdown",
      "metadata": {
        "colab_type": "text",
        "id": "KCT9u8vAwnID"
      },
      "source": [
        "We now train the LogisticRegression model. If you've chosen to do the gridsearch, you can plug the value of C into the model declaration (e.g. `LogisticRegression(C=5.2)`)."
      ]
    },
    {
      "cell_type": "code",
      "metadata": {
        "colab_type": "code",
        "id": "gG-EVWx4CzBc",
        "colab": {
          "base_uri": "https://localhost:8080/",
          "height": 1000
        },
        "outputId": "35b96645-2e59-4a17-bdcf-5c8086cc08b3"
      },
      "source": [
        "from keras.models import Sequential\n",
        "from keras import layers\n",
        "from keras.layers import Dense, Activation, Embedding, Flatten, GlobalMaxPool1D, Dropout, Conv1D\n",
        "from keras.callbacks import ModelCheckpoint\n",
        "\n",
        "model3 = Sequential()\n",
        "model3.add(Dense(1, activation='sigmoid'))\n",
        "\n",
        "model3.add(Dense(10, activation='relu'))\n",
        "# model3.add(Dense(1, activation='sigmoid'))\n",
        "model3.add(Dense(2, activation = 'softmax')) # this gives the probability distribution for each class, should be 1 hot encoded, maybe we take this out of the model and only use it when predicting\n",
        "\n",
        "model3.compile(optimizer='adam',\n",
        "              loss='binary_crossentropy',\n",
        "              metrics=['accuracy'])\n",
        "\n",
        "\n",
        "checkpoint = ModelCheckpoint('/content/bertmodelRegLabels.h5', verbose=1, monitor='val_loss',save_best_only=True, mode='auto')  \n",
        "\n",
        "\n",
        "history = model3.fit(train_features, train_labels, batch_size=32, epochs=100, verbose=1, callbacks=[checkpoint], validation_data=(test_features, test_labels))"
      ],
      "execution_count": null,
      "outputs": [
        {
          "output_type": "stream",
          "text": [
            "Epoch 1/100\n",
            "32/45 [====================>.........] - ETA: 0s - loss: 0.6988 - accuracy: 0.4824\n",
            "Epoch 00001: val_loss improved from inf to 0.69109, saving model to /content/bertmodelRegLabels.h5\n",
            "45/45 [==============================] - 0s 7ms/step - loss: 0.6973 - accuracy: 0.4887 - val_loss: 0.6911 - val_accuracy: 0.5937\n",
            "Epoch 2/100\n",
            "42/45 [===========================>..] - ETA: 0s - loss: 0.6905 - accuracy: 0.5885\n",
            "Epoch 00002: val_loss improved from 0.69109 to 0.68735, saving model to /content/bertmodelRegLabels.h5\n",
            "45/45 [==============================] - 0s 3ms/step - loss: 0.6899 - accuracy: 0.5942 - val_loss: 0.6873 - val_accuracy: 0.5705\n",
            "Epoch 3/100\n",
            "42/45 [===========================>..] - ETA: 0s - loss: 0.6856 - accuracy: 0.5580\n",
            "Epoch 00003: val_loss improved from 0.68735 to 0.68429, saving model to /content/bertmodelRegLabels.h5\n",
            "45/45 [==============================] - 0s 3ms/step - loss: 0.6852 - accuracy: 0.5654 - val_loss: 0.6843 - val_accuracy: 0.6084\n",
            "Epoch 4/100\n",
            "39/45 [=========================>....] - ETA: 0s - loss: 0.6798 - accuracy: 0.6162\n",
            "Epoch 00004: val_loss improved from 0.68429 to 0.68027, saving model to /content/bertmodelRegLabels.h5\n",
            "45/45 [==============================] - 0s 3ms/step - loss: 0.6794 - accuracy: 0.6146 - val_loss: 0.6803 - val_accuracy: 0.5537\n",
            "Epoch 5/100\n",
            "31/45 [===================>..........] - ETA: 0s - loss: 0.6733 - accuracy: 0.6331\n",
            "Epoch 00005: val_loss improved from 0.68027 to 0.67385, saving model to /content/bertmodelRegLabels.h5\n",
            "45/45 [==============================] - 0s 3ms/step - loss: 0.6730 - accuracy: 0.6350 - val_loss: 0.6738 - val_accuracy: 0.5958\n",
            "Epoch 6/100\n",
            " 1/45 [..............................] - ETA: 0s - loss: 0.6804 - accuracy: 0.5938\n",
            "Epoch 00006: val_loss improved from 0.67385 to 0.66742, saving model to /content/bertmodelRegLabels.h5\n",
            "45/45 [==============================] - 0s 2ms/step - loss: 0.6669 - accuracy: 0.6505 - val_loss: 0.6674 - val_accuracy: 0.6295\n",
            "Epoch 7/100\n",
            "45/45 [==============================] - ETA: 0s - loss: 0.6592 - accuracy: 0.6526\n",
            "Epoch 00007: val_loss improved from 0.66742 to 0.66107, saving model to /content/bertmodelRegLabels.h5\n",
            "45/45 [==============================] - 0s 3ms/step - loss: 0.6592 - accuracy: 0.6526 - val_loss: 0.6611 - val_accuracy: 0.6632\n",
            "Epoch 8/100\n",
            "45/45 [==============================] - ETA: 0s - loss: 0.6509 - accuracy: 0.6793\n",
            "Epoch 00008: val_loss improved from 0.66107 to 0.65686, saving model to /content/bertmodelRegLabels.h5\n",
            "45/45 [==============================] - 0s 2ms/step - loss: 0.6509 - accuracy: 0.6793 - val_loss: 0.6569 - val_accuracy: 0.6737\n",
            "Epoch 9/100\n",
            "44/45 [============================>.] - ETA: 0s - loss: 0.6420 - accuracy: 0.6861\n",
            "Epoch 00009: val_loss improved from 0.65686 to 0.64854, saving model to /content/bertmodelRegLabels.h5\n",
            "45/45 [==============================] - 0s 3ms/step - loss: 0.6421 - accuracy: 0.6871 - val_loss: 0.6485 - val_accuracy: 0.6568\n",
            "Epoch 10/100\n",
            "33/45 [=====================>........] - ETA: 0s - loss: 0.6372 - accuracy: 0.6894\n",
            "Epoch 00010: val_loss improved from 0.64854 to 0.64340, saving model to /content/bertmodelRegLabels.h5\n",
            "45/45 [==============================] - 0s 3ms/step - loss: 0.6353 - accuracy: 0.6899 - val_loss: 0.6434 - val_accuracy: 0.6589\n",
            "Epoch 11/100\n",
            " 1/45 [..............................] - ETA: 0s - loss: 0.6558 - accuracy: 0.5625\n",
            "Epoch 00011: val_loss improved from 0.64340 to 0.64131, saving model to /content/bertmodelRegLabels.h5\n",
            "45/45 [==============================] - 0s 2ms/step - loss: 0.6272 - accuracy: 0.6997 - val_loss: 0.6413 - val_accuracy: 0.6421\n",
            "Epoch 12/100\n",
            "44/45 [============================>.] - ETA: 0s - loss: 0.6212 - accuracy: 0.7088\n",
            "Epoch 00012: val_loss improved from 0.64131 to 0.63392, saving model to /content/bertmodelRegLabels.h5\n",
            "45/45 [==============================] - 0s 2ms/step - loss: 0.6214 - accuracy: 0.7089 - val_loss: 0.6339 - val_accuracy: 0.6653\n",
            "Epoch 13/100\n",
            "41/45 [==========================>...] - ETA: 0s - loss: 0.6123 - accuracy: 0.7088\n",
            "Epoch 00013: val_loss improved from 0.63392 to 0.62861, saving model to /content/bertmodelRegLabels.h5\n",
            "45/45 [==============================] - 0s 3ms/step - loss: 0.6138 - accuracy: 0.7039 - val_loss: 0.6286 - val_accuracy: 0.6821\n",
            "Epoch 14/100\n",
            "42/45 [===========================>..] - ETA: 0s - loss: 0.6087 - accuracy: 0.7232\n",
            "Epoch 00014: val_loss improved from 0.62861 to 0.62524, saving model to /content/bertmodelRegLabels.h5\n",
            "45/45 [==============================] - 0s 3ms/step - loss: 0.6085 - accuracy: 0.7250 - val_loss: 0.6252 - val_accuracy: 0.6926\n",
            "Epoch 15/100\n",
            " 1/45 [..............................] - ETA: 0s - loss: 0.5734 - accuracy: 0.8125\n",
            "Epoch 00015: val_loss improved from 0.62524 to 0.62153, saving model to /content/bertmodelRegLabels.h5\n",
            "45/45 [==============================] - 0s 2ms/step - loss: 0.5999 - accuracy: 0.7194 - val_loss: 0.6215 - val_accuracy: 0.6905\n",
            "Epoch 16/100\n",
            "29/45 [==================>...........] - ETA: 0s - loss: 0.5900 - accuracy: 0.7198\n",
            "Epoch 00016: val_loss improved from 0.62153 to 0.62140, saving model to /content/bertmodelRegLabels.h5\n",
            "45/45 [==============================] - 0s 3ms/step - loss: 0.5953 - accuracy: 0.7201 - val_loss: 0.6214 - val_accuracy: 0.6884\n",
            "Epoch 17/100\n",
            "38/45 [========================>.....] - ETA: 0s - loss: 0.5898 - accuracy: 0.7327\n",
            "Epoch 00017: val_loss did not improve from 0.62140\n",
            "45/45 [==============================] - 0s 2ms/step - loss: 0.5866 - accuracy: 0.7335 - val_loss: 0.6288 - val_accuracy: 0.6442\n",
            "Epoch 18/100\n",
            " 1/45 [..............................] - ETA: 0s - loss: 0.6436 - accuracy: 0.6250\n",
            "Epoch 00018: val_loss improved from 0.62140 to 0.61728, saving model to /content/bertmodelRegLabels.h5\n",
            "45/45 [==============================] - 0s 3ms/step - loss: 0.5832 - accuracy: 0.7271 - val_loss: 0.6173 - val_accuracy: 0.6884\n",
            "Epoch 19/100\n",
            "43/45 [===========================>..] - ETA: 0s - loss: 0.5748 - accuracy: 0.7376\n",
            "Epoch 00019: val_loss improved from 0.61728 to 0.61134, saving model to /content/bertmodelRegLabels.h5\n",
            "45/45 [==============================] - 0s 2ms/step - loss: 0.5770 - accuracy: 0.7349 - val_loss: 0.6113 - val_accuracy: 0.6926\n",
            "Epoch 20/100\n",
            "39/45 [=========================>....] - ETA: 0s - loss: 0.5717 - accuracy: 0.7300\n",
            "Epoch 00020: val_loss did not improve from 0.61134\n",
            "45/45 [==============================] - 0s 2ms/step - loss: 0.5681 - accuracy: 0.7321 - val_loss: 0.6146 - val_accuracy: 0.6674\n",
            "Epoch 21/100\n",
            "45/45 [==============================] - ETA: 0s - loss: 0.5677 - accuracy: 0.7377\n",
            "Epoch 00021: val_loss improved from 0.61134 to 0.60994, saving model to /content/bertmodelRegLabels.h5\n",
            "45/45 [==============================] - 0s 2ms/step - loss: 0.5677 - accuracy: 0.7377 - val_loss: 0.6099 - val_accuracy: 0.6779\n",
            "Epoch 22/100\n",
            "43/45 [===========================>..] - ETA: 0s - loss: 0.5575 - accuracy: 0.7442\n",
            "Epoch 00022: val_loss improved from 0.60994 to 0.60713, saving model to /content/bertmodelRegLabels.h5\n",
            "45/45 [==============================] - 0s 3ms/step - loss: 0.5574 - accuracy: 0.7440 - val_loss: 0.6071 - val_accuracy: 0.6989\n",
            "Epoch 23/100\n",
            "34/45 [=====================>........] - ETA: 0s - loss: 0.5519 - accuracy: 0.7482\n",
            "Epoch 00023: val_loss improved from 0.60713 to 0.60371, saving model to /content/bertmodelRegLabels.h5\n",
            "45/45 [==============================] - 0s 3ms/step - loss: 0.5520 - accuracy: 0.7468 - val_loss: 0.6037 - val_accuracy: 0.6968\n",
            "Epoch 24/100\n",
            "38/45 [========================>.....] - ETA: 0s - loss: 0.5514 - accuracy: 0.7533\n",
            "Epoch 00024: val_loss did not improve from 0.60371\n",
            "45/45 [==============================] - 0s 2ms/step - loss: 0.5473 - accuracy: 0.7539 - val_loss: 0.6045 - val_accuracy: 0.7011\n",
            "Epoch 25/100\n",
            " 1/45 [..............................] - ETA: 0s - loss: 0.6146 - accuracy: 0.5938\n",
            "Epoch 00025: val_loss improved from 0.60371 to 0.60189, saving model to /content/bertmodelRegLabels.h5\n",
            "45/45 [==============================] - 0s 2ms/step - loss: 0.5432 - accuracy: 0.7440 - val_loss: 0.6019 - val_accuracy: 0.6989\n",
            "Epoch 26/100\n",
            "43/45 [===========================>..] - ETA: 0s - loss: 0.5390 - accuracy: 0.7624\n",
            "Epoch 00026: val_loss did not improve from 0.60189\n",
            "45/45 [==============================] - 0s 2ms/step - loss: 0.5385 - accuracy: 0.7623 - val_loss: 0.6074 - val_accuracy: 0.6842\n",
            "Epoch 27/100\n",
            " 1/45 [..............................] - ETA: 0s - loss: 0.4441 - accuracy: 0.8750\n",
            "Epoch 00027: val_loss did not improve from 0.60189\n",
            "45/45 [==============================] - 0s 2ms/step - loss: 0.5391 - accuracy: 0.7574 - val_loss: 0.6082 - val_accuracy: 0.6884\n",
            "Epoch 28/100\n",
            " 1/45 [..............................] - ETA: 0s - loss: 0.5403 - accuracy: 0.7500\n",
            "Epoch 00028: val_loss did not improve from 0.60189\n",
            "45/45 [==============================] - 0s 2ms/step - loss: 0.5312 - accuracy: 0.7588 - val_loss: 0.6077 - val_accuracy: 0.6947\n",
            "Epoch 29/100\n",
            "42/45 [===========================>..] - ETA: 0s - loss: 0.5262 - accuracy: 0.7582\n",
            "Epoch 00029: val_loss did not improve from 0.60189\n",
            "45/45 [==============================] - 0s 2ms/step - loss: 0.5299 - accuracy: 0.7532 - val_loss: 0.6101 - val_accuracy: 0.6821\n",
            "Epoch 30/100\n",
            "45/45 [==============================] - ETA: 0s - loss: 0.5217 - accuracy: 0.7658\n",
            "Epoch 00030: val_loss did not improve from 0.60189\n",
            "45/45 [==============================] - 0s 2ms/step - loss: 0.5217 - accuracy: 0.7658 - val_loss: 0.6025 - val_accuracy: 0.6926\n",
            "Epoch 31/100\n",
            " 1/45 [..............................] - ETA: 0s - loss: 0.5294 - accuracy: 0.7812\n",
            "Epoch 00031: val_loss did not improve from 0.60189\n",
            "45/45 [==============================] - 0s 2ms/step - loss: 0.5178 - accuracy: 0.7707 - val_loss: 0.6057 - val_accuracy: 0.6905\n",
            "Epoch 32/100\n",
            "32/45 [====================>.........] - ETA: 0s - loss: 0.5222 - accuracy: 0.7549\n",
            "Epoch 00032: val_loss did not improve from 0.60189\n",
            "45/45 [==============================] - 0s 2ms/step - loss: 0.5141 - accuracy: 0.7651 - val_loss: 0.6177 - val_accuracy: 0.6863\n",
            "Epoch 33/100\n",
            "42/45 [===========================>..] - ETA: 0s - loss: 0.5127 - accuracy: 0.7656\n",
            "Epoch 00033: val_loss did not improve from 0.60189\n",
            "45/45 [==============================] - 0s 2ms/step - loss: 0.5151 - accuracy: 0.7623 - val_loss: 0.6059 - val_accuracy: 0.6884\n",
            "Epoch 34/100\n",
            "40/45 [=========================>....] - ETA: 0s - loss: 0.5073 - accuracy: 0.7742\n",
            "Epoch 00034: val_loss did not improve from 0.60189\n",
            "45/45 [==============================] - 0s 2ms/step - loss: 0.5107 - accuracy: 0.7722 - val_loss: 0.6187 - val_accuracy: 0.6611\n",
            "Epoch 35/100\n",
            "45/45 [==============================] - ETA: 0s - loss: 0.5082 - accuracy: 0.7679\n",
            "Epoch 00035: val_loss did not improve from 0.60189\n",
            "45/45 [==============================] - 0s 2ms/step - loss: 0.5082 - accuracy: 0.7679 - val_loss: 0.6068 - val_accuracy: 0.6821\n",
            "Epoch 36/100\n",
            " 1/45 [..............................] - ETA: 0s - loss: 0.4841 - accuracy: 0.7500\n",
            "Epoch 00036: val_loss did not improve from 0.60189\n",
            "45/45 [==============================] - 0s 2ms/step - loss: 0.5033 - accuracy: 0.7722 - val_loss: 0.6072 - val_accuracy: 0.6821\n",
            "Epoch 37/100\n",
            " 1/45 [..............................] - ETA: 0s - loss: 0.5213 - accuracy: 0.7188\n",
            "Epoch 00037: val_loss did not improve from 0.60189\n",
            "45/45 [==============================] - 0s 2ms/step - loss: 0.4945 - accuracy: 0.7799 - val_loss: 0.6144 - val_accuracy: 0.6716\n",
            "Epoch 38/100\n",
            " 1/45 [..............................] - ETA: 0s - loss: 0.5063 - accuracy: 0.7500\n",
            "Epoch 00038: val_loss did not improve from 0.60189\n",
            "45/45 [==============================] - 0s 2ms/step - loss: 0.5017 - accuracy: 0.7686 - val_loss: 0.6081 - val_accuracy: 0.6758\n",
            "Epoch 39/100\n",
            " 1/45 [..............................] - ETA: 0s - loss: 0.4997 - accuracy: 0.7812\n",
            "Epoch 00039: val_loss did not improve from 0.60189\n",
            "45/45 [==============================] - 0s 2ms/step - loss: 0.4944 - accuracy: 0.7743 - val_loss: 0.6098 - val_accuracy: 0.6737\n",
            "Epoch 40/100\n",
            "44/45 [============================>.] - ETA: 0s - loss: 0.4905 - accuracy: 0.7756\n",
            "Epoch 00040: val_loss did not improve from 0.60189\n",
            "45/45 [==============================] - 0s 2ms/step - loss: 0.4897 - accuracy: 0.7757 - val_loss: 0.6121 - val_accuracy: 0.6821\n",
            "Epoch 41/100\n",
            " 1/45 [..............................] - ETA: 0s - loss: 0.4067 - accuracy: 0.8438\n",
            "Epoch 00041: val_loss did not improve from 0.60189\n",
            "45/45 [==============================] - 0s 2ms/step - loss: 0.4870 - accuracy: 0.7806 - val_loss: 0.6146 - val_accuracy: 0.6800\n",
            "Epoch 42/100\n",
            "44/45 [============================>.] - ETA: 0s - loss: 0.4905 - accuracy: 0.7898\n",
            "Epoch 00042: val_loss did not improve from 0.60189\n",
            "45/45 [==============================] - 0s 2ms/step - loss: 0.4898 - accuracy: 0.7904 - val_loss: 0.6131 - val_accuracy: 0.6716\n",
            "Epoch 43/100\n",
            "42/45 [===========================>..] - ETA: 0s - loss: 0.4861 - accuracy: 0.7887\n",
            "Epoch 00043: val_loss did not improve from 0.60189\n",
            "45/45 [==============================] - 0s 2ms/step - loss: 0.4843 - accuracy: 0.7897 - val_loss: 0.6238 - val_accuracy: 0.6758\n",
            "Epoch 44/100\n",
            " 1/45 [..............................] - ETA: 0s - loss: 0.5122 - accuracy: 0.7812\n",
            "Epoch 00044: val_loss did not improve from 0.60189\n",
            "45/45 [==============================] - 0s 2ms/step - loss: 0.4787 - accuracy: 0.7883 - val_loss: 0.6183 - val_accuracy: 0.6695\n",
            "Epoch 45/100\n",
            " 1/45 [..............................] - ETA: 0s - loss: 0.3979 - accuracy: 0.8438\n",
            "Epoch 00045: val_loss did not improve from 0.60189\n",
            "45/45 [==============================] - 0s 2ms/step - loss: 0.4760 - accuracy: 0.7890 - val_loss: 0.6195 - val_accuracy: 0.6800\n",
            "Epoch 46/100\n",
            "31/45 [===================>..........] - ETA: 0s - loss: 0.4705 - accuracy: 0.8034\n",
            "Epoch 00046: val_loss did not improve from 0.60189\n",
            "45/45 [==============================] - 0s 2ms/step - loss: 0.4761 - accuracy: 0.7975 - val_loss: 0.6381 - val_accuracy: 0.6779\n",
            "Epoch 47/100\n",
            "44/45 [============================>.] - ETA: 0s - loss: 0.4705 - accuracy: 0.7891\n",
            "Epoch 00047: val_loss did not improve from 0.60189\n",
            "45/45 [==============================] - 0s 2ms/step - loss: 0.4716 - accuracy: 0.7876 - val_loss: 0.6261 - val_accuracy: 0.6716\n",
            "Epoch 48/100\n",
            " 1/45 [..............................] - ETA: 0s - loss: 0.3027 - accuracy: 0.9375\n",
            "Epoch 00048: val_loss did not improve from 0.60189\n",
            "45/45 [==============================] - 0s 2ms/step - loss: 0.4703 - accuracy: 0.7925 - val_loss: 0.6242 - val_accuracy: 0.6653\n",
            "Epoch 49/100\n",
            "41/45 [==========================>...] - ETA: 0s - loss: 0.4713 - accuracy: 0.7851\n",
            "Epoch 00049: val_loss did not improve from 0.60189\n",
            "45/45 [==============================] - 0s 2ms/step - loss: 0.4685 - accuracy: 0.7883 - val_loss: 0.6252 - val_accuracy: 0.6674\n",
            "Epoch 50/100\n",
            "44/45 [============================>.] - ETA: 0s - loss: 0.4648 - accuracy: 0.7983\n",
            "Epoch 00050: val_loss did not improve from 0.60189\n",
            "45/45 [==============================] - 0s 2ms/step - loss: 0.4644 - accuracy: 0.7982 - val_loss: 0.6298 - val_accuracy: 0.6632\n",
            "Epoch 51/100\n",
            "44/45 [============================>.] - ETA: 0s - loss: 0.4593 - accuracy: 0.8068\n",
            "Epoch 00051: val_loss did not improve from 0.60189\n",
            "45/45 [==============================] - 0s 2ms/step - loss: 0.4622 - accuracy: 0.8045 - val_loss: 0.6321 - val_accuracy: 0.6674\n",
            "Epoch 52/100\n",
            "31/45 [===================>..........] - ETA: 0s - loss: 0.4681 - accuracy: 0.7954\n",
            "Epoch 00052: val_loss did not improve from 0.60189\n",
            "45/45 [==============================] - 0s 2ms/step - loss: 0.4621 - accuracy: 0.7954 - val_loss: 0.6304 - val_accuracy: 0.6632\n",
            "Epoch 53/100\n",
            " 1/45 [..............................] - ETA: 0s - loss: 0.4222 - accuracy: 0.8438\n",
            "Epoch 00053: val_loss did not improve from 0.60189\n",
            "45/45 [==============================] - 0s 2ms/step - loss: 0.4579 - accuracy: 0.8073 - val_loss: 0.6357 - val_accuracy: 0.6653\n",
            "Epoch 54/100\n",
            "35/45 [======================>.......] - ETA: 0s - loss: 0.4563 - accuracy: 0.8000\n",
            "Epoch 00054: val_loss did not improve from 0.60189\n",
            "45/45 [==============================] - 0s 2ms/step - loss: 0.4583 - accuracy: 0.7982 - val_loss: 0.6408 - val_accuracy: 0.6695\n",
            "Epoch 55/100\n",
            " 1/45 [..............................] - ETA: 0s - loss: 0.3771 - accuracy: 0.8750\n",
            "Epoch 00055: val_loss did not improve from 0.60189\n",
            "45/45 [==============================] - 0s 2ms/step - loss: 0.4569 - accuracy: 0.8094 - val_loss: 0.6377 - val_accuracy: 0.6589\n",
            "Epoch 56/100\n",
            "45/45 [==============================] - ETA: 0s - loss: 0.4527 - accuracy: 0.8073\n",
            "Epoch 00056: val_loss did not improve from 0.60189\n",
            "45/45 [==============================] - 0s 2ms/step - loss: 0.4527 - accuracy: 0.8073 - val_loss: 0.6405 - val_accuracy: 0.6674\n",
            "Epoch 57/100\n",
            " 1/45 [..............................] - ETA: 0s - loss: 0.4362 - accuracy: 0.8125\n",
            "Epoch 00057: val_loss did not improve from 0.60189\n",
            "45/45 [==============================] - 0s 2ms/step - loss: 0.4505 - accuracy: 0.8073 - val_loss: 0.6679 - val_accuracy: 0.6611\n",
            "Epoch 58/100\n",
            "41/45 [==========================>...] - ETA: 0s - loss: 0.4451 - accuracy: 0.8133\n",
            "Epoch 00058: val_loss did not improve from 0.60189\n",
            "45/45 [==============================] - 0s 2ms/step - loss: 0.4494 - accuracy: 0.8101 - val_loss: 0.6456 - val_accuracy: 0.6632\n",
            "Epoch 59/100\n",
            " 1/45 [..............................] - ETA: 0s - loss: 0.4564 - accuracy: 0.8125\n",
            "Epoch 00059: val_loss did not improve from 0.60189\n",
            "45/45 [==============================] - 0s 2ms/step - loss: 0.4447 - accuracy: 0.8158 - val_loss: 0.6480 - val_accuracy: 0.6589\n",
            "Epoch 60/100\n",
            "40/45 [=========================>....] - ETA: 0s - loss: 0.4493 - accuracy: 0.8109\n",
            "Epoch 00060: val_loss did not improve from 0.60189\n",
            "45/45 [==============================] - 0s 2ms/step - loss: 0.4463 - accuracy: 0.8136 - val_loss: 0.6476 - val_accuracy: 0.6611\n",
            "Epoch 61/100\n",
            "39/45 [=========================>....] - ETA: 0s - loss: 0.4337 - accuracy: 0.8117\n",
            "Epoch 00061: val_loss did not improve from 0.60189\n",
            "45/45 [==============================] - 0s 2ms/step - loss: 0.4405 - accuracy: 0.8080 - val_loss: 0.6559 - val_accuracy: 0.6674\n",
            "Epoch 62/100\n",
            "35/45 [======================>.......] - ETA: 0s - loss: 0.4448 - accuracy: 0.8161\n",
            "Epoch 00062: val_loss did not improve from 0.60189\n",
            "45/45 [==============================] - 0s 3ms/step - loss: 0.4434 - accuracy: 0.8115 - val_loss: 0.6625 - val_accuracy: 0.6632\n",
            "Epoch 63/100\n",
            " 1/45 [..............................] - ETA: 0s - loss: 0.3701 - accuracy: 0.7812\n",
            "Epoch 00063: val_loss did not improve from 0.60189\n",
            "45/45 [==============================] - 0s 2ms/step - loss: 0.4377 - accuracy: 0.8172 - val_loss: 0.6558 - val_accuracy: 0.6505\n",
            "Epoch 64/100\n",
            "28/45 [=================>............] - ETA: 0s - loss: 0.4447 - accuracy: 0.8036\n",
            "Epoch 00064: val_loss did not improve from 0.60189\n",
            "45/45 [==============================] - 0s 2ms/step - loss: 0.4351 - accuracy: 0.8143 - val_loss: 0.6567 - val_accuracy: 0.6547\n",
            "Epoch 65/100\n",
            "39/45 [=========================>....] - ETA: 0s - loss: 0.4282 - accuracy: 0.8205\n",
            "Epoch 00065: val_loss did not improve from 0.60189\n",
            "45/45 [==============================] - 0s 2ms/step - loss: 0.4331 - accuracy: 0.8193 - val_loss: 0.6728 - val_accuracy: 0.6568\n",
            "Epoch 66/100\n",
            "44/45 [============================>.] - ETA: 0s - loss: 0.4433 - accuracy: 0.8168\n",
            "Epoch 00066: val_loss did not improve from 0.60189\n",
            "45/45 [==============================] - 0s 2ms/step - loss: 0.4423 - accuracy: 0.8172 - val_loss: 0.6746 - val_accuracy: 0.6568\n",
            "Epoch 67/100\n",
            "44/45 [============================>.] - ETA: 0s - loss: 0.4352 - accuracy: 0.8217\n",
            "Epoch 00067: val_loss did not improve from 0.60189\n",
            "45/45 [==============================] - 0s 2ms/step - loss: 0.4334 - accuracy: 0.8228 - val_loss: 0.6892 - val_accuracy: 0.6463\n",
            "Epoch 68/100\n",
            "42/45 [===========================>..] - ETA: 0s - loss: 0.4328 - accuracy: 0.8162\n",
            "Epoch 00068: val_loss did not improve from 0.60189\n",
            "45/45 [==============================] - 0s 2ms/step - loss: 0.4317 - accuracy: 0.8186 - val_loss: 0.6730 - val_accuracy: 0.6526\n",
            "Epoch 69/100\n",
            " 1/45 [..............................] - ETA: 0s - loss: 0.6072 - accuracy: 0.7188\n",
            "Epoch 00069: val_loss did not improve from 0.60189\n",
            "45/45 [==============================] - 0s 2ms/step - loss: 0.4277 - accuracy: 0.8263 - val_loss: 0.6753 - val_accuracy: 0.6484\n",
            "Epoch 70/100\n",
            "38/45 [========================>.....] - ETA: 0s - loss: 0.4373 - accuracy: 0.8150\n",
            "Epoch 00070: val_loss did not improve from 0.60189\n",
            "45/45 [==============================] - 0s 2ms/step - loss: 0.4293 - accuracy: 0.8193 - val_loss: 0.6705 - val_accuracy: 0.6421\n",
            "Epoch 71/100\n",
            "45/45 [==============================] - ETA: 0s - loss: 0.4238 - accuracy: 0.8228\n",
            "Epoch 00071: val_loss did not improve from 0.60189\n",
            "45/45 [==============================] - 0s 2ms/step - loss: 0.4238 - accuracy: 0.8228 - val_loss: 0.6738 - val_accuracy: 0.6442\n",
            "Epoch 72/100\n",
            " 1/45 [..............................] - ETA: 0s - loss: 0.5742 - accuracy: 0.7188\n",
            "Epoch 00072: val_loss did not improve from 0.60189\n",
            "45/45 [==============================] - 0s 2ms/step - loss: 0.4209 - accuracy: 0.8277 - val_loss: 0.6853 - val_accuracy: 0.6484\n",
            "Epoch 73/100\n",
            "45/45 [==============================] - ETA: 0s - loss: 0.4222 - accuracy: 0.8305\n",
            "Epoch 00073: val_loss did not improve from 0.60189\n",
            "45/45 [==============================] - 0s 2ms/step - loss: 0.4222 - accuracy: 0.8305 - val_loss: 0.7008 - val_accuracy: 0.6379\n",
            "Epoch 74/100\n",
            "41/45 [==========================>...] - ETA: 0s - loss: 0.4325 - accuracy: 0.8110\n",
            "Epoch 00074: val_loss did not improve from 0.60189\n",
            "45/45 [==============================] - 0s 2ms/step - loss: 0.4304 - accuracy: 0.8122 - val_loss: 0.6951 - val_accuracy: 0.6442\n",
            "Epoch 75/100\n",
            "38/45 [========================>.....] - ETA: 0s - loss: 0.4262 - accuracy: 0.8224\n",
            "Epoch 00075: val_loss did not improve from 0.60189\n",
            "45/45 [==============================] - 0s 2ms/step - loss: 0.4186 - accuracy: 0.8284 - val_loss: 0.6857 - val_accuracy: 0.6400\n",
            "Epoch 76/100\n",
            "45/45 [==============================] - ETA: 0s - loss: 0.4169 - accuracy: 0.8256\n",
            "Epoch 00076: val_loss did not improve from 0.60189\n",
            "45/45 [==============================] - 0s 2ms/step - loss: 0.4169 - accuracy: 0.8256 - val_loss: 0.7040 - val_accuracy: 0.6316\n",
            "Epoch 77/100\n",
            " 1/45 [..............................] - ETA: 0s - loss: 0.6121 - accuracy: 0.7500\n",
            "Epoch 00077: val_loss did not improve from 0.60189\n",
            "45/45 [==============================] - 0s 2ms/step - loss: 0.4155 - accuracy: 0.8291 - val_loss: 0.6892 - val_accuracy: 0.6358\n",
            "Epoch 78/100\n",
            " 1/45 [..............................] - ETA: 0s - loss: 0.4875 - accuracy: 0.7812\n",
            "Epoch 00078: val_loss did not improve from 0.60189\n",
            "45/45 [==============================] - 0s 2ms/step - loss: 0.4151 - accuracy: 0.8312 - val_loss: 0.6926 - val_accuracy: 0.6484\n",
            "Epoch 79/100\n",
            "42/45 [===========================>..] - ETA: 0s - loss: 0.4183 - accuracy: 0.8259\n",
            "Epoch 00079: val_loss did not improve from 0.60189\n",
            "45/45 [==============================] - 0s 2ms/step - loss: 0.4149 - accuracy: 0.8291 - val_loss: 0.6945 - val_accuracy: 0.6379\n",
            "Epoch 80/100\n",
            " 1/45 [..............................] - ETA: 0s - loss: 0.3474 - accuracy: 0.9062\n",
            "Epoch 00080: val_loss did not improve from 0.60189\n",
            "45/45 [==============================] - 0s 2ms/step - loss: 0.4115 - accuracy: 0.8333 - val_loss: 0.7183 - val_accuracy: 0.6316\n",
            "Epoch 81/100\n",
            "45/45 [==============================] - ETA: 0s - loss: 0.4116 - accuracy: 0.8354\n",
            "Epoch 00081: val_loss did not improve from 0.60189\n",
            "45/45 [==============================] - 0s 2ms/step - loss: 0.4116 - accuracy: 0.8354 - val_loss: 0.7074 - val_accuracy: 0.6379\n",
            "Epoch 82/100\n",
            " 1/45 [..............................] - ETA: 0s - loss: 0.3746 - accuracy: 0.8125\n",
            "Epoch 00082: val_loss did not improve from 0.60189\n",
            "45/45 [==============================] - 0s 2ms/step - loss: 0.4066 - accuracy: 0.8418 - val_loss: 0.6989 - val_accuracy: 0.6379\n",
            "Epoch 83/100\n",
            "41/45 [==========================>...] - ETA: 0s - loss: 0.4050 - accuracy: 0.8369\n",
            "Epoch 00083: val_loss did not improve from 0.60189\n",
            "45/45 [==============================] - 0s 2ms/step - loss: 0.4033 - accuracy: 0.8390 - val_loss: 0.7367 - val_accuracy: 0.6253\n",
            "Epoch 84/100\n",
            "43/45 [===========================>..] - ETA: 0s - loss: 0.4076 - accuracy: 0.8336\n",
            "Epoch 00084: val_loss did not improve from 0.60189\n",
            "45/45 [==============================] - 0s 2ms/step - loss: 0.4036 - accuracy: 0.8361 - val_loss: 0.7109 - val_accuracy: 0.6379\n",
            "Epoch 85/100\n",
            "41/45 [==========================>...] - ETA: 0s - loss: 0.4001 - accuracy: 0.8323\n",
            "Epoch 00085: val_loss did not improve from 0.60189\n",
            "45/45 [==============================] - 0s 2ms/step - loss: 0.4014 - accuracy: 0.8312 - val_loss: 0.7414 - val_accuracy: 0.6253\n",
            "Epoch 86/100\n",
            "37/45 [=======================>......] - ETA: 0s - loss: 0.4113 - accuracy: 0.8277\n",
            "Epoch 00086: val_loss did not improve from 0.60189\n",
            "45/45 [==============================] - 0s 2ms/step - loss: 0.4045 - accuracy: 0.8326 - val_loss: 0.7180 - val_accuracy: 0.6379\n",
            "Epoch 87/100\n",
            " 1/45 [..............................] - ETA: 0s - loss: 0.3489 - accuracy: 0.8750\n",
            "Epoch 00087: val_loss did not improve from 0.60189\n",
            "45/45 [==============================] - 0s 2ms/step - loss: 0.3977 - accuracy: 0.8432 - val_loss: 0.7338 - val_accuracy: 0.6168\n",
            "Epoch 88/100\n",
            " 1/45 [..............................] - ETA: 0s - loss: 0.3578 - accuracy: 0.8125\n",
            "Epoch 00088: val_loss did not improve from 0.60189\n",
            "45/45 [==============================] - 0s 2ms/step - loss: 0.4023 - accuracy: 0.8411 - val_loss: 0.7179 - val_accuracy: 0.6379\n",
            "Epoch 89/100\n",
            "44/45 [============================>.] - ETA: 0s - loss: 0.3992 - accuracy: 0.8487\n",
            "Epoch 00089: val_loss did not improve from 0.60189\n",
            "45/45 [==============================] - 0s 2ms/step - loss: 0.3981 - accuracy: 0.8502 - val_loss: 0.7503 - val_accuracy: 0.6084\n",
            "Epoch 90/100\n",
            "43/45 [===========================>..] - ETA: 0s - loss: 0.3965 - accuracy: 0.8459\n",
            "Epoch 00090: val_loss did not improve from 0.60189\n",
            "45/45 [==============================] - 0s 2ms/step - loss: 0.3979 - accuracy: 0.8453 - val_loss: 0.7330 - val_accuracy: 0.6316\n",
            "Epoch 91/100\n",
            " 1/45 [..............................] - ETA: 0s - loss: 0.4113 - accuracy: 0.8438\n",
            "Epoch 00091: val_loss did not improve from 0.60189\n",
            "45/45 [==============================] - 0s 2ms/step - loss: 0.3987 - accuracy: 0.8376 - val_loss: 0.7217 - val_accuracy: 0.6421\n",
            "Epoch 92/100\n",
            " 1/45 [..............................] - ETA: 0s - loss: 0.5788 - accuracy: 0.7500\n",
            "Epoch 00092: val_loss did not improve from 0.60189\n",
            "45/45 [==============================] - 0s 2ms/step - loss: 0.3910 - accuracy: 0.8474 - val_loss: 0.7299 - val_accuracy: 0.6421\n",
            "Epoch 93/100\n",
            "30/45 [===================>..........] - ETA: 0s - loss: 0.3923 - accuracy: 0.8417\n",
            "Epoch 00093: val_loss did not improve from 0.60189\n",
            "45/45 [==============================] - 0s 3ms/step - loss: 0.3931 - accuracy: 0.8425 - val_loss: 0.7292 - val_accuracy: 0.6337\n",
            "Epoch 94/100\n",
            "40/45 [=========================>....] - ETA: 0s - loss: 0.3912 - accuracy: 0.8445\n",
            "Epoch 00094: val_loss did not improve from 0.60189\n",
            "45/45 [==============================] - 0s 2ms/step - loss: 0.3930 - accuracy: 0.8460 - val_loss: 0.7365 - val_accuracy: 0.6274\n",
            "Epoch 95/100\n",
            "44/45 [============================>.] - ETA: 0s - loss: 0.3903 - accuracy: 0.8452\n",
            "Epoch 00095: val_loss did not improve from 0.60189\n",
            "45/45 [==============================] - 0s 2ms/step - loss: 0.3891 - accuracy: 0.8453 - val_loss: 0.7341 - val_accuracy: 0.6337\n",
            "Epoch 96/100\n",
            "43/45 [===========================>..] - ETA: 0s - loss: 0.3832 - accuracy: 0.8561\n",
            "Epoch 00096: val_loss did not improve from 0.60189\n",
            "45/45 [==============================] - 0s 2ms/step - loss: 0.3847 - accuracy: 0.8544 - val_loss: 0.7419 - val_accuracy: 0.6316\n",
            "Epoch 97/100\n",
            "38/45 [========================>.....] - ETA: 0s - loss: 0.3966 - accuracy: 0.8503\n",
            "Epoch 00097: val_loss did not improve from 0.60189\n",
            "45/45 [==============================] - 0s 2ms/step - loss: 0.3918 - accuracy: 0.8516 - val_loss: 0.7428 - val_accuracy: 0.6358\n",
            "Epoch 98/100\n",
            "45/45 [==============================] - ETA: 0s - loss: 0.3814 - accuracy: 0.8601\n",
            "Epoch 00098: val_loss did not improve from 0.60189\n",
            "45/45 [==============================] - 0s 2ms/step - loss: 0.3814 - accuracy: 0.8601 - val_loss: 0.7578 - val_accuracy: 0.6232\n",
            "Epoch 99/100\n",
            "38/45 [========================>.....] - ETA: 0s - loss: 0.3712 - accuracy: 0.8627\n",
            "Epoch 00099: val_loss did not improve from 0.60189\n",
            "45/45 [==============================] - 0s 2ms/step - loss: 0.3801 - accuracy: 0.8601 - val_loss: 0.7601 - val_accuracy: 0.6232\n",
            "Epoch 100/100\n",
            "29/45 [==================>...........] - ETA: 0s - loss: 0.3793 - accuracy: 0.8685\n",
            "Epoch 00100: val_loss did not improve from 0.60189\n",
            "45/45 [==============================] - 0s 2ms/step - loss: 0.3801 - accuracy: 0.8601 - val_loss: 0.7676 - val_accuracy: 0.6232\n"
          ],
          "name": "stdout"
        }
      ]
    },
    {
      "cell_type": "code",
      "metadata": {
        "colab_type": "code",
        "id": "iCoyxRJ7ECTA",
        "colab": {
          "base_uri": "https://localhost:8080/",
          "height": 51
        },
        "outputId": "04fdf340-267a-44ca-943a-95b0ee322207"
      },
      "source": [
        "from keras.models import load_model\n",
        "\n",
        "loadedModel = load_model('/content/bertmodelRegLabels.h5')\n",
        "loadedModel.evaluate(test_features, test_labels)"
      ],
      "execution_count": null,
      "outputs": [
        {
          "output_type": "stream",
          "text": [
            "15/15 [==============================] - 0s 1ms/step - loss: 0.6019 - accuracy: 0.6989\n"
          ],
          "name": "stdout"
        },
        {
          "output_type": "execute_result",
          "data": {
            "text/plain": [
              "[0.6018891930580139, 0.6989473700523376]"
            ]
          },
          "metadata": {
            "tags": []
          },
          "execution_count": 22
        }
      ]
    },
    {
      "cell_type": "markdown",
      "metadata": {
        "colab_type": "text",
        "id": "3rUMKuVgwzkY"
      },
      "source": [
        "<img src=\"https://jalammar.github.io/images/distilBERT/bert-training-logistic-regression.png\" />\n",
        "\n",
        "## Evaluating Model #2\n",
        "So how well does our model do in classifying sentences? One way is to check the accuracy against the testing dataset:"
      ]
    },
    {
      "cell_type": "markdown",
      "metadata": {
        "colab_type": "text",
        "id": "75oyhr3VxHoE"
      },
      "source": [
        "How good is this score? What can we compare it against? Let's first look at a dummy classifier:"
      ]
    },
    {
      "cell_type": "code",
      "metadata": {
        "colab_type": "code",
        "id": "lnwgmqNG7i5l",
        "colab": {
          "base_uri": "https://localhost:8080/",
          "height": 34
        },
        "outputId": "88b959c5-9693-419a-8d66-08d3ae053517"
      },
      "source": [
        "from sklearn.dummy import DummyClassifier\n",
        "clf = DummyClassifier()\n",
        "\n",
        "scores = cross_val_score(clf, train_features, train_labels)\n",
        "print(\"Dummy classifier score: %0.3f (+/- %0.2f)\" % (scores.mean(), scores.std() * 2))"
      ],
      "execution_count": null,
      "outputs": [
        {
          "output_type": "stream",
          "text": [
            "Dummy classifier score: 0.509 (+/- 0.06)\n"
          ],
          "name": "stdout"
        }
      ]
    },
    {
      "cell_type": "markdown",
      "metadata": {
        "colab_type": "text",
        "id": "7Lg4LOpoxSOR"
      },
      "source": [
        "So our model clearly does better than a dummy classifier. But how does it compare against the best models?\n",
        "\n",
        "## Proper SST2 scores\n",
        "For reference, the [highest accuracy score](http://nlpprogress.com/english/sentiment_analysis.html) for this dataset is currently **96.8**. DistilBERT can be trained to improve its score on this task – a process called **fine-tuning** which updates BERT’s weights to make it achieve a better performance in this sentence classification task (which we can call the downstream task). The fine-tuned DistilBERT turns out to achieve an accuracy score of **90.7**. The full size BERT model achieves **94.9**.\n",
        "\n",
        "\n",
        "\n",
        "And that’s it! That’s a good first contact with BERT. The next step would be to head over to the documentation and try your hand at [fine-tuning](https://huggingface.co/transformers/examples.html#glue). You can also go back and switch from distilBERT to BERT and see how that works."
      ]
    },
    {
      "cell_type": "code",
      "metadata": {
        "colab_type": "code",
        "id": "EJQuqV6cnWQu",
        "colab": {}
      },
      "source": [
        ""
      ],
      "execution_count": null,
      "outputs": []
    }
  ]
}